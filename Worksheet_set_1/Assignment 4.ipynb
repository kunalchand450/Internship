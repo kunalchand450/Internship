{
 "cells": [
  {
   "cell_type": "markdown",
   "metadata": {},
   "source": [
    "# Assignment 4"
   ]
  },
  {
   "cell_type": "code",
   "execution_count": 289,
   "metadata": {},
   "outputs": [],
   "source": [
    "#lets now import all the required libraries\n",
    "import selenium\n",
    "import pandas as pd\n",
    "from selenium import webdriver\n",
    "import time\n",
    "from selenium.common.exceptions import NoSuchElementException   #Importing Exceptions\n",
    "#importing the required libraries\n",
    "from bs4 import BeautifulSoup\n",
    "import requests\n",
    "import pandas as pd\n",
    "import warnings\n",
    "warnings.filterwarnings('ignore')"
   ]
  },
  {
   "cell_type": "markdown",
   "metadata": {},
   "source": [
    "# 1. Scrape the details of most viewed videos on YouTube from Wikipedia:\n",
    "Url = https://en.wikipedia.org/wiki/List_of_most-viewed_YouTube_videos/\n",
    "You need to find following details:\n",
    "A) Rank\n",
    "B) Name\n",
    "C) Artist\n",
    "D) Upload date\n",
    "E) Views"
   ]
  },
  {
   "cell_type": "code",
   "execution_count": 290,
   "metadata": {},
   "outputs": [
    {
     "data": {
      "text/plain": [
       "<Response [200]>"
      ]
     },
     "execution_count": 290,
     "metadata": {},
     "output_type": "execute_result"
    }
   ],
   "source": [
    "page= requests.get('https://en.wikipedia.org/wiki/List_of_most-viewed_YouTube_videos')\n",
    "page"
   ]
  },
  {
   "cell_type": "code",
   "execution_count": 291,
   "metadata": {},
   "outputs": [],
   "source": [
    "#lets make a instance of the BeautifulSoup\n",
    "soup=BeautifulSoup(page.content)\n"
   ]
  },
  {
   "cell_type": "code",
   "execution_count": 292,
   "metadata": {},
   "outputs": [
    {
     "name": "stdout",
     "output_type": "stream",
     "text": [
      "200\n"
     ]
    }
   ],
   "source": [
    "# get the response in the form of html\n",
    "wikiurl='https://en.wikipedia.org/wiki/List_of_most-viewed_YouTube_videos'\n",
    "table_class=\"wikitable sortable jquery-tablesorter\"\n",
    "response=requests.get(wikiurl)\n",
    "print(response.status_code)"
   ]
  },
  {
   "cell_type": "code",
   "execution_count": 293,
   "metadata": {},
   "outputs": [],
   "source": [
    "# parse data from the html into a beautifulsoup object\n",
    "soup = BeautifulSoup(response.text, 'html.parser')\n",
    "moviestable=soup.find('table',{'class':\"wikitable\"})"
   ]
  },
  {
   "cell_type": "code",
   "execution_count": 294,
   "metadata": {},
   "outputs": [],
   "source": [
    "df=pd.read_html(str(moviestable))\n",
    "# convert list to dataframe\n",
    "df=pd.DataFrame(df[0])\n"
   ]
  },
  {
   "cell_type": "code",
   "execution_count": 295,
   "metadata": {},
   "outputs": [],
   "source": [
    "df.drop(['Note','Unnamed: 6'],axis=1,inplace=True)"
   ]
  },
  {
   "cell_type": "code",
   "execution_count": 296,
   "metadata": {},
   "outputs": [
    {
     "data": {
      "text/html": [
       "<div>\n",
       "<style scoped>\n",
       "    .dataframe tbody tr th:only-of-type {\n",
       "        vertical-align: middle;\n",
       "    }\n",
       "\n",
       "    .dataframe tbody tr th {\n",
       "        vertical-align: top;\n",
       "    }\n",
       "\n",
       "    .dataframe thead th {\n",
       "        text-align: right;\n",
       "    }\n",
       "</style>\n",
       "<table border=\"1\" class=\"dataframe\">\n",
       "  <thead>\n",
       "    <tr style=\"text-align: right;\">\n",
       "      <th></th>\n",
       "      <th>Rank</th>\n",
       "      <th>Video name</th>\n",
       "      <th>Uploader</th>\n",
       "      <th>Views</th>\n",
       "      <th>Upload date</th>\n",
       "    </tr>\n",
       "  </thead>\n",
       "  <tbody>\n",
       "    <tr>\n",
       "      <th>0</th>\n",
       "      <td>1</td>\n",
       "      <td>\"Baby Shark Dance\"[23]</td>\n",
       "      <td>Pinkfong Baby Shark - Kids' Songs &amp; Stories</td>\n",
       "      <td>9453134982</td>\n",
       "      <td>June 17, 2016</td>\n",
       "    </tr>\n",
       "    <tr>\n",
       "      <th>1</th>\n",
       "      <td>2</td>\n",
       "      <td>\"Despacito\"[25]</td>\n",
       "      <td>Luis Fonsi</td>\n",
       "      <td>7572747360</td>\n",
       "      <td>January 12, 2017</td>\n",
       "    </tr>\n",
       "    <tr>\n",
       "      <th>2</th>\n",
       "      <td>3</td>\n",
       "      <td>\"Johny Johny Yes Papa\"[26]</td>\n",
       "      <td>LooLoo Kids</td>\n",
       "      <td>5781348353</td>\n",
       "      <td>October 8, 2016</td>\n",
       "    </tr>\n",
       "    <tr>\n",
       "      <th>3</th>\n",
       "      <td>4</td>\n",
       "      <td>\"Shape of You\"[27]</td>\n",
       "      <td>Ed Sheeran</td>\n",
       "      <td>5483427541</td>\n",
       "      <td>January 30, 2017</td>\n",
       "    </tr>\n",
       "    <tr>\n",
       "      <th>4</th>\n",
       "      <td>5</td>\n",
       "      <td>\"See You Again\"[28]</td>\n",
       "      <td>Wiz Khalifa</td>\n",
       "      <td>5284905560</td>\n",
       "      <td>April 6, 2015</td>\n",
       "    </tr>\n",
       "    <tr>\n",
       "      <th>5</th>\n",
       "      <td>6</td>\n",
       "      <td>\"Bath Song\"[31]</td>\n",
       "      <td>Cocomelon – Nursery Rhymes</td>\n",
       "      <td>4549294432</td>\n",
       "      <td>May 2, 2018</td>\n",
       "    </tr>\n",
       "    <tr>\n",
       "      <th>6</th>\n",
       "      <td>7</td>\n",
       "      <td>\"Learning Colors – Colorful Eggs on a Farm\"[32]</td>\n",
       "      <td>Miroshka TV</td>\n",
       "      <td>4,513,879,675 (as of Sep 29, 2021)</td>\n",
       "      <td>February 27, 2018</td>\n",
       "    </tr>\n",
       "    <tr>\n",
       "      <th>7</th>\n",
       "      <td>8</td>\n",
       "      <td>\"Masha and the Bear – Recipe for Disaster\"[33]</td>\n",
       "      <td>Get Movies</td>\n",
       "      <td>4461096975</td>\n",
       "      <td>January 31, 2012</td>\n",
       "    </tr>\n",
       "    <tr>\n",
       "      <th>8</th>\n",
       "      <td>9</td>\n",
       "      <td>\"Uptown Funk\"[34]</td>\n",
       "      <td>Mark Ronson</td>\n",
       "      <td>4319159452</td>\n",
       "      <td>November 19, 2014</td>\n",
       "    </tr>\n",
       "    <tr>\n",
       "      <th>9</th>\n",
       "      <td>10</td>\n",
       "      <td>\"Phonics Song with Two Words\"[35]</td>\n",
       "      <td>ChuChu TV</td>\n",
       "      <td>4220180419</td>\n",
       "      <td>March 6, 2014</td>\n",
       "    </tr>\n",
       "    <tr>\n",
       "      <th>10</th>\n",
       "      <td>11</td>\n",
       "      <td>\"Gangnam Style\"[36]</td>\n",
       "      <td>Psy</td>\n",
       "      <td>4211421413</td>\n",
       "      <td>July 15, 2012</td>\n",
       "    </tr>\n",
       "    <tr>\n",
       "      <th>11</th>\n",
       "      <td>12</td>\n",
       "      <td>\"Dame Tu Cosita\"[38]</td>\n",
       "      <td>El Chombo</td>\n",
       "      <td>3633337215</td>\n",
       "      <td>April 5, 2018</td>\n",
       "    </tr>\n",
       "    <tr>\n",
       "      <th>12</th>\n",
       "      <td>13</td>\n",
       "      <td>\"Sugar\"[39]</td>\n",
       "      <td>Maroon 5</td>\n",
       "      <td>3565906701</td>\n",
       "      <td>January 14, 2015</td>\n",
       "    </tr>\n",
       "    <tr>\n",
       "      <th>13</th>\n",
       "      <td>14</td>\n",
       "      <td>\"Sorry\"[40]</td>\n",
       "      <td>Justin Bieber</td>\n",
       "      <td>3474094697</td>\n",
       "      <td>October 22, 2015</td>\n",
       "    </tr>\n",
       "    <tr>\n",
       "      <th>14</th>\n",
       "      <td>15</td>\n",
       "      <td>\"Roar\"[41]</td>\n",
       "      <td>Katy Perry</td>\n",
       "      <td>3444786615</td>\n",
       "      <td>September 5, 2013</td>\n",
       "    </tr>\n",
       "    <tr>\n",
       "      <th>15</th>\n",
       "      <td>16</td>\n",
       "      <td>\"Counting Stars\"[42]</td>\n",
       "      <td>OneRepublic</td>\n",
       "      <td>3412577920</td>\n",
       "      <td>May 31, 2013</td>\n",
       "    </tr>\n",
       "    <tr>\n",
       "      <th>16</th>\n",
       "      <td>17</td>\n",
       "      <td>\"Thinking Out Loud\"[43]</td>\n",
       "      <td>Ed Sheeran</td>\n",
       "      <td>3337279340</td>\n",
       "      <td>October 7, 2014</td>\n",
       "    </tr>\n",
       "    <tr>\n",
       "      <th>17</th>\n",
       "      <td>18</td>\n",
       "      <td>\"Wheels on the Bus\"[44]</td>\n",
       "      <td>Cocomelon – Nursery Rhymes</td>\n",
       "      <td>3291808512</td>\n",
       "      <td>May 24, 2018</td>\n",
       "    </tr>\n",
       "    <tr>\n",
       "      <th>18</th>\n",
       "      <td>19</td>\n",
       "      <td>\"Dark Horse\"[45]</td>\n",
       "      <td>Katy Perry</td>\n",
       "      <td>3155611442</td>\n",
       "      <td>February 20, 2014</td>\n",
       "    </tr>\n",
       "    <tr>\n",
       "      <th>19</th>\n",
       "      <td>20</td>\n",
       "      <td>\"Faded\"[46]</td>\n",
       "      <td>Alan Walker</td>\n",
       "      <td>3155489927</td>\n",
       "      <td>December 3, 2015</td>\n",
       "    </tr>\n",
       "    <tr>\n",
       "      <th>20</th>\n",
       "      <td>21</td>\n",
       "      <td>\"Girls Like You\"[47]</td>\n",
       "      <td>Maroon 5</td>\n",
       "      <td>3143116042</td>\n",
       "      <td>May 31, 2018</td>\n",
       "    </tr>\n",
       "    <tr>\n",
       "      <th>21</th>\n",
       "      <td>22</td>\n",
       "      <td>\"Lean On\"[48]</td>\n",
       "      <td>Major Lazer</td>\n",
       "      <td>3105926931</td>\n",
       "      <td>March 22, 2015</td>\n",
       "    </tr>\n",
       "    <tr>\n",
       "      <th>22</th>\n",
       "      <td>23</td>\n",
       "      <td>\"Bailando\"[49]</td>\n",
       "      <td>Enrique Iglesias</td>\n",
       "      <td>3105539316</td>\n",
       "      <td>April 11, 2014</td>\n",
       "    </tr>\n",
       "    <tr>\n",
       "      <th>23</th>\n",
       "      <td>24</td>\n",
       "      <td>\"Shake It Off\"[50]</td>\n",
       "      <td>Taylor Swift</td>\n",
       "      <td>3104230107</td>\n",
       "      <td>August 18, 2014</td>\n",
       "    </tr>\n",
       "    <tr>\n",
       "      <th>24</th>\n",
       "      <td>25</td>\n",
       "      <td>\"Let Her Go\"[51]</td>\n",
       "      <td>Passenger</td>\n",
       "      <td>3090217295</td>\n",
       "      <td>July 25, 2012</td>\n",
       "    </tr>\n",
       "    <tr>\n",
       "      <th>25</th>\n",
       "      <td>26</td>\n",
       "      <td>\"Axel F\"[52]</td>\n",
       "      <td>Crazy Frog</td>\n",
       "      <td>3035828739</td>\n",
       "      <td>June 17, 2009</td>\n",
       "    </tr>\n",
       "    <tr>\n",
       "      <th>26</th>\n",
       "      <td>27</td>\n",
       "      <td>\"Mi Gente\"[53]</td>\n",
       "      <td>J Balvin</td>\n",
       "      <td>2986493839</td>\n",
       "      <td>June 29, 2017</td>\n",
       "    </tr>\n",
       "    <tr>\n",
       "      <th>27</th>\n",
       "      <td>28</td>\n",
       "      <td>\"Perfect\"[54]</td>\n",
       "      <td>Ed Sheeran</td>\n",
       "      <td>2974982274</td>\n",
       "      <td>November 9, 2017</td>\n",
       "    </tr>\n",
       "    <tr>\n",
       "      <th>28</th>\n",
       "      <td>29</td>\n",
       "      <td>\"Waka Waka (This Time for Africa)\"[55]</td>\n",
       "      <td>Shakira</td>\n",
       "      <td>2962613841</td>\n",
       "      <td>June 4, 2010</td>\n",
       "    </tr>\n",
       "    <tr>\n",
       "      <th>29</th>\n",
       "      <td>30</td>\n",
       "      <td>\"Hello\"[56]</td>\n",
       "      <td>Adele</td>\n",
       "      <td>2889107727</td>\n",
       "      <td>October 23, 2015</td>\n",
       "    </tr>\n",
       "    <tr>\n",
       "      <th>30</th>\n",
       "      <td>As of October 10, 2021</td>\n",
       "      <td>As of October 10, 2021</td>\n",
       "      <td>As of October 10, 2021</td>\n",
       "      <td>As of October 10, 2021</td>\n",
       "      <td>As of October 10, 2021</td>\n",
       "    </tr>\n",
       "  </tbody>\n",
       "</table>\n",
       "</div>"
      ],
      "text/plain": [
       "                      Rank                                       Video name  \\\n",
       "0                        1                           \"Baby Shark Dance\"[23]   \n",
       "1                        2                                  \"Despacito\"[25]   \n",
       "2                        3                       \"Johny Johny Yes Papa\"[26]   \n",
       "3                        4                               \"Shape of You\"[27]   \n",
       "4                        5                              \"See You Again\"[28]   \n",
       "5                        6                                  \"Bath Song\"[31]   \n",
       "6                        7  \"Learning Colors – Colorful Eggs on a Farm\"[32]   \n",
       "7                        8   \"Masha and the Bear – Recipe for Disaster\"[33]   \n",
       "8                        9                                \"Uptown Funk\"[34]   \n",
       "9                       10                \"Phonics Song with Two Words\"[35]   \n",
       "10                      11                              \"Gangnam Style\"[36]   \n",
       "11                      12                             \"Dame Tu Cosita\"[38]   \n",
       "12                      13                                      \"Sugar\"[39]   \n",
       "13                      14                                      \"Sorry\"[40]   \n",
       "14                      15                                       \"Roar\"[41]   \n",
       "15                      16                             \"Counting Stars\"[42]   \n",
       "16                      17                          \"Thinking Out Loud\"[43]   \n",
       "17                      18                          \"Wheels on the Bus\"[44]   \n",
       "18                      19                                 \"Dark Horse\"[45]   \n",
       "19                      20                                      \"Faded\"[46]   \n",
       "20                      21                             \"Girls Like You\"[47]   \n",
       "21                      22                                    \"Lean On\"[48]   \n",
       "22                      23                                   \"Bailando\"[49]   \n",
       "23                      24                               \"Shake It Off\"[50]   \n",
       "24                      25                                 \"Let Her Go\"[51]   \n",
       "25                      26                                     \"Axel F\"[52]   \n",
       "26                      27                                   \"Mi Gente\"[53]   \n",
       "27                      28                                    \"Perfect\"[54]   \n",
       "28                      29           \"Waka Waka (This Time for Africa)\"[55]   \n",
       "29                      30                                      \"Hello\"[56]   \n",
       "30  As of October 10, 2021                           As of October 10, 2021   \n",
       "\n",
       "                                       Uploader  \\\n",
       "0   Pinkfong Baby Shark - Kids' Songs & Stories   \n",
       "1                                    Luis Fonsi   \n",
       "2                                   LooLoo Kids   \n",
       "3                                    Ed Sheeran   \n",
       "4                                   Wiz Khalifa   \n",
       "5                    Cocomelon – Nursery Rhymes   \n",
       "6                                   Miroshka TV   \n",
       "7                                    Get Movies   \n",
       "8                                   Mark Ronson   \n",
       "9                                     ChuChu TV   \n",
       "10                                          Psy   \n",
       "11                                    El Chombo   \n",
       "12                                     Maroon 5   \n",
       "13                                Justin Bieber   \n",
       "14                                   Katy Perry   \n",
       "15                                  OneRepublic   \n",
       "16                                   Ed Sheeran   \n",
       "17                   Cocomelon – Nursery Rhymes   \n",
       "18                                   Katy Perry   \n",
       "19                                  Alan Walker   \n",
       "20                                     Maroon 5   \n",
       "21                                  Major Lazer   \n",
       "22                             Enrique Iglesias   \n",
       "23                                 Taylor Swift   \n",
       "24                                    Passenger   \n",
       "25                                   Crazy Frog   \n",
       "26                                     J Balvin   \n",
       "27                                   Ed Sheeran   \n",
       "28                                      Shakira   \n",
       "29                                        Adele   \n",
       "30                       As of October 10, 2021   \n",
       "\n",
       "                                 Views             Upload date  \n",
       "0                           9453134982           June 17, 2016  \n",
       "1                           7572747360        January 12, 2017  \n",
       "2                           5781348353         October 8, 2016  \n",
       "3                           5483427541        January 30, 2017  \n",
       "4                           5284905560           April 6, 2015  \n",
       "5                           4549294432             May 2, 2018  \n",
       "6   4,513,879,675 (as of Sep 29, 2021)       February 27, 2018  \n",
       "7                           4461096975        January 31, 2012  \n",
       "8                           4319159452       November 19, 2014  \n",
       "9                           4220180419           March 6, 2014  \n",
       "10                          4211421413           July 15, 2012  \n",
       "11                          3633337215           April 5, 2018  \n",
       "12                          3565906701        January 14, 2015  \n",
       "13                          3474094697        October 22, 2015  \n",
       "14                          3444786615       September 5, 2013  \n",
       "15                          3412577920            May 31, 2013  \n",
       "16                          3337279340         October 7, 2014  \n",
       "17                          3291808512            May 24, 2018  \n",
       "18                          3155611442       February 20, 2014  \n",
       "19                          3155489927        December 3, 2015  \n",
       "20                          3143116042            May 31, 2018  \n",
       "21                          3105926931          March 22, 2015  \n",
       "22                          3105539316          April 11, 2014  \n",
       "23                          3104230107         August 18, 2014  \n",
       "24                          3090217295           July 25, 2012  \n",
       "25                          3035828739           June 17, 2009  \n",
       "26                          2986493839           June 29, 2017  \n",
       "27                          2974982274        November 9, 2017  \n",
       "28                          2962613841            June 4, 2010  \n",
       "29                          2889107727        October 23, 2015  \n",
       "30              As of October 10, 2021  As of October 10, 2021  "
      ]
     },
     "execution_count": 296,
     "metadata": {},
     "output_type": "execute_result"
    }
   ],
   "source": [
    "df"
   ]
  },
  {
   "cell_type": "markdown",
   "metadata": {},
   "source": [
    "# 2. Scrape the details team India’s international fixtures from bcci.tv.\n",
    "Url = https://www.bcci.tv/.\n",
    "You need to find following details:\n",
    "A) Match title (I.e. 1st ODI)\n",
    "B) Series\n",
    "C) Place\n",
    "D) Date\n",
    "E) Time\n",
    "Note: - From bcci.tv home page you have reach to the international fixture page through code."
   ]
  },
  {
   "cell_type": "code",
   "execution_count": 339,
   "metadata": {},
   "outputs": [],
   "source": [
    "driver=webdriver.Chrome(\"chromedriver.exe\")"
   ]
  },
  {
   "cell_type": "code",
   "execution_count": 340,
   "metadata": {},
   "outputs": [],
   "source": [
    "url='https://www.bcci.tv/'\n",
    "driver.get(url)"
   ]
  },
  {
   "cell_type": "code",
   "execution_count": 341,
   "metadata": {},
   "outputs": [],
   "source": [
    "#navigation__drop-down drop-down drop-down--reveal-on-hov\n",
    "path1=driver.find_element_by_xpath('//a[@class=\"navigation__link navigation__link--in-drop-down\"]')\n"
   ]
  },
  {
   "cell_type": "code",
   "execution_count": 342,
   "metadata": {},
   "outputs": [],
   "source": [
    "path=path1.get_attribute('href')"
   ]
  },
  {
   "cell_type": "code",
   "execution_count": 343,
   "metadata": {},
   "outputs": [],
   "source": [
    "driver.get(path)"
   ]
  },
  {
   "cell_type": "code",
   "execution_count": 346,
   "metadata": {},
   "outputs": [],
   "source": [
    "search_btn=driver.find_element_by_xpath('//*[@id=\"TestAlexFilter\"]')\n",
    "search_btn.click()"
   ]
  },
  {
   "cell_type": "code",
   "execution_count": 348,
   "metadata": {},
   "outputs": [],
   "source": [
    "search_btn=driver.find_element_by_xpath('//*[@id=\"TestAlexFilter\"]/div/ul/li[3]')\n",
    "search_btn.click()"
   ]
  },
  {
   "cell_type": "code",
   "execution_count": 349,
   "metadata": {},
   "outputs": [
    {
     "data": {
      "text/plain": [
       "9"
      ]
     },
     "execution_count": 349,
     "metadata": {},
     "output_type": "execute_result"
    }
   ],
   "source": [
    "match_title=driver.find_elements_by_xpath('//strong[@class=\"fixture__name fixture__name--with-margin\"]')\n",
    "Match_titles=[]\n",
    "for i in match_title:\n",
    "    Match_titles.append(i.text)\n",
    "len(Match_titles)"
   ]
  },
  {
   "cell_type": "code",
   "execution_count": 350,
   "metadata": {},
   "outputs": [
    {
     "data": {
      "text/plain": [
       "9"
      ]
     },
     "execution_count": 350,
     "metadata": {},
     "output_type": "execute_result"
    }
   ],
   "source": [
    "series=driver.find_elements_by_xpath('//span[@class=\"u-unskewed-text fixture__tournament-label u-truncated\"]')\n",
    "Series=[]\n",
    "for i in series:\n",
    "    Series.append(i.text)\n",
    "len(Series)"
   ]
  },
  {
   "cell_type": "code",
   "execution_count": 351,
   "metadata": {},
   "outputs": [
    {
     "data": {
      "text/plain": [
       "9"
      ]
     },
     "execution_count": 351,
     "metadata": {},
     "output_type": "execute_result"
    }
   ],
   "source": [
    "place=driver.find_elements_by_xpath('//p[@class=\"fixture__additional-info\"]/span')\n",
    "Place=[]\n",
    "for i in place:\n",
    "    Place.append(i.text)\n",
    "len(Place)"
   ]
  },
  {
   "cell_type": "code",
   "execution_count": 352,
   "metadata": {},
   "outputs": [
    {
     "data": {
      "text/plain": [
       "9"
      ]
     },
     "execution_count": 352,
     "metadata": {},
     "output_type": "execute_result"
    }
   ],
   "source": [
    "date=driver.find_elements_by_xpath('//div[@class=\"fixture__full-date\"][1]')\n",
    "Date=[]\n",
    "for i in date:\n",
    "    Date.append(i.text.replace(\"\\n\",\"-\"))\n",
    "len(Date)"
   ]
  },
  {
   "cell_type": "code",
   "execution_count": 355,
   "metadata": {},
   "outputs": [
    {
     "data": {
      "text/plain": [
       "9"
      ]
     },
     "execution_count": 355,
     "metadata": {},
     "output_type": "execute_result"
    }
   ],
   "source": [
    "time=driver.find_elements_by_xpath('//span[@class=\"fixture__time\"]')\n",
    "Time=[]\n",
    "for i in time:\n",
    "    Time.append(i.text.replace(\"\\n\",\"-\"))\n",
    "len(Time)"
   ]
  },
  {
   "cell_type": "code",
   "execution_count": 356,
   "metadata": {},
   "outputs": [
    {
     "data": {
      "text/html": [
       "<div>\n",
       "<style scoped>\n",
       "    .dataframe tbody tr th:only-of-type {\n",
       "        vertical-align: middle;\n",
       "    }\n",
       "\n",
       "    .dataframe tbody tr th {\n",
       "        vertical-align: top;\n",
       "    }\n",
       "\n",
       "    .dataframe thead th {\n",
       "        text-align: right;\n",
       "    }\n",
       "</style>\n",
       "<table border=\"1\" class=\"dataframe\">\n",
       "  <thead>\n",
       "    <tr style=\"text-align: right;\">\n",
       "      <th></th>\n",
       "      <th>Match title</th>\n",
       "      <th>Series</th>\n",
       "      <th>Place</th>\n",
       "      <th>Date &amp; Time</th>\n",
       "      <th>Time</th>\n",
       "    </tr>\n",
       "  </thead>\n",
       "  <tbody>\n",
       "    <tr>\n",
       "      <th>0</th>\n",
       "      <td>1st ODI</td>\n",
       "      <td>SOUTH AFRICA V INDIA 2021/2022</td>\n",
       "      <td>Boland Park, Paarl</td>\n",
       "      <td>11-JANUARY-14:00 IST</td>\n",
       "      <td>14:00 IST</td>\n",
       "    </tr>\n",
       "    <tr>\n",
       "      <th>1</th>\n",
       "      <td>2nd ODI</td>\n",
       "      <td>SOUTH AFRICA V INDIA 2021/2022</td>\n",
       "      <td>Newlands, Cape Town</td>\n",
       "      <td>14-JANUARY-14:00 IST</td>\n",
       "      <td>14:00 IST</td>\n",
       "    </tr>\n",
       "    <tr>\n",
       "      <th>2</th>\n",
       "      <td>3rd ODI</td>\n",
       "      <td>SOUTH AFRICA V INDIA 2021/2022</td>\n",
       "      <td>Newlands, Cape Town</td>\n",
       "      <td>16-JANUARY-14:00 IST</td>\n",
       "      <td>14:00 IST</td>\n",
       "    </tr>\n",
       "    <tr>\n",
       "      <th>3</th>\n",
       "      <td>1st ODI</td>\n",
       "      <td>INDIA V WEST INDIES 2022</td>\n",
       "      <td>Narendra Modi Stadium, Ahmedabad</td>\n",
       "      <td>06-FEBRUARY-13:00 IST</td>\n",
       "      <td>13:00 IST</td>\n",
       "    </tr>\n",
       "    <tr>\n",
       "      <th>4</th>\n",
       "      <td>2nd ODI</td>\n",
       "      <td>INDIA V WEST INDIES 2022</td>\n",
       "      <td>Sawai Mansingh Stadium, Jaipur</td>\n",
       "      <td>09-FEBRUARY-13:00 IST</td>\n",
       "      <td>13:00 IST</td>\n",
       "    </tr>\n",
       "    <tr>\n",
       "      <th>5</th>\n",
       "      <td>3rd ODI</td>\n",
       "      <td>INDIA V WEST INDIES 2022</td>\n",
       "      <td>Eden Gardens, Kolkata</td>\n",
       "      <td>12-FEBRUARY-13:00 IST</td>\n",
       "      <td>13:00 IST</td>\n",
       "    </tr>\n",
       "    <tr>\n",
       "      <th>6</th>\n",
       "      <td>1st ODI</td>\n",
       "      <td>ENGLAND V INDIA 2022</td>\n",
       "      <td>Edgbaston, Birmingham</td>\n",
       "      <td>09-JULY-15:30 IST</td>\n",
       "      <td>15:30 IST</td>\n",
       "    </tr>\n",
       "    <tr>\n",
       "      <th>7</th>\n",
       "      <td>2nd ODI</td>\n",
       "      <td>ENGLAND V INDIA 2022</td>\n",
       "      <td>The Oval, London</td>\n",
       "      <td>12-JULY-17:30 IST</td>\n",
       "      <td>17:30 IST</td>\n",
       "    </tr>\n",
       "    <tr>\n",
       "      <th>8</th>\n",
       "      <td>3rd ODI</td>\n",
       "      <td>ENGLAND V INDIA 2022</td>\n",
       "      <td>Lord's, London</td>\n",
       "      <td>14-JULY-17:30 IST</td>\n",
       "      <td>17:30 IST</td>\n",
       "    </tr>\n",
       "  </tbody>\n",
       "</table>\n",
       "</div>"
      ],
      "text/plain": [
       "  Match title                          Series  \\\n",
       "0     1st ODI  SOUTH AFRICA V INDIA 2021/2022   \n",
       "1     2nd ODI  SOUTH AFRICA V INDIA 2021/2022   \n",
       "2     3rd ODI  SOUTH AFRICA V INDIA 2021/2022   \n",
       "3     1st ODI        INDIA V WEST INDIES 2022   \n",
       "4     2nd ODI        INDIA V WEST INDIES 2022   \n",
       "5     3rd ODI        INDIA V WEST INDIES 2022   \n",
       "6     1st ODI            ENGLAND V INDIA 2022   \n",
       "7     2nd ODI            ENGLAND V INDIA 2022   \n",
       "8     3rd ODI            ENGLAND V INDIA 2022   \n",
       "\n",
       "                              Place            Date & Time       Time  \n",
       "0                Boland Park, Paarl   11-JANUARY-14:00 IST  14:00 IST  \n",
       "1               Newlands, Cape Town   14-JANUARY-14:00 IST  14:00 IST  \n",
       "2               Newlands, Cape Town   16-JANUARY-14:00 IST  14:00 IST  \n",
       "3  Narendra Modi Stadium, Ahmedabad  06-FEBRUARY-13:00 IST  13:00 IST  \n",
       "4    Sawai Mansingh Stadium, Jaipur  09-FEBRUARY-13:00 IST  13:00 IST  \n",
       "5             Eden Gardens, Kolkata  12-FEBRUARY-13:00 IST  13:00 IST  \n",
       "6             Edgbaston, Birmingham      09-JULY-15:30 IST  15:30 IST  \n",
       "7                  The Oval, London      12-JULY-17:30 IST  17:30 IST  \n",
       "8                    Lord's, London      14-JULY-17:30 IST  17:30 IST  "
      ]
     },
     "execution_count": 356,
     "metadata": {},
     "output_type": "execute_result"
    }
   ],
   "source": [
    "df1=pd.DataFrame({})\n",
    "df1['Match title']=Match_titles\n",
    "df1['Series']=Series\n",
    "df1['Place']=Place\n",
    "df1['Date & Time']=Date\n",
    "df1['Time']=Time\n",
    "df1"
   ]
  },
  {
   "cell_type": "markdown",
   "metadata": {},
   "source": [
    "# 3. Scrape the details of selenium exception from guru99.com.\n",
    "Url = https://www.guru99.com/\n",
    "You need to find following details:\n",
    "A) Name\n",
    "B) Description\n",
    "Note: - From guru99 home page you have to reach to selenium exception handling page through code."
   ]
  },
  {
   "cell_type": "code",
   "execution_count": 305,
   "metadata": {},
   "outputs": [],
   "source": [
    "driver=webdriver.Chrome(\"chromedriver.exe\")"
   ]
  },
  {
   "cell_type": "code",
   "execution_count": 306,
   "metadata": {},
   "outputs": [],
   "source": [
    "url='https://www.guru99.com/'\n",
    "driver.get(url)"
   ]
  },
  {
   "cell_type": "code",
   "execution_count": 307,
   "metadata": {},
   "outputs": [],
   "source": [
    "search_field=driver.find_element_by_xpath('//*[@id=\"gsc-i-id1\"]')\n"
   ]
  },
  {
   "cell_type": "code",
   "execution_count": 308,
   "metadata": {},
   "outputs": [
    {
     "name": "stdout",
     "output_type": "stream",
     "text": [
      "Search Results for :-Selenium Exception Handling\n"
     ]
    }
   ],
   "source": [
    "search_field.send_keys(input(\"Search Results for :-\"))\n",
    "search_btn=driver.find_element_by_xpath('//button[@class=\"gsc-search-button gsc-search-button-v2\"]')\n",
    "\n",
    "search_btn.click()\n",
    "#Selenium Exception Handling"
   ]
  },
  {
   "cell_type": "code",
   "execution_count": 309,
   "metadata": {},
   "outputs": [],
   "source": [
    "#navigation__drop-down drop-down drop-down--reveal-on-hov\n",
    "path1=driver.find_element_by_xpath('//*[@id=\"___gcse_0\"]/div/div/div[1]/div[6]/div[2]/div/div/div[1]/div[1]/div[1]/div[1]/div/a')\n"
   ]
  },
  {
   "cell_type": "code",
   "execution_count": 310,
   "metadata": {},
   "outputs": [],
   "source": [
    "path=path1.get_attribute('href')"
   ]
  },
  {
   "cell_type": "code",
   "execution_count": 311,
   "metadata": {},
   "outputs": [],
   "source": [
    "driver.get(path)"
   ]
  },
  {
   "cell_type": "code",
   "execution_count": 312,
   "metadata": {},
   "outputs": [],
   "source": [
    "name=driver.find_element_by_xpath('//h1[@class=\"entry-title\"]')\n",
    "Name=name.text"
   ]
  },
  {
   "cell_type": "code",
   "execution_count": 313,
   "metadata": {},
   "outputs": [],
   "source": [
    "discription=driver.find_elements_by_tag_name('p')"
   ]
  },
  {
   "cell_type": "code",
   "execution_count": 314,
   "metadata": {},
   "outputs": [],
   "source": [
    "discription1=[]\n",
    "for i in discription:\n",
    "    discription1.append(i.text)\n"
   ]
  },
  {
   "cell_type": "code",
   "execution_count": 315,
   "metadata": {},
   "outputs": [],
   "source": [
    "Discription=[]\n",
    "for i in range(0,2):\n",
    "    Discription.append(discription1[i].strip())\n"
   ]
  },
  {
   "cell_type": "code",
   "execution_count": 316,
   "metadata": {},
   "outputs": [
    {
     "data": {
      "text/plain": [
       "'Selenium Exception Handling (Common Exceptions List)'"
      ]
     },
     "execution_count": 316,
     "metadata": {},
     "output_type": "execute_result"
    }
   ],
   "source": [
    "Name"
   ]
  },
  {
   "cell_type": "code",
   "execution_count": 317,
   "metadata": {},
   "outputs": [
    {
     "data": {
      "text/plain": [
       "['An exception is an error that happens at the time of execution of a program. However, while running a program, programming languages generates an exception that should be handled to avoid your program to crash.',\n",
       " 'The exception indicates that, although the event can occur, this type of event happens infrequently. When the method is not able to handle the Exception, it is thrown to its caller function. Eventually, when an exception is thrown out of the main function, the program is terminated abruptly.']"
      ]
     },
     "execution_count": 317,
     "metadata": {},
     "output_type": "execute_result"
    }
   ],
   "source": [
    "Discription"
   ]
  },
  {
   "cell_type": "markdown",
   "metadata": {},
   "source": [
    "# 4. Scrape the details of State-wise GDP of India from statisticstime.com.\n",
    "Url = http://statisticstimes.com/\n",
    "You have to find following details:\n",
    "A) Rank\n",
    "B) State\n",
    "C) GSDP at current price (19-20)\n",
    "D) GSDP at current price (18-19)\n",
    "E) Share(18-19)\n",
    "F) GDP($ billion)\n",
    "Note: - From statisticstimes home page you have to reach to economy page through code."
   ]
  },
  {
   "cell_type": "code",
   "execution_count": 318,
   "metadata": {},
   "outputs": [
    {
     "data": {
      "text/plain": [
       "<Response [200]>"
      ]
     },
     "execution_count": 318,
     "metadata": {},
     "output_type": "execute_result"
    }
   ],
   "source": [
    "page= requests.get('https://statisticstimes.com/')\n",
    "page"
   ]
  },
  {
   "cell_type": "code",
   "execution_count": 319,
   "metadata": {},
   "outputs": [],
   "source": [
    "driver=webdriver.Chrome(\"chromedriver.exe\")"
   ]
  },
  {
   "cell_type": "code",
   "execution_count": 320,
   "metadata": {},
   "outputs": [],
   "source": [
    "url='https://statisticstimes.com/'\n",
    "driver.get(url)"
   ]
  },
  {
   "cell_type": "code",
   "execution_count": 321,
   "metadata": {},
   "outputs": [],
   "source": [
    "path1=driver.find_element_by_xpath('//*[@id=\"top\"]/div[2]/div[2]/div/a[3]')"
   ]
  },
  {
   "cell_type": "code",
   "execution_count": 322,
   "metadata": {},
   "outputs": [],
   "source": [
    "path=path1.get_attribute('href')\n",
    "driver.get(path)"
   ]
  },
  {
   "cell_type": "code",
   "execution_count": 323,
   "metadata": {},
   "outputs": [],
   "source": [
    "path2=driver.find_element_by_xpath('/html/body/div[2]/div[2]/div[2]/ul/li[1]/a')"
   ]
  },
  {
   "cell_type": "code",
   "execution_count": 324,
   "metadata": {},
   "outputs": [],
   "source": [
    "path=path2.get_attribute('href')\n",
    "driver.get(path)"
   ]
  },
  {
   "cell_type": "code",
   "execution_count": 325,
   "metadata": {},
   "outputs": [
    {
     "name": "stdout",
     "output_type": "stream",
     "text": [
      "200\n"
     ]
    }
   ],
   "source": [
    "# get the response in the form of html\n",
    "statisticstime='https://statisticstimes.com/economy/india/indian-states-gdp.php'\n",
    "table_class=\"display dataTable\"\n",
    "response=requests.get(statisticstime)\n",
    "print(response.status_code)"
   ]
  },
  {
   "cell_type": "code",
   "execution_count": 326,
   "metadata": {},
   "outputs": [],
   "source": [
    "soup = BeautifulSoup(response.text, 'html.parser')\n",
    "GDP_table=soup.find('table',{'class':\"display\"})"
   ]
  },
  {
   "cell_type": "code",
   "execution_count": 327,
   "metadata": {},
   "outputs": [],
   "source": [
    "df=pd.read_html(str(GDP_table))\n",
    "# convert list to dataframe\n",
    "df=pd.DataFrame(df[0])\n"
   ]
  },
  {
   "cell_type": "code",
   "execution_count": 328,
   "metadata": {},
   "outputs": [
    {
     "data": {
      "text/html": [
       "<div>\n",
       "<style scoped>\n",
       "    .dataframe tbody tr th:only-of-type {\n",
       "        vertical-align: middle;\n",
       "    }\n",
       "\n",
       "    .dataframe tbody tr th {\n",
       "        vertical-align: top;\n",
       "    }\n",
       "\n",
       "    .dataframe thead tr th {\n",
       "        text-align: left;\n",
       "    }\n",
       "</style>\n",
       "<table border=\"1\" class=\"dataframe\">\n",
       "  <thead>\n",
       "    <tr>\n",
       "      <th></th>\n",
       "      <th>Rank</th>\n",
       "      <th>State</th>\n",
       "      <th colspan=\"2\" halign=\"left\">GSDP (Cr INR at Current prices)</th>\n",
       "      <th>Share</th>\n",
       "      <th>GDP ($billion)</th>\n",
       "      <th colspan=\"2\" halign=\"left\">GSDP (Cr INR at 2011-12 prices)</th>\n",
       "    </tr>\n",
       "    <tr>\n",
       "      <th></th>\n",
       "      <th>Rank</th>\n",
       "      <th>State</th>\n",
       "      <th>19-20</th>\n",
       "      <th>18-19</th>\n",
       "      <th>18-19</th>\n",
       "      <th>2019</th>\n",
       "      <th>19-20</th>\n",
       "      <th>18-19</th>\n",
       "    </tr>\n",
       "  </thead>\n",
       "  <tbody>\n",
       "    <tr>\n",
       "      <th>0</th>\n",
       "      <td>1.0</td>\n",
       "      <td>Maharashtra</td>\n",
       "      <td>-</td>\n",
       "      <td>2632792</td>\n",
       "      <td>13.94%</td>\n",
       "      <td>399.921</td>\n",
       "      <td>-</td>\n",
       "      <td>2039074</td>\n",
       "    </tr>\n",
       "    <tr>\n",
       "      <th>1</th>\n",
       "      <td>2.0</td>\n",
       "      <td>Tamil Nadu</td>\n",
       "      <td>1845853</td>\n",
       "      <td>1630208</td>\n",
       "      <td>8.63%</td>\n",
       "      <td>247.629</td>\n",
       "      <td>1312929</td>\n",
       "      <td>1215307</td>\n",
       "    </tr>\n",
       "    <tr>\n",
       "      <th>2</th>\n",
       "      <td>3.0</td>\n",
       "      <td>Uttar Pradesh</td>\n",
       "      <td>1687818</td>\n",
       "      <td>1584764</td>\n",
       "      <td>8.39%</td>\n",
       "      <td>240.726</td>\n",
       "      <td>1166817</td>\n",
       "      <td>1123982</td>\n",
       "    </tr>\n",
       "    <tr>\n",
       "      <th>3</th>\n",
       "      <td>4.0</td>\n",
       "      <td>Gujarat</td>\n",
       "      <td>-</td>\n",
       "      <td>1502899</td>\n",
       "      <td>7.96%</td>\n",
       "      <td>228.290</td>\n",
       "      <td>-</td>\n",
       "      <td>1186379</td>\n",
       "    </tr>\n",
       "    <tr>\n",
       "      <th>4</th>\n",
       "      <td>5.0</td>\n",
       "      <td>Karnataka</td>\n",
       "      <td>1631977</td>\n",
       "      <td>1493127</td>\n",
       "      <td>7.91%</td>\n",
       "      <td>226.806</td>\n",
       "      <td>1156039</td>\n",
       "      <td>1091077</td>\n",
       "    </tr>\n",
       "    <tr>\n",
       "      <th>5</th>\n",
       "      <td>6.0</td>\n",
       "      <td>West Bengal</td>\n",
       "      <td>1253832</td>\n",
       "      <td>1089898</td>\n",
       "      <td>5.77%</td>\n",
       "      <td>165.556</td>\n",
       "      <td>793223</td>\n",
       "      <td>739525</td>\n",
       "    </tr>\n",
       "    <tr>\n",
       "      <th>6</th>\n",
       "      <td>7.0</td>\n",
       "      <td>Rajasthan</td>\n",
       "      <td>1020989</td>\n",
       "      <td>942586</td>\n",
       "      <td>4.99%</td>\n",
       "      <td>143.179</td>\n",
       "      <td>711627</td>\n",
       "      <td>677428</td>\n",
       "    </tr>\n",
       "    <tr>\n",
       "      <th>7</th>\n",
       "      <td>8.0</td>\n",
       "      <td>Andhra Pradesh</td>\n",
       "      <td>972782</td>\n",
       "      <td>862957</td>\n",
       "      <td>4.57%</td>\n",
       "      <td>131.083</td>\n",
       "      <td>672018</td>\n",
       "      <td>621301</td>\n",
       "    </tr>\n",
       "    <tr>\n",
       "      <th>8</th>\n",
       "      <td>9.0</td>\n",
       "      <td>Telangana</td>\n",
       "      <td>969604</td>\n",
       "      <td>861031</td>\n",
       "      <td>4.56%</td>\n",
       "      <td>130.791</td>\n",
       "      <td>663258</td>\n",
       "      <td>612828</td>\n",
       "    </tr>\n",
       "    <tr>\n",
       "      <th>9</th>\n",
       "      <td>10.0</td>\n",
       "      <td>Madhya Pradesh</td>\n",
       "      <td>906672</td>\n",
       "      <td>809592</td>\n",
       "      <td>4.29%</td>\n",
       "      <td>122.977</td>\n",
       "      <td>561801</td>\n",
       "      <td>522009</td>\n",
       "    </tr>\n",
       "    <tr>\n",
       "      <th>10</th>\n",
       "      <td>11.0</td>\n",
       "      <td>Kerala</td>\n",
       "      <td>-</td>\n",
       "      <td>781653</td>\n",
       "      <td>4.14%</td>\n",
       "      <td>118.733</td>\n",
       "      <td>-</td>\n",
       "      <td>559412</td>\n",
       "    </tr>\n",
       "    <tr>\n",
       "      <th>11</th>\n",
       "      <td>12.0</td>\n",
       "      <td>Delhi</td>\n",
       "      <td>856112</td>\n",
       "      <td>774870</td>\n",
       "      <td>4.10%</td>\n",
       "      <td>117.703</td>\n",
       "      <td>634408</td>\n",
       "      <td>590569</td>\n",
       "    </tr>\n",
       "    <tr>\n",
       "      <th>12</th>\n",
       "      <td>13.0</td>\n",
       "      <td>Haryana</td>\n",
       "      <td>831610</td>\n",
       "      <td>734163</td>\n",
       "      <td>3.89%</td>\n",
       "      <td>111.519</td>\n",
       "      <td>572240</td>\n",
       "      <td>531085</td>\n",
       "    </tr>\n",
       "    <tr>\n",
       "      <th>13</th>\n",
       "      <td>14.0</td>\n",
       "      <td>Bihar</td>\n",
       "      <td>611804</td>\n",
       "      <td>530363</td>\n",
       "      <td>2.81%</td>\n",
       "      <td>80.562</td>\n",
       "      <td>414977</td>\n",
       "      <td>375651</td>\n",
       "    </tr>\n",
       "    <tr>\n",
       "      <th>14</th>\n",
       "      <td>15.0</td>\n",
       "      <td>Punjab</td>\n",
       "      <td>574760</td>\n",
       "      <td>526376</td>\n",
       "      <td>2.79%</td>\n",
       "      <td>79.957</td>\n",
       "      <td>418868</td>\n",
       "      <td>397669</td>\n",
       "    </tr>\n",
       "    <tr>\n",
       "      <th>15</th>\n",
       "      <td>16.0</td>\n",
       "      <td>Odisha</td>\n",
       "      <td>521275</td>\n",
       "      <td>487805</td>\n",
       "      <td>2.58%</td>\n",
       "      <td>74.098</td>\n",
       "      <td>396499</td>\n",
       "      <td>376877</td>\n",
       "    </tr>\n",
       "    <tr>\n",
       "      <th>16</th>\n",
       "      <td>17.0</td>\n",
       "      <td>Assam</td>\n",
       "      <td>-</td>\n",
       "      <td>315881</td>\n",
       "      <td>1.67%</td>\n",
       "      <td>47.982</td>\n",
       "      <td>-</td>\n",
       "      <td>234048</td>\n",
       "    </tr>\n",
       "    <tr>\n",
       "      <th>17</th>\n",
       "      <td>18.0</td>\n",
       "      <td>Chhattisgarh</td>\n",
       "      <td>329180</td>\n",
       "      <td>304063</td>\n",
       "      <td>1.61%</td>\n",
       "      <td>46.187</td>\n",
       "      <td>243477</td>\n",
       "      <td>231182</td>\n",
       "    </tr>\n",
       "    <tr>\n",
       "      <th>18</th>\n",
       "      <td>19.0</td>\n",
       "      <td>Jharkhand</td>\n",
       "      <td>328598</td>\n",
       "      <td>297204</td>\n",
       "      <td>1.57%</td>\n",
       "      <td>45.145</td>\n",
       "      <td>240036</td>\n",
       "      <td>224986</td>\n",
       "    </tr>\n",
       "    <tr>\n",
       "      <th>19</th>\n",
       "      <td>20.0</td>\n",
       "      <td>Uttarakhand</td>\n",
       "      <td>-</td>\n",
       "      <td>245895</td>\n",
       "      <td>1.30%</td>\n",
       "      <td>37.351</td>\n",
       "      <td>-</td>\n",
       "      <td>193273</td>\n",
       "    </tr>\n",
       "    <tr>\n",
       "      <th>20</th>\n",
       "      <td>21.0</td>\n",
       "      <td>Jammu &amp; Kashmir</td>\n",
       "      <td>-</td>\n",
       "      <td>155956</td>\n",
       "      <td>0.83%</td>\n",
       "      <td>23.690</td>\n",
       "      <td>-</td>\n",
       "      <td>112755</td>\n",
       "    </tr>\n",
       "    <tr>\n",
       "      <th>21</th>\n",
       "      <td>22.0</td>\n",
       "      <td>Himachal Pradesh</td>\n",
       "      <td>165472</td>\n",
       "      <td>153845</td>\n",
       "      <td>0.81%</td>\n",
       "      <td>23.369</td>\n",
       "      <td>124403</td>\n",
       "      <td>117851</td>\n",
       "    </tr>\n",
       "    <tr>\n",
       "      <th>22</th>\n",
       "      <td>23.0</td>\n",
       "      <td>Goa</td>\n",
       "      <td>80449</td>\n",
       "      <td>73170</td>\n",
       "      <td>0.39%</td>\n",
       "      <td>11.115</td>\n",
       "      <td>63408</td>\n",
       "      <td>57787</td>\n",
       "    </tr>\n",
       "    <tr>\n",
       "      <th>23</th>\n",
       "      <td>24.0</td>\n",
       "      <td>Tripura</td>\n",
       "      <td>55984</td>\n",
       "      <td>49845</td>\n",
       "      <td>0.26%</td>\n",
       "      <td>7.571</td>\n",
       "      <td>40583</td>\n",
       "      <td>36963</td>\n",
       "    </tr>\n",
       "    <tr>\n",
       "      <th>24</th>\n",
       "      <td>25.0</td>\n",
       "      <td>Chandigarh</td>\n",
       "      <td>-</td>\n",
       "      <td>42114</td>\n",
       "      <td>0.22%</td>\n",
       "      <td>6.397</td>\n",
       "      <td>-</td>\n",
       "      <td>31192</td>\n",
       "    </tr>\n",
       "    <tr>\n",
       "      <th>25</th>\n",
       "      <td>26.0</td>\n",
       "      <td>Puducherry</td>\n",
       "      <td>38253</td>\n",
       "      <td>34433</td>\n",
       "      <td>0.18%</td>\n",
       "      <td>5.230</td>\n",
       "      <td>25093</td>\n",
       "      <td>23013</td>\n",
       "    </tr>\n",
       "    <tr>\n",
       "      <th>26</th>\n",
       "      <td>27.0</td>\n",
       "      <td>Meghalaya</td>\n",
       "      <td>36572</td>\n",
       "      <td>33481</td>\n",
       "      <td>0.18%</td>\n",
       "      <td>5.086</td>\n",
       "      <td>26695</td>\n",
       "      <td>24682</td>\n",
       "    </tr>\n",
       "    <tr>\n",
       "      <th>27</th>\n",
       "      <td>28.0</td>\n",
       "      <td>Sikkim</td>\n",
       "      <td>32496</td>\n",
       "      <td>28723</td>\n",
       "      <td>0.15%</td>\n",
       "      <td>4.363</td>\n",
       "      <td>20017</td>\n",
       "      <td>18722</td>\n",
       "    </tr>\n",
       "    <tr>\n",
       "      <th>28</th>\n",
       "      <td>29.0</td>\n",
       "      <td>Manipur</td>\n",
       "      <td>31790</td>\n",
       "      <td>27870</td>\n",
       "      <td>0.15%</td>\n",
       "      <td>4.233</td>\n",
       "      <td>20673</td>\n",
       "      <td>19300</td>\n",
       "    </tr>\n",
       "    <tr>\n",
       "      <th>29</th>\n",
       "      <td>30.0</td>\n",
       "      <td>Nagaland</td>\n",
       "      <td>-</td>\n",
       "      <td>27283</td>\n",
       "      <td>0.14%</td>\n",
       "      <td>4.144</td>\n",
       "      <td>-</td>\n",
       "      <td>17647</td>\n",
       "    </tr>\n",
       "    <tr>\n",
       "      <th>30</th>\n",
       "      <td>31.0</td>\n",
       "      <td>Arunachal Pradesh</td>\n",
       "      <td>-</td>\n",
       "      <td>24603</td>\n",
       "      <td>0.13%</td>\n",
       "      <td>3.737</td>\n",
       "      <td>-</td>\n",
       "      <td>16676</td>\n",
       "    </tr>\n",
       "    <tr>\n",
       "      <th>31</th>\n",
       "      <td>32.0</td>\n",
       "      <td>Mizoram</td>\n",
       "      <td>26503</td>\n",
       "      <td>22287</td>\n",
       "      <td>0.12%</td>\n",
       "      <td>3.385</td>\n",
       "      <td>18797</td>\n",
       "      <td>16478</td>\n",
       "    </tr>\n",
       "    <tr>\n",
       "      <th>32</th>\n",
       "      <td>33.0</td>\n",
       "      <td>Andaman &amp; Nicobar Islands</td>\n",
       "      <td>-</td>\n",
       "      <td>-</td>\n",
       "      <td>-</td>\n",
       "      <td>-</td>\n",
       "      <td>-</td>\n",
       "      <td>-</td>\n",
       "    </tr>\n",
       "    <tr>\n",
       "      <th>33</th>\n",
       "      <td>NaN</td>\n",
       "      <td>India</td>\n",
       "      <td>20351013</td>\n",
       "      <td>18886957</td>\n",
       "      <td>NaN</td>\n",
       "      <td>2869</td>\n",
       "      <td>14569268</td>\n",
       "      <td>14003316</td>\n",
       "    </tr>\n",
       "  </tbody>\n",
       "</table>\n",
       "</div>"
      ],
      "text/plain": [
       "    Rank                      State GSDP (Cr INR at Current prices)            \\\n",
       "    Rank                      State                           19-20     18-19   \n",
       "0    1.0                Maharashtra                               -   2632792   \n",
       "1    2.0                 Tamil Nadu                         1845853   1630208   \n",
       "2    3.0              Uttar Pradesh                         1687818   1584764   \n",
       "3    4.0                    Gujarat                               -   1502899   \n",
       "4    5.0                  Karnataka                         1631977   1493127   \n",
       "5    6.0                West Bengal                         1253832   1089898   \n",
       "6    7.0                  Rajasthan                         1020989    942586   \n",
       "7    8.0             Andhra Pradesh                          972782    862957   \n",
       "8    9.0                  Telangana                          969604    861031   \n",
       "9   10.0             Madhya Pradesh                          906672    809592   \n",
       "10  11.0                     Kerala                               -    781653   \n",
       "11  12.0                      Delhi                          856112    774870   \n",
       "12  13.0                    Haryana                          831610    734163   \n",
       "13  14.0                      Bihar                          611804    530363   \n",
       "14  15.0                     Punjab                          574760    526376   \n",
       "15  16.0                     Odisha                          521275    487805   \n",
       "16  17.0                      Assam                               -    315881   \n",
       "17  18.0               Chhattisgarh                          329180    304063   \n",
       "18  19.0                  Jharkhand                          328598    297204   \n",
       "19  20.0                Uttarakhand                               -    245895   \n",
       "20  21.0            Jammu & Kashmir                               -    155956   \n",
       "21  22.0           Himachal Pradesh                          165472    153845   \n",
       "22  23.0                        Goa                           80449     73170   \n",
       "23  24.0                    Tripura                           55984     49845   \n",
       "24  25.0                 Chandigarh                               -     42114   \n",
       "25  26.0                 Puducherry                           38253     34433   \n",
       "26  27.0                  Meghalaya                           36572     33481   \n",
       "27  28.0                     Sikkim                           32496     28723   \n",
       "28  29.0                    Manipur                           31790     27870   \n",
       "29  30.0                   Nagaland                               -     27283   \n",
       "30  31.0          Arunachal Pradesh                               -     24603   \n",
       "31  32.0                    Mizoram                           26503     22287   \n",
       "32  33.0  Andaman & Nicobar Islands                               -         -   \n",
       "33   NaN                      India                        20351013  18886957   \n",
       "\n",
       "     Share GDP ($billion) GSDP (Cr INR at 2011-12 prices)            \n",
       "     18-19           2019                           19-20     18-19  \n",
       "0   13.94%        399.921                               -   2039074  \n",
       "1    8.63%        247.629                         1312929   1215307  \n",
       "2    8.39%        240.726                         1166817   1123982  \n",
       "3    7.96%        228.290                               -   1186379  \n",
       "4    7.91%        226.806                         1156039   1091077  \n",
       "5    5.77%        165.556                          793223    739525  \n",
       "6    4.99%        143.179                          711627    677428  \n",
       "7    4.57%        131.083                          672018    621301  \n",
       "8    4.56%        130.791                          663258    612828  \n",
       "9    4.29%        122.977                          561801    522009  \n",
       "10   4.14%        118.733                               -    559412  \n",
       "11   4.10%        117.703                          634408    590569  \n",
       "12   3.89%        111.519                          572240    531085  \n",
       "13   2.81%         80.562                          414977    375651  \n",
       "14   2.79%         79.957                          418868    397669  \n",
       "15   2.58%         74.098                          396499    376877  \n",
       "16   1.67%         47.982                               -    234048  \n",
       "17   1.61%         46.187                          243477    231182  \n",
       "18   1.57%         45.145                          240036    224986  \n",
       "19   1.30%         37.351                               -    193273  \n",
       "20   0.83%         23.690                               -    112755  \n",
       "21   0.81%         23.369                          124403    117851  \n",
       "22   0.39%         11.115                           63408     57787  \n",
       "23   0.26%          7.571                           40583     36963  \n",
       "24   0.22%          6.397                               -     31192  \n",
       "25   0.18%          5.230                           25093     23013  \n",
       "26   0.18%          5.086                           26695     24682  \n",
       "27   0.15%          4.363                           20017     18722  \n",
       "28   0.15%          4.233                           20673     19300  \n",
       "29   0.14%          4.144                               -     17647  \n",
       "30   0.13%          3.737                               -     16676  \n",
       "31   0.12%          3.385                           18797     16478  \n",
       "32       -              -                               -         -  \n",
       "33     NaN           2869                        14569268  14003316  "
      ]
     },
     "execution_count": 328,
     "metadata": {},
     "output_type": "execute_result"
    }
   ],
   "source": [
    "df"
   ]
  },
  {
   "cell_type": "markdown",
   "metadata": {},
   "source": [
    "# 5. Scrape the details of trending repositories on Github.com.\n",
    "Url = https://github.com/\n",
    "You have to find the following details:\n",
    "A) Repository title\n",
    "B) Repository description\n",
    "C) Contributors count\n",
    "D) Language used"
   ]
  },
  {
   "cell_type": "markdown",
   "metadata": {},
   "source": [
    "Note: - From the home page you have to click on the trending option from Explore menu through code"
   ]
  },
  {
   "cell_type": "code",
   "execution_count": 144,
   "metadata": {},
   "outputs": [],
   "source": [
    "driver=webdriver.Chrome(\"chromedriver.exe\")"
   ]
  },
  {
   "cell_type": "code",
   "execution_count": 145,
   "metadata": {},
   "outputs": [],
   "source": [
    "url='https://github.com/'\n",
    "driver.get(url)"
   ]
  },
  {
   "cell_type": "code",
   "execution_count": 146,
   "metadata": {},
   "outputs": [],
   "source": [
    "path1=driver.find_element_by_xpath('/html/body/div[1]/header/div/div[2]/nav/ul/li[4]/details/div/ul[2]/li[3]/a')\n"
   ]
  },
  {
   "cell_type": "code",
   "execution_count": 147,
   "metadata": {},
   "outputs": [],
   "source": [
    "path=path1.get_attribute('href')\n",
    "driver.get(path)\n",
    "#we select the spoken language to english"
   ]
  },
  {
   "cell_type": "code",
   "execution_count": 148,
   "metadata": {},
   "outputs": [
    {
     "data": {
      "text/plain": [
       "25"
      ]
     },
     "execution_count": 148,
     "metadata": {},
     "output_type": "execute_result"
    }
   ],
   "source": [
    "Url_links=driver.find_elements_by_xpath('//h1[@class=\"h3 lh-condensed\"]//a')\n",
    "\n",
    "\n",
    "Urls=[]\n",
    "\n",
    "for i in Url_links:\n",
    "    Urls.append(i.get_attribute(\"href\"))\n",
    "    \n",
    "len(Urls)"
   ]
  },
  {
   "cell_type": "code",
   "execution_count": 155,
   "metadata": {},
   "outputs": [
    {
     "data": {
      "text/plain": [
       "25"
      ]
     },
     "execution_count": 155,
     "metadata": {},
     "output_type": "execute_result"
    }
   ],
   "source": [
    "Contributors_counts=[]\n",
    "contributors_count=driver.find_elements_by_xpath('//a[@class=\"Link--muted d-inline-block mr-3\"]')\n",
    "for i in contributors_count:\n",
    "    Contributors_counts.append(i.text.replace(\"\\n\",\" \"))\n",
    "\n",
    "Counts=[]\n",
    "for i in range(1,len(Contributors_counts),2):\n",
    "    Counts.append(Contributors_counts[i].strip())\n",
    "len(Counts)"
   ]
  },
  {
   "cell_type": "code",
   "execution_count": 139,
   "metadata": {},
   "outputs": [
    {
     "name": "stdout",
     "output_type": "stream",
     "text": [
      "25\n",
      "25\n",
      "25\n"
     ]
    }
   ],
   "source": [
    "Repository_title=[]\n",
    "Repository_description=[]\n",
    "Contributors_count=[]\n",
    "Lang=[]\n",
    "\n",
    "for i in Urls:\n",
    "    driver.get(i)\n",
    "    time.sleep(3)    \n",
    "    \n",
    "    #fetching Details from each urls..\n",
    "    try:\n",
    "        repository_title=driver.find_element_by_xpath('//a[@class=\"url fn\"]')\n",
    "        Repository_title.append(repository_title.text.replace(\"/n\",\"new line\"))\n",
    "    except:\n",
    "        Repository_title.append(\"-\")\n",
    "\n",
    "\n",
    "    try:\n",
    "        repository_description=driver.find_element_by_xpath('//article[@class=\"markdown-body entry-content container-lg\"]')\n",
    "        Repository_description.append(repository_description.text.replace(\"\\n\",\"new line\"))\n",
    "    except:\n",
    "        Repository_description.append(\"-\") \n",
    "        \n",
    "        \n",
    "    \n",
    "    try:\n",
    "        language_used=driver.find_element_by_xpath('//a[@class=\"d-inline-flex flex-items-center flex-nowrap Link--secondary no-underline text-small mr-3\"]//span')\n",
    "        Lang.append(language_used.text.replace(\"\\n\",\" \"))\n",
    "    except:\n",
    "        Lang.append('-')\n",
    "    \n",
    "        \n",
    "print(len(Repository_title))        \n",
    "print(len(Repository_description))\n",
    "print(len(Lang))\n"
   ]
  },
  {
   "cell_type": "code",
   "execution_count": null,
   "metadata": {},
   "outputs": [],
   "source": []
  },
  {
   "cell_type": "code",
   "execution_count": 156,
   "metadata": {},
   "outputs": [
    {
     "data": {
      "text/html": [
       "<div>\n",
       "<style scoped>\n",
       "    .dataframe tbody tr th:only-of-type {\n",
       "        vertical-align: middle;\n",
       "    }\n",
       "\n",
       "    .dataframe tbody tr th {\n",
       "        vertical-align: top;\n",
       "    }\n",
       "\n",
       "    .dataframe thead th {\n",
       "        text-align: right;\n",
       "    }\n",
       "</style>\n",
       "<table border=\"1\" class=\"dataframe\">\n",
       "  <thead>\n",
       "    <tr style=\"text-align: right;\">\n",
       "      <th></th>\n",
       "      <th>Repository_title</th>\n",
       "      <th>Repository_description</th>\n",
       "      <th>Contributors_counts</th>\n",
       "      <th>Lang</th>\n",
       "    </tr>\n",
       "  </thead>\n",
       "  <tbody>\n",
       "    <tr>\n",
       "      <th>0</th>\n",
       "      <td>peng-zhihui</td>\n",
       "      <td>Dummy-Robotnew line我的超迷你机械臂机器人项目。new line资料待整理...</td>\n",
       "      <td>388</td>\n",
       "      <td>-</td>\n",
       "    </tr>\n",
       "    <tr>\n",
       "      <th>1</th>\n",
       "      <td>xinntao</td>\n",
       "      <td>Real-ESRGANnew lineColab Demo for Real-ESRGAN ...</td>\n",
       "      <td>369</td>\n",
       "      <td>Python</td>\n",
       "    </tr>\n",
       "    <tr>\n",
       "      <th>2</th>\n",
       "      <td>ckosmic</td>\n",
       "      <td>sm64ex-iosnew lineFork of sm64pc/sm64ex ported...</td>\n",
       "      <td>12</td>\n",
       "      <td>C</td>\n",
       "    </tr>\n",
       "    <tr>\n",
       "      <th>3</th>\n",
       "      <td>ethereum</td>\n",
       "      <td>👋 Welcome to ethereum.org!new lineThis is the ...</td>\n",
       "      <td>1,470</td>\n",
       "      <td>JavaScript</td>\n",
       "    </tr>\n",
       "    <tr>\n",
       "      <th>4</th>\n",
       "      <td>WebDevSimplified</td>\n",
       "      <td>Getting Started with Create React Appnew lineT...</td>\n",
       "      <td>130</td>\n",
       "      <td>JavaScript</td>\n",
       "    </tr>\n",
       "    <tr>\n",
       "      <th>5</th>\n",
       "      <td>trailofbits</td>\n",
       "      <td>Algo VPNnew lineAlgo VPN is a set of Ansible s...</td>\n",
       "      <td>1,921</td>\n",
       "      <td>Python</td>\n",
       "    </tr>\n",
       "    <tr>\n",
       "      <th>6</th>\n",
       "      <td>trekhleb</td>\n",
       "      <td>Promote Your Next Startupnew lineFree web-reso...</td>\n",
       "      <td>116</td>\n",
       "      <td>-</td>\n",
       "    </tr>\n",
       "    <tr>\n",
       "      <th>7</th>\n",
       "      <td>sdras</td>\n",
       "      <td>Awesome Actionsnew lineA curated list of aweso...</td>\n",
       "      <td>1,008</td>\n",
       "      <td>-</td>\n",
       "    </tr>\n",
       "    <tr>\n",
       "      <th>8</th>\n",
       "      <td>cobaltdisco</td>\n",
       "      <td>中文搜索结果黑名单new line垃圾站点出现在 Google、百度的中文搜索结果中，实在是...</td>\n",
       "      <td>157</td>\n",
       "      <td>-</td>\n",
       "    </tr>\n",
       "    <tr>\n",
       "      <th>9</th>\n",
       "      <td>peng-zhihui</td>\n",
       "      <td>[L-ink]电子墨水屏NFC智能卡片new line这是为了解决个人使用IC卡时遇到的一些...</td>\n",
       "      <td>1,384</td>\n",
       "      <td>C</td>\n",
       "    </tr>\n",
       "    <tr>\n",
       "      <th>10</th>\n",
       "      <td>iptv-org</td>\n",
       "      <td>IPTVnew lineCollection of publicly available I...</td>\n",
       "      <td>3,602</td>\n",
       "      <td>JavaScript</td>\n",
       "    </tr>\n",
       "    <tr>\n",
       "      <th>11</th>\n",
       "      <td>peng-zhihui</td>\n",
       "      <td>-</td>\n",
       "      <td>115</td>\n",
       "      <td>HTML</td>\n",
       "    </tr>\n",
       "    <tr>\n",
       "      <th>12</th>\n",
       "      <td>valinet</td>\n",
       "      <td>Explorer Patcher for Windows 11new lineThis pr...</td>\n",
       "      <td>21</td>\n",
       "      <td>C</td>\n",
       "    </tr>\n",
       "    <tr>\n",
       "      <th>13</th>\n",
       "      <td>openwrt</td>\n",
       "      <td>OpenWrt Project is a Linux operating system ta...</td>\n",
       "      <td>6,302</td>\n",
       "      <td>C</td>\n",
       "    </tr>\n",
       "    <tr>\n",
       "      <th>14</th>\n",
       "      <td>zeromicro</td>\n",
       "      <td>go-zeronew lineEnglish | 简体中文new lineNote: To ...</td>\n",
       "      <td>1,387</td>\n",
       "      <td>Go</td>\n",
       "    </tr>\n",
       "    <tr>\n",
       "      <th>15</th>\n",
       "      <td>ethereum</td>\n",
       "      <td>Ethereum Improvement Proposals (EIPs)new lineE...</td>\n",
       "      <td>2,840</td>\n",
       "      <td>Solidity</td>\n",
       "    </tr>\n",
       "    <tr>\n",
       "      <th>16</th>\n",
       "      <td>bitcoin</td>\n",
       "      <td>Bitcoin Core integration/staging treenew lineh...</td>\n",
       "      <td>30,136</td>\n",
       "      <td>C++</td>\n",
       "    </tr>\n",
       "    <tr>\n",
       "      <th>17</th>\n",
       "      <td>github</td>\n",
       "      <td>GitHub Docsnew lineThis repository contains th...</td>\n",
       "      <td>27,590</td>\n",
       "      <td>JavaScript</td>\n",
       "    </tr>\n",
       "    <tr>\n",
       "      <th>18</th>\n",
       "      <td>goplus</td>\n",
       "      <td>The Go+ language for engineering, STEM educati...</td>\n",
       "      <td>402</td>\n",
       "      <td>Go</td>\n",
       "    </tr>\n",
       "    <tr>\n",
       "      <th>19</th>\n",
       "      <td>jklepatch</td>\n",
       "      <td>EaTheBlocksnew lineBlockchain tutorials of Eat...</td>\n",
       "      <td>1,849</td>\n",
       "      <td>JavaScript</td>\n",
       "    </tr>\n",
       "    <tr>\n",
       "      <th>20</th>\n",
       "      <td>filecoin-project</td>\n",
       "      <td>Project Lotus - 莲new linenew lineLotus is an i...</td>\n",
       "      <td>894</td>\n",
       "      <td>Go</td>\n",
       "    </tr>\n",
       "    <tr>\n",
       "      <th>21</th>\n",
       "      <td>bevyengine</td>\n",
       "      <td>What is Bevy?new lineBevy is a refreshingly si...</td>\n",
       "      <td>950</td>\n",
       "      <td>Rust</td>\n",
       "    </tr>\n",
       "    <tr>\n",
       "      <th>22</th>\n",
       "      <td>NationalSecurityAgency</td>\n",
       "      <td>Ghidra Software Reverse Engineering Frameworkn...</td>\n",
       "      <td>3,806</td>\n",
       "      <td>Java</td>\n",
       "    </tr>\n",
       "    <tr>\n",
       "      <th>23</th>\n",
       "      <td>golang</td>\n",
       "      <td>The Go Programming Languagenew lineGo is an op...</td>\n",
       "      <td>13,397</td>\n",
       "      <td>Go</td>\n",
       "    </tr>\n",
       "    <tr>\n",
       "      <th>24</th>\n",
       "      <td>raimohanska</td>\n",
       "      <td>An online whiteboard.new lineFeel free to try ...</td>\n",
       "      <td>13</td>\n",
       "      <td>TypeScript</td>\n",
       "    </tr>\n",
       "  </tbody>\n",
       "</table>\n",
       "</div>"
      ],
      "text/plain": [
       "          Repository_title                             Repository_description  \\\n",
       "0              peng-zhihui  Dummy-Robotnew line我的超迷你机械臂机器人项目。new line资料待整理...   \n",
       "1                  xinntao  Real-ESRGANnew lineColab Demo for Real-ESRGAN ...   \n",
       "2                  ckosmic  sm64ex-iosnew lineFork of sm64pc/sm64ex ported...   \n",
       "3                 ethereum  👋 Welcome to ethereum.org!new lineThis is the ...   \n",
       "4         WebDevSimplified  Getting Started with Create React Appnew lineT...   \n",
       "5              trailofbits  Algo VPNnew lineAlgo VPN is a set of Ansible s...   \n",
       "6                 trekhleb  Promote Your Next Startupnew lineFree web-reso...   \n",
       "7                    sdras  Awesome Actionsnew lineA curated list of aweso...   \n",
       "8              cobaltdisco  中文搜索结果黑名单new line垃圾站点出现在 Google、百度的中文搜索结果中，实在是...   \n",
       "9              peng-zhihui  [L-ink]电子墨水屏NFC智能卡片new line这是为了解决个人使用IC卡时遇到的一些...   \n",
       "10                iptv-org  IPTVnew lineCollection of publicly available I...   \n",
       "11             peng-zhihui                                                  -   \n",
       "12                 valinet  Explorer Patcher for Windows 11new lineThis pr...   \n",
       "13                 openwrt  OpenWrt Project is a Linux operating system ta...   \n",
       "14               zeromicro  go-zeronew lineEnglish | 简体中文new lineNote: To ...   \n",
       "15                ethereum  Ethereum Improvement Proposals (EIPs)new lineE...   \n",
       "16                 bitcoin  Bitcoin Core integration/staging treenew lineh...   \n",
       "17                  github  GitHub Docsnew lineThis repository contains th...   \n",
       "18                  goplus  The Go+ language for engineering, STEM educati...   \n",
       "19               jklepatch  EaTheBlocksnew lineBlockchain tutorials of Eat...   \n",
       "20        filecoin-project  Project Lotus - 莲new linenew lineLotus is an i...   \n",
       "21              bevyengine  What is Bevy?new lineBevy is a refreshingly si...   \n",
       "22  NationalSecurityAgency  Ghidra Software Reverse Engineering Frameworkn...   \n",
       "23                  golang  The Go Programming Languagenew lineGo is an op...   \n",
       "24             raimohanska  An online whiteboard.new lineFeel free to try ...   \n",
       "\n",
       "   Contributors_counts        Lang  \n",
       "0                  388           -  \n",
       "1                  369      Python  \n",
       "2                   12           C  \n",
       "3                1,470  JavaScript  \n",
       "4                  130  JavaScript  \n",
       "5                1,921      Python  \n",
       "6                  116           -  \n",
       "7                1,008           -  \n",
       "8                  157           -  \n",
       "9                1,384           C  \n",
       "10               3,602  JavaScript  \n",
       "11                 115        HTML  \n",
       "12                  21           C  \n",
       "13               6,302           C  \n",
       "14               1,387          Go  \n",
       "15               2,840    Solidity  \n",
       "16              30,136         C++  \n",
       "17              27,590  JavaScript  \n",
       "18                 402          Go  \n",
       "19               1,849  JavaScript  \n",
       "20                 894          Go  \n",
       "21                 950        Rust  \n",
       "22               3,806        Java  \n",
       "23              13,397          Go  \n",
       "24                  13  TypeScript  "
      ]
     },
     "execution_count": 156,
     "metadata": {},
     "output_type": "execute_result"
    }
   ],
   "source": [
    "df1=pd.DataFrame({})\n",
    "df1['Repository_title']=Repository_title\n",
    "df1['Repository_description']=Repository_description\n",
    "df1['Contributors_counts']=Counts\n",
    "df1['Lang']=Lang\n",
    "df1"
   ]
  },
  {
   "cell_type": "markdown",
   "metadata": {},
   "source": [
    "# 6. Scrape the details of top 100 songs on billboard.com.\n",
    "Url = https://www.billboard.com/\n",
    "You have to find the following details:\n",
    "A) Song name\n",
    "B) Artist name\n",
    "C) Last week rank\n",
    "D) Peak rank\n",
    "E) Weeks on board\n",
    "Note: - From the home page you have to click on the charts option then hot 100-page link through code."
   ]
  },
  {
   "cell_type": "code",
   "execution_count": 329,
   "metadata": {},
   "outputs": [],
   "source": [
    "driver=webdriver.Chrome(\"chromedriver.exe\")"
   ]
  },
  {
   "cell_type": "code",
   "execution_count": 330,
   "metadata": {},
   "outputs": [],
   "source": [
    "url='https://www.billboard.com/'\n",
    "driver.get(url)"
   ]
  },
  {
   "cell_type": "code",
   "execution_count": 331,
   "metadata": {},
   "outputs": [],
   "source": [
    "path1=driver.find_element_by_xpath('//*[@id=\"root\"]/div[2]/div[2]/nav/ul/li[3]/a')\n",
    "path=path1.get_attribute('href')\n",
    "driver.get(path)"
   ]
  },
  {
   "cell_type": "code",
   "execution_count": 332,
   "metadata": {},
   "outputs": [
    {
     "data": {
      "text/plain": [
       "100"
      ]
     },
     "execution_count": 332,
     "metadata": {},
     "output_type": "execute_result"
    }
   ],
   "source": [
    "song_name=driver.find_elements_by_xpath('//span[@class=\"chart-element__information__song text--truncate color--primary\"]')\n",
    "Song_name=[]\n",
    "for i in song_name:\n",
    "    Song_name.append(i.text)\n",
    "len(Song_name)"
   ]
  },
  {
   "cell_type": "code",
   "execution_count": 333,
   "metadata": {},
   "outputs": [
    {
     "data": {
      "text/plain": [
       "100"
      ]
     },
     "execution_count": 333,
     "metadata": {},
     "output_type": "execute_result"
    }
   ],
   "source": [
    "artist_name=driver.find_elements_by_xpath('//span[@class=\"chart-element__information__artist text--truncate color--secondary\"]')\n",
    "Artist_name=[]\n",
    "for i in artist_name:\n",
    "    Artist_name.append(i.text)\n",
    "len(Artist_name)"
   ]
  },
  {
   "cell_type": "code",
   "execution_count": 334,
   "metadata": {},
   "outputs": [
    {
     "data": {
      "text/plain": [
       "100"
      ]
     },
     "execution_count": 334,
     "metadata": {},
     "output_type": "execute_result"
    }
   ],
   "source": [
    "last_week_rank=driver.find_elements_by_xpath('//div[@class=\"chart-element__meta text--center color--secondary text--last\"]')\n",
    "Last_week_rank=[]\n",
    "for i in last_week_rank:\n",
    "    Last_week_rank.append(i.text)\n",
    "len(Last_week_rank)"
   ]
  },
  {
   "cell_type": "code",
   "execution_count": 335,
   "metadata": {},
   "outputs": [
    {
     "data": {
      "text/plain": [
       "100"
      ]
     },
     "execution_count": 335,
     "metadata": {},
     "output_type": "execute_result"
    }
   ],
   "source": [
    "peak_rank=driver.find_elements_by_xpath('//div[@class=\"chart-element__meta text--center color--secondary text--peak\"]')\n",
    "Peak_rank=[]\n",
    "for i in peak_rank:\n",
    "    Peak_rank.append(i.text)\n",
    "len(Peak_rank)"
   ]
  },
  {
   "cell_type": "code",
   "execution_count": 336,
   "metadata": {},
   "outputs": [
    {
     "data": {
      "text/plain": [
       "100"
      ]
     },
     "execution_count": 336,
     "metadata": {},
     "output_type": "execute_result"
    }
   ],
   "source": [
    "weeks_on_board=driver.find_elements_by_xpath('//div[@class=\"chart-element__meta text--center color--secondary text--week\"]')\n",
    "Weeks_on_board=[]\n",
    "for i in weeks_on_board:\n",
    "    Weeks_on_board.append(i.text)\n",
    "len(Weeks_on_board)"
   ]
  },
  {
   "cell_type": "code",
   "execution_count": 337,
   "metadata": {},
   "outputs": [
    {
     "data": {
      "text/html": [
       "<div>\n",
       "<style scoped>\n",
       "    .dataframe tbody tr th:only-of-type {\n",
       "        vertical-align: middle;\n",
       "    }\n",
       "\n",
       "    .dataframe tbody tr th {\n",
       "        vertical-align: top;\n",
       "    }\n",
       "\n",
       "    .dataframe thead th {\n",
       "        text-align: right;\n",
       "    }\n",
       "</style>\n",
       "<table border=\"1\" class=\"dataframe\">\n",
       "  <thead>\n",
       "    <tr style=\"text-align: right;\">\n",
       "      <th></th>\n",
       "      <th>Song_name</th>\n",
       "      <th>Artist_name</th>\n",
       "      <th>Last_week_rank</th>\n",
       "      <th>Peak_rank</th>\n",
       "      <th>Weeks_on_board</th>\n",
       "    </tr>\n",
       "  </thead>\n",
       "  <tbody>\n",
       "    <tr>\n",
       "      <th>0</th>\n",
       "      <td>My Universe</td>\n",
       "      <td>Coldplay x BTS</td>\n",
       "      <td>-</td>\n",
       "      <td>1</td>\n",
       "      <td>1</td>\n",
       "    </tr>\n",
       "    <tr>\n",
       "      <th>1</th>\n",
       "      <td>Stay</td>\n",
       "      <td>The Kid LAROI &amp; Justin Bieber</td>\n",
       "      <td>1</td>\n",
       "      <td>1</td>\n",
       "      <td>12</td>\n",
       "    </tr>\n",
       "    <tr>\n",
       "      <th>2</th>\n",
       "      <td>Industry Baby</td>\n",
       "      <td>Lil Nas X &amp; Jack Harlow</td>\n",
       "      <td>2</td>\n",
       "      <td>2</td>\n",
       "      <td>10</td>\n",
       "    </tr>\n",
       "    <tr>\n",
       "      <th>3</th>\n",
       "      <td>Way 2 Sexy</td>\n",
       "      <td>Drake Featuring Future &amp; Young Thug</td>\n",
       "      <td>3</td>\n",
       "      <td>1</td>\n",
       "      <td>4</td>\n",
       "    </tr>\n",
       "    <tr>\n",
       "      <th>4</th>\n",
       "      <td>Fancy Like</td>\n",
       "      <td>Walker Hayes</td>\n",
       "      <td>5</td>\n",
       "      <td>5</td>\n",
       "      <td>15</td>\n",
       "    </tr>\n",
       "    <tr>\n",
       "      <th>...</th>\n",
       "      <td>...</td>\n",
       "      <td>...</td>\n",
       "      <td>...</td>\n",
       "      <td>...</td>\n",
       "      <td>...</td>\n",
       "    </tr>\n",
       "    <tr>\n",
       "      <th>95</th>\n",
       "      <td>Pipe Down</td>\n",
       "      <td>Drake</td>\n",
       "      <td>68</td>\n",
       "      <td>14</td>\n",
       "      <td>4</td>\n",
       "    </tr>\n",
       "    <tr>\n",
       "      <th>96</th>\n",
       "      <td>Papi's Home</td>\n",
       "      <td>Drake</td>\n",
       "      <td>66</td>\n",
       "      <td>8</td>\n",
       "      <td>4</td>\n",
       "    </tr>\n",
       "    <tr>\n",
       "      <th>97</th>\n",
       "      <td>Chosen</td>\n",
       "      <td>Blxst &amp; Tyga Featuring Ty Dolla $ign</td>\n",
       "      <td>-</td>\n",
       "      <td>98</td>\n",
       "      <td>1</td>\n",
       "    </tr>\n",
       "    <tr>\n",
       "      <th>98</th>\n",
       "      <td>Toxic Punk</td>\n",
       "      <td>YoungBoy Never Broke Again</td>\n",
       "      <td>-</td>\n",
       "      <td>99</td>\n",
       "      <td>1</td>\n",
       "    </tr>\n",
       "    <tr>\n",
       "      <th>99</th>\n",
       "      <td>Moon</td>\n",
       "      <td>Kanye West</td>\n",
       "      <td>76</td>\n",
       "      <td>17</td>\n",
       "      <td>5</td>\n",
       "    </tr>\n",
       "  </tbody>\n",
       "</table>\n",
       "<p>100 rows × 5 columns</p>\n",
       "</div>"
      ],
      "text/plain": [
       "        Song_name                           Artist_name Last_week_rank  \\\n",
       "0     My Universe                        Coldplay x BTS              -   \n",
       "1            Stay         The Kid LAROI & Justin Bieber              1   \n",
       "2   Industry Baby               Lil Nas X & Jack Harlow              2   \n",
       "3      Way 2 Sexy   Drake Featuring Future & Young Thug              3   \n",
       "4      Fancy Like                          Walker Hayes              5   \n",
       "..            ...                                   ...            ...   \n",
       "95      Pipe Down                                 Drake             68   \n",
       "96    Papi's Home                                 Drake             66   \n",
       "97         Chosen  Blxst & Tyga Featuring Ty Dolla $ign              -   \n",
       "98     Toxic Punk            YoungBoy Never Broke Again              -   \n",
       "99           Moon                            Kanye West             76   \n",
       "\n",
       "   Peak_rank Weeks_on_board  \n",
       "0          1              1  \n",
       "1          1             12  \n",
       "2          2             10  \n",
       "3          1              4  \n",
       "4          5             15  \n",
       "..       ...            ...  \n",
       "95        14              4  \n",
       "96         8              4  \n",
       "97        98              1  \n",
       "98        99              1  \n",
       "99        17              5  \n",
       "\n",
       "[100 rows x 5 columns]"
      ]
     },
     "execution_count": 337,
     "metadata": {},
     "output_type": "execute_result"
    }
   ],
   "source": [
    "df1=pd.DataFrame({})\n",
    "df1['Song_name']=Song_name\n",
    "df1['Artist_name']=Artist_name\n",
    "df1['Last_week_rank']=Last_week_rank\n",
    "df1['Peak_rank']=Peak_rank\n",
    "df1['Weeks_on_board']=Weeks_on_board\n",
    "df1"
   ]
  },
  {
   "cell_type": "markdown",
   "metadata": {},
   "source": [
    "# 7. Scrape the details of Data science recruiters from naukri.com.\n",
    "Url = https://www.naukri.com/\n",
    "You have to find the following details:\n",
    "A) Name\n",
    "B) Designation\n",
    "C) Company\n",
    "D) Skills they hire for\n",
    "E) Location\n",
    "Note: - From naukri.com homepage click on the recruiters option and the on the search pane type Data science and \n",
    "click on search. All this should be done through code"
   ]
  },
  {
   "cell_type": "code",
   "execution_count": 245,
   "metadata": {},
   "outputs": [],
   "source": [
    "driver=webdriver.Chrome(\"chromedriver.exe\")"
   ]
  },
  {
   "cell_type": "code",
   "execution_count": 247,
   "metadata": {},
   "outputs": [],
   "source": [
    "url='https://www.naukri.com/data-science-recruiters'\n",
    "driver.get(url)"
   ]
  },
  {
   "cell_type": "code",
   "execution_count": 248,
   "metadata": {},
   "outputs": [
    {
     "data": {
      "text/plain": [
       "100"
      ]
     },
     "execution_count": 248,
     "metadata": {},
     "output_type": "execute_result"
    }
   ],
   "source": [
    "Url_links=driver.find_elements_by_xpath('//a[@class=\"ellipsis\"]')\n",
    "\n",
    "\n",
    "Urls=[]\n",
    "\n",
    "for i in Url_links:\n",
    "    Urls.append(i.get_attribute(\"href\"))\n",
    "    \n",
    "len(Urls)"
   ]
  },
  {
   "cell_type": "code",
   "execution_count": 279,
   "metadata": {},
   "outputs": [],
   "source": [
    "Name=[]\n",
    "Designation=[]\n",
    "Skills=[]\n",
    "Company=[]\n",
    "Location=[]\n",
    "for i in Urls:\n",
    "    driver.get(i)\n",
    "    time.sleep(3)    \n",
    "    \n",
    "    #fetching Details from each urls..\n",
    "    try:\n",
    "        name=driver.find_element_by_xpath('//span[@class=\"fl ellipsis\"]')\n",
    "        Name.append(name.text.replace(\"/n\",\"new line\"))\n",
    "    except:\n",
    "        Name.append(\"-\")\n",
    "        \n",
    "    try:\n",
    "        designation=driver.find_element_by_xpath('//span[@class=\"ellipsis clr\"]')\n",
    "        Designation.append(designation.text.replace(\"\\n\",\"new line\"))\n",
    "    except:\n",
    "        Designation.append(\"-\")     \n",
    "     \n",
    "    try:\n",
    "        skills=driver.find_element_by_xpath('//div[@class=\"hireSec highlightable\"]')\n",
    "        Skills.append(skills.text.replace(\"\\n\",\"new line\"))\n",
    "    except:\n",
    "        Skills.append(\"-\") \n",
    "        \n",
    "        \n",
    "        \n",
    "    try:\n",
    "        company=driver.find_element_by_xpath('(//a[@class=\"ellipsis\"])[2]')\n",
    "        Company.append(company.text.replace(\"\\n\",\"new line\"))\n",
    "    except:\n",
    "        Company.append(\"-\")\n",
    "        \n",
    "        \n",
    "        \n",
    "    try:\n",
    "        location=driver.find_element_by_xpath('//small[@class=\"ellipsis\"]')\n",
    "        Location.append(location.text.replace(\"\\n\",\"new line\"))\n",
    "    except:\n",
    "        Location.append(\"-\")  \n",
    "        \n",
    "        \n",
    "        \n",
    "    "
   ]
  },
  {
   "cell_type": "code",
   "execution_count": 288,
   "metadata": {},
   "outputs": [
    {
     "name": "stdout",
     "output_type": "stream",
     "text": [
      "100\n",
      "100\n",
      "100\n",
      "100\n",
      "100\n",
      "100\n"
     ]
    },
    {
     "data": {
      "text/html": [
       "<div>\n",
       "<style scoped>\n",
       "    .dataframe tbody tr th:only-of-type {\n",
       "        vertical-align: middle;\n",
       "    }\n",
       "\n",
       "    .dataframe tbody tr th {\n",
       "        vertical-align: top;\n",
       "    }\n",
       "\n",
       "    .dataframe thead th {\n",
       "        text-align: right;\n",
       "    }\n",
       "</style>\n",
       "<table border=\"1\" class=\"dataframe\">\n",
       "  <thead>\n",
       "    <tr style=\"text-align: right;\">\n",
       "      <th></th>\n",
       "      <th>Name</th>\n",
       "      <th>Designation</th>\n",
       "      <th>Skills</th>\n",
       "      <th>Company</th>\n",
       "      <th>Location</th>\n",
       "      <th>Urls</th>\n",
       "    </tr>\n",
       "  </thead>\n",
       "  <tbody>\n",
       "    <tr>\n",
       "      <th>0</th>\n",
       "      <td>Harish Kumar</td>\n",
       "      <td>Human Resources</td>\n",
       "      <td>-</td>\n",
       "      <td>-</td>\n",
       "      <td>ABC Consultants</td>\n",
       "      <td>https://www.naukri.com/recruiters/aakashharit-...</td>\n",
       "    </tr>\n",
       "    <tr>\n",
       "      <th>1</th>\n",
       "      <td>Aakash Harit</td>\n",
       "      <td>HR Manager</td>\n",
       "      <td>Classic ASP Developer, Internet Marketing Prof...</td>\n",
       "      <td>Data Science Network</td>\n",
       "      <td>Delhi</td>\n",
       "      <td>https://www.naukri.com/data-science-network-re...</td>\n",
       "    </tr>\n",
       "    <tr>\n",
       "      <th>2</th>\n",
       "      <td>-</td>\n",
       "      <td>-</td>\n",
       "      <td>-</td>\n",
       "      <td>-</td>\n",
       "      <td>-</td>\n",
       "      <td>https://www.naukri.com/recruiters/shravankumar...</td>\n",
       "    </tr>\n",
       "    <tr>\n",
       "      <th>3</th>\n",
       "      <td>Geetha</td>\n",
       "      <td>Company HR</td>\n",
       "      <td>Not Specified</td>\n",
       "      <td>Shore Infotech India Pvt. Ltd</td>\n",
       "      <td>Hyderabad / Secunderabad</td>\n",
       "      <td>https://www.naukri.com/shore-infotech-india-pv...</td>\n",
       "    </tr>\n",
       "    <tr>\n",
       "      <th>4</th>\n",
       "      <td>Poonam</td>\n",
       "      <td>HR Executive</td>\n",
       "      <td>-</td>\n",
       "      <td>-</td>\n",
       "      <td>Develop Dreamz Industries pvt ltd. Pune</td>\n",
       "      <td>https://www.naukri.com/recruiters/marsiantech?...</td>\n",
       "    </tr>\n",
       "    <tr>\n",
       "      <th>...</th>\n",
       "      <td>...</td>\n",
       "      <td>...</td>\n",
       "      <td>...</td>\n",
       "      <td>...</td>\n",
       "      <td>...</td>\n",
       "      <td>...</td>\n",
       "    </tr>\n",
       "    <tr>\n",
       "      <th>95</th>\n",
       "      <td>Rajani Nagaraj</td>\n",
       "      <td>HR Manager</td>\n",
       "      <td>Java, Hadoop, R, Machine Learning, Spark, Flum...</td>\n",
       "      <td>WildJasmine</td>\n",
       "      <td>Bengaluru / Bangalore</td>\n",
       "      <td>https://www.naukri.com/wildjasmine-recruiters?...</td>\n",
       "    </tr>\n",
       "    <tr>\n",
       "      <th>96</th>\n",
       "      <td>-</td>\n",
       "      <td>-</td>\n",
       "      <td>-</td>\n",
       "      <td>-</td>\n",
       "      <td>-</td>\n",
       "      <td>https://www.naukri.com/recruiters/rohitkumar-3...</td>\n",
       "    </tr>\n",
       "    <tr>\n",
       "      <th>97</th>\n",
       "      <td>ROHIT Kumar</td>\n",
       "      <td>Architect</td>\n",
       "      <td>Software Development, Core Java, Unit Testing,...</td>\n",
       "      <td>LNT Private Limited</td>\n",
       "      <td>Mumbai</td>\n",
       "      <td>https://www.naukri.com/lnt-private-limited-rec...</td>\n",
       "    </tr>\n",
       "    <tr>\n",
       "      <th>98</th>\n",
       "      <td>Ritu Malik</td>\n",
       "      <td>Talent Acquisition Associate</td>\n",
       "      <td>-</td>\n",
       "      <td>-</td>\n",
       "      <td>Evalueserve.com Private Limited</td>\n",
       "      <td>https://www.naukri.com/recruiters/amirchowdhur...</td>\n",
       "    </tr>\n",
       "    <tr>\n",
       "      <th>99</th>\n",
       "      <td>Ujwal Dutta</td>\n",
       "      <td>HR Recruiter</td>\n",
       "      <td>Not Specified</td>\n",
       "      <td>Granular.ai</td>\n",
       "      <td>Bengaluru / Bangalore</td>\n",
       "      <td>https://www.naukri.com/granular-dot-ai-recruit...</td>\n",
       "    </tr>\n",
       "  </tbody>\n",
       "</table>\n",
       "<p>100 rows × 6 columns</p>\n",
       "</div>"
      ],
      "text/plain": [
       "              Name                   Designation  \\\n",
       "0     Harish Kumar               Human Resources   \n",
       "1     Aakash Harit                    HR Manager   \n",
       "2                -                             -   \n",
       "3           Geetha                    Company HR   \n",
       "4           Poonam                  HR Executive   \n",
       "..             ...                           ...   \n",
       "95  Rajani Nagaraj                    HR Manager   \n",
       "96               -                             -   \n",
       "97     ROHIT Kumar                     Architect   \n",
       "98      Ritu Malik  Talent Acquisition Associate   \n",
       "99     Ujwal Dutta                  HR Recruiter   \n",
       "\n",
       "                                               Skills  \\\n",
       "0                                                   -   \n",
       "1   Classic ASP Developer, Internet Marketing Prof...   \n",
       "2                                                   -   \n",
       "3                                       Not Specified   \n",
       "4                                                   -   \n",
       "..                                                ...   \n",
       "95  Java, Hadoop, R, Machine Learning, Spark, Flum...   \n",
       "96                                                  -   \n",
       "97  Software Development, Core Java, Unit Testing,...   \n",
       "98                                                  -   \n",
       "99                                      Not Specified   \n",
       "\n",
       "                          Company                                 Location  \\\n",
       "0                               -                          ABC Consultants   \n",
       "1            Data Science Network                                    Delhi   \n",
       "2                               -                                        -   \n",
       "3   Shore Infotech India Pvt. Ltd                 Hyderabad / Secunderabad   \n",
       "4                               -  Develop Dreamz Industries pvt ltd. Pune   \n",
       "..                            ...                                      ...   \n",
       "95                    WildJasmine                    Bengaluru / Bangalore   \n",
       "96                              -                                        -   \n",
       "97            LNT Private Limited                                   Mumbai   \n",
       "98                              -          Evalueserve.com Private Limited   \n",
       "99                    Granular.ai                    Bengaluru / Bangalore   \n",
       "\n",
       "                                                 Urls  \n",
       "0   https://www.naukri.com/recruiters/aakashharit-...  \n",
       "1   https://www.naukri.com/data-science-network-re...  \n",
       "2   https://www.naukri.com/recruiters/shravankumar...  \n",
       "3   https://www.naukri.com/shore-infotech-india-pv...  \n",
       "4   https://www.naukri.com/recruiters/marsiantech?...  \n",
       "..                                                ...  \n",
       "95  https://www.naukri.com/wildjasmine-recruiters?...  \n",
       "96  https://www.naukri.com/recruiters/rohitkumar-3...  \n",
       "97  https://www.naukri.com/lnt-private-limited-rec...  \n",
       "98  https://www.naukri.com/recruiters/amirchowdhur...  \n",
       "99  https://www.naukri.com/granular-dot-ai-recruit...  \n",
       "\n",
       "[100 rows x 6 columns]"
      ]
     },
     "execution_count": 288,
     "metadata": {},
     "output_type": "execute_result"
    }
   ],
   "source": [
    "print(len(Name))\n",
    "print(len(Designation))\n",
    "print(len(Skills))\n",
    "print(len(Company))\n",
    "print(len(Location))\n",
    "print(len(Urls))\n",
    "df1=pd.DataFrame({})\n",
    "df1['Name']=Name\n",
    "df1['Designation']=Designation\n",
    "df1['Skills']=Skills\n",
    "df1['Company']=Company\n",
    "df1['Location']=Location\n",
    "df1['Urls']=Urls\n",
    "df1"
   ]
  },
  {
   "cell_type": "markdown",
   "metadata": {},
   "source": [
    "# 8. Scrape the details of Highest selling novels.\n",
    "Url = https://www.theguardian.com/news/datablog/2012/aug/09/best-selling-books-all-time-fifty-shades-grey\u0002compare/\n",
    "You have to find the following details:\n",
    "A) Book name\n",
    "B) Author name\n",
    "C) Volumes sold\n",
    "D) Publisher\n",
    "E) Genre"
   ]
  },
  {
   "cell_type": "code",
   "execution_count": null,
   "metadata": {},
   "outputs": [],
   "source": [
    "#https://www.theguardian.com/news/datablog/2012/aug/09/best-selling-books-all-time-fifty-shades-grey-compare"
   ]
  },
  {
   "cell_type": "code",
   "execution_count": 235,
   "metadata": {},
   "outputs": [
    {
     "name": "stdout",
     "output_type": "stream",
     "text": [
      "200\n"
     ]
    }
   ],
   "source": [
    "# get the response in the form of html\n",
    "the_guardian='https://www.theguardian.com/news/datablog/2012/aug/09/best-selling-books-all-time-fifty-shades-grey-compare'\n",
    "table_class=\"in-article sortable\"\n",
    "response=requests.get(the_guardian)\n",
    "print(response.status_code)"
   ]
  },
  {
   "cell_type": "code",
   "execution_count": 240,
   "metadata": {},
   "outputs": [],
   "source": [
    "# parse data from the html into a beautifulsoup object\n",
    "soup = BeautifulSoup(response.text, 'html.parser')\n",
    "best_novel_table=soup.find('table',{'class':\"in-article sortable\"})"
   ]
  },
  {
   "cell_type": "code",
   "execution_count": 244,
   "metadata": {},
   "outputs": [
    {
     "data": {
      "text/html": [
       "<div>\n",
       "<style scoped>\n",
       "    .dataframe tbody tr th:only-of-type {\n",
       "        vertical-align: middle;\n",
       "    }\n",
       "\n",
       "    .dataframe tbody tr th {\n",
       "        vertical-align: top;\n",
       "    }\n",
       "\n",
       "    .dataframe thead th {\n",
       "        text-align: right;\n",
       "    }\n",
       "</style>\n",
       "<table border=\"1\" class=\"dataframe\">\n",
       "  <thead>\n",
       "    <tr style=\"text-align: right;\">\n",
       "      <th></th>\n",
       "      <th>Rank</th>\n",
       "      <th>Title</th>\n",
       "      <th>Author</th>\n",
       "      <th>Volume Sales</th>\n",
       "      <th>Publisher</th>\n",
       "      <th>Genre</th>\n",
       "    </tr>\n",
       "  </thead>\n",
       "  <tbody>\n",
       "    <tr>\n",
       "      <th>0</th>\n",
       "      <td>1</td>\n",
       "      <td>Da Vinci Code,The</td>\n",
       "      <td>Brown, Dan</td>\n",
       "      <td>5094805</td>\n",
       "      <td>Transworld</td>\n",
       "      <td>Crime, Thriller &amp; Adventure</td>\n",
       "    </tr>\n",
       "    <tr>\n",
       "      <th>1</th>\n",
       "      <td>2</td>\n",
       "      <td>Harry Potter and the Deathly Hallows</td>\n",
       "      <td>Rowling, J.K.</td>\n",
       "      <td>4475152</td>\n",
       "      <td>Bloomsbury</td>\n",
       "      <td>Children's Fiction</td>\n",
       "    </tr>\n",
       "    <tr>\n",
       "      <th>2</th>\n",
       "      <td>3</td>\n",
       "      <td>Harry Potter and the Philosopher's Stone</td>\n",
       "      <td>Rowling, J.K.</td>\n",
       "      <td>4200654</td>\n",
       "      <td>Bloomsbury</td>\n",
       "      <td>Children's Fiction</td>\n",
       "    </tr>\n",
       "    <tr>\n",
       "      <th>3</th>\n",
       "      <td>4</td>\n",
       "      <td>Harry Potter and the Order of the Phoenix</td>\n",
       "      <td>Rowling, J.K.</td>\n",
       "      <td>4179479</td>\n",
       "      <td>Bloomsbury</td>\n",
       "      <td>Children's Fiction</td>\n",
       "    </tr>\n",
       "    <tr>\n",
       "      <th>4</th>\n",
       "      <td>5</td>\n",
       "      <td>Fifty Shades of Grey</td>\n",
       "      <td>James, E. L.</td>\n",
       "      <td>3758936</td>\n",
       "      <td>Random House</td>\n",
       "      <td>Romance &amp; Sagas</td>\n",
       "    </tr>\n",
       "    <tr>\n",
       "      <th>...</th>\n",
       "      <td>...</td>\n",
       "      <td>...</td>\n",
       "      <td>...</td>\n",
       "      <td>...</td>\n",
       "      <td>...</td>\n",
       "      <td>...</td>\n",
       "    </tr>\n",
       "    <tr>\n",
       "      <th>95</th>\n",
       "      <td>96</td>\n",
       "      <td>Ghost,The</td>\n",
       "      <td>Harris, Robert</td>\n",
       "      <td>807311</td>\n",
       "      <td>Random House</td>\n",
       "      <td>General &amp; Literary Fiction</td>\n",
       "    </tr>\n",
       "    <tr>\n",
       "      <th>96</th>\n",
       "      <td>97</td>\n",
       "      <td>Happy Days with the Naked Chef</td>\n",
       "      <td>Oliver, Jamie</td>\n",
       "      <td>794201</td>\n",
       "      <td>Penguin</td>\n",
       "      <td>Food &amp; Drink: General</td>\n",
       "    </tr>\n",
       "    <tr>\n",
       "      <th>97</th>\n",
       "      <td>98</td>\n",
       "      <td>Hunger Games,The:Hunger Games Trilogy</td>\n",
       "      <td>Collins, Suzanne</td>\n",
       "      <td>792187</td>\n",
       "      <td>Scholastic Ltd.</td>\n",
       "      <td>Young Adult Fiction</td>\n",
       "    </tr>\n",
       "    <tr>\n",
       "      <th>98</th>\n",
       "      <td>99</td>\n",
       "      <td>Lost Boy,The:A Foster Child's Search for the L...</td>\n",
       "      <td>Pelzer, Dave</td>\n",
       "      <td>791507</td>\n",
       "      <td>Orion</td>\n",
       "      <td>Biography: General</td>\n",
       "    </tr>\n",
       "    <tr>\n",
       "      <th>99</th>\n",
       "      <td>100</td>\n",
       "      <td>Jamie's Ministry of Food:Anyone Can Learn to C...</td>\n",
       "      <td>Oliver, Jamie</td>\n",
       "      <td>791095</td>\n",
       "      <td>Penguin</td>\n",
       "      <td>Food &amp; Drink: General</td>\n",
       "    </tr>\n",
       "  </tbody>\n",
       "</table>\n",
       "<p>100 rows × 6 columns</p>\n",
       "</div>"
      ],
      "text/plain": [
       "   Rank                                              Title            Author  \\\n",
       "0     1                                  Da Vinci Code,The        Brown, Dan   \n",
       "1     2               Harry Potter and the Deathly Hallows     Rowling, J.K.   \n",
       "2     3           Harry Potter and the Philosopher's Stone     Rowling, J.K.   \n",
       "3     4          Harry Potter and the Order of the Phoenix     Rowling, J.K.   \n",
       "4     5                               Fifty Shades of Grey      James, E. L.   \n",
       "..  ...                                                ...               ...   \n",
       "95   96                                          Ghost,The    Harris, Robert   \n",
       "96   97                     Happy Days with the Naked Chef     Oliver, Jamie   \n",
       "97   98              Hunger Games,The:Hunger Games Trilogy  Collins, Suzanne   \n",
       "98   99  Lost Boy,The:A Foster Child's Search for the L...      Pelzer, Dave   \n",
       "99  100  Jamie's Ministry of Food:Anyone Can Learn to C...     Oliver, Jamie   \n",
       "\n",
       "   Volume Sales        Publisher                        Genre  \n",
       "0       5094805       Transworld  Crime, Thriller & Adventure  \n",
       "1       4475152       Bloomsbury           Children's Fiction  \n",
       "2       4200654       Bloomsbury           Children's Fiction  \n",
       "3       4179479       Bloomsbury           Children's Fiction  \n",
       "4       3758936     Random House              Romance & Sagas  \n",
       "..          ...              ...                          ...  \n",
       "95       807311     Random House   General & Literary Fiction  \n",
       "96       794201          Penguin        Food & Drink: General  \n",
       "97       792187  Scholastic Ltd.          Young Adult Fiction  \n",
       "98       791507            Orion           Biography: General  \n",
       "99       791095          Penguin        Food & Drink: General  \n",
       "\n",
       "[100 rows x 6 columns]"
      ]
     },
     "execution_count": 244,
     "metadata": {},
     "output_type": "execute_result"
    }
   ],
   "source": [
    "df=pd.read_html(str(best_novel_table))\n",
    "# convert list to dataframe\n",
    "df=pd.DataFrame(df[0])\n",
    "df=df[0:100]\n",
    "df"
   ]
  },
  {
   "cell_type": "markdown",
   "metadata": {},
   "source": [
    "# 9. Scrape the details most watched tv series of all time from imdb.com.\n",
    " Url = https://www.imdb.com/list/ls095964455/\n",
    "You have to find the following details:\n",
    "A) Name\n",
    "B) Year span\n",
    "C) Genre\n",
    "D) Run time\n",
    "E) Ratings\n",
    "F) Votes"
   ]
  },
  {
   "cell_type": "code",
   "execution_count": 159,
   "metadata": {},
   "outputs": [],
   "source": [
    "driver=webdriver.Chrome(\"chromedriver.exe\")\n",
    "url='https://www.imdb.com/list/ls095964455/'\n",
    "driver.get(url)"
   ]
  },
  {
   "cell_type": "code",
   "execution_count": 160,
   "metadata": {},
   "outputs": [
    {
     "data": {
      "text/plain": [
       "100"
      ]
     },
     "execution_count": 160,
     "metadata": {},
     "output_type": "execute_result"
    }
   ],
   "source": [
    "name=driver.find_elements_by_xpath('//span[@class=\"lister-item-index unbold text-primary\"]')\n",
    "Name=[]\n",
    "for i in name:\n",
    "    Name.append(i.text)\n",
    "len(Name)"
   ]
  },
  {
   "cell_type": "code",
   "execution_count": 161,
   "metadata": {},
   "outputs": [
    {
     "data": {
      "text/plain": [
       "100"
      ]
     },
     "execution_count": 161,
     "metadata": {},
     "output_type": "execute_result"
    }
   ],
   "source": [
    "year=driver.find_elements_by_xpath('//span[@class=\"lister-item-year text-muted unbold\"]')\n",
    "Year=[]\n",
    "for i in year:\n",
    "    Year.append(i.text)\n",
    "len(Year)"
   ]
  },
  {
   "cell_type": "code",
   "execution_count": 162,
   "metadata": {},
   "outputs": [
    {
     "data": {
      "text/plain": [
       "100"
      ]
     },
     "execution_count": 162,
     "metadata": {},
     "output_type": "execute_result"
    }
   ],
   "source": [
    "genre=driver.find_elements_by_xpath('//span[@class=\"genre\"]')\n",
    "Genre=[]\n",
    "for i in genre:\n",
    "    Genre.append(i.text)\n",
    "len(Genre)"
   ]
  },
  {
   "cell_type": "code",
   "execution_count": 163,
   "metadata": {},
   "outputs": [
    {
     "data": {
      "text/plain": [
       "100"
      ]
     },
     "execution_count": 163,
     "metadata": {},
     "output_type": "execute_result"
    }
   ],
   "source": [
    "time=driver.find_elements_by_xpath('//span[@class=\"runtime\"]')\n",
    "Time=[]\n",
    "for i in time:\n",
    "    Time.append(i.text)\n",
    "len(Time)"
   ]
  },
  {
   "cell_type": "code",
   "execution_count": 166,
   "metadata": {},
   "outputs": [
    {
     "data": {
      "text/plain": [
       "100"
      ]
     },
     "execution_count": 166,
     "metadata": {},
     "output_type": "execute_result"
    }
   ],
   "source": [
    "ratings=driver.find_elements_by_xpath('//div[@class=\"ipl-rating-star small\"]')\n",
    "Ratings=[]\n",
    "for i in  ratings:\n",
    "     Ratings.append(i.text)\n",
    "len( Ratings)"
   ]
  },
  {
   "cell_type": "code",
   "execution_count": 167,
   "metadata": {},
   "outputs": [
    {
     "data": {
      "text/plain": [
       "100"
      ]
     },
     "execution_count": 167,
     "metadata": {},
     "output_type": "execute_result"
    }
   ],
   "source": [
    "vote=driver.find_elements_by_name('nv')\n",
    "Votes=[]\n",
    "for i in  vote:\n",
    "     Votes.append(i.text)\n",
    "len(Votes)"
   ]
  },
  {
   "cell_type": "code",
   "execution_count": 171,
   "metadata": {},
   "outputs": [
    {
     "data": {
      "text/html": [
       "<div>\n",
       "<style scoped>\n",
       "    .dataframe tbody tr th:only-of-type {\n",
       "        vertical-align: middle;\n",
       "    }\n",
       "\n",
       "    .dataframe tbody tr th {\n",
       "        vertical-align: top;\n",
       "    }\n",
       "\n",
       "    .dataframe thead th {\n",
       "        text-align: right;\n",
       "    }\n",
       "</style>\n",
       "<table border=\"1\" class=\"dataframe\">\n",
       "  <thead>\n",
       "    <tr style=\"text-align: right;\">\n",
       "      <th></th>\n",
       "      <th>Name</th>\n",
       "      <th>Year</th>\n",
       "      <th>Genre</th>\n",
       "      <th>Time</th>\n",
       "      <th>Ratings</th>\n",
       "      <th>Votes</th>\n",
       "    </tr>\n",
       "  </thead>\n",
       "  <tbody>\n",
       "    <tr>\n",
       "      <th>0</th>\n",
       "      <td>1.</td>\n",
       "      <td>(2011–2019)</td>\n",
       "      <td>Action, Adventure, Drama</td>\n",
       "      <td>57 min</td>\n",
       "      <td>9.2</td>\n",
       "      <td>1,882,733</td>\n",
       "    </tr>\n",
       "    <tr>\n",
       "      <th>1</th>\n",
       "      <td>2.</td>\n",
       "      <td>(2016– )</td>\n",
       "      <td>Drama, Fantasy, Horror</td>\n",
       "      <td>51 min</td>\n",
       "      <td>8.7</td>\n",
       "      <td>916,101</td>\n",
       "    </tr>\n",
       "    <tr>\n",
       "      <th>2</th>\n",
       "      <td>3.</td>\n",
       "      <td>(2010–2022)</td>\n",
       "      <td>Drama, Horror, Thriller</td>\n",
       "      <td>44 min</td>\n",
       "      <td>8.2</td>\n",
       "      <td>904,457</td>\n",
       "    </tr>\n",
       "    <tr>\n",
       "      <th>3</th>\n",
       "      <td>4.</td>\n",
       "      <td>(2017–2020)</td>\n",
       "      <td>Drama, Mystery, Thriller</td>\n",
       "      <td>60 min</td>\n",
       "      <td>7.5</td>\n",
       "      <td>270,948</td>\n",
       "    </tr>\n",
       "    <tr>\n",
       "      <th>4</th>\n",
       "      <td>5.</td>\n",
       "      <td>(2014–2020)</td>\n",
       "      <td>Drama, Mystery, Sci-Fi</td>\n",
       "      <td>43 min</td>\n",
       "      <td>7.6</td>\n",
       "      <td>231,326</td>\n",
       "    </tr>\n",
       "    <tr>\n",
       "      <th>...</th>\n",
       "      <td>...</td>\n",
       "      <td>...</td>\n",
       "      <td>...</td>\n",
       "      <td>...</td>\n",
       "      <td>...</td>\n",
       "      <td>...</td>\n",
       "    </tr>\n",
       "    <tr>\n",
       "      <th>95</th>\n",
       "      <td>96.</td>\n",
       "      <td>(2013–2017)</td>\n",
       "      <td>Drama, Fantasy</td>\n",
       "      <td>42 min</td>\n",
       "      <td>7.5</td>\n",
       "      <td>45,903</td>\n",
       "    </tr>\n",
       "    <tr>\n",
       "      <th>96</th>\n",
       "      <td>97.</td>\n",
       "      <td>(2017–2019)</td>\n",
       "      <td>Adventure, Comedy, Drama</td>\n",
       "      <td>50 min</td>\n",
       "      <td>7.8</td>\n",
       "      <td>56,777</td>\n",
       "    </tr>\n",
       "    <tr>\n",
       "      <th>97</th>\n",
       "      <td>98.</td>\n",
       "      <td>(2005–2020)</td>\n",
       "      <td>Crime, Drama, Mystery</td>\n",
       "      <td>42 min</td>\n",
       "      <td>8.1</td>\n",
       "      <td>177,368</td>\n",
       "    </tr>\n",
       "    <tr>\n",
       "      <th>98</th>\n",
       "      <td>99.</td>\n",
       "      <td>(2015–2019)</td>\n",
       "      <td>Comedy, Crime, Drama</td>\n",
       "      <td>45 min</td>\n",
       "      <td>7.1</td>\n",
       "      <td>36,894</td>\n",
       "    </tr>\n",
       "    <tr>\n",
       "      <th>99</th>\n",
       "      <td>100.</td>\n",
       "      <td>(2018)</td>\n",
       "      <td>Drama, Horror, Mystery</td>\n",
       "      <td>572 min</td>\n",
       "      <td>8.6</td>\n",
       "      <td>203,801</td>\n",
       "    </tr>\n",
       "  </tbody>\n",
       "</table>\n",
       "<p>100 rows × 6 columns</p>\n",
       "</div>"
      ],
      "text/plain": [
       "    Name         Year                     Genre     Time Ratings      Votes\n",
       "0     1.  (2011–2019)  Action, Adventure, Drama   57 min     9.2  1,882,733\n",
       "1     2.     (2016– )    Drama, Fantasy, Horror   51 min     8.7    916,101\n",
       "2     3.  (2010–2022)   Drama, Horror, Thriller   44 min     8.2    904,457\n",
       "3     4.  (2017–2020)  Drama, Mystery, Thriller   60 min     7.5    270,948\n",
       "4     5.  (2014–2020)    Drama, Mystery, Sci-Fi   43 min     7.6    231,326\n",
       "..   ...          ...                       ...      ...     ...        ...\n",
       "95   96.  (2013–2017)            Drama, Fantasy   42 min     7.5     45,903\n",
       "96   97.  (2017–2019)  Adventure, Comedy, Drama   50 min     7.8     56,777\n",
       "97   98.  (2005–2020)     Crime, Drama, Mystery   42 min     8.1    177,368\n",
       "98   99.  (2015–2019)      Comedy, Crime, Drama   45 min     7.1     36,894\n",
       "99  100.       (2018)    Drama, Horror, Mystery  572 min     8.6    203,801\n",
       "\n",
       "[100 rows x 6 columns]"
      ]
     },
     "execution_count": 171,
     "metadata": {},
     "output_type": "execute_result"
    }
   ],
   "source": [
    "df1=pd.DataFrame({})\n",
    "df1['Name']=Name\n",
    "df1['Year']=Year\n",
    "df1['Genre']=Genre\n",
    "df1['Time']=Time\n",
    "df1['Ratings']=Ratings\n",
    "df1['Votes']=Votes\n",
    "df1"
   ]
  },
  {
   "cell_type": "markdown",
   "metadata": {},
   "source": [
    "# 10. Details of Datasets from UCI machine learning repositories.\n",
    " Url = https://archive.ics.uci.edu/\n",
    " You have to find the following details:\n",
    "A) Dataset name\n",
    "B) Data type\n",
    "C) Task\n",
    "D) Attribute type\n",
    "E) No of instances\n",
    "F) No of attribute\n",
    "G) Year\n",
    "Note: - from the home page you have to go to the Show All Dataset page through code."
   ]
  },
  {
   "cell_type": "code",
   "execution_count": 196,
   "metadata": {},
   "outputs": [],
   "source": [
    "driver=webdriver.Chrome(\"chromedriver.exe\")\n",
    "url='https://archive.ics.uci.edu/ml/index.php'\n",
    "driver.get(url)"
   ]
  },
  {
   "cell_type": "code",
   "execution_count": 197,
   "metadata": {},
   "outputs": [
    {
     "data": {
      "text/plain": [
       "<selenium.webdriver.remote.webelement.WebElement (session=\"ebaa05b490b8eb2a3befb3cfbb8eecba\", element=\"b68bc34c-e562-4a8d-90d3-4c65c3c11dc3\")>"
      ]
     },
     "execution_count": 197,
     "metadata": {},
     "output_type": "execute_result"
    }
   ],
   "source": [
    "path1=driver.find_element_by_xpath('/html/body/table[1]/tbody/tr/td[2]/span[2]/a')\n",
    "path1"
   ]
  },
  {
   "cell_type": "code",
   "execution_count": 198,
   "metadata": {},
   "outputs": [
    {
     "data": {
      "text/plain": [
       "'https://archive.ics.uci.edu/ml/datasets.php'"
      ]
     },
     "execution_count": 198,
     "metadata": {},
     "output_type": "execute_result"
    }
   ],
   "source": [
    "path=path1.get_attribute('href')\n",
    "path"
   ]
  },
  {
   "cell_type": "code",
   "execution_count": 199,
   "metadata": {},
   "outputs": [],
   "source": [
    "driver.get(path)"
   ]
  },
  {
   "cell_type": "code",
   "execution_count": 200,
   "metadata": {},
   "outputs": [
    {
     "data": {
      "text/plain": [
       "4126"
      ]
     },
     "execution_count": 200,
     "metadata": {},
     "output_type": "execute_result"
    }
   ],
   "source": [
    "name=driver.find_elements_by_xpath('//p[@class=\"normal\"]')\n",
    "Name=[]\n",
    "for i in name:\n",
    "    Name.append(i.text)\n",
    "len(Name)"
   ]
  },
  {
   "cell_type": "code",
   "execution_count": 225,
   "metadata": {},
   "outputs": [
    {
     "data": {
      "text/plain": [
       "588"
      ]
     },
     "execution_count": 225,
     "metadata": {},
     "output_type": "execute_result"
    }
   ],
   "source": [
    "#8\n",
    "Dataset_name=[]\n",
    "for i in range(8,len(Name),7):\n",
    "    Dataset_name.append(Name[i].strip())\n",
    "Dataset_name=Dataset_name[0:588]\n",
    "len(Dataset_name)"
   ]
  },
  {
   "cell_type": "code",
   "execution_count": 226,
   "metadata": {},
   "outputs": [
    {
     "data": {
      "text/plain": [
       "588"
      ]
     },
     "execution_count": 226,
     "metadata": {},
     "output_type": "execute_result"
    }
   ],
   "source": [
    "Data_type=[]\n",
    "for i in range(9,len(Name),7):\n",
    "    Data_type.append(Name[i].strip())\n",
    "Data_type=Data_type[0:588]\n",
    "len(Data_type)"
   ]
  },
  {
   "cell_type": "code",
   "execution_count": 227,
   "metadata": {},
   "outputs": [
    {
     "data": {
      "text/plain": [
       "588"
      ]
     },
     "execution_count": 227,
     "metadata": {},
     "output_type": "execute_result"
    }
   ],
   "source": [
    "Type=[]\n",
    "for i in range(10,len(Name),7):\n",
    "    Type.append(Name[i].strip())\n",
    "len(Type)\n"
   ]
  },
  {
   "cell_type": "code",
   "execution_count": 228,
   "metadata": {},
   "outputs": [
    {
     "data": {
      "text/plain": [
       "588"
      ]
     },
     "execution_count": 228,
     "metadata": {},
     "output_type": "execute_result"
    }
   ],
   "source": [
    "Attribute_type=[]\n",
    "for i in range(11,len(Name),7):\n",
    "    Attribute_type.append(Name[i].strip())\n",
    "len(Attribute_type)\n"
   ]
  },
  {
   "cell_type": "code",
   "execution_count": 229,
   "metadata": {},
   "outputs": [
    {
     "data": {
      "text/plain": [
       "588"
      ]
     },
     "execution_count": 229,
     "metadata": {},
     "output_type": "execute_result"
    }
   ],
   "source": [
    "No_of_instances=[]\n",
    "for i in range(12,len(Name),7):\n",
    "    No_of_instances.append(Name[i].strip())\n",
    "len(No_of_instances)\n"
   ]
  },
  {
   "cell_type": "code",
   "execution_count": 230,
   "metadata": {},
   "outputs": [
    {
     "data": {
      "text/plain": [
       "588"
      ]
     },
     "execution_count": 230,
     "metadata": {},
     "output_type": "execute_result"
    }
   ],
   "source": [
    "No_of_attribute=[]\n",
    "for i in range(13,len(Name),7):\n",
    "    No_of_attribute.append(Name[i].strip())\n",
    "len(No_of_attribute)\n"
   ]
  },
  {
   "cell_type": "code",
   "execution_count": 231,
   "metadata": {},
   "outputs": [
    {
     "data": {
      "text/plain": [
       "588"
      ]
     },
     "execution_count": 231,
     "metadata": {},
     "output_type": "execute_result"
    }
   ],
   "source": [
    "Year=[]\n",
    "for i in range(14,len(Name),7):\n",
    "     Year.append(Name[i].strip())\n",
    "len( Year)\n"
   ]
  },
  {
   "cell_type": "code",
   "execution_count": 232,
   "metadata": {},
   "outputs": [
    {
     "data": {
      "text/html": [
       "<div>\n",
       "<style scoped>\n",
       "    .dataframe tbody tr th:only-of-type {\n",
       "        vertical-align: middle;\n",
       "    }\n",
       "\n",
       "    .dataframe tbody tr th {\n",
       "        vertical-align: top;\n",
       "    }\n",
       "\n",
       "    .dataframe thead th {\n",
       "        text-align: right;\n",
       "    }\n",
       "</style>\n",
       "<table border=\"1\" class=\"dataframe\">\n",
       "  <thead>\n",
       "    <tr style=\"text-align: right;\">\n",
       "      <th></th>\n",
       "      <th>Dataset_name</th>\n",
       "      <th>Data_type</th>\n",
       "      <th>Type</th>\n",
       "      <th>Attribute_type</th>\n",
       "      <th>No_of_instances</th>\n",
       "      <th>No_of_attribute</th>\n",
       "      <th>Year</th>\n",
       "    </tr>\n",
       "  </thead>\n",
       "  <tbody>\n",
       "    <tr>\n",
       "      <th>0</th>\n",
       "      <td>Abalone</td>\n",
       "      <td>Multivariate</td>\n",
       "      <td>Classification</td>\n",
       "      <td>Categorical, Integer, Real</td>\n",
       "      <td>4177</td>\n",
       "      <td>8</td>\n",
       "      <td>1995</td>\n",
       "    </tr>\n",
       "    <tr>\n",
       "      <th>1</th>\n",
       "      <td>Adult</td>\n",
       "      <td>Multivariate</td>\n",
       "      <td>Classification</td>\n",
       "      <td>Categorical, Integer</td>\n",
       "      <td>48842</td>\n",
       "      <td>14</td>\n",
       "      <td>1996</td>\n",
       "    </tr>\n",
       "    <tr>\n",
       "      <th>2</th>\n",
       "      <td>Annealing</td>\n",
       "      <td>Multivariate</td>\n",
       "      <td>Classification</td>\n",
       "      <td>Categorical, Integer, Real</td>\n",
       "      <td>798</td>\n",
       "      <td>38</td>\n",
       "      <td></td>\n",
       "    </tr>\n",
       "    <tr>\n",
       "      <th>3</th>\n",
       "      <td>Anonymous Microsoft Web Data</td>\n",
       "      <td></td>\n",
       "      <td>Recommender-Systems</td>\n",
       "      <td>Categorical</td>\n",
       "      <td>37711</td>\n",
       "      <td>294</td>\n",
       "      <td>1998</td>\n",
       "    </tr>\n",
       "    <tr>\n",
       "      <th>4</th>\n",
       "      <td>Arrhythmia</td>\n",
       "      <td>Multivariate</td>\n",
       "      <td>Classification</td>\n",
       "      <td>Categorical, Integer, Real</td>\n",
       "      <td>452</td>\n",
       "      <td>279</td>\n",
       "      <td>1998</td>\n",
       "    </tr>\n",
       "    <tr>\n",
       "      <th>...</th>\n",
       "      <td>...</td>\n",
       "      <td>...</td>\n",
       "      <td>...</td>\n",
       "      <td>...</td>\n",
       "      <td>...</td>\n",
       "      <td>...</td>\n",
       "      <td>...</td>\n",
       "    </tr>\n",
       "    <tr>\n",
       "      <th>583</th>\n",
       "      <td>in-vehicle coupon recommendation</td>\n",
       "      <td>Multivariate</td>\n",
       "      <td>Classification</td>\n",
       "      <td></td>\n",
       "      <td>12684</td>\n",
       "      <td>23</td>\n",
       "      <td>2020</td>\n",
       "    </tr>\n",
       "    <tr>\n",
       "      <th>584</th>\n",
       "      <td>Gait Classification</td>\n",
       "      <td>Multivariate</td>\n",
       "      <td>Classification</td>\n",
       "      <td>Real</td>\n",
       "      <td>48</td>\n",
       "      <td>321</td>\n",
       "      <td>2020</td>\n",
       "    </tr>\n",
       "    <tr>\n",
       "      <th>585</th>\n",
       "      <td>Wikipedia Math Essentials</td>\n",
       "      <td>Time-Series</td>\n",
       "      <td>Regression</td>\n",
       "      <td>Real</td>\n",
       "      <td>731</td>\n",
       "      <td>1068</td>\n",
       "      <td>2021</td>\n",
       "    </tr>\n",
       "    <tr>\n",
       "      <th>586</th>\n",
       "      <td>Wikipedia Math Essentials</td>\n",
       "      <td>Time-Series</td>\n",
       "      <td>Regression</td>\n",
       "      <td>Real</td>\n",
       "      <td>731</td>\n",
       "      <td>1068</td>\n",
       "      <td>2021</td>\n",
       "    </tr>\n",
       "    <tr>\n",
       "      <th>587</th>\n",
       "      <td>Synchronous Machine Data Set</td>\n",
       "      <td>Multivariate</td>\n",
       "      <td>Regression</td>\n",
       "      <td>Real</td>\n",
       "      <td>557</td>\n",
       "      <td>5</td>\n",
       "      <td>2021</td>\n",
       "    </tr>\n",
       "  </tbody>\n",
       "</table>\n",
       "<p>588 rows × 7 columns</p>\n",
       "</div>"
      ],
      "text/plain": [
       "                         Dataset_name     Data_type                 Type  \\\n",
       "0                             Abalone  Multivariate       Classification   \n",
       "1                               Adult  Multivariate       Classification   \n",
       "2                           Annealing  Multivariate       Classification   \n",
       "3        Anonymous Microsoft Web Data                Recommender-Systems   \n",
       "4                          Arrhythmia  Multivariate       Classification   \n",
       "..                                ...           ...                  ...   \n",
       "583  in-vehicle coupon recommendation  Multivariate       Classification   \n",
       "584               Gait Classification  Multivariate       Classification   \n",
       "585         Wikipedia Math Essentials   Time-Series           Regression   \n",
       "586         Wikipedia Math Essentials   Time-Series           Regression   \n",
       "587      Synchronous Machine Data Set  Multivariate           Regression   \n",
       "\n",
       "                 Attribute_type No_of_instances No_of_attribute  Year  \n",
       "0    Categorical, Integer, Real            4177               8  1995  \n",
       "1          Categorical, Integer           48842              14  1996  \n",
       "2    Categorical, Integer, Real             798              38        \n",
       "3                   Categorical           37711             294  1998  \n",
       "4    Categorical, Integer, Real             452             279  1998  \n",
       "..                          ...             ...             ...   ...  \n",
       "583                                       12684              23  2020  \n",
       "584                        Real              48             321  2020  \n",
       "585                        Real             731            1068  2021  \n",
       "586                        Real             731            1068  2021  \n",
       "587                        Real             557               5  2021  \n",
       "\n",
       "[588 rows x 7 columns]"
      ]
     },
     "execution_count": 232,
     "metadata": {},
     "output_type": "execute_result"
    }
   ],
   "source": [
    "df1=pd.DataFrame({})\n",
    "df1['Dataset_name']=Dataset_name\n",
    "df1['Data_type']=Data_type\n",
    "df1['Type']=Type\n",
    "df1['Attribute_type']=Attribute_type\n",
    "df1['No_of_instances']=No_of_instances\n",
    "df1['No_of_attribute']=No_of_attribute\n",
    "df1['Year']=Year\n",
    "\n",
    "df1"
   ]
  },
  {
   "cell_type": "code",
   "execution_count": null,
   "metadata": {},
   "outputs": [],
   "source": []
  }
 ],
 "metadata": {
  "kernelspec": {
   "display_name": "Python 3",
   "language": "python",
   "name": "python3"
  },
  "language_info": {
   "codemirror_mode": {
    "name": "ipython",
    "version": 3
   },
   "file_extension": ".py",
   "mimetype": "text/x-python",
   "name": "python",
   "nbconvert_exporter": "python",
   "pygments_lexer": "ipython3",
   "version": "3.8.5"
  }
 },
 "nbformat": 4,
 "nbformat_minor": 4
}
