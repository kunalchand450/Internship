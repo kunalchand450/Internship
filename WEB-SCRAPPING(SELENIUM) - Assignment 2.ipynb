{
 "cells": [
  {
   "cell_type": "markdown",
   "metadata": {},
   "source": [
    "#### WEB-SCRAPPING(SELENIUM)"
   ]
  },
  {
   "cell_type": "code",
   "execution_count": null,
   "metadata": {},
   "outputs": [],
   "source": [
    "#pip install selenium"
   ]
  },
  {
   "cell_type": "code",
   "execution_count": 120,
   "metadata": {},
   "outputs": [],
   "source": [
    "#lets now import all the required libraries\n",
    "import selenium\n",
    "import pandas as pd\n",
    "from selenium import webdriver\n",
    "import warnings\n",
    "warnings.filterwarnings('ignore')"
   ]
  },
  {
   "cell_type": "code",
   "execution_count": null,
   "metadata": {},
   "outputs": [],
   "source": []
  },
  {
   "cell_type": "code",
   "execution_count": 121,
   "metadata": {},
   "outputs": [],
   "source": [
    "#lets first connect to the web driver\n",
    "#driver=webdriver.Chrome(r\"C:\\Users\\kunal's\\Downloads\\chromedriver_win32 (3)\\chromedriver.exe\")"
   ]
  },
  {
   "cell_type": "code",
   "execution_count": 122,
   "metadata": {},
   "outputs": [],
   "source": [
    "#aur we can call driver from \n",
    "#jupitor home just upload the application in jupitor home and then call from here"
   ]
  },
  {
   "cell_type": "code",
   "execution_count": 123,
   "metadata": {},
   "outputs": [],
   "source": [
    "driver=webdriver.Chrome(\"chromedriver.exe\")"
   ]
  },
  {
   "cell_type": "markdown",
   "metadata": {},
   "source": [
    "Q1: Write a python program to scrape data for “Data Analyst” Job position in\n",
    "“Bangalore” location. You have to scrape the job-title, job-location, company_name,\n",
    "experience_required. You have to scrape first 10 jobs data.\n",
    "This task will be done in following steps:\n",
    "1. first get the webpage https://www.naukri.com/\n",
    "2. Enter “Data Analyst” in “Skill,Designations,Companies” field and enter “Bangalore”\n",
    "in “enter the location” field.\n",
    "3. Then click the search button.\n",
    "4. Then scrape the data for the first 10 jobs results you get.\n",
    "5. Finally create a dataframe of the scraped data.\n",
    "Note- All of the above steps have to be done in code. No step is to be done manually."
   ]
  },
  {
   "cell_type": "code",
   "execution_count": 124,
   "metadata": {},
   "outputs": [],
   "source": [
    "url='https://www.naukri.com/'\n",
    "driver.get(url)"
   ]
  },
  {
   "cell_type": "code",
   "execution_count": 125,
   "metadata": {},
   "outputs": [],
   "source": [
    "#using id function\n",
    "#search_job=driver.find_element_by_id('qsb-keyword-sugg')\n",
    "#search_job"
   ]
  },
  {
   "cell_type": "code",
   "execution_count": null,
   "metadata": {},
   "outputs": [],
   "source": []
  },
  {
   "cell_type": "code",
   "execution_count": 126,
   "metadata": {},
   "outputs": [
    {
     "data": {
      "text/plain": [
       "<selenium.webdriver.remote.webelement.WebElement (session=\"4b553365f35915682f148180b065099a\", element=\"f6672a1b-79a3-414d-b886-adc48ebf94dc\")>"
      ]
     },
     "execution_count": 126,
     "metadata": {},
     "output_type": "execute_result"
    }
   ],
   "source": [
    "#search_job.send_keys(\"Data Analyst\")\n",
    "search_job=driver.find_element_by_xpath('//input[@class=\"sugInp\"]')\n",
    "search_job"
   ]
  },
  {
   "cell_type": "code",
   "execution_count": null,
   "metadata": {},
   "outputs": [],
   "source": []
  },
  {
   "cell_type": "code",
   "execution_count": 127,
   "metadata": {},
   "outputs": [],
   "source": [
    "#write on search bar\n",
    "search_job.send_keys(\"Data Analyst\")"
   ]
  },
  {
   "cell_type": "code",
   "execution_count": 128,
   "metadata": {},
   "outputs": [
    {
     "data": {
      "text/plain": [
       "<selenium.webdriver.remote.webelement.WebElement (session=\"4b553365f35915682f148180b065099a\", element=\"404307d3-8bc5-4948-8cfa-2728542925ba\")>"
      ]
     },
     "execution_count": 128,
     "metadata": {},
     "output_type": "execute_result"
    }
   ],
   "source": [
    "#finding element for job location bar\n",
    "search_loc=driver.find_element_by_xpath('//input[@name=\"location\"]')\n",
    "search_loc"
   ]
  },
  {
   "cell_type": "code",
   "execution_count": 129,
   "metadata": {},
   "outputs": [],
   "source": [
    "search_loc.send_keys(\"Bangalore\")"
   ]
  },
  {
   "cell_type": "code",
   "execution_count": 130,
   "metadata": {},
   "outputs": [],
   "source": [
    "#do click on xpath functiom\n",
    "search_btn=driver.find_element_by_xpath('//button[@class=\"btn\"]')"
   ]
  },
  {
   "cell_type": "code",
   "execution_count": 131,
   "metadata": {},
   "outputs": [],
   "source": [
    "search_btn.click()"
   ]
  },
  {
   "cell_type": "code",
   "execution_count": null,
   "metadata": {},
   "outputs": [],
   "source": []
  },
  {
   "cell_type": "markdown",
   "metadata": {},
   "source": [
    "Now lets create 4 empty list for titles."
   ]
  },
  {
   "cell_type": "code",
   "execution_count": 132,
   "metadata": {},
   "outputs": [],
   "source": [
    "#so lets extract all the tags having the job-titles\n",
    "titles_tags=driver.find_elements_by_xpath('//a[@class=\"title fw500 ellipsis\"]')"
   ]
  },
  {
   "cell_type": "code",
   "execution_count": 133,
   "metadata": {},
   "outputs": [
    {
     "data": {
      "text/plain": [
       "[<selenium.webdriver.remote.webelement.WebElement (session=\"4b553365f35915682f148180b065099a\", element=\"39fce9c2-7021-4db8-8611-796721fa35b2\")>,\n",
       " <selenium.webdriver.remote.webelement.WebElement (session=\"4b553365f35915682f148180b065099a\", element=\"7631bfc0-ea49-4041-8448-127684d695e4\")>,\n",
       " <selenium.webdriver.remote.webelement.WebElement (session=\"4b553365f35915682f148180b065099a\", element=\"2524e5fe-5388-412d-a579-cc6806a33949\")>,\n",
       " <selenium.webdriver.remote.webelement.WebElement (session=\"4b553365f35915682f148180b065099a\", element=\"8ca0dcbb-da49-4e40-868e-fe1bcbcf2b4c\")>,\n",
       " <selenium.webdriver.remote.webelement.WebElement (session=\"4b553365f35915682f148180b065099a\", element=\"44a01f1e-52f6-4fd9-8739-841c68c471dc\")>,\n",
       " <selenium.webdriver.remote.webelement.WebElement (session=\"4b553365f35915682f148180b065099a\", element=\"dcb17d28-145f-42f7-995c-9ef83b8fc4a5\")>,\n",
       " <selenium.webdriver.remote.webelement.WebElement (session=\"4b553365f35915682f148180b065099a\", element=\"38c2d6ae-b44f-4145-a580-0eaffbfd0a8b\")>,\n",
       " <selenium.webdriver.remote.webelement.WebElement (session=\"4b553365f35915682f148180b065099a\", element=\"43fbc407-f112-4b63-b360-fc60163a5f58\")>,\n",
       " <selenium.webdriver.remote.webelement.WebElement (session=\"4b553365f35915682f148180b065099a\", element=\"67c2943f-34a9-4ba7-933f-79ff5e176c0f\")>,\n",
       " <selenium.webdriver.remote.webelement.WebElement (session=\"4b553365f35915682f148180b065099a\", element=\"072d3199-46e9-4050-809c-8d446281d368\")>,\n",
       " <selenium.webdriver.remote.webelement.WebElement (session=\"4b553365f35915682f148180b065099a\", element=\"764ff6f9-09bc-44ea-9687-884b83017873\")>,\n",
       " <selenium.webdriver.remote.webelement.WebElement (session=\"4b553365f35915682f148180b065099a\", element=\"492649aa-5b50-45e6-a1c0-16f4ae6ec7cc\")>,\n",
       " <selenium.webdriver.remote.webelement.WebElement (session=\"4b553365f35915682f148180b065099a\", element=\"8abc6238-9bbb-4f2d-ad28-78b8b778d03e\")>,\n",
       " <selenium.webdriver.remote.webelement.WebElement (session=\"4b553365f35915682f148180b065099a\", element=\"6d3b0329-e1cd-48b2-8d00-d3acfc3d9d11\")>,\n",
       " <selenium.webdriver.remote.webelement.WebElement (session=\"4b553365f35915682f148180b065099a\", element=\"a5f2d534-b1a6-40e0-a3fc-610842e1f1b6\")>,\n",
       " <selenium.webdriver.remote.webelement.WebElement (session=\"4b553365f35915682f148180b065099a\", element=\"ecc61cbe-6dd7-4737-b5b0-4c8cbf703665\")>,\n",
       " <selenium.webdriver.remote.webelement.WebElement (session=\"4b553365f35915682f148180b065099a\", element=\"d7f3d295-3302-487c-b647-94f12e5faba9\")>,\n",
       " <selenium.webdriver.remote.webelement.WebElement (session=\"4b553365f35915682f148180b065099a\", element=\"41a60280-3567-442d-8bb9-d4e022af0348\")>,\n",
       " <selenium.webdriver.remote.webelement.WebElement (session=\"4b553365f35915682f148180b065099a\", element=\"ef500783-83a6-44e0-98fd-8ec4621e3549\")>,\n",
       " <selenium.webdriver.remote.webelement.WebElement (session=\"4b553365f35915682f148180b065099a\", element=\"81ffac0b-9649-44af-aef9-c2497cff02b4\")>]"
      ]
     },
     "execution_count": 133,
     "metadata": {},
     "output_type": "execute_result"
    }
   ],
   "source": [
    "titles_tags"
   ]
  },
  {
   "cell_type": "code",
   "execution_count": 134,
   "metadata": {},
   "outputs": [
    {
     "data": {
      "text/plain": [
       "['Business Data Analyst',\n",
       " 'Business Data Analyst',\n",
       " 'Senior Data Analyst IDAM Services',\n",
       " 'Data Analyst/Sr.Data Engineer',\n",
       " 'Business Data Analyst - Google Data Studio & SQL',\n",
       " 'Senior Data Analyst IN4',\n",
       " 'Data Analyst - Python/SQL',\n",
       " 'Executive Data Analyst',\n",
       " 'Senior Data Analyst',\n",
       " 'Systems and Data Analyst, Safety and Provisioning',\n",
       " 'Data Analyst with SQL',\n",
       " 'Data Analyst',\n",
       " 'Business Data Analyst - MIS & Reporting',\n",
       " 'Data Analyst',\n",
       " 'Data Analyst - EdTech',\n",
       " 'Lead , Data Analyst',\n",
       " 'Associate System and Data Analyst',\n",
       " 'Data Analyst III (Item & Inventory)',\n",
       " 'Data Analyst III',\n",
       " 'Data Analyst with SAS & Python']"
      ]
     },
     "execution_count": 134,
     "metadata": {},
     "output_type": "execute_result"
    }
   ],
   "source": [
    "#now the text form the job title inside the text extracted above\n",
    "#so we run the loop to iterate over the tags extracted above and extract the text inside them.\n",
    "\n",
    "job_title=[]\n",
    "for i in titles_tags:\n",
    "    job_title.append(i.text)\n",
    "job_title"
   ]
  },
  {
   "cell_type": "markdown",
   "metadata": {},
   "source": [
    "# we do same for the company name,salary,and expericed required\n",
    "Now we will extract al the html tags where we have the company names."
   ]
  },
  {
   "cell_type": "code",
   "execution_count": 135,
   "metadata": {},
   "outputs": [],
   "source": [
    "companies_tags=driver.find_elements_by_xpath('//a[@class=\"subTitle ellipsis fleft\"]')"
   ]
  },
  {
   "cell_type": "code",
   "execution_count": 136,
   "metadata": {},
   "outputs": [
    {
     "data": {
      "text/plain": [
       "[<selenium.webdriver.remote.webelement.WebElement (session=\"4b553365f35915682f148180b065099a\", element=\"72450fb9-1fa0-40b7-adda-dfcafd177dbd\")>,\n",
       " <selenium.webdriver.remote.webelement.WebElement (session=\"4b553365f35915682f148180b065099a\", element=\"38509a7b-0ea5-44f6-8b3a-bc8e9e864e89\")>,\n",
       " <selenium.webdriver.remote.webelement.WebElement (session=\"4b553365f35915682f148180b065099a\", element=\"3d2036df-c5cf-422e-8698-84442b9f3e42\")>,\n",
       " <selenium.webdriver.remote.webelement.WebElement (session=\"4b553365f35915682f148180b065099a\", element=\"e52bd421-a276-4f2e-ab82-ff3b7f8848c4\")>,\n",
       " <selenium.webdriver.remote.webelement.WebElement (session=\"4b553365f35915682f148180b065099a\", element=\"3c98b6a8-8698-45dd-881e-86f6f6ec7edd\")>,\n",
       " <selenium.webdriver.remote.webelement.WebElement (session=\"4b553365f35915682f148180b065099a\", element=\"5589b274-c3a2-4474-96b7-c0071b1b3c6f\")>,\n",
       " <selenium.webdriver.remote.webelement.WebElement (session=\"4b553365f35915682f148180b065099a\", element=\"f5b88b93-4f54-4f05-9ef2-b06f0310b014\")>,\n",
       " <selenium.webdriver.remote.webelement.WebElement (session=\"4b553365f35915682f148180b065099a\", element=\"2a18a24b-df20-4c9f-8e73-f684ab97e2ed\")>,\n",
       " <selenium.webdriver.remote.webelement.WebElement (session=\"4b553365f35915682f148180b065099a\", element=\"fbe55925-57bd-48eb-94b1-2c4a7822da4f\")>,\n",
       " <selenium.webdriver.remote.webelement.WebElement (session=\"4b553365f35915682f148180b065099a\", element=\"7eb403a9-d041-424c-9e4d-bb5ec9231271\")>,\n",
       " <selenium.webdriver.remote.webelement.WebElement (session=\"4b553365f35915682f148180b065099a\", element=\"5c5a62bb-c38e-415e-b1f5-b21b8462cc9e\")>,\n",
       " <selenium.webdriver.remote.webelement.WebElement (session=\"4b553365f35915682f148180b065099a\", element=\"e3c0bb0a-93b1-496b-9daf-65d3f59557fa\")>,\n",
       " <selenium.webdriver.remote.webelement.WebElement (session=\"4b553365f35915682f148180b065099a\", element=\"6d715ab0-79a8-4357-b8b9-c86a80cb8719\")>,\n",
       " <selenium.webdriver.remote.webelement.WebElement (session=\"4b553365f35915682f148180b065099a\", element=\"42b50516-8417-45e6-a794-011de2a75609\")>,\n",
       " <selenium.webdriver.remote.webelement.WebElement (session=\"4b553365f35915682f148180b065099a\", element=\"b5eb80bb-2d53-4a99-94e5-12a7b3e2e16b\")>,\n",
       " <selenium.webdriver.remote.webelement.WebElement (session=\"4b553365f35915682f148180b065099a\", element=\"1a2f1490-d9a0-4741-828e-bf31fc110b10\")>,\n",
       " <selenium.webdriver.remote.webelement.WebElement (session=\"4b553365f35915682f148180b065099a\", element=\"2be4caaa-2d5c-49c0-9e36-b7d47744625d\")>,\n",
       " <selenium.webdriver.remote.webelement.WebElement (session=\"4b553365f35915682f148180b065099a\", element=\"06076390-e19e-4f5f-836f-f7ce6fbf53f7\")>,\n",
       " <selenium.webdriver.remote.webelement.WebElement (session=\"4b553365f35915682f148180b065099a\", element=\"909c0bd1-2a9e-42d5-9954-5b48f14eefcf\")>,\n",
       " <selenium.webdriver.remote.webelement.WebElement (session=\"4b553365f35915682f148180b065099a\", element=\"45cf407d-2a4f-4c2a-87ac-d00ca54ba9a8\")>]"
      ]
     },
     "execution_count": 136,
     "metadata": {},
     "output_type": "execute_result"
    }
   ],
   "source": [
    "companies_tags"
   ]
  },
  {
   "cell_type": "code",
   "execution_count": 137,
   "metadata": {},
   "outputs": [
    {
     "data": {
      "text/plain": [
       "['Trigent Software',\n",
       " 'Trigent Software',\n",
       " 'GlaxoSmithKline Pharmaceuticals Limited',\n",
       " 'SYREN TECHNOLOGIES PRIVATE LIMITED',\n",
       " 'AVE-Promagne',\n",
       " 'Walmart Labs',\n",
       " 'Affine',\n",
       " 'Gokaldas Exports Ltd',\n",
       " 'Virtusa Consulting Services Pvt Ltd',\n",
       " 'AECOM India Private Limited',\n",
       " 'Wipro Limited',\n",
       " 'IBM India Pvt. Limited',\n",
       " 'INTERTRUST GROUP',\n",
       " 'Edge Executive Search Pvt. Ltd.',\n",
       " 'TalentStack',\n",
       " 'Near Pte. Ltd.',\n",
       " 'Boeing',\n",
       " 'Walmart Labs',\n",
       " 'Walmart Labs',\n",
       " 'Podium Systems']"
      ]
     },
     "execution_count": 137,
     "metadata": {},
     "output_type": "execute_result"
    }
   ],
   "source": [
    "#so we run the loop to iterate over the tags extracted above and extract the text inside them.\n",
    "\n",
    "Companies_tags=[]\n",
    "for i in companies_tags:\n",
    "    Companies_tags.append(i.text)\n",
    "Companies_tags"
   ]
  },
  {
   "cell_type": "code",
   "execution_count": 138,
   "metadata": {},
   "outputs": [
    {
     "data": {
      "text/plain": [
       "[<selenium.webdriver.remote.webelement.WebElement (session=\"4b553365f35915682f148180b065099a\", element=\"961f1b79-7834-4366-bf14-655a4f79f987\")>,\n",
       " <selenium.webdriver.remote.webelement.WebElement (session=\"4b553365f35915682f148180b065099a\", element=\"712a3d37-b0ae-455b-9fa5-1987b4a5f284\")>,\n",
       " <selenium.webdriver.remote.webelement.WebElement (session=\"4b553365f35915682f148180b065099a\", element=\"bb04e029-e586-4ae5-8784-2fd8ebb87410\")>,\n",
       " <selenium.webdriver.remote.webelement.WebElement (session=\"4b553365f35915682f148180b065099a\", element=\"910a7626-7bbb-4e45-a9c5-6ba65ece0db9\")>,\n",
       " <selenium.webdriver.remote.webelement.WebElement (session=\"4b553365f35915682f148180b065099a\", element=\"a0e2bfab-c589-421a-b552-4e98c2787e46\")>,\n",
       " <selenium.webdriver.remote.webelement.WebElement (session=\"4b553365f35915682f148180b065099a\", element=\"ba393fbe-a247-4180-bed2-ef3a2e5744a6\")>,\n",
       " <selenium.webdriver.remote.webelement.WebElement (session=\"4b553365f35915682f148180b065099a\", element=\"d42707fa-5c93-411a-80c3-c1d92e660087\")>,\n",
       " <selenium.webdriver.remote.webelement.WebElement (session=\"4b553365f35915682f148180b065099a\", element=\"bd5518d8-4dfe-440f-a0e2-a89fceaf4e00\")>,\n",
       " <selenium.webdriver.remote.webelement.WebElement (session=\"4b553365f35915682f148180b065099a\", element=\"8de7b6ee-e8f6-426e-8445-b39f181c585c\")>,\n",
       " <selenium.webdriver.remote.webelement.WebElement (session=\"4b553365f35915682f148180b065099a\", element=\"fb648853-5991-4261-84ed-8b4fb743928d\")>,\n",
       " <selenium.webdriver.remote.webelement.WebElement (session=\"4b553365f35915682f148180b065099a\", element=\"f703e40a-f0ba-4448-914e-67448c3cd137\")>,\n",
       " <selenium.webdriver.remote.webelement.WebElement (session=\"4b553365f35915682f148180b065099a\", element=\"fc9f2e22-14b2-4c87-9063-05b9687f3f4e\")>,\n",
       " <selenium.webdriver.remote.webelement.WebElement (session=\"4b553365f35915682f148180b065099a\", element=\"6f36785f-03dc-471a-aec4-2ae406eaf8fe\")>,\n",
       " <selenium.webdriver.remote.webelement.WebElement (session=\"4b553365f35915682f148180b065099a\", element=\"de7deb21-9cef-40db-9a22-beaa1160ee39\")>,\n",
       " <selenium.webdriver.remote.webelement.WebElement (session=\"4b553365f35915682f148180b065099a\", element=\"84c2fecc-d273-4e24-a709-c2bcc55331ae\")>,\n",
       " <selenium.webdriver.remote.webelement.WebElement (session=\"4b553365f35915682f148180b065099a\", element=\"88056363-c93d-4082-b8b8-8c8b5697b285\")>,\n",
       " <selenium.webdriver.remote.webelement.WebElement (session=\"4b553365f35915682f148180b065099a\", element=\"14c8baea-7f76-4ba4-bf8d-acac35b03730\")>,\n",
       " <selenium.webdriver.remote.webelement.WebElement (session=\"4b553365f35915682f148180b065099a\", element=\"b02f3482-74ba-445a-a1a4-5c70361112b6\")>,\n",
       " <selenium.webdriver.remote.webelement.WebElement (session=\"4b553365f35915682f148180b065099a\", element=\"bc48846d-af0d-453f-9196-979d211f706b\")>,\n",
       " <selenium.webdriver.remote.webelement.WebElement (session=\"4b553365f35915682f148180b065099a\", element=\"d52c7634-6eb0-4ec4-b8f8-5d431990c6e3\")>]"
      ]
     },
     "execution_count": 138,
     "metadata": {},
     "output_type": "execute_result"
    }
   ],
   "source": [
    "loc_tags=driver.find_elements_by_xpath('//li[@class=\"fleft grey-text br2 placeHolderLi location\"]')\n",
    "loc_tags"
   ]
  },
  {
   "cell_type": "code",
   "execution_count": 139,
   "metadata": {},
   "outputs": [
    {
     "data": {
      "text/plain": [
       "['Bangalore/Bengaluru',\n",
       " 'Bangalore/Bengaluru',\n",
       " 'Bangalore/Bengaluru',\n",
       " 'Hyderabad/Secunderabad, Chennai, Bangalore/Bengaluru\\n(WFH during Covid)',\n",
       " 'Bangalore/Bengaluru',\n",
       " 'Bangalore/Bengaluru',\n",
       " 'Bangalore/Bengaluru',\n",
       " 'Bangalore/Bengaluru',\n",
       " 'Hyderabad/Secunderabad, Pune, Gurgaon/Gurugram, Chennai, Bangalore/Bengaluru, Mumbai (All Areas)\\n(WFH during Covid)',\n",
       " 'Bangalore/Bengaluru',\n",
       " 'Noida, Gurgaon/Gurugram, Bangalore/Bengaluru',\n",
       " 'Bengaluru/Bangalore',\n",
       " 'Mumbai, Bangalore/Bengaluru',\n",
       " 'Pune, Bangalore/Bengaluru, Mumbai (All Areas)',\n",
       " 'Bangalore/Bengaluru',\n",
       " 'Bangalore/Bengaluru',\n",
       " 'Bangalore/Bengaluru',\n",
       " 'Bangalore/Bengaluru',\n",
       " 'Bangalore/Bengaluru',\n",
       " 'Gurgaon/Gurugram, Chennai, Bangalore']"
      ]
     },
     "execution_count": 139,
     "metadata": {},
     "output_type": "execute_result"
    }
   ],
   "source": [
    "#so we run the loop to iterate over the tags extracted above and extract the text inside them.\n",
    "\n",
    "Loc_tags=[]\n",
    "for i in loc_tags:\n",
    "    Loc_tags.append(i.text)\n",
    "Loc_tags"
   ]
  },
  {
   "cell_type": "markdown",
   "metadata": {},
   "source": [
    "Now we will extract al the html tags where we have the Experience."
   ]
  },
  {
   "cell_type": "code",
   "execution_count": 140,
   "metadata": {},
   "outputs": [
    {
     "data": {
      "text/plain": [
       "[<selenium.webdriver.remote.webelement.WebElement (session=\"4b553365f35915682f148180b065099a\", element=\"1b334b99-a872-4324-ae26-64662c73a2df\")>,\n",
       " <selenium.webdriver.remote.webelement.WebElement (session=\"4b553365f35915682f148180b065099a\", element=\"d82764ea-adcb-4928-bb3a-ee919038d2e3\")>,\n",
       " <selenium.webdriver.remote.webelement.WebElement (session=\"4b553365f35915682f148180b065099a\", element=\"5bc1dccf-57e6-4288-8218-eeef9405a2f5\")>,\n",
       " <selenium.webdriver.remote.webelement.WebElement (session=\"4b553365f35915682f148180b065099a\", element=\"211faec6-af33-4c47-8c9b-a4d80d8f0b43\")>,\n",
       " <selenium.webdriver.remote.webelement.WebElement (session=\"4b553365f35915682f148180b065099a\", element=\"52918f27-5d4f-4ad9-8d2c-6bd23542e586\")>,\n",
       " <selenium.webdriver.remote.webelement.WebElement (session=\"4b553365f35915682f148180b065099a\", element=\"70c2283a-3f06-4cba-8fc5-d74023f4bf6a\")>,\n",
       " <selenium.webdriver.remote.webelement.WebElement (session=\"4b553365f35915682f148180b065099a\", element=\"2c2b0ef5-77cc-4f27-91ae-4a1a52afb710\")>,\n",
       " <selenium.webdriver.remote.webelement.WebElement (session=\"4b553365f35915682f148180b065099a\", element=\"0428a85d-e11a-4b86-a653-30afb963aa4e\")>,\n",
       " <selenium.webdriver.remote.webelement.WebElement (session=\"4b553365f35915682f148180b065099a\", element=\"2cfef1a5-d8f1-4990-8ed1-1cc8891fdee4\")>,\n",
       " <selenium.webdriver.remote.webelement.WebElement (session=\"4b553365f35915682f148180b065099a\", element=\"97dbaed4-1bc5-46ac-a14c-6ddaac3de8cf\")>,\n",
       " <selenium.webdriver.remote.webelement.WebElement (session=\"4b553365f35915682f148180b065099a\", element=\"cffde76a-3d71-4e8e-976d-604e2fc2a619\")>,\n",
       " <selenium.webdriver.remote.webelement.WebElement (session=\"4b553365f35915682f148180b065099a\", element=\"c111eb7f-07f2-494b-bed4-fbf0fc9b2f71\")>,\n",
       " <selenium.webdriver.remote.webelement.WebElement (session=\"4b553365f35915682f148180b065099a\", element=\"262fa751-d144-4aa5-88cb-74dd0340d3f9\")>,\n",
       " <selenium.webdriver.remote.webelement.WebElement (session=\"4b553365f35915682f148180b065099a\", element=\"0838639c-9358-4187-b9eb-fa2a9e152c9c\")>,\n",
       " <selenium.webdriver.remote.webelement.WebElement (session=\"4b553365f35915682f148180b065099a\", element=\"4bbac8ba-7040-4a05-b96a-c611e96f020f\")>,\n",
       " <selenium.webdriver.remote.webelement.WebElement (session=\"4b553365f35915682f148180b065099a\", element=\"bf49edd2-70e5-4cb0-a914-7cebea307c99\")>,\n",
       " <selenium.webdriver.remote.webelement.WebElement (session=\"4b553365f35915682f148180b065099a\", element=\"63c09dcd-1acb-4a08-9027-e62c0185b9d7\")>,\n",
       " <selenium.webdriver.remote.webelement.WebElement (session=\"4b553365f35915682f148180b065099a\", element=\"2fc4c8d3-cf2f-4ca8-85d9-99779ebf17f3\")>,\n",
       " <selenium.webdriver.remote.webelement.WebElement (session=\"4b553365f35915682f148180b065099a\", element=\"511db828-4c21-4497-9c50-402be168a603\")>,\n",
       " <selenium.webdriver.remote.webelement.WebElement (session=\"4b553365f35915682f148180b065099a\", element=\"7e9640d2-9330-423d-ace5-c249befbc1ca\")>]"
      ]
     },
     "execution_count": 140,
     "metadata": {},
     "output_type": "execute_result"
    }
   ],
   "source": [
    "experience_tags=driver.find_elements_by_xpath('//li[@class=\"fleft grey-text br2 placeHolderLi experience\"]//span')\n",
    "experience_tags"
   ]
  },
  {
   "cell_type": "code",
   "execution_count": 141,
   "metadata": {},
   "outputs": [
    {
     "data": {
      "text/plain": [
       "['5-10 Yrs',\n",
       " '5-10 Yrs',\n",
       " '4-8 Yrs',\n",
       " '4-9 Yrs',\n",
       " '3-8 Yrs',\n",
       " '8-10 Yrs',\n",
       " '3-5 Yrs',\n",
       " '0-3 Yrs',\n",
       " '8-12 Yrs',\n",
       " '2-7 Yrs',\n",
       " '3-5 Yrs',\n",
       " '1-4 Yrs',\n",
       " '3-8 Yrs',\n",
       " '0-2 Yrs',\n",
       " '2-6 Yrs',\n",
       " '6-11 Yrs',\n",
       " '4-8 Yrs',\n",
       " '4-6 Yrs',\n",
       " '3-7 Yrs',\n",
       " '4-7 Yrs']"
      ]
     },
     "execution_count": 141,
     "metadata": {},
     "output_type": "execute_result"
    }
   ],
   "source": [
    "Experience_tags=[]\n",
    "for i in experience_tags:\n",
    "    Experience_tags.append(i.text)\n",
    "Experience_tags"
   ]
  },
  {
   "cell_type": "markdown",
   "metadata": {},
   "source": [
    "Now we will extract al the html tags where we have the Salary."
   ]
  },
  {
   "cell_type": "code",
   "execution_count": 142,
   "metadata": {},
   "outputs": [
    {
     "data": {
      "text/plain": [
       "[<selenium.webdriver.remote.webelement.WebElement (session=\"4b553365f35915682f148180b065099a\", element=\"7d51962d-bfe6-4bae-9b4b-f0e47d671491\")>,\n",
       " <selenium.webdriver.remote.webelement.WebElement (session=\"4b553365f35915682f148180b065099a\", element=\"90636263-f0b2-4928-b5f8-7b7831f09007\")>,\n",
       " <selenium.webdriver.remote.webelement.WebElement (session=\"4b553365f35915682f148180b065099a\", element=\"2df27a85-be96-4c8a-bc42-0a2fd7d227d5\")>,\n",
       " <selenium.webdriver.remote.webelement.WebElement (session=\"4b553365f35915682f148180b065099a\", element=\"66a75686-5a17-41e8-8ff7-29f37b42cf44\")>,\n",
       " <selenium.webdriver.remote.webelement.WebElement (session=\"4b553365f35915682f148180b065099a\", element=\"290148b2-5959-4cf0-8362-168c9c117538\")>,\n",
       " <selenium.webdriver.remote.webelement.WebElement (session=\"4b553365f35915682f148180b065099a\", element=\"f43ed73c-adb2-4058-b39a-92c7e17e49cf\")>,\n",
       " <selenium.webdriver.remote.webelement.WebElement (session=\"4b553365f35915682f148180b065099a\", element=\"97389e20-0253-4e5d-9d31-1365560b1eab\")>,\n",
       " <selenium.webdriver.remote.webelement.WebElement (session=\"4b553365f35915682f148180b065099a\", element=\"2d754612-625f-43df-b878-6112067b28e5\")>,\n",
       " <selenium.webdriver.remote.webelement.WebElement (session=\"4b553365f35915682f148180b065099a\", element=\"95e07ba2-451e-4a8b-b2db-543b780f11c7\")>,\n",
       " <selenium.webdriver.remote.webelement.WebElement (session=\"4b553365f35915682f148180b065099a\", element=\"1690acd3-ceea-45c7-b395-b1f9cfeaca8d\")>,\n",
       " <selenium.webdriver.remote.webelement.WebElement (session=\"4b553365f35915682f148180b065099a\", element=\"e55b2acc-0c2a-4d51-86e3-07acb39f8004\")>,\n",
       " <selenium.webdriver.remote.webelement.WebElement (session=\"4b553365f35915682f148180b065099a\", element=\"72a1515e-5d3e-4f20-b558-e3e50c02351a\")>,\n",
       " <selenium.webdriver.remote.webelement.WebElement (session=\"4b553365f35915682f148180b065099a\", element=\"4b2367a5-ee31-445b-9e47-8fce34f37154\")>,\n",
       " <selenium.webdriver.remote.webelement.WebElement (session=\"4b553365f35915682f148180b065099a\", element=\"7a1d46fa-b9f2-438b-a544-f58e4a2d569b\")>,\n",
       " <selenium.webdriver.remote.webelement.WebElement (session=\"4b553365f35915682f148180b065099a\", element=\"ea055765-ef7f-421a-9084-82921940b1d9\")>,\n",
       " <selenium.webdriver.remote.webelement.WebElement (session=\"4b553365f35915682f148180b065099a\", element=\"3b892498-0e79-4ee6-beae-bb876133ac85\")>,\n",
       " <selenium.webdriver.remote.webelement.WebElement (session=\"4b553365f35915682f148180b065099a\", element=\"39506782-d294-4f20-a056-ee26aa2b674d\")>,\n",
       " <selenium.webdriver.remote.webelement.WebElement (session=\"4b553365f35915682f148180b065099a\", element=\"fe1f6208-3367-4f4e-a639-c6373fc06df7\")>,\n",
       " <selenium.webdriver.remote.webelement.WebElement (session=\"4b553365f35915682f148180b065099a\", element=\"6bb903d1-08cb-4b84-ae89-fe5b39579957\")>,\n",
       " <selenium.webdriver.remote.webelement.WebElement (session=\"4b553365f35915682f148180b065099a\", element=\"8ecc44af-3630-48fb-8e13-34cfd18f8b73\")>]"
      ]
     },
     "execution_count": 142,
     "metadata": {},
     "output_type": "execute_result"
    }
   ],
   "source": [
    "salary_tags=driver.find_elements_by_xpath('//li[@class=\"fleft grey-text br2 placeHolderLi salary\"]')\n",
    "salary_tags"
   ]
  },
  {
   "cell_type": "code",
   "execution_count": 143,
   "metadata": {},
   "outputs": [
    {
     "data": {
      "text/plain": [
       "['Not disclosed',\n",
       " 'Not disclosed',\n",
       " 'Not disclosed',\n",
       " '10,00,000 - 20,00,000 PA.',\n",
       " 'Not disclosed',\n",
       " 'Not disclosed',\n",
       " 'Not disclosed',\n",
       " 'Not disclosed',\n",
       " 'Not disclosed',\n",
       " 'Not disclosed',\n",
       " 'Not disclosed',\n",
       " 'Not disclosed',\n",
       " 'Not disclosed',\n",
       " 'Not disclosed',\n",
       " 'Not disclosed',\n",
       " 'Not disclosed',\n",
       " 'Not disclosed',\n",
       " 'Not disclosed',\n",
       " 'Not disclosed',\n",
       " 'Not disclosed']"
      ]
     },
     "execution_count": 143,
     "metadata": {},
     "output_type": "execute_result"
    }
   ],
   "source": [
    "Salary_tags=[]\n",
    "for i in salary_tags:\n",
    "    Salary_tags.append(i.text)\n",
    "Salary_tags"
   ]
  },
  {
   "cell_type": "code",
   "execution_count": 144,
   "metadata": {},
   "outputs": [
    {
     "name": "stdout",
     "output_type": "stream",
     "text": [
      "20 20 20 20 20\n"
     ]
    }
   ],
   "source": [
    "print(len(job_title),len(Companies_tags),len(Loc_tags),len(Salary_tags),len(Experience_tags))"
   ]
  },
  {
   "cell_type": "markdown",
   "metadata": {},
   "source": [
    "lets make the dataframe from the above data"
   ]
  },
  {
   "cell_type": "code",
   "execution_count": 145,
   "metadata": {},
   "outputs": [],
   "source": [
    "import pandas as pd"
   ]
  },
  {
   "cell_type": "code",
   "execution_count": 146,
   "metadata": {},
   "outputs": [
    {
     "data": {
      "text/html": [
       "<div>\n",
       "<style scoped>\n",
       "    .dataframe tbody tr th:only-of-type {\n",
       "        vertical-align: middle;\n",
       "    }\n",
       "\n",
       "    .dataframe tbody tr th {\n",
       "        vertical-align: top;\n",
       "    }\n",
       "\n",
       "    .dataframe thead th {\n",
       "        text-align: right;\n",
       "    }\n",
       "</style>\n",
       "<table border=\"1\" class=\"dataframe\">\n",
       "  <thead>\n",
       "    <tr style=\"text-align: right;\">\n",
       "      <th></th>\n",
       "      <th>Job_title</th>\n",
       "      <th>Loc_tags</th>\n",
       "      <th>Companies_tags</th>\n",
       "      <th>Experience_tags</th>\n",
       "      <th>Salary_tags</th>\n",
       "    </tr>\n",
       "  </thead>\n",
       "  <tbody>\n",
       "    <tr>\n",
       "      <th>0</th>\n",
       "      <td>Business Data Analyst</td>\n",
       "      <td>Bangalore/Bengaluru</td>\n",
       "      <td>Trigent Software</td>\n",
       "      <td>5-10 Yrs</td>\n",
       "      <td>Not disclosed</td>\n",
       "    </tr>\n",
       "    <tr>\n",
       "      <th>1</th>\n",
       "      <td>Business Data Analyst</td>\n",
       "      <td>Bangalore/Bengaluru</td>\n",
       "      <td>Trigent Software</td>\n",
       "      <td>5-10 Yrs</td>\n",
       "      <td>Not disclosed</td>\n",
       "    </tr>\n",
       "    <tr>\n",
       "      <th>2</th>\n",
       "      <td>Senior Data Analyst IDAM Services</td>\n",
       "      <td>Bangalore/Bengaluru</td>\n",
       "      <td>GlaxoSmithKline Pharmaceuticals Limited</td>\n",
       "      <td>4-8 Yrs</td>\n",
       "      <td>Not disclosed</td>\n",
       "    </tr>\n",
       "    <tr>\n",
       "      <th>3</th>\n",
       "      <td>Data Analyst/Sr.Data Engineer</td>\n",
       "      <td>Hyderabad/Secunderabad, Chennai, Bangalore/Ben...</td>\n",
       "      <td>SYREN TECHNOLOGIES PRIVATE LIMITED</td>\n",
       "      <td>4-9 Yrs</td>\n",
       "      <td>10,00,000 - 20,00,000 PA.</td>\n",
       "    </tr>\n",
       "    <tr>\n",
       "      <th>4</th>\n",
       "      <td>Business Data Analyst - Google Data Studio &amp; SQL</td>\n",
       "      <td>Bangalore/Bengaluru</td>\n",
       "      <td>AVE-Promagne</td>\n",
       "      <td>3-8 Yrs</td>\n",
       "      <td>Not disclosed</td>\n",
       "    </tr>\n",
       "    <tr>\n",
       "      <th>5</th>\n",
       "      <td>Senior Data Analyst IN4</td>\n",
       "      <td>Bangalore/Bengaluru</td>\n",
       "      <td>Walmart Labs</td>\n",
       "      <td>8-10 Yrs</td>\n",
       "      <td>Not disclosed</td>\n",
       "    </tr>\n",
       "    <tr>\n",
       "      <th>6</th>\n",
       "      <td>Data Analyst - Python/SQL</td>\n",
       "      <td>Bangalore/Bengaluru</td>\n",
       "      <td>Affine</td>\n",
       "      <td>3-5 Yrs</td>\n",
       "      <td>Not disclosed</td>\n",
       "    </tr>\n",
       "    <tr>\n",
       "      <th>7</th>\n",
       "      <td>Executive Data Analyst</td>\n",
       "      <td>Bangalore/Bengaluru</td>\n",
       "      <td>Gokaldas Exports Ltd</td>\n",
       "      <td>0-3 Yrs</td>\n",
       "      <td>Not disclosed</td>\n",
       "    </tr>\n",
       "    <tr>\n",
       "      <th>8</th>\n",
       "      <td>Senior Data Analyst</td>\n",
       "      <td>Hyderabad/Secunderabad, Pune, Gurgaon/Gurugram...</td>\n",
       "      <td>Virtusa Consulting Services Pvt Ltd</td>\n",
       "      <td>8-12 Yrs</td>\n",
       "      <td>Not disclosed</td>\n",
       "    </tr>\n",
       "    <tr>\n",
       "      <th>9</th>\n",
       "      <td>Systems and Data Analyst, Safety and Provisioning</td>\n",
       "      <td>Bangalore/Bengaluru</td>\n",
       "      <td>AECOM India Private Limited</td>\n",
       "      <td>2-7 Yrs</td>\n",
       "      <td>Not disclosed</td>\n",
       "    </tr>\n",
       "  </tbody>\n",
       "</table>\n",
       "</div>"
      ],
      "text/plain": [
       "                                           Job_title  \\\n",
       "0                              Business Data Analyst   \n",
       "1                              Business Data Analyst   \n",
       "2                  Senior Data Analyst IDAM Services   \n",
       "3                      Data Analyst/Sr.Data Engineer   \n",
       "4   Business Data Analyst - Google Data Studio & SQL   \n",
       "5                            Senior Data Analyst IN4   \n",
       "6                          Data Analyst - Python/SQL   \n",
       "7                             Executive Data Analyst   \n",
       "8                                Senior Data Analyst   \n",
       "9  Systems and Data Analyst, Safety and Provisioning   \n",
       "\n",
       "                                            Loc_tags  \\\n",
       "0                                Bangalore/Bengaluru   \n",
       "1                                Bangalore/Bengaluru   \n",
       "2                                Bangalore/Bengaluru   \n",
       "3  Hyderabad/Secunderabad, Chennai, Bangalore/Ben...   \n",
       "4                                Bangalore/Bengaluru   \n",
       "5                                Bangalore/Bengaluru   \n",
       "6                                Bangalore/Bengaluru   \n",
       "7                                Bangalore/Bengaluru   \n",
       "8  Hyderabad/Secunderabad, Pune, Gurgaon/Gurugram...   \n",
       "9                                Bangalore/Bengaluru   \n",
       "\n",
       "                            Companies_tags Experience_tags  \\\n",
       "0                         Trigent Software        5-10 Yrs   \n",
       "1                         Trigent Software        5-10 Yrs   \n",
       "2  GlaxoSmithKline Pharmaceuticals Limited         4-8 Yrs   \n",
       "3       SYREN TECHNOLOGIES PRIVATE LIMITED         4-9 Yrs   \n",
       "4                             AVE-Promagne         3-8 Yrs   \n",
       "5                             Walmart Labs        8-10 Yrs   \n",
       "6                                   Affine         3-5 Yrs   \n",
       "7                     Gokaldas Exports Ltd         0-3 Yrs   \n",
       "8      Virtusa Consulting Services Pvt Ltd        8-12 Yrs   \n",
       "9              AECOM India Private Limited         2-7 Yrs   \n",
       "\n",
       "                 Salary_tags  \n",
       "0              Not disclosed  \n",
       "1              Not disclosed  \n",
       "2              Not disclosed  \n",
       "3  10,00,000 - 20,00,000 PA.  \n",
       "4              Not disclosed  \n",
       "5              Not disclosed  \n",
       "6              Not disclosed  \n",
       "7              Not disclosed  \n",
       "8              Not disclosed  \n",
       "9              Not disclosed  "
      ]
     },
     "execution_count": 146,
     "metadata": {},
     "output_type": "execute_result"
    }
   ],
   "source": [
    "df=pd.DataFrame({})\n",
    "df['Job_title']=job_title\n",
    "df['Loc_tags']=Loc_tags\n",
    "df['Companies_tags']=Companies_tags\n",
    "df['Experience_tags']=Experience_tags\n",
    "df['Salary_tags']=Salary_tags\n",
    "df.head(10)"
   ]
  },
  {
   "cell_type": "code",
   "execution_count": null,
   "metadata": {},
   "outputs": [],
   "source": []
  },
  {
   "cell_type": "markdown",
   "metadata": {},
   "source": [
    "Q2: Write a python program to scrape data for “Data Scientist” Job position in \n",
    "“Bangalore” location. You have to scrape the job-title, job-location,\n",
    "company_name, full job-description. You have to scrape first 10 jobs data.\n",
    "This task will be done in following steps:\n",
    "1. first get the webpage https://www.naukri.com/\n",
    "2. Enter “Data Scientist” in “Skill,Designations,Companies” field and enter \n",
    "“Bangalore” in “enter the location” field.\n",
    "3. Then click the search button.\n",
    "4. Then scrape the data for the first 10 jobs results you get.\n",
    "5. Finally create a dataframe of the scraped data.\n",
    "\n",
    "\n",
    "Note-\n",
    "\n",
    "\n",
    "1. All of the above steps have to be done in code. No step is to be done \n",
    "manuall.\n",
    "\n",
    "\n",
    "2.2.Please note that you have to scrape full job description. For that you may have to \n",
    "open each job separately as shown below."
   ]
  },
  {
   "cell_type": "code",
   "execution_count": null,
   "metadata": {},
   "outputs": [],
   "source": []
  },
  {
   "cell_type": "code",
   "execution_count": 147,
   "metadata": {},
   "outputs": [],
   "source": [
    "url='https://www.naukri.com/'\n",
    "driver.get(url)"
   ]
  },
  {
   "cell_type": "code",
   "execution_count": 148,
   "metadata": {},
   "outputs": [
    {
     "data": {
      "text/plain": [
       "<selenium.webdriver.remote.webelement.WebElement (session=\"4b553365f35915682f148180b065099a\", element=\"f486da56-c822-4d20-8c69-3a8b99408b16\")>"
      ]
     },
     "execution_count": 148,
     "metadata": {},
     "output_type": "execute_result"
    }
   ],
   "source": [
    "#search_job.send_keys(\"Data Analyst\")\n",
    "search_job=driver.find_element_by_xpath('//input[@class=\"sugInp\"]')\n",
    "search_job"
   ]
  },
  {
   "cell_type": "code",
   "execution_count": 149,
   "metadata": {},
   "outputs": [],
   "source": [
    "#write on search bar\n",
    "search_job.send_keys(\"Data Scientist\")"
   ]
  },
  {
   "cell_type": "code",
   "execution_count": 150,
   "metadata": {},
   "outputs": [
    {
     "data": {
      "text/plain": [
       "<selenium.webdriver.remote.webelement.WebElement (session=\"4b553365f35915682f148180b065099a\", element=\"07132089-8986-4c98-95b8-1491640e044d\")>"
      ]
     },
     "execution_count": 150,
     "metadata": {},
     "output_type": "execute_result"
    }
   ],
   "source": [
    "#finding element for job location bar\n",
    "search_loc=driver.find_element_by_xpath('//input[@name=\"location\"]')\n",
    "search_loc"
   ]
  },
  {
   "cell_type": "code",
   "execution_count": 151,
   "metadata": {},
   "outputs": [],
   "source": [
    "search_loc.send_keys(\"Bangalore\")"
   ]
  },
  {
   "cell_type": "code",
   "execution_count": 152,
   "metadata": {},
   "outputs": [],
   "source": [
    "#do click on xpath functiom\n",
    "search_btn=driver.find_element_by_xpath('//button[@class=\"btn\"]')"
   ]
  },
  {
   "cell_type": "code",
   "execution_count": 153,
   "metadata": {},
   "outputs": [],
   "source": [
    "search_btn.click()"
   ]
  },
  {
   "cell_type": "markdown",
   "metadata": {},
   "source": [
    "Now lets create 4 empty list for titles."
   ]
  },
  {
   "cell_type": "code",
   "execution_count": 154,
   "metadata": {},
   "outputs": [
    {
     "data": {
      "text/plain": [
       "[<selenium.webdriver.remote.webelement.WebElement (session=\"4b553365f35915682f148180b065099a\", element=\"c6f9eaf8-8c4a-4e8c-aeb1-6f58e7ca7a80\")>,\n",
       " <selenium.webdriver.remote.webelement.WebElement (session=\"4b553365f35915682f148180b065099a\", element=\"7675280e-7965-4b8e-9171-4717b62b5f18\")>,\n",
       " <selenium.webdriver.remote.webelement.WebElement (session=\"4b553365f35915682f148180b065099a\", element=\"06f6879c-de19-486f-bfd9-f0e38f5cbaeb\")>,\n",
       " <selenium.webdriver.remote.webelement.WebElement (session=\"4b553365f35915682f148180b065099a\", element=\"76ebb5bf-6baa-4260-bff6-63d86b2fdb35\")>,\n",
       " <selenium.webdriver.remote.webelement.WebElement (session=\"4b553365f35915682f148180b065099a\", element=\"21cf5f41-77e0-410c-a239-d208993bf272\")>,\n",
       " <selenium.webdriver.remote.webelement.WebElement (session=\"4b553365f35915682f148180b065099a\", element=\"b800c4de-d343-426c-b714-e77fd5bf633a\")>,\n",
       " <selenium.webdriver.remote.webelement.WebElement (session=\"4b553365f35915682f148180b065099a\", element=\"372e2f28-945e-4dfa-8f83-90c1f137aa45\")>,\n",
       " <selenium.webdriver.remote.webelement.WebElement (session=\"4b553365f35915682f148180b065099a\", element=\"271bbb5d-aa0e-4bf5-a30a-30af3588b1b2\")>,\n",
       " <selenium.webdriver.remote.webelement.WebElement (session=\"4b553365f35915682f148180b065099a\", element=\"081a4444-ab25-425b-baad-9f7bb416ab1f\")>,\n",
       " <selenium.webdriver.remote.webelement.WebElement (session=\"4b553365f35915682f148180b065099a\", element=\"8cbb4a32-014a-483a-a253-226110ac0302\")>,\n",
       " <selenium.webdriver.remote.webelement.WebElement (session=\"4b553365f35915682f148180b065099a\", element=\"2acfc0a7-3f18-41c6-9f80-3e6688962ee1\")>,\n",
       " <selenium.webdriver.remote.webelement.WebElement (session=\"4b553365f35915682f148180b065099a\", element=\"5ed3e8f0-c5f2-4eaf-9209-4d78309e0516\")>,\n",
       " <selenium.webdriver.remote.webelement.WebElement (session=\"4b553365f35915682f148180b065099a\", element=\"19651e49-ff3f-4411-9b0e-643f555053c3\")>,\n",
       " <selenium.webdriver.remote.webelement.WebElement (session=\"4b553365f35915682f148180b065099a\", element=\"2afccd7e-d45a-400a-80d2-27a1b0095ea9\")>,\n",
       " <selenium.webdriver.remote.webelement.WebElement (session=\"4b553365f35915682f148180b065099a\", element=\"1009f9ae-d5c7-4808-a27b-bb509bdaf037\")>,\n",
       " <selenium.webdriver.remote.webelement.WebElement (session=\"4b553365f35915682f148180b065099a\", element=\"4f343095-54f9-463e-9b22-abe5725a30f2\")>,\n",
       " <selenium.webdriver.remote.webelement.WebElement (session=\"4b553365f35915682f148180b065099a\", element=\"d62d0fe8-27ee-4acc-80a5-be5ea983bb62\")>,\n",
       " <selenium.webdriver.remote.webelement.WebElement (session=\"4b553365f35915682f148180b065099a\", element=\"32db7b89-aeaa-436d-bbaa-8434a1c0b288\")>,\n",
       " <selenium.webdriver.remote.webelement.WebElement (session=\"4b553365f35915682f148180b065099a\", element=\"e695e164-f59d-4873-90f4-d926f3c5d612\")>,\n",
       " <selenium.webdriver.remote.webelement.WebElement (session=\"4b553365f35915682f148180b065099a\", element=\"050b1409-b394-43ae-a1aa-865c2d0da916\")>]"
      ]
     },
     "execution_count": 154,
     "metadata": {},
     "output_type": "execute_result"
    }
   ],
   "source": [
    "#so lets extract all the tags having the job-titles\n",
    "titles_tags=driver.find_elements_by_xpath('//a[@class=\"title fw500 ellipsis\"]')\n",
    "titles_tags"
   ]
  },
  {
   "cell_type": "code",
   "execution_count": 155,
   "metadata": {},
   "outputs": [
    {
     "data": {
      "text/plain": [
       "['Lead Data Scientist BFSI',\n",
       " 'Data Scientist: Advanced Analytics',\n",
       " 'Senior Data Scientist',\n",
       " 'Senior Data Scientist',\n",
       " 'SENIOR DATA SCIENTIST',\n",
       " 'Senior Data Scientist IN4',\n",
       " 'Senior Data Scientist (Marketplace)',\n",
       " 'Requirement For Data Scientist - Mumbai & Bangalore',\n",
       " 'Hiring For Data Scientist / Statistical Analyst',\n",
       " 'Associate Data Scientist',\n",
       " 'Data Scientist - IN3',\n",
       " 'Principal Data Scientist - AdTech',\n",
       " 'Principal Data Scientist (MINT)',\n",
       " 'Data Scientist',\n",
       " 'Data Scientist',\n",
       " 'Data Scientist',\n",
       " 'Feasibility Data Scientist',\n",
       " 'Data Scientist',\n",
       " 'Data Scientist',\n",
       " 'Data Scientist']"
      ]
     },
     "execution_count": 155,
     "metadata": {},
     "output_type": "execute_result"
    }
   ],
   "source": [
    "#now the text form the job title inside the text extracted above\n",
    "#so we run the loop to iterate over the tags extracted above and extract the text inside them.\n",
    "\n",
    "job_title=[]\n",
    "for i in titles_tags:\n",
    "    job_title.append(i.text)\n",
    "job_title"
   ]
  },
  {
   "cell_type": "markdown",
   "metadata": {},
   "source": [
    "# we do same for the company name,salary,and expericed required\n",
    "Now we will extract al the html tags where we have the company names."
   ]
  },
  {
   "cell_type": "code",
   "execution_count": 156,
   "metadata": {},
   "outputs": [
    {
     "data": {
      "text/plain": [
       "[<selenium.webdriver.remote.webelement.WebElement (session=\"4b553365f35915682f148180b065099a\", element=\"4a0b4c16-a80f-49ce-b508-0b6755981c5d\")>,\n",
       " <selenium.webdriver.remote.webelement.WebElement (session=\"4b553365f35915682f148180b065099a\", element=\"ddede162-920b-4431-9382-d4a103e4c812\")>,\n",
       " <selenium.webdriver.remote.webelement.WebElement (session=\"4b553365f35915682f148180b065099a\", element=\"963a6350-dfa5-4df4-b819-197aa57f2baf\")>,\n",
       " <selenium.webdriver.remote.webelement.WebElement (session=\"4b553365f35915682f148180b065099a\", element=\"7a67334d-50d4-4062-8559-3ab2881a1cf4\")>,\n",
       " <selenium.webdriver.remote.webelement.WebElement (session=\"4b553365f35915682f148180b065099a\", element=\"07aa66ee-263c-4d11-a034-3dda062ab799\")>,\n",
       " <selenium.webdriver.remote.webelement.WebElement (session=\"4b553365f35915682f148180b065099a\", element=\"93d8099f-0b7c-44db-a504-47e87c34d7f9\")>,\n",
       " <selenium.webdriver.remote.webelement.WebElement (session=\"4b553365f35915682f148180b065099a\", element=\"b7b59446-b87e-46f4-bfee-cb0de6266d79\")>,\n",
       " <selenium.webdriver.remote.webelement.WebElement (session=\"4b553365f35915682f148180b065099a\", element=\"8b03c2b7-90c6-457e-be4d-88900968f254\")>,\n",
       " <selenium.webdriver.remote.webelement.WebElement (session=\"4b553365f35915682f148180b065099a\", element=\"7804ddb5-d984-4ef5-aed3-fe813f7d039e\")>,\n",
       " <selenium.webdriver.remote.webelement.WebElement (session=\"4b553365f35915682f148180b065099a\", element=\"eabf4226-b1bb-4c71-82db-983f848c467a\")>,\n",
       " <selenium.webdriver.remote.webelement.WebElement (session=\"4b553365f35915682f148180b065099a\", element=\"6093dbf3-cecf-4690-8a89-b811a0e31a1d\")>,\n",
       " <selenium.webdriver.remote.webelement.WebElement (session=\"4b553365f35915682f148180b065099a\", element=\"3b45e437-332e-4b51-8cb2-f7c9923d1805\")>,\n",
       " <selenium.webdriver.remote.webelement.WebElement (session=\"4b553365f35915682f148180b065099a\", element=\"0ddc43f5-7f0b-41c1-93d6-cf4ee4fba4fa\")>,\n",
       " <selenium.webdriver.remote.webelement.WebElement (session=\"4b553365f35915682f148180b065099a\", element=\"7eaa1530-7af2-4c91-a3e8-ec4421dcd04b\")>,\n",
       " <selenium.webdriver.remote.webelement.WebElement (session=\"4b553365f35915682f148180b065099a\", element=\"bb13e446-d735-4cd6-976d-bc45a23e906b\")>,\n",
       " <selenium.webdriver.remote.webelement.WebElement (session=\"4b553365f35915682f148180b065099a\", element=\"a16bf29f-c43f-45fc-a7a9-aef44226746a\")>,\n",
       " <selenium.webdriver.remote.webelement.WebElement (session=\"4b553365f35915682f148180b065099a\", element=\"3b222dfa-b6ee-4c4b-af5b-590facaa8c8a\")>,\n",
       " <selenium.webdriver.remote.webelement.WebElement (session=\"4b553365f35915682f148180b065099a\", element=\"69fb99cf-c830-4ff9-9721-01b554360960\")>,\n",
       " <selenium.webdriver.remote.webelement.WebElement (session=\"4b553365f35915682f148180b065099a\", element=\"e9aee860-359a-41bd-a1dc-64107e96458f\")>,\n",
       " <selenium.webdriver.remote.webelement.WebElement (session=\"4b553365f35915682f148180b065099a\", element=\"57445d97-2ec3-49f5-ba5f-c9db6e69b2d7\")>]"
      ]
     },
     "execution_count": 156,
     "metadata": {},
     "output_type": "execute_result"
    }
   ],
   "source": [
    "companies_tags=driver.find_elements_by_xpath('//a[@class=\"subTitle ellipsis fleft\"]')\n",
    "companies_tags"
   ]
  },
  {
   "cell_type": "code",
   "execution_count": 157,
   "metadata": {},
   "outputs": [
    {
     "data": {
      "text/plain": [
       "['IBM India Pvt. Limited',\n",
       " 'IBM India Pvt. Limited',\n",
       " 'Walmart Labs',\n",
       " 'Airbnb',\n",
       " 'Happiest Minds Technologies Pvt.Ltd',\n",
       " 'Walmart Labs',\n",
       " 'Walmart Labs',\n",
       " 'CRISIL LIMITED',\n",
       " 'ManpowerGroup Services India Private Limited',\n",
       " 'Philips India Limited',\n",
       " 'Walmart Labs',\n",
       " 'Walmart Labs',\n",
       " 'Walmart Labs',\n",
       " 'Walmart Labs',\n",
       " 'NeenOpal Intelligent Solutions Private Limited',\n",
       " 'PRESCIENCE DECISION SOLUTIONS PRIVATE LIMITED',\n",
       " 'Icon Clinical Research India Private Limited',\n",
       " 'Walmart Labs',\n",
       " 'ELPIS IT SOLUTIONS PVT LTD',\n",
       " 'ELPIS IT SOLUTIONS PVT LTD']"
      ]
     },
     "execution_count": 157,
     "metadata": {},
     "output_type": "execute_result"
    }
   ],
   "source": [
    "#so we run the loop to iterate over the tags extracted above and extract the text inside them.\n",
    "\n",
    "Companies_tags=[]\n",
    "for i in companies_tags:\n",
    "    Companies_tags.append(i.text)\n",
    "Companies_tags"
   ]
  },
  {
   "cell_type": "code",
   "execution_count": 158,
   "metadata": {},
   "outputs": [
    {
     "data": {
      "text/plain": [
       "[<selenium.webdriver.remote.webelement.WebElement (session=\"4b553365f35915682f148180b065099a\", element=\"ee89929a-42ee-488d-b0e4-35238708b207\")>,\n",
       " <selenium.webdriver.remote.webelement.WebElement (session=\"4b553365f35915682f148180b065099a\", element=\"f4189e85-d9ac-4929-8e81-9df844393671\")>,\n",
       " <selenium.webdriver.remote.webelement.WebElement (session=\"4b553365f35915682f148180b065099a\", element=\"524d71b1-8aa0-445c-8159-6676665f254e\")>,\n",
       " <selenium.webdriver.remote.webelement.WebElement (session=\"4b553365f35915682f148180b065099a\", element=\"e046720d-a3ed-4bb3-8a1d-0f92279b4bab\")>,\n",
       " <selenium.webdriver.remote.webelement.WebElement (session=\"4b553365f35915682f148180b065099a\", element=\"4317d705-323a-4364-a4d8-0f9c7b5bdf16\")>,\n",
       " <selenium.webdriver.remote.webelement.WebElement (session=\"4b553365f35915682f148180b065099a\", element=\"4ffa56d5-674e-4241-b4a4-87fe98596760\")>,\n",
       " <selenium.webdriver.remote.webelement.WebElement (session=\"4b553365f35915682f148180b065099a\", element=\"bd03934d-dec0-4ada-9485-9e8746578dc3\")>,\n",
       " <selenium.webdriver.remote.webelement.WebElement (session=\"4b553365f35915682f148180b065099a\", element=\"12ab73b8-8839-49c7-b4ca-a2440edfd30a\")>,\n",
       " <selenium.webdriver.remote.webelement.WebElement (session=\"4b553365f35915682f148180b065099a\", element=\"1a60361a-cf45-4e1a-b323-89711e0108f0\")>,\n",
       " <selenium.webdriver.remote.webelement.WebElement (session=\"4b553365f35915682f148180b065099a\", element=\"da861424-5f07-46d2-ab24-6f28ea95ca87\")>,\n",
       " <selenium.webdriver.remote.webelement.WebElement (session=\"4b553365f35915682f148180b065099a\", element=\"88dae368-1e25-4b32-bba8-e35a86fa2a5a\")>,\n",
       " <selenium.webdriver.remote.webelement.WebElement (session=\"4b553365f35915682f148180b065099a\", element=\"c0f9b446-23a6-4a63-981a-ed5439383d4f\")>,\n",
       " <selenium.webdriver.remote.webelement.WebElement (session=\"4b553365f35915682f148180b065099a\", element=\"56ac105a-b912-47f9-9cf6-d81fd64e9bde\")>,\n",
       " <selenium.webdriver.remote.webelement.WebElement (session=\"4b553365f35915682f148180b065099a\", element=\"7afe57ae-fbec-4a95-befc-c0d824804295\")>,\n",
       " <selenium.webdriver.remote.webelement.WebElement (session=\"4b553365f35915682f148180b065099a\", element=\"1302d4c7-d842-455b-ad95-5ca045d59afc\")>,\n",
       " <selenium.webdriver.remote.webelement.WebElement (session=\"4b553365f35915682f148180b065099a\", element=\"2d5e18d0-04fe-419f-b1e1-15616b237850\")>,\n",
       " <selenium.webdriver.remote.webelement.WebElement (session=\"4b553365f35915682f148180b065099a\", element=\"1b78608d-9e3f-40b6-b58e-7243df4f321c\")>,\n",
       " <selenium.webdriver.remote.webelement.WebElement (session=\"4b553365f35915682f148180b065099a\", element=\"b410abcd-8c85-488b-b45f-3a687d30b525\")>,\n",
       " <selenium.webdriver.remote.webelement.WebElement (session=\"4b553365f35915682f148180b065099a\", element=\"98b1ca9f-6d48-4eab-aed3-b6bba0c4d1c0\")>,\n",
       " <selenium.webdriver.remote.webelement.WebElement (session=\"4b553365f35915682f148180b065099a\", element=\"4cb2413a-6a7c-4d7a-baea-5d48eef0d901\")>]"
      ]
     },
     "execution_count": 158,
     "metadata": {},
     "output_type": "execute_result"
    }
   ],
   "source": [
    "loc_tags=driver.find_elements_by_xpath('//li[@class=\"fleft grey-text br2 placeHolderLi location\"]')\n",
    "loc_tags"
   ]
  },
  {
   "cell_type": "code",
   "execution_count": 159,
   "metadata": {},
   "outputs": [
    {
     "data": {
      "text/plain": [
       "['Bengaluru/Bangalore',\n",
       " 'Bengaluru/Bangalore',\n",
       " 'Bangalore/Bengaluru',\n",
       " 'Bangalore/Bengaluru',\n",
       " 'Bangalore/Bengaluru',\n",
       " 'Bangalore/Bengaluru',\n",
       " 'Bangalore/Bengaluru',\n",
       " 'Bangalore/Bengaluru, Mumbai (All Areas)',\n",
       " 'Bangalore/Bengaluru',\n",
       " 'Bangalore/Bengaluru',\n",
       " 'Bangalore/Bengaluru',\n",
       " 'Bangalore/Bengaluru',\n",
       " 'Bangalore/Bengaluru',\n",
       " 'Bangalore/Bengaluru',\n",
       " 'Bangalore/Bengaluru\\n(WFH during Covid)',\n",
       " 'Bangalore/Bengaluru\\n(WFH during Covid)',\n",
       " 'Bangalore/Bengaluru',\n",
       " 'Bangalore/Bengaluru',\n",
       " 'Bangalore/Bengaluru',\n",
       " 'Bangalore/Bengaluru']"
      ]
     },
     "execution_count": 159,
     "metadata": {},
     "output_type": "execute_result"
    }
   ],
   "source": [
    "#so we run the loop to iterate over the tags extracted above and extract the text inside them.\n",
    "\n",
    "Loc_tags=[]\n",
    "for i in loc_tags:\n",
    "    Loc_tags.append(i.text)\n",
    "Loc_tags"
   ]
  },
  {
   "cell_type": "markdown",
   "metadata": {},
   "source": [
    "Now we will extract al the html tags where we have the Experience."
   ]
  },
  {
   "cell_type": "code",
   "execution_count": 160,
   "metadata": {},
   "outputs": [
    {
     "data": {
      "text/plain": [
       "[<selenium.webdriver.remote.webelement.WebElement (session=\"4b553365f35915682f148180b065099a\", element=\"07fb2246-1eda-4be0-8657-d4f45e458fc1\")>,\n",
       " <selenium.webdriver.remote.webelement.WebElement (session=\"4b553365f35915682f148180b065099a\", element=\"bf5617db-23c7-4d6e-8166-09e811a7b190\")>,\n",
       " <selenium.webdriver.remote.webelement.WebElement (session=\"4b553365f35915682f148180b065099a\", element=\"a3aae3ec-a0ae-4f30-b706-0b53f72cddec\")>,\n",
       " <selenium.webdriver.remote.webelement.WebElement (session=\"4b553365f35915682f148180b065099a\", element=\"a812bba5-b955-4d3d-9b97-3a82ff122291\")>,\n",
       " <selenium.webdriver.remote.webelement.WebElement (session=\"4b553365f35915682f148180b065099a\", element=\"b501622c-7827-4958-b57a-a5dfa181d99c\")>,\n",
       " <selenium.webdriver.remote.webelement.WebElement (session=\"4b553365f35915682f148180b065099a\", element=\"faba7346-a8b5-4338-b538-9a77ea5a615f\")>,\n",
       " <selenium.webdriver.remote.webelement.WebElement (session=\"4b553365f35915682f148180b065099a\", element=\"735bb89e-9d6b-4b61-806f-d10b354b3a2f\")>,\n",
       " <selenium.webdriver.remote.webelement.WebElement (session=\"4b553365f35915682f148180b065099a\", element=\"3002731c-a09b-4a2a-a94a-ad7507eace6e\")>,\n",
       " <selenium.webdriver.remote.webelement.WebElement (session=\"4b553365f35915682f148180b065099a\", element=\"49635ce9-4904-4037-bb30-c749bc0736f9\")>,\n",
       " <selenium.webdriver.remote.webelement.WebElement (session=\"4b553365f35915682f148180b065099a\", element=\"86d1d44a-5c13-41a0-8ed1-ce92edaf73f0\")>,\n",
       " <selenium.webdriver.remote.webelement.WebElement (session=\"4b553365f35915682f148180b065099a\", element=\"479f6b69-48d9-4c81-bb3f-52bbde097354\")>,\n",
       " <selenium.webdriver.remote.webelement.WebElement (session=\"4b553365f35915682f148180b065099a\", element=\"3721db81-4527-4b6e-987b-0a4b7f206c02\")>,\n",
       " <selenium.webdriver.remote.webelement.WebElement (session=\"4b553365f35915682f148180b065099a\", element=\"03f82071-b88a-4e44-8dd2-fc4c9a12bbe8\")>,\n",
       " <selenium.webdriver.remote.webelement.WebElement (session=\"4b553365f35915682f148180b065099a\", element=\"0b73fe78-c0bd-49aa-aed6-236ad170017e\")>,\n",
       " <selenium.webdriver.remote.webelement.WebElement (session=\"4b553365f35915682f148180b065099a\", element=\"d89e47be-d92c-450a-9bcd-70f32b0cd881\")>,\n",
       " <selenium.webdriver.remote.webelement.WebElement (session=\"4b553365f35915682f148180b065099a\", element=\"529a2f71-5d95-414b-a25f-edd32a74b835\")>,\n",
       " <selenium.webdriver.remote.webelement.WebElement (session=\"4b553365f35915682f148180b065099a\", element=\"334880de-c698-4dca-a16c-0e5f4580b7f9\")>,\n",
       " <selenium.webdriver.remote.webelement.WebElement (session=\"4b553365f35915682f148180b065099a\", element=\"b33c4e9a-6b81-4936-8831-454a37d79568\")>,\n",
       " <selenium.webdriver.remote.webelement.WebElement (session=\"4b553365f35915682f148180b065099a\", element=\"3e10e2dd-fb3c-49b3-8362-b04da65ed73c\")>,\n",
       " <selenium.webdriver.remote.webelement.WebElement (session=\"4b553365f35915682f148180b065099a\", element=\"33fd4df6-9a02-4116-9cc0-f80bbe14a317\")>]"
      ]
     },
     "execution_count": 160,
     "metadata": {},
     "output_type": "execute_result"
    }
   ],
   "source": [
    "experience_tags=driver.find_elements_by_xpath('//li[@class=\"fleft grey-text br2 placeHolderLi experience\"]//span')\n",
    "experience_tags"
   ]
  },
  {
   "cell_type": "code",
   "execution_count": 161,
   "metadata": {},
   "outputs": [
    {
     "data": {
      "text/plain": [
       "['5-9 Yrs',\n",
       " '3-7 Yrs',\n",
       " '6-10 Yrs',\n",
       " '7-12 Yrs',\n",
       " '5-10 Yrs',\n",
       " '7-10 Yrs',\n",
       " '4-8 Yrs',\n",
       " '2-6 Yrs',\n",
       " '2-4 Yrs',\n",
       " '3-5 Yrs',\n",
       " '3-6 Yrs',\n",
       " '10-14 Yrs',\n",
       " '15-18 Yrs',\n",
       " '4-8 Yrs',\n",
       " '2-5 Yrs',\n",
       " '5-10 Yrs',\n",
       " '3-8 Yrs',\n",
       " '4-8 Yrs',\n",
       " '3-8 Yrs',\n",
       " '3-8 Yrs']"
      ]
     },
     "execution_count": 161,
     "metadata": {},
     "output_type": "execute_result"
    }
   ],
   "source": [
    "Experience_tags=[]\n",
    "for i in experience_tags:\n",
    "    Experience_tags.append(i.text)\n",
    "Experience_tags"
   ]
  },
  {
   "cell_type": "markdown",
   "metadata": {},
   "source": [
    "Now we will extract al the html tags where we have the Salary."
   ]
  },
  {
   "cell_type": "code",
   "execution_count": 162,
   "metadata": {},
   "outputs": [
    {
     "data": {
      "text/plain": [
       "[<selenium.webdriver.remote.webelement.WebElement (session=\"4b553365f35915682f148180b065099a\", element=\"cef5a501-f055-49e7-a11d-9ea343b71fd0\")>,\n",
       " <selenium.webdriver.remote.webelement.WebElement (session=\"4b553365f35915682f148180b065099a\", element=\"ae0159a1-e8af-41f2-8185-d2ba2392082b\")>,\n",
       " <selenium.webdriver.remote.webelement.WebElement (session=\"4b553365f35915682f148180b065099a\", element=\"e6a66537-1414-47a2-aba6-6e19bb3110c6\")>,\n",
       " <selenium.webdriver.remote.webelement.WebElement (session=\"4b553365f35915682f148180b065099a\", element=\"6e18ca8e-2eb7-4d6e-aeff-1e390fe0c21b\")>,\n",
       " <selenium.webdriver.remote.webelement.WebElement (session=\"4b553365f35915682f148180b065099a\", element=\"d7fdf6b8-006d-4a43-bfa8-09e73bfdf098\")>,\n",
       " <selenium.webdriver.remote.webelement.WebElement (session=\"4b553365f35915682f148180b065099a\", element=\"b80f227a-d413-4449-b7ee-b4af1a4029ff\")>,\n",
       " <selenium.webdriver.remote.webelement.WebElement (session=\"4b553365f35915682f148180b065099a\", element=\"798f94ae-4aa3-4540-b035-eddf22ac1c2d\")>,\n",
       " <selenium.webdriver.remote.webelement.WebElement (session=\"4b553365f35915682f148180b065099a\", element=\"5e016951-536b-4418-b68d-2e7badf46108\")>,\n",
       " <selenium.webdriver.remote.webelement.WebElement (session=\"4b553365f35915682f148180b065099a\", element=\"09af1f9e-c031-4549-9019-7ef64ff93d06\")>,\n",
       " <selenium.webdriver.remote.webelement.WebElement (session=\"4b553365f35915682f148180b065099a\", element=\"89244ad2-4a72-420d-ac43-a979bc22e57a\")>,\n",
       " <selenium.webdriver.remote.webelement.WebElement (session=\"4b553365f35915682f148180b065099a\", element=\"6f021e23-4940-4c8e-9aff-6e2445e6e73b\")>,\n",
       " <selenium.webdriver.remote.webelement.WebElement (session=\"4b553365f35915682f148180b065099a\", element=\"da474a59-f7d2-44f9-9a05-44c09c3dc266\")>,\n",
       " <selenium.webdriver.remote.webelement.WebElement (session=\"4b553365f35915682f148180b065099a\", element=\"31a09ffe-4893-492a-acbf-c86a8ac69f57\")>,\n",
       " <selenium.webdriver.remote.webelement.WebElement (session=\"4b553365f35915682f148180b065099a\", element=\"638731bf-a358-4d63-abce-6a4aafab2caf\")>,\n",
       " <selenium.webdriver.remote.webelement.WebElement (session=\"4b553365f35915682f148180b065099a\", element=\"cb90d2f9-e93c-4c96-b50d-2b3cdb2a1f92\")>,\n",
       " <selenium.webdriver.remote.webelement.WebElement (session=\"4b553365f35915682f148180b065099a\", element=\"987c4f35-1643-4e02-86bb-d5f199dc60c9\")>,\n",
       " <selenium.webdriver.remote.webelement.WebElement (session=\"4b553365f35915682f148180b065099a\", element=\"f33eb691-762e-4e30-9c9d-f5c138fc1831\")>,\n",
       " <selenium.webdriver.remote.webelement.WebElement (session=\"4b553365f35915682f148180b065099a\", element=\"0149ff8e-9b01-48aa-badf-7fbc0d0250c6\")>,\n",
       " <selenium.webdriver.remote.webelement.WebElement (session=\"4b553365f35915682f148180b065099a\", element=\"dad77fce-353d-4d79-bfca-64e419fe0f15\")>,\n",
       " <selenium.webdriver.remote.webelement.WebElement (session=\"4b553365f35915682f148180b065099a\", element=\"7b50c339-d520-43dc-ad1e-7c981f90709f\")>]"
      ]
     },
     "execution_count": 162,
     "metadata": {},
     "output_type": "execute_result"
    }
   ],
   "source": [
    "salary_tags=driver.find_elements_by_xpath('//li[@class=\"fleft grey-text br2 placeHolderLi salary\"]')\n",
    "salary_tags"
   ]
  },
  {
   "cell_type": "code",
   "execution_count": 163,
   "metadata": {},
   "outputs": [
    {
     "data": {
      "text/plain": [
       "['Not disclosed',\n",
       " 'Not disclosed',\n",
       " 'Not disclosed',\n",
       " 'Not disclosed',\n",
       " 'Not disclosed',\n",
       " 'Not disclosed',\n",
       " 'Not disclosed',\n",
       " 'Not disclosed',\n",
       " '6,00,000 - 10,00,000 PA.',\n",
       " 'Not disclosed',\n",
       " 'Not disclosed',\n",
       " 'Not disclosed',\n",
       " 'Not disclosed',\n",
       " 'Not disclosed',\n",
       " 'Not disclosed',\n",
       " 'Not disclosed',\n",
       " 'Not disclosed',\n",
       " 'Not disclosed',\n",
       " '6,00,000 - 16,00,000 PA.',\n",
       " '6,00,000 - 16,00,000 PA.']"
      ]
     },
     "execution_count": 163,
     "metadata": {},
     "output_type": "execute_result"
    }
   ],
   "source": [
    "Salary_tags=[]\n",
    "for i in salary_tags:\n",
    "    Salary_tags.append(i.text)\n",
    "Salary_tags"
   ]
  },
  {
   "cell_type": "code",
   "execution_count": 164,
   "metadata": {},
   "outputs": [
    {
     "name": "stdout",
     "output_type": "stream",
     "text": [
      "20 20 20 20 20\n"
     ]
    }
   ],
   "source": [
    "print(len(job_title),len(Companies_tags),len(Loc_tags),len(Salary_tags),len(Experience_tags))"
   ]
  },
  {
   "cell_type": "code",
   "execution_count": 165,
   "metadata": {},
   "outputs": [
    {
     "data": {
      "text/html": [
       "<div>\n",
       "<style scoped>\n",
       "    .dataframe tbody tr th:only-of-type {\n",
       "        vertical-align: middle;\n",
       "    }\n",
       "\n",
       "    .dataframe tbody tr th {\n",
       "        vertical-align: top;\n",
       "    }\n",
       "\n",
       "    .dataframe thead th {\n",
       "        text-align: right;\n",
       "    }\n",
       "</style>\n",
       "<table border=\"1\" class=\"dataframe\">\n",
       "  <thead>\n",
       "    <tr style=\"text-align: right;\">\n",
       "      <th></th>\n",
       "      <th>Job_title</th>\n",
       "      <th>Loc_tags</th>\n",
       "      <th>Companies_tags</th>\n",
       "      <th>Experience_tags</th>\n",
       "      <th>Salary_tags</th>\n",
       "    </tr>\n",
       "  </thead>\n",
       "  <tbody>\n",
       "    <tr>\n",
       "      <th>0</th>\n",
       "      <td>Lead Data Scientist BFSI</td>\n",
       "      <td>Bengaluru/Bangalore</td>\n",
       "      <td>IBM India Pvt. Limited</td>\n",
       "      <td>5-9 Yrs</td>\n",
       "      <td>Not disclosed</td>\n",
       "    </tr>\n",
       "    <tr>\n",
       "      <th>1</th>\n",
       "      <td>Data Scientist: Advanced Analytics</td>\n",
       "      <td>Bengaluru/Bangalore</td>\n",
       "      <td>IBM India Pvt. Limited</td>\n",
       "      <td>3-7 Yrs</td>\n",
       "      <td>Not disclosed</td>\n",
       "    </tr>\n",
       "    <tr>\n",
       "      <th>2</th>\n",
       "      <td>Senior Data Scientist</td>\n",
       "      <td>Bangalore/Bengaluru</td>\n",
       "      <td>Walmart Labs</td>\n",
       "      <td>6-10 Yrs</td>\n",
       "      <td>Not disclosed</td>\n",
       "    </tr>\n",
       "    <tr>\n",
       "      <th>3</th>\n",
       "      <td>Senior Data Scientist</td>\n",
       "      <td>Bangalore/Bengaluru</td>\n",
       "      <td>Airbnb</td>\n",
       "      <td>7-12 Yrs</td>\n",
       "      <td>Not disclosed</td>\n",
       "    </tr>\n",
       "    <tr>\n",
       "      <th>4</th>\n",
       "      <td>SENIOR DATA SCIENTIST</td>\n",
       "      <td>Bangalore/Bengaluru</td>\n",
       "      <td>Happiest Minds Technologies Pvt.Ltd</td>\n",
       "      <td>5-10 Yrs</td>\n",
       "      <td>Not disclosed</td>\n",
       "    </tr>\n",
       "    <tr>\n",
       "      <th>5</th>\n",
       "      <td>Senior Data Scientist IN4</td>\n",
       "      <td>Bangalore/Bengaluru</td>\n",
       "      <td>Walmart Labs</td>\n",
       "      <td>7-10 Yrs</td>\n",
       "      <td>Not disclosed</td>\n",
       "    </tr>\n",
       "    <tr>\n",
       "      <th>6</th>\n",
       "      <td>Senior Data Scientist (Marketplace)</td>\n",
       "      <td>Bangalore/Bengaluru</td>\n",
       "      <td>Walmart Labs</td>\n",
       "      <td>4-8 Yrs</td>\n",
       "      <td>Not disclosed</td>\n",
       "    </tr>\n",
       "    <tr>\n",
       "      <th>7</th>\n",
       "      <td>Requirement For Data Scientist - Mumbai &amp; Bang...</td>\n",
       "      <td>Bangalore/Bengaluru, Mumbai (All Areas)</td>\n",
       "      <td>CRISIL LIMITED</td>\n",
       "      <td>2-6 Yrs</td>\n",
       "      <td>Not disclosed</td>\n",
       "    </tr>\n",
       "    <tr>\n",
       "      <th>8</th>\n",
       "      <td>Hiring For Data Scientist / Statistical Analyst</td>\n",
       "      <td>Bangalore/Bengaluru</td>\n",
       "      <td>ManpowerGroup Services India Private Limited</td>\n",
       "      <td>2-4 Yrs</td>\n",
       "      <td>6,00,000 - 10,00,000 PA.</td>\n",
       "    </tr>\n",
       "    <tr>\n",
       "      <th>9</th>\n",
       "      <td>Associate Data Scientist</td>\n",
       "      <td>Bangalore/Bengaluru</td>\n",
       "      <td>Philips India Limited</td>\n",
       "      <td>3-5 Yrs</td>\n",
       "      <td>Not disclosed</td>\n",
       "    </tr>\n",
       "  </tbody>\n",
       "</table>\n",
       "</div>"
      ],
      "text/plain": [
       "                                           Job_title  \\\n",
       "0                           Lead Data Scientist BFSI   \n",
       "1                 Data Scientist: Advanced Analytics   \n",
       "2                              Senior Data Scientist   \n",
       "3                              Senior Data Scientist   \n",
       "4                              SENIOR DATA SCIENTIST   \n",
       "5                          Senior Data Scientist IN4   \n",
       "6                Senior Data Scientist (Marketplace)   \n",
       "7  Requirement For Data Scientist - Mumbai & Bang...   \n",
       "8    Hiring For Data Scientist / Statistical Analyst   \n",
       "9                           Associate Data Scientist   \n",
       "\n",
       "                                  Loc_tags  \\\n",
       "0                      Bengaluru/Bangalore   \n",
       "1                      Bengaluru/Bangalore   \n",
       "2                      Bangalore/Bengaluru   \n",
       "3                      Bangalore/Bengaluru   \n",
       "4                      Bangalore/Bengaluru   \n",
       "5                      Bangalore/Bengaluru   \n",
       "6                      Bangalore/Bengaluru   \n",
       "7  Bangalore/Bengaluru, Mumbai (All Areas)   \n",
       "8                      Bangalore/Bengaluru   \n",
       "9                      Bangalore/Bengaluru   \n",
       "\n",
       "                                 Companies_tags Experience_tags  \\\n",
       "0                        IBM India Pvt. Limited         5-9 Yrs   \n",
       "1                        IBM India Pvt. Limited         3-7 Yrs   \n",
       "2                                  Walmart Labs        6-10 Yrs   \n",
       "3                                        Airbnb        7-12 Yrs   \n",
       "4           Happiest Minds Technologies Pvt.Ltd        5-10 Yrs   \n",
       "5                                  Walmart Labs        7-10 Yrs   \n",
       "6                                  Walmart Labs         4-8 Yrs   \n",
       "7                                CRISIL LIMITED         2-6 Yrs   \n",
       "8  ManpowerGroup Services India Private Limited         2-4 Yrs   \n",
       "9                         Philips India Limited         3-5 Yrs   \n",
       "\n",
       "                Salary_tags  \n",
       "0             Not disclosed  \n",
       "1             Not disclosed  \n",
       "2             Not disclosed  \n",
       "3             Not disclosed  \n",
       "4             Not disclosed  \n",
       "5             Not disclosed  \n",
       "6             Not disclosed  \n",
       "7             Not disclosed  \n",
       "8  6,00,000 - 10,00,000 PA.  \n",
       "9             Not disclosed  "
      ]
     },
     "execution_count": 165,
     "metadata": {},
     "output_type": "execute_result"
    }
   ],
   "source": [
    "df=pd.DataFrame({})\n",
    "df['Job_title']=job_title\n",
    "df['Loc_tags']=Loc_tags\n",
    "df['Companies_tags']=Companies_tags\n",
    "df['Experience_tags']=Experience_tags\n",
    "df['Salary_tags']=Salary_tags\n",
    "df.head(10)"
   ]
  },
  {
   "cell_type": "code",
   "execution_count": null,
   "metadata": {},
   "outputs": [],
   "source": []
  },
  {
   "cell_type": "markdown",
   "metadata": {},
   "source": [
    "# 2.2.Please note that you have to scrape full job description. For that you may have to open each job separately as shown below."
   ]
  },
  {
   "cell_type": "code",
   "execution_count": 166,
   "metadata": {},
   "outputs": [
    {
     "data": {
      "text/plain": [
       "[<selenium.webdriver.remote.webelement.WebElement (session=\"4b553365f35915682f148180b065099a\", element=\"c6f9eaf8-8c4a-4e8c-aeb1-6f58e7ca7a80\")>,\n",
       " <selenium.webdriver.remote.webelement.WebElement (session=\"4b553365f35915682f148180b065099a\", element=\"7675280e-7965-4b8e-9171-4717b62b5f18\")>,\n",
       " <selenium.webdriver.remote.webelement.WebElement (session=\"4b553365f35915682f148180b065099a\", element=\"06f6879c-de19-486f-bfd9-f0e38f5cbaeb\")>,\n",
       " <selenium.webdriver.remote.webelement.WebElement (session=\"4b553365f35915682f148180b065099a\", element=\"76ebb5bf-6baa-4260-bff6-63d86b2fdb35\")>,\n",
       " <selenium.webdriver.remote.webelement.WebElement (session=\"4b553365f35915682f148180b065099a\", element=\"21cf5f41-77e0-410c-a239-d208993bf272\")>,\n",
       " <selenium.webdriver.remote.webelement.WebElement (session=\"4b553365f35915682f148180b065099a\", element=\"b800c4de-d343-426c-b714-e77fd5bf633a\")>,\n",
       " <selenium.webdriver.remote.webelement.WebElement (session=\"4b553365f35915682f148180b065099a\", element=\"372e2f28-945e-4dfa-8f83-90c1f137aa45\")>,\n",
       " <selenium.webdriver.remote.webelement.WebElement (session=\"4b553365f35915682f148180b065099a\", element=\"271bbb5d-aa0e-4bf5-a30a-30af3588b1b2\")>,\n",
       " <selenium.webdriver.remote.webelement.WebElement (session=\"4b553365f35915682f148180b065099a\", element=\"081a4444-ab25-425b-baad-9f7bb416ab1f\")>,\n",
       " <selenium.webdriver.remote.webelement.WebElement (session=\"4b553365f35915682f148180b065099a\", element=\"8cbb4a32-014a-483a-a253-226110ac0302\")>,\n",
       " <selenium.webdriver.remote.webelement.WebElement (session=\"4b553365f35915682f148180b065099a\", element=\"2acfc0a7-3f18-41c6-9f80-3e6688962ee1\")>,\n",
       " <selenium.webdriver.remote.webelement.WebElement (session=\"4b553365f35915682f148180b065099a\", element=\"5ed3e8f0-c5f2-4eaf-9209-4d78309e0516\")>,\n",
       " <selenium.webdriver.remote.webelement.WebElement (session=\"4b553365f35915682f148180b065099a\", element=\"19651e49-ff3f-4411-9b0e-643f555053c3\")>,\n",
       " <selenium.webdriver.remote.webelement.WebElement (session=\"4b553365f35915682f148180b065099a\", element=\"2afccd7e-d45a-400a-80d2-27a1b0095ea9\")>,\n",
       " <selenium.webdriver.remote.webelement.WebElement (session=\"4b553365f35915682f148180b065099a\", element=\"1009f9ae-d5c7-4808-a27b-bb509bdaf037\")>,\n",
       " <selenium.webdriver.remote.webelement.WebElement (session=\"4b553365f35915682f148180b065099a\", element=\"4f343095-54f9-463e-9b22-abe5725a30f2\")>,\n",
       " <selenium.webdriver.remote.webelement.WebElement (session=\"4b553365f35915682f148180b065099a\", element=\"d62d0fe8-27ee-4acc-80a5-be5ea983bb62\")>,\n",
       " <selenium.webdriver.remote.webelement.WebElement (session=\"4b553365f35915682f148180b065099a\", element=\"32db7b89-aeaa-436d-bbaa-8434a1c0b288\")>,\n",
       " <selenium.webdriver.remote.webelement.WebElement (session=\"4b553365f35915682f148180b065099a\", element=\"e695e164-f59d-4873-90f4-d926f3c5d612\")>,\n",
       " <selenium.webdriver.remote.webelement.WebElement (session=\"4b553365f35915682f148180b065099a\", element=\"050b1409-b394-43ae-a1aa-865c2d0da916\")>]"
      ]
     },
     "execution_count": 166,
     "metadata": {},
     "output_type": "execute_result"
    }
   ],
   "source": [
    "url=driver.find_elements_by_xpath('//a[@class=\"title fw500 ellipsis\"]')\n",
    "url"
   ]
  },
  {
   "cell_type": "code",
   "execution_count": 167,
   "metadata": {},
   "outputs": [
    {
     "data": {
      "text/plain": [
       "['https://www.naukri.com/job-listings-lead-data-scientist-bfsi-ibm-india-pvt-limited-bengaluru-bangalore-5-to-9-years-070921901691?src=jobsearchDesk&sid=16311989604858851&xp=1&px=1',\n",
       " 'https://www.naukri.com/job-listings-data-scientist-advanced-analytics-ibm-india-pvt-limited-bengaluru-bangalore-3-to-7-years-070921901677?src=jobsearchDesk&sid=16311989604858851&xp=2&px=1',\n",
       " 'https://www.naukri.com/job-listings-senior-data-scientist-walmart-labs-bangalore-bengaluru-6-to-10-years-090921501063?src=jobsearchDesk&sid=16311989604858851&xp=3&px=1',\n",
       " 'https://www.naukri.com/job-listings-senior-data-scientist-airbnb-bangalore-bengaluru-7-to-12-years-080921500017?src=jobsearchDesk&sid=16311989604858851&xp=4&px=1',\n",
       " 'https://www.naukri.com/job-listings-senior-data-scientist-happiest-minds-technologies-pvt-ltd-bangalore-bengaluru-5-to-10-years-070921501517?src=jobsearchDesk&sid=16311989604858851&xp=5&px=1',\n",
       " 'https://www.naukri.com/job-listings-senior-data-scientist-in4-walmart-labs-bangalore-bengaluru-7-to-10-years-090921501064?src=jobsearchDesk&sid=16311989604858851&xp=6&px=1',\n",
       " 'https://www.naukri.com/job-listings-senior-data-scientist-marketplace-walmart-labs-bangalore-bengaluru-4-to-8-years-090921500549?src=jobsearchDesk&sid=16311989604858851&xp=7&px=1',\n",
       " 'https://www.naukri.com/job-listings-requirement-for-data-scientist-mumbai-bangalore-crisil-limited-bangalore-bengaluru-mumbai-all-areas-2-to-6-years-080921005523?src=jobsearchDesk&sid=16311989604858851&xp=8&px=1',\n",
       " 'https://www.naukri.com/job-listings-hiring-for-data-scientist-statistical-analyst-manpowergroup-services-india-private-limited-bangalore-bengaluru-2-to-4-years-080921011029?src=jobsearchDesk&sid=16311989604858851&xp=9&px=1',\n",
       " 'https://www.naukri.com/job-listings-associate-data-scientist-philips-india-limited-bangalore-bengaluru-3-to-5-years-060921501985?src=jobsearchDesk&sid=16311989604858851&xp=10&px=1',\n",
       " 'https://www.naukri.com/job-listings-data-scientist-in3-walmart-labs-bangalore-bengaluru-3-to-6-years-090921500592?src=jobsearchDesk&sid=16311989604858851&xp=11&px=1',\n",
       " 'https://www.naukri.com/job-listings-principal-data-scientist-adtech-walmart-labs-bangalore-bengaluru-10-to-14-years-090921500574?src=jobsearchDesk&sid=16311989604858851&xp=12&px=1',\n",
       " 'https://www.naukri.com/job-listings-principal-data-scientist-mint-walmart-labs-bangalore-bengaluru-15-to-18-years-090921500497?src=jobsearchDesk&sid=16311989604858851&xp=13&px=1',\n",
       " 'https://www.naukri.com/job-listings-data-scientist-walmart-labs-bangalore-bengaluru-4-to-8-years-090921501041?src=jobsearchDesk&sid=16311989604858851&xp=14&px=1',\n",
       " 'https://www.naukri.com/job-listings-data-scientist-neenopal-intelligent-solutions-private-limited-bangalore-bengaluru-2-to-5-years-080921006998?src=jobsearchDesk&sid=16311989604858851&xp=15&px=1',\n",
       " 'https://www.naukri.com/job-listings-data-scientist-prescience-decision-solutions-private-limited-bangalore-bengaluru-5-to-10-years-080921005624?src=jobsearchDesk&sid=16311989604858851&xp=16&px=1',\n",
       " 'https://www.naukri.com/job-listings-feasibility-data-scientist-icon-clinical-research-india-private-limited-bangalore-bengaluru-3-to-8-years-090921501313?src=jobsearchDesk&sid=16311989604858851&xp=17&px=1',\n",
       " 'https://www.naukri.com/job-listings-data-scientist-walmart-labs-bangalore-bengaluru-4-to-8-years-090921501042?src=jobsearchDesk&sid=16311989604858851&xp=18&px=1',\n",
       " 'https://www.naukri.com/job-listings-data-scientist-elpis-it-solutions-pvt-ltd-bangalore-bengaluru-3-to-8-years-070921602158?src=jobsearchDesk&sid=16311989604858851&xp=19&px=1',\n",
       " 'https://www.naukri.com/job-listings-data-scientist-elpis-it-solutions-pvt-ltd-bangalore-bengaluru-3-to-8-years-070921002157?src=jobsearchDesk&sid=16311989604858851&xp=20&px=1']"
      ]
     },
     "execution_count": 167,
     "metadata": {},
     "output_type": "execute_result"
    }
   ],
   "source": [
    "Url=[]\n",
    "for i in url:\n",
    "    Url.append(i.get_attribute('href'))\n",
    "Url"
   ]
  },
  {
   "cell_type": "code",
   "execution_count": 168,
   "metadata": {},
   "outputs": [
    {
     "data": {
      "text/plain": [
       "['Lead Data Scientist BFSI',\n",
       " 'Data Scientist: Advanced Analytics',\n",
       " 'Senior Data Scientist',\n",
       " 'Senior Data Scientist',\n",
       " 'SENIOR DATA SCIENTIST',\n",
       " 'Senior Data Scientist IN4',\n",
       " 'Senior Data Scientist (Marketplace)',\n",
       " 'Requirement For Data Scientist - Mumbai & Bangalore',\n",
       " 'Hiring For Data Scientist / Statistical Analyst',\n",
       " 'Associate Data Scientist',\n",
       " 'Data Scientist - IN3',\n",
       " 'Principal Data Scientist - AdTech',\n",
       " 'Principal Data Scientist (MINT)',\n",
       " 'Data Scientist',\n",
       " 'Data Scientist',\n",
       " 'Data Scientist',\n",
       " 'Feasibility Data Scientist',\n",
       " 'Data Scientist',\n",
       " 'Data Scientist',\n",
       " 'Data Scientist']"
      ]
     },
     "execution_count": 168,
     "metadata": {},
     "output_type": "execute_result"
    }
   ],
   "source": [
    "Search_discription=[]\n",
    "for i in url:\n",
    "    Search_discription.append(i.text)\n",
    "Search_discription"
   ]
  },
  {
   "cell_type": "code",
   "execution_count": 194,
   "metadata": {},
   "outputs": [
    {
     "data": {
      "text/html": [
       "<div>\n",
       "<style scoped>\n",
       "    .dataframe tbody tr th:only-of-type {\n",
       "        vertical-align: middle;\n",
       "    }\n",
       "\n",
       "    .dataframe tbody tr th {\n",
       "        vertical-align: top;\n",
       "    }\n",
       "\n",
       "    .dataframe thead th {\n",
       "        text-align: right;\n",
       "    }\n",
       "</style>\n",
       "<table border=\"1\" class=\"dataframe\">\n",
       "  <thead>\n",
       "    <tr style=\"text-align: right;\">\n",
       "      <th></th>\n",
       "      <th>Job_title</th>\n",
       "      <th>Location</th>\n",
       "      <th>Companies</th>\n",
       "      <th>Experience_Required</th>\n",
       "      <th>Salary_tags</th>\n",
       "      <th>Job-Discription</th>\n",
       "    </tr>\n",
       "  </thead>\n",
       "  <tbody>\n",
       "    <tr>\n",
       "      <th>0</th>\n",
       "      <td>Senior Data Scientist</td>\n",
       "      <td>Bangalore/Bengaluru</td>\n",
       "      <td>Walmart Labs</td>\n",
       "      <td>6-10 Yrs</td>\n",
       "      <td>Not disclosed</td>\n",
       "      <td>Lead Data Scientist BFSI</td>\n",
       "    </tr>\n",
       "    <tr>\n",
       "      <th>1</th>\n",
       "      <td>Senior Data Scientist</td>\n",
       "      <td>Bangalore/Bengaluru</td>\n",
       "      <td>Airbnb</td>\n",
       "      <td>7-12 Yrs</td>\n",
       "      <td>Not disclosed</td>\n",
       "      <td>Data Scientist: Advanced Analytics</td>\n",
       "    </tr>\n",
       "    <tr>\n",
       "      <th>2</th>\n",
       "      <td>SENIOR DATA SCIENTIST</td>\n",
       "      <td>Bangalore/Bengaluru</td>\n",
       "      <td>Happiest Minds Technologies Pvt.Ltd</td>\n",
       "      <td>5-10 Yrs</td>\n",
       "      <td>Not disclosed</td>\n",
       "      <td>Senior Data Scientist</td>\n",
       "    </tr>\n",
       "    <tr>\n",
       "      <th>3</th>\n",
       "      <td>Senior Data Scientist IN4</td>\n",
       "      <td>Bangalore/Bengaluru</td>\n",
       "      <td>Walmart Labs</td>\n",
       "      <td>7-10 Yrs</td>\n",
       "      <td>Not disclosed</td>\n",
       "      <td>Senior Data Scientist</td>\n",
       "    </tr>\n",
       "    <tr>\n",
       "      <th>4</th>\n",
       "      <td>Senior Data Scientist (Marketplace)</td>\n",
       "      <td>Bangalore/Bengaluru</td>\n",
       "      <td>Walmart Labs</td>\n",
       "      <td>4-8 Yrs</td>\n",
       "      <td>Not disclosed</td>\n",
       "      <td>SENIOR DATA SCIENTIST</td>\n",
       "    </tr>\n",
       "    <tr>\n",
       "      <th>5</th>\n",
       "      <td>Requirement For Data Scientist - Mumbai &amp; Bang...</td>\n",
       "      <td>Bangalore/Bengaluru, Mumbai (All Areas)</td>\n",
       "      <td>CRISIL LIMITED</td>\n",
       "      <td>2-6 Yrs</td>\n",
       "      <td>Not disclosed</td>\n",
       "      <td>Senior Data Scientist IN4</td>\n",
       "    </tr>\n",
       "    <tr>\n",
       "      <th>6</th>\n",
       "      <td>Hiring For Data Scientist / Statistical Analyst</td>\n",
       "      <td>Bangalore/Bengaluru</td>\n",
       "      <td>ManpowerGroup Services India Private Limited</td>\n",
       "      <td>2-4 Yrs</td>\n",
       "      <td>6,00,000 - 10,00,000 PA.</td>\n",
       "      <td>Senior Data Scientist (Marketplace)</td>\n",
       "    </tr>\n",
       "    <tr>\n",
       "      <th>7</th>\n",
       "      <td>Associate Data Scientist</td>\n",
       "      <td>Bangalore/Bengaluru</td>\n",
       "      <td>Philips India Limited</td>\n",
       "      <td>3-5 Yrs</td>\n",
       "      <td>Not disclosed</td>\n",
       "      <td>Requirement For Data Scientist - Mumbai &amp; Bang...</td>\n",
       "    </tr>\n",
       "    <tr>\n",
       "      <th>8</th>\n",
       "      <td>Principal Data Scientist - AdTech</td>\n",
       "      <td>Bangalore/Bengaluru</td>\n",
       "      <td>Walmart Labs</td>\n",
       "      <td>10-14 Yrs</td>\n",
       "      <td>Not disclosed</td>\n",
       "      <td>Hiring For Data Scientist / Statistical Analyst</td>\n",
       "    </tr>\n",
       "    <tr>\n",
       "      <th>9</th>\n",
       "      <td>Data Scientist</td>\n",
       "      <td>Bangalore/Bengaluru</td>\n",
       "      <td>Walmart Labs</td>\n",
       "      <td>4-8 Yrs</td>\n",
       "      <td>Not disclosed</td>\n",
       "      <td>Associate Data Scientist</td>\n",
       "    </tr>\n",
       "  </tbody>\n",
       "</table>\n",
       "</div>"
      ],
      "text/plain": [
       "                                           Job_title  \\\n",
       "0                              Senior Data Scientist   \n",
       "1                              Senior Data Scientist   \n",
       "2                              SENIOR DATA SCIENTIST   \n",
       "3                          Senior Data Scientist IN4   \n",
       "4                Senior Data Scientist (Marketplace)   \n",
       "5  Requirement For Data Scientist - Mumbai & Bang...   \n",
       "6    Hiring For Data Scientist / Statistical Analyst   \n",
       "7                           Associate Data Scientist   \n",
       "8                  Principal Data Scientist - AdTech   \n",
       "9                                     Data Scientist   \n",
       "\n",
       "                                  Location  \\\n",
       "0                      Bangalore/Bengaluru   \n",
       "1                      Bangalore/Bengaluru   \n",
       "2                      Bangalore/Bengaluru   \n",
       "3                      Bangalore/Bengaluru   \n",
       "4                      Bangalore/Bengaluru   \n",
       "5  Bangalore/Bengaluru, Mumbai (All Areas)   \n",
       "6                      Bangalore/Bengaluru   \n",
       "7                      Bangalore/Bengaluru   \n",
       "8                      Bangalore/Bengaluru   \n",
       "9                      Bangalore/Bengaluru   \n",
       "\n",
       "                                      Companies Experience_Required  \\\n",
       "0                                  Walmart Labs            6-10 Yrs   \n",
       "1                                        Airbnb            7-12 Yrs   \n",
       "2           Happiest Minds Technologies Pvt.Ltd            5-10 Yrs   \n",
       "3                                  Walmart Labs            7-10 Yrs   \n",
       "4                                  Walmart Labs             4-8 Yrs   \n",
       "5                                CRISIL LIMITED             2-6 Yrs   \n",
       "6  ManpowerGroup Services India Private Limited             2-4 Yrs   \n",
       "7                         Philips India Limited             3-5 Yrs   \n",
       "8                                  Walmart Labs           10-14 Yrs   \n",
       "9                                  Walmart Labs             4-8 Yrs   \n",
       "\n",
       "                Salary_tags                                    Job-Discription  \n",
       "0             Not disclosed                           Lead Data Scientist BFSI  \n",
       "1             Not disclosed                 Data Scientist: Advanced Analytics  \n",
       "2             Not disclosed                              Senior Data Scientist  \n",
       "3             Not disclosed                              Senior Data Scientist  \n",
       "4             Not disclosed                              SENIOR DATA SCIENTIST  \n",
       "5             Not disclosed                          Senior Data Scientist IN4  \n",
       "6  6,00,000 - 10,00,000 PA.                Senior Data Scientist (Marketplace)  \n",
       "7             Not disclosed  Requirement For Data Scientist - Mumbai & Bang...  \n",
       "8             Not disclosed    Hiring For Data Scientist / Statistical Analyst  \n",
       "9             Not disclosed                           Associate Data Scientist  "
      ]
     },
     "execution_count": 194,
     "metadata": {},
     "output_type": "execute_result"
    }
   ],
   "source": [
    "df=pd.DataFrame({})\n",
    "df['Job_title']=job_title\n",
    "df['Location']=Loc_tags\n",
    "df['Companies']=Companies_tags\n",
    "df['Experience_Required']=Experience_tags\n",
    "df['Salary_tags']=Salary_tags\n",
    "df['Job-Discription']=Search_discription\n",
    "df.head(10)"
   ]
  },
  {
   "cell_type": "code",
   "execution_count": 170,
   "metadata": {},
   "outputs": [],
   "source": [
    "#Job_discription=[]\n",
    "#for i in Url:\n",
    "#    driver.get(i)\n",
    " #   #Extracting job discription\n",
    "  #  #try:\n",
    "   # job_discription=driver.find_elements_by_xpath('//[@[class=\"dang-inner-html\"]]')\n",
    "    #Job_discription.append(job_discription.text)\n",
    "    #except:\n",
    "        #Job_discription.append(\"--\")\n",
    "        \n",
    "#Job_discription"
   ]
  },
  {
   "cell_type": "markdown",
   "metadata": {},
   "source": [
    "# Q3: In this question you have to scrape data using the filters available on the \n",
    "webpage as shown below:\n",
    "    \n",
    "You have to use the location and salary filter.\n",
    "You have to scrape data for “Data Scientist” designation for first 10 job results.\n",
    "You have to scrape the job-title, job-location, company_name,\n",
    "experience_required.\n",
    "The location filter to be used is “Delhi/NCR”\n",
    "The salary filter to be used is “3-6” lakhs\n",
    "The task will be done as shown in the picture.\n",
    "\n",
    "1. first get the webpage https://www.naukri.com/\n",
    "2. Enter “Data Scientist” in “Skill,Designations,Companies” field .\n",
    "3. Then click the search button.\n",
    "4. Then apply the location filter and salary filter by checking the respective boxes\n",
    "4. Then scrape the data for the first 10 jobs results you get.\n",
    "5. Finally create a dataframe of the scraped data.\n",
    "Note- All of the above steps have to be done in code. No step is to be done \n",
    "manually"
   ]
  },
  {
   "cell_type": "code",
   "execution_count": 171,
   "metadata": {},
   "outputs": [
    {
     "data": {
      "text/plain": [
       "<selenium.webdriver.chrome.webdriver.WebDriver (session=\"9470da301a940fcfe9f32448686e8fde\")>"
      ]
     },
     "execution_count": 171,
     "metadata": {},
     "output_type": "execute_result"
    }
   ],
   "source": [
    "driver=webdriver.Chrome('chromedriver.exe')\n",
    "driver"
   ]
  },
  {
   "cell_type": "code",
   "execution_count": 172,
   "metadata": {},
   "outputs": [],
   "source": [
    "url='https://www.naukri.com/'\n",
    "driver.get(url)"
   ]
  },
  {
   "cell_type": "code",
   "execution_count": 173,
   "metadata": {},
   "outputs": [
    {
     "data": {
      "text/plain": [
       "<selenium.webdriver.remote.webelement.WebElement (session=\"9470da301a940fcfe9f32448686e8fde\", element=\"9989cd08-3ab8-4d1a-a6b1-dd483b6e52b9\")>"
      ]
     },
     "execution_count": 173,
     "metadata": {},
     "output_type": "execute_result"
    }
   ],
   "source": [
    "#search_job.send_keys(\"Data Analyst\")\n",
    "search_job=driver.find_element_by_xpath('//input[@class=\"sugInp\"]')\n",
    "search_job\n",
    "\n",
    "#do click on xpath functiom\n"
   ]
  },
  {
   "cell_type": "code",
   "execution_count": 174,
   "metadata": {},
   "outputs": [
    {
     "data": {
      "text/plain": [
       "<selenium.webdriver.remote.webelement.WebElement (session=\"9470da301a940fcfe9f32448686e8fde\", element=\"9989cd08-3ab8-4d1a-a6b1-dd483b6e52b9\")>"
      ]
     },
     "execution_count": 174,
     "metadata": {},
     "output_type": "execute_result"
    }
   ],
   "source": [
    "#write on search bar\n",
    "search_job.send_keys(\"Data Scientist\")\n",
    "search_job"
   ]
  },
  {
   "cell_type": "code",
   "execution_count": 175,
   "metadata": {},
   "outputs": [],
   "source": [
    "#finding element for job location bar\n",
    "search_loc=driver.find_element_by_xpath('//input[@name=\"location\"]')\n",
    "search_loc.send_keys(\"Bangalore\")"
   ]
  },
  {
   "cell_type": "code",
   "execution_count": 176,
   "metadata": {},
   "outputs": [],
   "source": [
    "search_btn=driver.find_element_by_xpath('//button[@class=\"btn\"]')\n",
    "search_btn.click()"
   ]
  },
  {
   "cell_type": "code",
   "execution_count": null,
   "metadata": {},
   "outputs": [],
   "source": []
  },
  {
   "cell_type": "code",
   "execution_count": 177,
   "metadata": {},
   "outputs": [
    {
     "data": {
      "text/plain": [
       "<selenium.webdriver.remote.webelement.WebElement (session=\"9470da301a940fcfe9f32448686e8fde\", element=\"5a323b2e-864e-47f6-affc-771b80654644\")>"
      ]
     },
     "execution_count": 177,
     "metadata": {},
     "output_type": "execute_result"
    }
   ],
   "source": [
    "loc_box=driver.find_element_by_xpath('//span[@class=\"ellipsis fleft\" and @title=\"Bangalore/Bengaluru\"]')\n",
    "loc_box"
   ]
  },
  {
   "cell_type": "code",
   "execution_count": 178,
   "metadata": {},
   "outputs": [],
   "source": [
    "loc_box.click()"
   ]
  },
  {
   "cell_type": "code",
   "execution_count": 179,
   "metadata": {},
   "outputs": [
    {
     "data": {
      "text/plain": [
       "<selenium.webdriver.remote.webelement.WebElement (session=\"9470da301a940fcfe9f32448686e8fde\", element=\"e0275114-7ff8-438f-9e5a-1b84768132d3\")>"
      ]
     },
     "execution_count": 179,
     "metadata": {},
     "output_type": "execute_result"
    }
   ],
   "source": [
    "salary_box=driver.find_element_by_xpath('//span[@class=\"ellipsis fleft\" and @title=\"10-15 Lakhs\"]')\n",
    "salary_box"
   ]
  },
  {
   "cell_type": "code",
   "execution_count": 180,
   "metadata": {},
   "outputs": [],
   "source": [
    "salary_box.click()"
   ]
  },
  {
   "cell_type": "code",
   "execution_count": 181,
   "metadata": {},
   "outputs": [
    {
     "data": {
      "text/plain": [
       "[<selenium.webdriver.remote.webelement.WebElement (session=\"9470da301a940fcfe9f32448686e8fde\", element=\"1075dce6-9c6d-4db8-ba18-a39384bbb106\")>,\n",
       " <selenium.webdriver.remote.webelement.WebElement (session=\"9470da301a940fcfe9f32448686e8fde\", element=\"6ee4e9ff-73f0-4c2c-a0ba-3ed0eadaa958\")>,\n",
       " <selenium.webdriver.remote.webelement.WebElement (session=\"9470da301a940fcfe9f32448686e8fde\", element=\"500615fb-cc54-4cea-aa85-aae02b956e15\")>,\n",
       " <selenium.webdriver.remote.webelement.WebElement (session=\"9470da301a940fcfe9f32448686e8fde\", element=\"409625b1-6879-49f2-9816-fe9f9f731d5d\")>,\n",
       " <selenium.webdriver.remote.webelement.WebElement (session=\"9470da301a940fcfe9f32448686e8fde\", element=\"ccf2c0f3-9195-4c35-ad3a-950f23546058\")>,\n",
       " <selenium.webdriver.remote.webelement.WebElement (session=\"9470da301a940fcfe9f32448686e8fde\", element=\"971a7724-0a49-4746-9e68-9a891aa9256b\")>,\n",
       " <selenium.webdriver.remote.webelement.WebElement (session=\"9470da301a940fcfe9f32448686e8fde\", element=\"065702af-5ff6-4fc1-811d-d606e032516d\")>,\n",
       " <selenium.webdriver.remote.webelement.WebElement (session=\"9470da301a940fcfe9f32448686e8fde\", element=\"639702f5-1cac-4a98-8e4a-340c46165345\")>,\n",
       " <selenium.webdriver.remote.webelement.WebElement (session=\"9470da301a940fcfe9f32448686e8fde\", element=\"2fd4ffc2-995e-4628-a37b-0c9288e2152a\")>,\n",
       " <selenium.webdriver.remote.webelement.WebElement (session=\"9470da301a940fcfe9f32448686e8fde\", element=\"ec138884-3398-46ab-a793-49f28b9af392\")>,\n",
       " <selenium.webdriver.remote.webelement.WebElement (session=\"9470da301a940fcfe9f32448686e8fde\", element=\"0faca0af-cc23-4e41-801c-e0d790541bdc\")>,\n",
       " <selenium.webdriver.remote.webelement.WebElement (session=\"9470da301a940fcfe9f32448686e8fde\", element=\"2cc2d08b-7ae5-4a37-bd25-2000399d2011\")>,\n",
       " <selenium.webdriver.remote.webelement.WebElement (session=\"9470da301a940fcfe9f32448686e8fde\", element=\"01db5553-6c9e-496f-b9c8-b48ba609c40a\")>,\n",
       " <selenium.webdriver.remote.webelement.WebElement (session=\"9470da301a940fcfe9f32448686e8fde\", element=\"49fdd2db-c650-40ab-87d6-87e79f1b2af7\")>,\n",
       " <selenium.webdriver.remote.webelement.WebElement (session=\"9470da301a940fcfe9f32448686e8fde\", element=\"1f159831-7dc9-4af4-a1e4-915ba6afd734\")>,\n",
       " <selenium.webdriver.remote.webelement.WebElement (session=\"9470da301a940fcfe9f32448686e8fde\", element=\"4b5366e4-3d84-4bee-9611-859206ca055f\")>,\n",
       " <selenium.webdriver.remote.webelement.WebElement (session=\"9470da301a940fcfe9f32448686e8fde\", element=\"464d1726-cd82-47a0-be7e-940cd5c21ac4\")>,\n",
       " <selenium.webdriver.remote.webelement.WebElement (session=\"9470da301a940fcfe9f32448686e8fde\", element=\"5bdf8bd5-83a3-4093-8b6e-1ae72a89e2cf\")>,\n",
       " <selenium.webdriver.remote.webelement.WebElement (session=\"9470da301a940fcfe9f32448686e8fde\", element=\"622306c1-4d34-4c11-b260-7c031e3a15d3\")>,\n",
       " <selenium.webdriver.remote.webelement.WebElement (session=\"9470da301a940fcfe9f32448686e8fde\", element=\"f6af3a90-d805-4b15-8ae1-704c3deea094\")>]"
      ]
     },
     "execution_count": 181,
     "metadata": {},
     "output_type": "execute_result"
    }
   ],
   "source": [
    "#so lets extract all the tags having the job-titles\n",
    "titles_tags=driver.find_elements_by_xpath('//a[@class=\"title fw500 ellipsis\"]')\n",
    "titles_tags"
   ]
  },
  {
   "cell_type": "code",
   "execution_count": 182,
   "metadata": {},
   "outputs": [
    {
     "data": {
      "text/plain": [
       "['Senior Data Scientist',\n",
       " 'Senior Data Scientist',\n",
       " 'SENIOR DATA SCIENTIST',\n",
       " 'Senior Data Scientist IN4',\n",
       " 'Senior Data Scientist (Marketplace)',\n",
       " 'Requirement For Data Scientist - Mumbai & Bangalore',\n",
       " 'Hiring For Data Scientist / Statistical Analyst',\n",
       " 'Associate Data Scientist',\n",
       " 'Principal Data Scientist - AdTech',\n",
       " 'Data Scientist',\n",
       " 'Data Scientist',\n",
       " 'Data Scientist',\n",
       " 'Data Scientist',\n",
       " 'Senior Data Scientist, Payments compliance',\n",
       " 'Senior Data Scientist',\n",
       " 'Sr Data Scientist',\n",
       " 'Senior Data Scientist',\n",
       " 'Data Scientist (Python & SQL)',\n",
       " 'Lead Data Scientist',\n",
       " 'Senior Data Scientist - Python/Machine Learning Algorithms']"
      ]
     },
     "execution_count": 182,
     "metadata": {},
     "output_type": "execute_result"
    }
   ],
   "source": [
    "#now the text form the job title inside the text extracted above\n",
    "#so we run the loop to iterate over the tags extracted above and extract the text inside them.\n",
    "\n",
    "job_title=[]\n",
    "for i in titles_tags:\n",
    "    job_title.append(i.text)\n",
    "job_title"
   ]
  },
  {
   "cell_type": "markdown",
   "metadata": {},
   "source": [
    "# we do same for the company name,salary,and expericed required\n",
    "Now we will extract al the html tags where we have the company names."
   ]
  },
  {
   "cell_type": "code",
   "execution_count": 183,
   "metadata": {},
   "outputs": [
    {
     "data": {
      "text/plain": [
       "[<selenium.webdriver.remote.webelement.WebElement (session=\"9470da301a940fcfe9f32448686e8fde\", element=\"fe090e4e-93da-4222-ba3e-1b6b861e16a4\")>,\n",
       " <selenium.webdriver.remote.webelement.WebElement (session=\"9470da301a940fcfe9f32448686e8fde\", element=\"9f98da61-c722-4646-8e97-6d75a7f96f78\")>,\n",
       " <selenium.webdriver.remote.webelement.WebElement (session=\"9470da301a940fcfe9f32448686e8fde\", element=\"098e3cd0-fe4c-49c1-a07d-9ef14e6afe63\")>,\n",
       " <selenium.webdriver.remote.webelement.WebElement (session=\"9470da301a940fcfe9f32448686e8fde\", element=\"5dc2cd7f-25e0-4ba0-b0bc-4db2a45b2585\")>,\n",
       " <selenium.webdriver.remote.webelement.WebElement (session=\"9470da301a940fcfe9f32448686e8fde\", element=\"dd3729b9-4aed-42ef-91c9-8d10f6caf8dd\")>,\n",
       " <selenium.webdriver.remote.webelement.WebElement (session=\"9470da301a940fcfe9f32448686e8fde\", element=\"541f0c24-30ca-4450-bbd4-fe40cf3ffb3a\")>,\n",
       " <selenium.webdriver.remote.webelement.WebElement (session=\"9470da301a940fcfe9f32448686e8fde\", element=\"f51ddaa4-c870-4d98-9e82-ecdcb4efa3ff\")>,\n",
       " <selenium.webdriver.remote.webelement.WebElement (session=\"9470da301a940fcfe9f32448686e8fde\", element=\"14801d15-521f-47ed-9bd2-ae5edb01bb65\")>,\n",
       " <selenium.webdriver.remote.webelement.WebElement (session=\"9470da301a940fcfe9f32448686e8fde\", element=\"0d54d81f-07dc-4173-98af-8ac65fe0c200\")>,\n",
       " <selenium.webdriver.remote.webelement.WebElement (session=\"9470da301a940fcfe9f32448686e8fde\", element=\"59844cff-f3de-48f6-8ee8-f2607095b5ac\")>,\n",
       " <selenium.webdriver.remote.webelement.WebElement (session=\"9470da301a940fcfe9f32448686e8fde\", element=\"2016b395-4470-4039-b645-3b3e3a92ecf8\")>,\n",
       " <selenium.webdriver.remote.webelement.WebElement (session=\"9470da301a940fcfe9f32448686e8fde\", element=\"d36e6540-d4be-430a-b20b-efd0e7b2b52e\")>,\n",
       " <selenium.webdriver.remote.webelement.WebElement (session=\"9470da301a940fcfe9f32448686e8fde\", element=\"d9a7cdd4-a222-42e1-bf7d-3a5d9338661e\")>,\n",
       " <selenium.webdriver.remote.webelement.WebElement (session=\"9470da301a940fcfe9f32448686e8fde\", element=\"85c0c9fc-50ff-48e6-acfd-3ff161e3413b\")>,\n",
       " <selenium.webdriver.remote.webelement.WebElement (session=\"9470da301a940fcfe9f32448686e8fde\", element=\"fd255116-10df-4e98-9a03-f0c687883155\")>,\n",
       " <selenium.webdriver.remote.webelement.WebElement (session=\"9470da301a940fcfe9f32448686e8fde\", element=\"6b9c1966-0cb6-4364-acbf-2eebfe984201\")>,\n",
       " <selenium.webdriver.remote.webelement.WebElement (session=\"9470da301a940fcfe9f32448686e8fde\", element=\"2a0d59d2-ff32-4fb5-aa5e-2c32a041c235\")>,\n",
       " <selenium.webdriver.remote.webelement.WebElement (session=\"9470da301a940fcfe9f32448686e8fde\", element=\"8f14717a-4fe5-4629-a07b-f4e6d5835842\")>,\n",
       " <selenium.webdriver.remote.webelement.WebElement (session=\"9470da301a940fcfe9f32448686e8fde\", element=\"22dec345-86e0-4820-acd8-d5a32ad651fd\")>,\n",
       " <selenium.webdriver.remote.webelement.WebElement (session=\"9470da301a940fcfe9f32448686e8fde\", element=\"2226a3c2-7f2b-4a9c-8b0e-e38f4de66c25\")>]"
      ]
     },
     "execution_count": 183,
     "metadata": {},
     "output_type": "execute_result"
    }
   ],
   "source": [
    "companies_tags=driver.find_elements_by_xpath('//a[@class=\"subTitle ellipsis fleft\"]')\n",
    "companies_tags"
   ]
  },
  {
   "cell_type": "code",
   "execution_count": 184,
   "metadata": {},
   "outputs": [
    {
     "data": {
      "text/plain": [
       "['Walmart Labs',\n",
       " 'Airbnb',\n",
       " 'Happiest Minds Technologies Pvt.Ltd',\n",
       " 'Walmart Labs',\n",
       " 'Walmart Labs',\n",
       " 'CRISIL LIMITED',\n",
       " 'ManpowerGroup Services India Private Limited',\n",
       " 'Philips India Limited',\n",
       " 'Walmart Labs',\n",
       " 'Walmart Labs',\n",
       " 'PRESCIENCE DECISION SOLUTIONS PRIVATE LIMITED',\n",
       " 'Walmart Labs',\n",
       " 'Oracle India Pvt. Ltd.',\n",
       " 'AIRBNB GLOBAL CAPABILITY CENTER PRIVATE LIMITED',\n",
       " 'ANT work',\n",
       " 'IBM India Pvt. Limited',\n",
       " 'Philips India Limited',\n",
       " 'AVE-Promagne',\n",
       " 'Zycus Infotech Pvt Ltd',\n",
       " 'Altimax Business Solutions']"
      ]
     },
     "execution_count": 184,
     "metadata": {},
     "output_type": "execute_result"
    }
   ],
   "source": [
    "#so we run the loop to iterate over the tags extracted above and extract the text inside them.\n",
    "\n",
    "Companies_tags=[]\n",
    "for i in companies_tags:\n",
    "    Companies_tags.append(i.text)\n",
    "Companies_tags"
   ]
  },
  {
   "cell_type": "code",
   "execution_count": 185,
   "metadata": {},
   "outputs": [
    {
     "data": {
      "text/plain": [
       "[<selenium.webdriver.remote.webelement.WebElement (session=\"9470da301a940fcfe9f32448686e8fde\", element=\"3fc573e3-17c9-4ddc-be64-dc6234ba32a6\")>,\n",
       " <selenium.webdriver.remote.webelement.WebElement (session=\"9470da301a940fcfe9f32448686e8fde\", element=\"989ee99d-2c25-485e-837d-7c8fedbd3704\")>,\n",
       " <selenium.webdriver.remote.webelement.WebElement (session=\"9470da301a940fcfe9f32448686e8fde\", element=\"e135896d-dd22-44c8-9802-69d324048c69\")>,\n",
       " <selenium.webdriver.remote.webelement.WebElement (session=\"9470da301a940fcfe9f32448686e8fde\", element=\"0431632e-2135-4c20-82f2-58e13b28f1cb\")>,\n",
       " <selenium.webdriver.remote.webelement.WebElement (session=\"9470da301a940fcfe9f32448686e8fde\", element=\"2d67c0c2-cc10-4360-b868-509069dc4175\")>,\n",
       " <selenium.webdriver.remote.webelement.WebElement (session=\"9470da301a940fcfe9f32448686e8fde\", element=\"8f0dd21d-2b50-4932-a139-00b056e55753\")>,\n",
       " <selenium.webdriver.remote.webelement.WebElement (session=\"9470da301a940fcfe9f32448686e8fde\", element=\"b6e42059-f982-41f4-b7ac-95c662fb7faa\")>,\n",
       " <selenium.webdriver.remote.webelement.WebElement (session=\"9470da301a940fcfe9f32448686e8fde\", element=\"4bf6cf7f-479b-407f-b7f7-e7c341a6b59a\")>,\n",
       " <selenium.webdriver.remote.webelement.WebElement (session=\"9470da301a940fcfe9f32448686e8fde\", element=\"598a2814-f965-4b51-8c44-cdf5b9c4f9d1\")>,\n",
       " <selenium.webdriver.remote.webelement.WebElement (session=\"9470da301a940fcfe9f32448686e8fde\", element=\"0c944321-2f62-4607-a3cc-666217819509\")>,\n",
       " <selenium.webdriver.remote.webelement.WebElement (session=\"9470da301a940fcfe9f32448686e8fde\", element=\"e37ba334-5bb0-4e89-ba26-c123b7723a2a\")>,\n",
       " <selenium.webdriver.remote.webelement.WebElement (session=\"9470da301a940fcfe9f32448686e8fde\", element=\"b791b722-38ab-4f45-9947-a7845266af64\")>,\n",
       " <selenium.webdriver.remote.webelement.WebElement (session=\"9470da301a940fcfe9f32448686e8fde\", element=\"12cc66d7-b134-42ae-a0b5-021a5376eaa7\")>,\n",
       " <selenium.webdriver.remote.webelement.WebElement (session=\"9470da301a940fcfe9f32448686e8fde\", element=\"bb9d4339-d823-4b8b-8623-c7e5796682cb\")>,\n",
       " <selenium.webdriver.remote.webelement.WebElement (session=\"9470da301a940fcfe9f32448686e8fde\", element=\"ccc932f8-1066-4c16-8580-7d7e37028731\")>,\n",
       " <selenium.webdriver.remote.webelement.WebElement (session=\"9470da301a940fcfe9f32448686e8fde\", element=\"f3bb82dd-1995-4111-a2e4-4942ed0af64d\")>,\n",
       " <selenium.webdriver.remote.webelement.WebElement (session=\"9470da301a940fcfe9f32448686e8fde\", element=\"9af2347b-f23d-491d-a3f8-9107a5c2d068\")>,\n",
       " <selenium.webdriver.remote.webelement.WebElement (session=\"9470da301a940fcfe9f32448686e8fde\", element=\"bde28627-e4fb-451f-8bfe-decde2de3918\")>,\n",
       " <selenium.webdriver.remote.webelement.WebElement (session=\"9470da301a940fcfe9f32448686e8fde\", element=\"28b5122b-1401-4286-aed7-3178987409da\")>,\n",
       " <selenium.webdriver.remote.webelement.WebElement (session=\"9470da301a940fcfe9f32448686e8fde\", element=\"c770379f-378e-4832-aa7e-09bfef1b20b4\")>]"
      ]
     },
     "execution_count": 185,
     "metadata": {},
     "output_type": "execute_result"
    }
   ],
   "source": [
    "loc_tags=driver.find_elements_by_xpath('//li[@class=\"fleft grey-text br2 placeHolderLi location\"]')\n",
    "loc_tags"
   ]
  },
  {
   "cell_type": "code",
   "execution_count": 186,
   "metadata": {},
   "outputs": [
    {
     "data": {
      "text/plain": [
       "['Bangalore/Bengaluru',\n",
       " 'Bangalore/Bengaluru',\n",
       " 'Bangalore/Bengaluru',\n",
       " 'Bangalore/Bengaluru',\n",
       " 'Bangalore/Bengaluru',\n",
       " 'Bangalore/Bengaluru, Mumbai (All Areas)',\n",
       " 'Bangalore/Bengaluru',\n",
       " 'Bangalore/Bengaluru',\n",
       " 'Bangalore/Bengaluru',\n",
       " 'Bangalore/Bengaluru',\n",
       " 'Bangalore/Bengaluru\\n(WFH during Covid)',\n",
       " 'Bangalore/Bengaluru',\n",
       " 'Noida, Bangalore/Bengaluru',\n",
       " 'Bangalore/Bengaluru',\n",
       " 'Bangalore/Bengaluru',\n",
       " 'Bangalore/Bengaluru',\n",
       " 'Bangalore/Bengaluru',\n",
       " 'Hyderabad/Secunderabad, Chennai, Bangalore/Bengaluru',\n",
       " 'Bangalore/Bengaluru',\n",
       " 'Mumbai, Hyderabad/Secunderabad, Pune, Bangalore/Bengaluru']"
      ]
     },
     "execution_count": 186,
     "metadata": {},
     "output_type": "execute_result"
    }
   ],
   "source": [
    "#so we run the loop to iterate over the tags extracted above and extract the text inside them.\n",
    "\n",
    "Loc_tags=[]\n",
    "for i in loc_tags:\n",
    "    Loc_tags.append(i.text)\n",
    "Loc_tags"
   ]
  },
  {
   "cell_type": "code",
   "execution_count": 187,
   "metadata": {},
   "outputs": [
    {
     "data": {
      "text/plain": [
       "[<selenium.webdriver.remote.webelement.WebElement (session=\"9470da301a940fcfe9f32448686e8fde\", element=\"4bd71ae4-0615-4282-a684-2b90f0c49f12\")>,\n",
       " <selenium.webdriver.remote.webelement.WebElement (session=\"9470da301a940fcfe9f32448686e8fde\", element=\"7ea24f85-8f1d-49a0-93f9-62b0e4e8296f\")>,\n",
       " <selenium.webdriver.remote.webelement.WebElement (session=\"9470da301a940fcfe9f32448686e8fde\", element=\"ac823c69-6fb4-409e-a395-8add59a8888f\")>,\n",
       " <selenium.webdriver.remote.webelement.WebElement (session=\"9470da301a940fcfe9f32448686e8fde\", element=\"d1e50849-9b67-4950-9b00-e78e98aea3b7\")>,\n",
       " <selenium.webdriver.remote.webelement.WebElement (session=\"9470da301a940fcfe9f32448686e8fde\", element=\"016ffddf-f26e-47e2-89af-21e09805b690\")>,\n",
       " <selenium.webdriver.remote.webelement.WebElement (session=\"9470da301a940fcfe9f32448686e8fde\", element=\"8536ddcf-2d82-41c1-b9a2-0abeed9d8be8\")>,\n",
       " <selenium.webdriver.remote.webelement.WebElement (session=\"9470da301a940fcfe9f32448686e8fde\", element=\"ed089dfe-65d8-4a20-b8fb-0d2f0ac719be\")>,\n",
       " <selenium.webdriver.remote.webelement.WebElement (session=\"9470da301a940fcfe9f32448686e8fde\", element=\"96fe686f-6397-4c2c-9ad8-4336ddb7b1ac\")>,\n",
       " <selenium.webdriver.remote.webelement.WebElement (session=\"9470da301a940fcfe9f32448686e8fde\", element=\"ef1b9f52-c174-4dee-8719-d815f7f363f5\")>,\n",
       " <selenium.webdriver.remote.webelement.WebElement (session=\"9470da301a940fcfe9f32448686e8fde\", element=\"fca7ab38-2260-4ab4-b1cb-c04f71a410ce\")>,\n",
       " <selenium.webdriver.remote.webelement.WebElement (session=\"9470da301a940fcfe9f32448686e8fde\", element=\"cb4c5897-e08b-469e-8014-899da1d9ef2a\")>,\n",
       " <selenium.webdriver.remote.webelement.WebElement (session=\"9470da301a940fcfe9f32448686e8fde\", element=\"d7ab82dc-09bd-48fc-9b25-8efdd69b336d\")>,\n",
       " <selenium.webdriver.remote.webelement.WebElement (session=\"9470da301a940fcfe9f32448686e8fde\", element=\"30f37950-d48e-4917-84a2-6e1011155245\")>,\n",
       " <selenium.webdriver.remote.webelement.WebElement (session=\"9470da301a940fcfe9f32448686e8fde\", element=\"eba47c1e-a169-408b-b609-5d2b89c19144\")>,\n",
       " <selenium.webdriver.remote.webelement.WebElement (session=\"9470da301a940fcfe9f32448686e8fde\", element=\"dddaba55-4452-4652-abf6-3dc8e6726c5f\")>,\n",
       " <selenium.webdriver.remote.webelement.WebElement (session=\"9470da301a940fcfe9f32448686e8fde\", element=\"a6c6d19b-49e6-4e7b-bbe1-c2445d04f85c\")>,\n",
       " <selenium.webdriver.remote.webelement.WebElement (session=\"9470da301a940fcfe9f32448686e8fde\", element=\"6828778e-c6f4-4585-8320-974d30071ca5\")>,\n",
       " <selenium.webdriver.remote.webelement.WebElement (session=\"9470da301a940fcfe9f32448686e8fde\", element=\"d1e039b2-1062-477e-822f-d307099e9ca8\")>,\n",
       " <selenium.webdriver.remote.webelement.WebElement (session=\"9470da301a940fcfe9f32448686e8fde\", element=\"71b1b405-4540-4b3e-899d-f54534e5c800\")>,\n",
       " <selenium.webdriver.remote.webelement.WebElement (session=\"9470da301a940fcfe9f32448686e8fde\", element=\"17925adb-5b6a-4c5e-96e1-14f9064a7a9b\")>]"
      ]
     },
     "execution_count": 187,
     "metadata": {},
     "output_type": "execute_result"
    }
   ],
   "source": [
    "experience_tags=driver.find_elements_by_xpath('//li[@class=\"fleft grey-text br2 placeHolderLi experience\"]//span')\n",
    "experience_tags"
   ]
  },
  {
   "cell_type": "code",
   "execution_count": 188,
   "metadata": {},
   "outputs": [
    {
     "data": {
      "text/plain": [
       "['6-10 Yrs',\n",
       " '7-12 Yrs',\n",
       " '5-10 Yrs',\n",
       " '7-10 Yrs',\n",
       " '4-8 Yrs',\n",
       " '2-6 Yrs',\n",
       " '2-4 Yrs',\n",
       " '3-5 Yrs',\n",
       " '10-14 Yrs',\n",
       " '4-8 Yrs',\n",
       " '5-10 Yrs',\n",
       " '4-8 Yrs',\n",
       " '5-9 Yrs',\n",
       " '4-9 Yrs',\n",
       " '9-14 Yrs',\n",
       " '6-8 Yrs',\n",
       " '8-10 Yrs',\n",
       " '6-8 Yrs',\n",
       " '14-20 Yrs',\n",
       " '4-9 Yrs']"
      ]
     },
     "execution_count": 188,
     "metadata": {},
     "output_type": "execute_result"
    }
   ],
   "source": [
    "Experience_tags=[]\n",
    "for i in experience_tags:\n",
    "    Experience_tags.append(i.text)\n",
    "Experience_tags"
   ]
  },
  {
   "cell_type": "code",
   "execution_count": 189,
   "metadata": {},
   "outputs": [
    {
     "data": {
      "text/plain": [
       "[<selenium.webdriver.remote.webelement.WebElement (session=\"9470da301a940fcfe9f32448686e8fde\", element=\"ff9dd39a-7255-4cb9-86da-ffb087a37d77\")>,\n",
       " <selenium.webdriver.remote.webelement.WebElement (session=\"9470da301a940fcfe9f32448686e8fde\", element=\"92ab0b01-b0d7-4058-8d33-c69c5c8b906e\")>,\n",
       " <selenium.webdriver.remote.webelement.WebElement (session=\"9470da301a940fcfe9f32448686e8fde\", element=\"6532b2fa-5f25-439b-b0de-cb6725ab760c\")>,\n",
       " <selenium.webdriver.remote.webelement.WebElement (session=\"9470da301a940fcfe9f32448686e8fde\", element=\"fc9c5f84-2189-42a2-96cf-643f00dca723\")>,\n",
       " <selenium.webdriver.remote.webelement.WebElement (session=\"9470da301a940fcfe9f32448686e8fde\", element=\"0fd61541-c74d-4834-9ba8-853abc5520ed\")>,\n",
       " <selenium.webdriver.remote.webelement.WebElement (session=\"9470da301a940fcfe9f32448686e8fde\", element=\"1fd35be3-0be9-4385-a149-542de468bf3d\")>,\n",
       " <selenium.webdriver.remote.webelement.WebElement (session=\"9470da301a940fcfe9f32448686e8fde\", element=\"1d8465a5-56a4-404b-a05c-70b38c105d5a\")>,\n",
       " <selenium.webdriver.remote.webelement.WebElement (session=\"9470da301a940fcfe9f32448686e8fde\", element=\"4e42fc36-5261-4fd6-bf2d-f730aa9f837a\")>,\n",
       " <selenium.webdriver.remote.webelement.WebElement (session=\"9470da301a940fcfe9f32448686e8fde\", element=\"11d6360b-5d8c-448a-96ee-7a0221f047a2\")>,\n",
       " <selenium.webdriver.remote.webelement.WebElement (session=\"9470da301a940fcfe9f32448686e8fde\", element=\"74dcb345-bcb8-451f-8661-cd410f117f2e\")>,\n",
       " <selenium.webdriver.remote.webelement.WebElement (session=\"9470da301a940fcfe9f32448686e8fde\", element=\"eb1157ee-c2fd-4d40-9854-9384bfeb510c\")>,\n",
       " <selenium.webdriver.remote.webelement.WebElement (session=\"9470da301a940fcfe9f32448686e8fde\", element=\"acc51a7c-14a0-4eac-82ba-97bc2a7df00f\")>,\n",
       " <selenium.webdriver.remote.webelement.WebElement (session=\"9470da301a940fcfe9f32448686e8fde\", element=\"c86f3ba0-6610-490f-8d67-76a91f325517\")>,\n",
       " <selenium.webdriver.remote.webelement.WebElement (session=\"9470da301a940fcfe9f32448686e8fde\", element=\"c6da18d7-e8af-4a83-ba28-ca03bb6c6c26\")>,\n",
       " <selenium.webdriver.remote.webelement.WebElement (session=\"9470da301a940fcfe9f32448686e8fde\", element=\"f413f48f-2b2e-4e3e-832f-7a7358138cd2\")>,\n",
       " <selenium.webdriver.remote.webelement.WebElement (session=\"9470da301a940fcfe9f32448686e8fde\", element=\"5e8febd1-482a-4947-9b4e-193b587eda6a\")>,\n",
       " <selenium.webdriver.remote.webelement.WebElement (session=\"9470da301a940fcfe9f32448686e8fde\", element=\"40fa5483-43f2-4fbb-ab6f-fa92142fadb4\")>,\n",
       " <selenium.webdriver.remote.webelement.WebElement (session=\"9470da301a940fcfe9f32448686e8fde\", element=\"d25d8134-2df5-4aca-8d01-fc23ddf83107\")>,\n",
       " <selenium.webdriver.remote.webelement.WebElement (session=\"9470da301a940fcfe9f32448686e8fde\", element=\"541dcd89-7608-4266-9b04-3e467cd31998\")>,\n",
       " <selenium.webdriver.remote.webelement.WebElement (session=\"9470da301a940fcfe9f32448686e8fde\", element=\"67bbf454-3174-48d0-82ff-36c48a5d83e4\")>]"
      ]
     },
     "execution_count": 189,
     "metadata": {},
     "output_type": "execute_result"
    }
   ],
   "source": [
    "salary_tags=driver.find_elements_by_xpath('//li[@class=\"fleft grey-text br2 placeHolderLi salary\"]')\n",
    "salary_tags"
   ]
  },
  {
   "cell_type": "code",
   "execution_count": 190,
   "metadata": {},
   "outputs": [
    {
     "data": {
      "text/plain": [
       "['Not disclosed',\n",
       " 'Not disclosed',\n",
       " 'Not disclosed',\n",
       " 'Not disclosed',\n",
       " 'Not disclosed',\n",
       " 'Not disclosed',\n",
       " '6,00,000 - 10,00,000 PA.',\n",
       " 'Not disclosed',\n",
       " 'Not disclosed',\n",
       " 'Not disclosed',\n",
       " 'Not disclosed',\n",
       " 'Not disclosed',\n",
       " '12,00,000 - 22,00,000 PA.',\n",
       " 'Not disclosed',\n",
       " 'Not disclosed',\n",
       " 'Not disclosed',\n",
       " 'Not disclosed',\n",
       " 'Not disclosed',\n",
       " 'Not disclosed',\n",
       " 'Not disclosed']"
      ]
     },
     "execution_count": 190,
     "metadata": {},
     "output_type": "execute_result"
    }
   ],
   "source": [
    "Salary_tags=[]\n",
    "for i in salary_tags:\n",
    "    Salary_tags.append(i.text)\n",
    "Salary_tags"
   ]
  },
  {
   "cell_type": "code",
   "execution_count": 191,
   "metadata": {},
   "outputs": [
    {
     "name": "stdout",
     "output_type": "stream",
     "text": [
      "20 20 20 20 20\n"
     ]
    }
   ],
   "source": [
    "print(len(job_title),len(Companies_tags),len(Loc_tags),len(Salary_tags),len(Experience_tags))"
   ]
  },
  {
   "cell_type": "code",
   "execution_count": 192,
   "metadata": {},
   "outputs": [
    {
     "data": {
      "text/html": [
       "<div>\n",
       "<style scoped>\n",
       "    .dataframe tbody tr th:only-of-type {\n",
       "        vertical-align: middle;\n",
       "    }\n",
       "\n",
       "    .dataframe tbody tr th {\n",
       "        vertical-align: top;\n",
       "    }\n",
       "\n",
       "    .dataframe thead th {\n",
       "        text-align: right;\n",
       "    }\n",
       "</style>\n",
       "<table border=\"1\" class=\"dataframe\">\n",
       "  <thead>\n",
       "    <tr style=\"text-align: right;\">\n",
       "      <th></th>\n",
       "      <th>Job_title</th>\n",
       "      <th>Loc_tags</th>\n",
       "      <th>Companies_tags</th>\n",
       "      <th>Experience_tags</th>\n",
       "      <th>Salary_tags</th>\n",
       "    </tr>\n",
       "  </thead>\n",
       "  <tbody>\n",
       "    <tr>\n",
       "      <th>0</th>\n",
       "      <td>Senior Data Scientist</td>\n",
       "      <td>Bangalore/Bengaluru</td>\n",
       "      <td>Walmart Labs</td>\n",
       "      <td>6-10 Yrs</td>\n",
       "      <td>Not disclosed</td>\n",
       "    </tr>\n",
       "    <tr>\n",
       "      <th>1</th>\n",
       "      <td>Senior Data Scientist</td>\n",
       "      <td>Bangalore/Bengaluru</td>\n",
       "      <td>Airbnb</td>\n",
       "      <td>7-12 Yrs</td>\n",
       "      <td>Not disclosed</td>\n",
       "    </tr>\n",
       "    <tr>\n",
       "      <th>2</th>\n",
       "      <td>SENIOR DATA SCIENTIST</td>\n",
       "      <td>Bangalore/Bengaluru</td>\n",
       "      <td>Happiest Minds Technologies Pvt.Ltd</td>\n",
       "      <td>5-10 Yrs</td>\n",
       "      <td>Not disclosed</td>\n",
       "    </tr>\n",
       "    <tr>\n",
       "      <th>3</th>\n",
       "      <td>Senior Data Scientist IN4</td>\n",
       "      <td>Bangalore/Bengaluru</td>\n",
       "      <td>Walmart Labs</td>\n",
       "      <td>7-10 Yrs</td>\n",
       "      <td>Not disclosed</td>\n",
       "    </tr>\n",
       "    <tr>\n",
       "      <th>4</th>\n",
       "      <td>Senior Data Scientist (Marketplace)</td>\n",
       "      <td>Bangalore/Bengaluru</td>\n",
       "      <td>Walmart Labs</td>\n",
       "      <td>4-8 Yrs</td>\n",
       "      <td>Not disclosed</td>\n",
       "    </tr>\n",
       "    <tr>\n",
       "      <th>5</th>\n",
       "      <td>Requirement For Data Scientist - Mumbai &amp; Bang...</td>\n",
       "      <td>Bangalore/Bengaluru, Mumbai (All Areas)</td>\n",
       "      <td>CRISIL LIMITED</td>\n",
       "      <td>2-6 Yrs</td>\n",
       "      <td>Not disclosed</td>\n",
       "    </tr>\n",
       "    <tr>\n",
       "      <th>6</th>\n",
       "      <td>Hiring For Data Scientist / Statistical Analyst</td>\n",
       "      <td>Bangalore/Bengaluru</td>\n",
       "      <td>ManpowerGroup Services India Private Limited</td>\n",
       "      <td>2-4 Yrs</td>\n",
       "      <td>6,00,000 - 10,00,000 PA.</td>\n",
       "    </tr>\n",
       "    <tr>\n",
       "      <th>7</th>\n",
       "      <td>Associate Data Scientist</td>\n",
       "      <td>Bangalore/Bengaluru</td>\n",
       "      <td>Philips India Limited</td>\n",
       "      <td>3-5 Yrs</td>\n",
       "      <td>Not disclosed</td>\n",
       "    </tr>\n",
       "    <tr>\n",
       "      <th>8</th>\n",
       "      <td>Principal Data Scientist - AdTech</td>\n",
       "      <td>Bangalore/Bengaluru</td>\n",
       "      <td>Walmart Labs</td>\n",
       "      <td>10-14 Yrs</td>\n",
       "      <td>Not disclosed</td>\n",
       "    </tr>\n",
       "    <tr>\n",
       "      <th>9</th>\n",
       "      <td>Data Scientist</td>\n",
       "      <td>Bangalore/Bengaluru</td>\n",
       "      <td>Walmart Labs</td>\n",
       "      <td>4-8 Yrs</td>\n",
       "      <td>Not disclosed</td>\n",
       "    </tr>\n",
       "  </tbody>\n",
       "</table>\n",
       "</div>"
      ],
      "text/plain": [
       "                                           Job_title  \\\n",
       "0                              Senior Data Scientist   \n",
       "1                              Senior Data Scientist   \n",
       "2                              SENIOR DATA SCIENTIST   \n",
       "3                          Senior Data Scientist IN4   \n",
       "4                Senior Data Scientist (Marketplace)   \n",
       "5  Requirement For Data Scientist - Mumbai & Bang...   \n",
       "6    Hiring For Data Scientist / Statistical Analyst   \n",
       "7                           Associate Data Scientist   \n",
       "8                  Principal Data Scientist - AdTech   \n",
       "9                                     Data Scientist   \n",
       "\n",
       "                                  Loc_tags  \\\n",
       "0                      Bangalore/Bengaluru   \n",
       "1                      Bangalore/Bengaluru   \n",
       "2                      Bangalore/Bengaluru   \n",
       "3                      Bangalore/Bengaluru   \n",
       "4                      Bangalore/Bengaluru   \n",
       "5  Bangalore/Bengaluru, Mumbai (All Areas)   \n",
       "6                      Bangalore/Bengaluru   \n",
       "7                      Bangalore/Bengaluru   \n",
       "8                      Bangalore/Bengaluru   \n",
       "9                      Bangalore/Bengaluru   \n",
       "\n",
       "                                 Companies_tags Experience_tags  \\\n",
       "0                                  Walmart Labs        6-10 Yrs   \n",
       "1                                        Airbnb        7-12 Yrs   \n",
       "2           Happiest Minds Technologies Pvt.Ltd        5-10 Yrs   \n",
       "3                                  Walmart Labs        7-10 Yrs   \n",
       "4                                  Walmart Labs         4-8 Yrs   \n",
       "5                                CRISIL LIMITED         2-6 Yrs   \n",
       "6  ManpowerGroup Services India Private Limited         2-4 Yrs   \n",
       "7                         Philips India Limited         3-5 Yrs   \n",
       "8                                  Walmart Labs       10-14 Yrs   \n",
       "9                                  Walmart Labs         4-8 Yrs   \n",
       "\n",
       "                Salary_tags  \n",
       "0             Not disclosed  \n",
       "1             Not disclosed  \n",
       "2             Not disclosed  \n",
       "3             Not disclosed  \n",
       "4             Not disclosed  \n",
       "5             Not disclosed  \n",
       "6  6,00,000 - 10,00,000 PA.  \n",
       "7             Not disclosed  \n",
       "8             Not disclosed  \n",
       "9             Not disclosed  "
      ]
     },
     "execution_count": 192,
     "metadata": {},
     "output_type": "execute_result"
    }
   ],
   "source": [
    "df=pd.DataFrame({})\n",
    "df['Job_title']=job_title\n",
    "df['Loc_tags']=Loc_tags\n",
    "df['Companies_tags']=Companies_tags\n",
    "df['Experience_tags']=Experience_tags\n",
    "df['Salary_tags']=Salary_tags\n",
    "df.head(10)"
   ]
  },
  {
   "cell_type": "code",
   "execution_count": null,
   "metadata": {},
   "outputs": [],
   "source": []
  },
  {
   "cell_type": "markdown",
   "metadata": {},
   "source": [
    "# Q4: Write a python program to scrape data for first 10 job results for Data scientist \n",
    "Designation in Noida location. You have to scrape company_name, No. of days \n",
    "ago when job was posted, Rating of the company.\n",
    "This task will be done in following steps:\n",
    "1. first get the webpage https://www.glassdoor.co.in/index.htm\n",
    "2. Enter “Data Scientist” in “Job Title,Keyword,Company” field and enter “Noida” \n",
    "in “location” field.\n",
    "4. Then scrape the data for the first 10 jobs results you get in the above shown \n",
    "page.\n",
    "5. Finally create a dataframe of the scraped data.\n",
    "Note- All of the above steps have to be done in code. No step is to be done \n",
    "manually."
   ]
  },
  {
   "cell_type": "code",
   "execution_count": 193,
   "metadata": {},
   "outputs": [],
   "source": [
    "#lets now import all the required libraries\n",
    "import selenium\n",
    "import pandas as pd\n",
    "from selenium import webdriver\n",
    "import warnings\n",
    "warnings.filterwarnings('ignore')"
   ]
  },
  {
   "cell_type": "code",
   "execution_count": 46,
   "metadata": {},
   "outputs": [],
   "source": [
    "driver=webdriver.Chrome('chromedriver.exe')\n",
    "url='https://www.glassdoor.co.in/member/home/index.htm'\n",
    "driver.get(url)"
   ]
  },
  {
   "cell_type": "code",
   "execution_count": null,
   "metadata": {},
   "outputs": [],
   "source": []
  },
  {
   "cell_type": "code",
   "execution_count": 47,
   "metadata": {},
   "outputs": [
    {
     "data": {
      "text/plain": [
       "<selenium.webdriver.remote.webelement.WebElement (session=\"29061e7ba3e8020e2e87de666b609407\", element=\"3c16a4ba-efb5-455a-9547-6b5be3248678\")>"
      ]
     },
     "execution_count": 47,
     "metadata": {},
     "output_type": "execute_result"
    }
   ],
   "source": [
    "#search_job.send_keys(\"Data Scientist\")\n",
    "search_job=driver.find_element_by_id('sc.keyword')\n",
    "search_job"
   ]
  },
  {
   "cell_type": "code",
   "execution_count": null,
   "metadata": {},
   "outputs": [],
   "source": []
  },
  {
   "cell_type": "code",
   "execution_count": 48,
   "metadata": {},
   "outputs": [],
   "source": [
    "#write on search bar\n",
    "search_job.send_keys(\"Data Scientist\")"
   ]
  },
  {
   "cell_type": "code",
   "execution_count": 49,
   "metadata": {},
   "outputs": [
    {
     "data": {
      "text/plain": [
       "<selenium.webdriver.remote.webelement.WebElement (session=\"29061e7ba3e8020e2e87de666b609407\", element=\"f62f99cb-7347-4a45-8c28-6fc35b5e2acb\")>"
      ]
     },
     "execution_count": 49,
     "metadata": {},
     "output_type": "execute_result"
    }
   ],
   "source": [
    "#job_loc.send_keys(\"Banglore\")\n",
    "job_loc=driver.find_element_by_id('sc.location')\n",
    "job_loc"
   ]
  },
  {
   "cell_type": "code",
   "execution_count": 50,
   "metadata": {},
   "outputs": [],
   "source": [
    "#write on search bar\n",
    "job_loc.send_keys(\"Noida\")"
   ]
  },
  {
   "cell_type": "code",
   "execution_count": 51,
   "metadata": {},
   "outputs": [],
   "source": [
    "#do click on xpath functiom\n",
    "search_btn=driver.find_element_by_xpath('//span[@class=\"css-8zxfjs\"]')"
   ]
  },
  {
   "cell_type": "code",
   "execution_count": 52,
   "metadata": {},
   "outputs": [],
   "source": [
    "search_btn.click()"
   ]
  },
  {
   "cell_type": "code",
   "execution_count": 53,
   "metadata": {},
   "outputs": [
    {
     "data": {
      "text/plain": [
       "[<selenium.webdriver.remote.webelement.WebElement (session=\"29061e7ba3e8020e2e87de666b609407\", element=\"557f1313-3ca2-4e24-a32a-3e8fd6112465\")>,\n",
       " <selenium.webdriver.remote.webelement.WebElement (session=\"29061e7ba3e8020e2e87de666b609407\", element=\"5f773018-b356-436d-97ca-771e3344dcfc\")>,\n",
       " <selenium.webdriver.remote.webelement.WebElement (session=\"29061e7ba3e8020e2e87de666b609407\", element=\"bf185dc5-1212-4d00-9c2e-d024bd92a3f3\")>,\n",
       " <selenium.webdriver.remote.webelement.WebElement (session=\"29061e7ba3e8020e2e87de666b609407\", element=\"7314f6e8-6c06-404e-a1c9-8091ef72faaf\")>,\n",
       " <selenium.webdriver.remote.webelement.WebElement (session=\"29061e7ba3e8020e2e87de666b609407\", element=\"913ae491-8520-4092-b14a-eea139d63582\")>,\n",
       " <selenium.webdriver.remote.webelement.WebElement (session=\"29061e7ba3e8020e2e87de666b609407\", element=\"06637532-0301-481f-9253-a69b39e0ca8e\")>,\n",
       " <selenium.webdriver.remote.webelement.WebElement (session=\"29061e7ba3e8020e2e87de666b609407\", element=\"f36b27ee-f307-4434-81e4-c18450631789\")>,\n",
       " <selenium.webdriver.remote.webelement.WebElement (session=\"29061e7ba3e8020e2e87de666b609407\", element=\"ae0fe67a-a015-436d-9b06-9bc1b0ead2bb\")>,\n",
       " <selenium.webdriver.remote.webelement.WebElement (session=\"29061e7ba3e8020e2e87de666b609407\", element=\"c930436f-4f6d-44e3-b2ff-8a19d5d0403a\")>,\n",
       " <selenium.webdriver.remote.webelement.WebElement (session=\"29061e7ba3e8020e2e87de666b609407\", element=\"ccbf8854-73b6-45c1-8072-78db06752115\")>,\n",
       " <selenium.webdriver.remote.webelement.WebElement (session=\"29061e7ba3e8020e2e87de666b609407\", element=\"9c78461d-86cb-48a6-a3da-d0ed01258118\")>,\n",
       " <selenium.webdriver.remote.webelement.WebElement (session=\"29061e7ba3e8020e2e87de666b609407\", element=\"a7c54a1a-d376-41c4-ba2f-cbb81a49004b\")>,\n",
       " <selenium.webdriver.remote.webelement.WebElement (session=\"29061e7ba3e8020e2e87de666b609407\", element=\"3e332293-0877-4538-85d2-cbd577267e32\")>,\n",
       " <selenium.webdriver.remote.webelement.WebElement (session=\"29061e7ba3e8020e2e87de666b609407\", element=\"e2c7ef29-bcae-465c-91f2-561498684ab7\")>,\n",
       " <selenium.webdriver.remote.webelement.WebElement (session=\"29061e7ba3e8020e2e87de666b609407\", element=\"b5dfdc1b-8177-4236-881d-58a0b9b8a47b\")>,\n",
       " <selenium.webdriver.remote.webelement.WebElement (session=\"29061e7ba3e8020e2e87de666b609407\", element=\"977ef02e-72ff-43de-8553-dfab48a1ef10\")>,\n",
       " <selenium.webdriver.remote.webelement.WebElement (session=\"29061e7ba3e8020e2e87de666b609407\", element=\"c477cd84-fad6-46fa-82d6-f970e7075fd0\")>,\n",
       " <selenium.webdriver.remote.webelement.WebElement (session=\"29061e7ba3e8020e2e87de666b609407\", element=\"97d388be-871e-4e40-9310-2d8a44625c5c\")>,\n",
       " <selenium.webdriver.remote.webelement.WebElement (session=\"29061e7ba3e8020e2e87de666b609407\", element=\"b2a01e71-5a7b-4bc3-8b77-ca207ee7d892\")>,\n",
       " <selenium.webdriver.remote.webelement.WebElement (session=\"29061e7ba3e8020e2e87de666b609407\", element=\"7f213b99-9001-4f69-9c83-2353f2e800bb\")>,\n",
       " <selenium.webdriver.remote.webelement.WebElement (session=\"29061e7ba3e8020e2e87de666b609407\", element=\"dcf2d5c0-9b48-4b00-a309-01cc18940329\")>,\n",
       " <selenium.webdriver.remote.webelement.WebElement (session=\"29061e7ba3e8020e2e87de666b609407\", element=\"43917d34-1edd-402b-9d3a-280e231ba221\")>,\n",
       " <selenium.webdriver.remote.webelement.WebElement (session=\"29061e7ba3e8020e2e87de666b609407\", element=\"9bc374a7-aa4b-4f49-980a-f968ca8e6806\")>,\n",
       " <selenium.webdriver.remote.webelement.WebElement (session=\"29061e7ba3e8020e2e87de666b609407\", element=\"fb9ce690-e73a-459e-b7f8-1ccb7474f223\")>,\n",
       " <selenium.webdriver.remote.webelement.WebElement (session=\"29061e7ba3e8020e2e87de666b609407\", element=\"1f318fef-e229-4138-8432-3e0f0fcb35cf\")>,\n",
       " <selenium.webdriver.remote.webelement.WebElement (session=\"29061e7ba3e8020e2e87de666b609407\", element=\"1c078d13-7e94-431c-897b-766e391ec2ef\")>,\n",
       " <selenium.webdriver.remote.webelement.WebElement (session=\"29061e7ba3e8020e2e87de666b609407\", element=\"6fb90887-73d9-4a42-a32d-429025b146ca\")>,\n",
       " <selenium.webdriver.remote.webelement.WebElement (session=\"29061e7ba3e8020e2e87de666b609407\", element=\"ab58a97d-ccd5-483f-ae8d-31cdd8aa0105\")>,\n",
       " <selenium.webdriver.remote.webelement.WebElement (session=\"29061e7ba3e8020e2e87de666b609407\", element=\"3536c64c-da42-4686-a23e-e9810b8f6d24\")>,\n",
       " <selenium.webdriver.remote.webelement.WebElement (session=\"29061e7ba3e8020e2e87de666b609407\", element=\"2a967a38-3096-485b-93c0-cb14231099df\")>]"
      ]
     },
     "execution_count": 53,
     "metadata": {},
     "output_type": "execute_result"
    }
   ],
   "source": [
    "#so lets extract all the tags having the job-titles\n",
    "titles_tags=driver.find_elements_by_xpath('//a[@class=\"jobLink job-search-key-1rd3saf eigr9kq1\"]')\n",
    "titles_tags"
   ]
  },
  {
   "cell_type": "code",
   "execution_count": 54,
   "metadata": {},
   "outputs": [
    {
     "data": {
      "text/plain": [
       "['Associate Data Scientist',\n",
       " 'Data Scientist',\n",
       " 'Data Scientist',\n",
       " 'Data Science Training Head-Full Time',\n",
       " 'Data Scientist',\n",
       " 'Data Scientist',\n",
       " 'Data Scientist',\n",
       " 'Data Science Consultant',\n",
       " 'Management Trainee – Data Science',\n",
       " 'Data Scientist',\n",
       " 'Data Scientist Intern',\n",
       " 'Data Scientist',\n",
       " 'Data Scientist',\n",
       " 'Data Scientist',\n",
       " 'Analyst – Data Science',\n",
       " 'Senior Data Scientist',\n",
       " 'Data Scientist',\n",
       " 'Data Scientist',\n",
       " 'Data Scientist',\n",
       " 'Data Scientist - Insights',\n",
       " 'Data Scientist',\n",
       " 'Data Scientist - Spark Engg / Dot data',\n",
       " 'Machine Learning Engineer',\n",
       " 'Data Science Trainer',\n",
       " 'Computer Vision Engineer',\n",
       " 'Urgent Opening || Python Machine Learning || NMG Technologies || Gurugram',\n",
       " 'Data Scientist',\n",
       " 'Research Scientist - Computer Vision',\n",
       " 'APPLIED AI/ML SCIENTIST II',\n",
       " 'Data Scientist Team Leader']"
      ]
     },
     "execution_count": 54,
     "metadata": {},
     "output_type": "execute_result"
    }
   ],
   "source": [
    "#now the text form the job title inside the text extracted above\n",
    "#so we run the loop to iterate over the tags extracted above and extract the text inside them.\n",
    "\n",
    "job_title=[]\n",
    "for i in titles_tags:\n",
    "    job_title.append(i.text)\n",
    "job_title"
   ]
  },
  {
   "cell_type": "code",
   "execution_count": 55,
   "metadata": {},
   "outputs": [
    {
     "data": {
      "text/plain": [
       "[<selenium.webdriver.remote.webelement.WebElement (session=\"29061e7ba3e8020e2e87de666b609407\", element=\"92345dcf-8a8a-4b7a-8237-7091ad19ce83\")>,\n",
       " <selenium.webdriver.remote.webelement.WebElement (session=\"29061e7ba3e8020e2e87de666b609407\", element=\"5fea359e-f14b-4707-9c80-358398546f1c\")>,\n",
       " <selenium.webdriver.remote.webelement.WebElement (session=\"29061e7ba3e8020e2e87de666b609407\", element=\"e41124ad-5e3f-45cc-b0da-ba1ba92f4d75\")>,\n",
       " <selenium.webdriver.remote.webelement.WebElement (session=\"29061e7ba3e8020e2e87de666b609407\", element=\"47a7d293-7c69-4512-b53d-b70fa40ed8e6\")>,\n",
       " <selenium.webdriver.remote.webelement.WebElement (session=\"29061e7ba3e8020e2e87de666b609407\", element=\"4846b068-d743-42ad-af27-ca7cccf2a578\")>,\n",
       " <selenium.webdriver.remote.webelement.WebElement (session=\"29061e7ba3e8020e2e87de666b609407\", element=\"99c20d88-2c95-4296-8e38-6328596fe59f\")>,\n",
       " <selenium.webdriver.remote.webelement.WebElement (session=\"29061e7ba3e8020e2e87de666b609407\", element=\"3e0107b5-3f51-4267-a5b9-16320480069a\")>,\n",
       " <selenium.webdriver.remote.webelement.WebElement (session=\"29061e7ba3e8020e2e87de666b609407\", element=\"20a6b8de-cd56-4c70-ae1b-e777279288b8\")>,\n",
       " <selenium.webdriver.remote.webelement.WebElement (session=\"29061e7ba3e8020e2e87de666b609407\", element=\"08190218-b290-4203-8f11-91a93e1baa75\")>,\n",
       " <selenium.webdriver.remote.webelement.WebElement (session=\"29061e7ba3e8020e2e87de666b609407\", element=\"8f978496-8c49-404f-b1ac-1c0fb7572246\")>,\n",
       " <selenium.webdriver.remote.webelement.WebElement (session=\"29061e7ba3e8020e2e87de666b609407\", element=\"10f3ab01-c0e9-4d13-9443-6fef73a10272\")>,\n",
       " <selenium.webdriver.remote.webelement.WebElement (session=\"29061e7ba3e8020e2e87de666b609407\", element=\"5353a3e1-8c53-44b7-8c58-546b5250b801\")>,\n",
       " <selenium.webdriver.remote.webelement.WebElement (session=\"29061e7ba3e8020e2e87de666b609407\", element=\"b10a4309-b54a-47cf-b3df-7dc7aef0aaaa\")>,\n",
       " <selenium.webdriver.remote.webelement.WebElement (session=\"29061e7ba3e8020e2e87de666b609407\", element=\"f4965bca-eb7c-4657-89c8-81259ba32882\")>,\n",
       " <selenium.webdriver.remote.webelement.WebElement (session=\"29061e7ba3e8020e2e87de666b609407\", element=\"7b9c6355-08ae-48a4-8816-ead87614b8d9\")>,\n",
       " <selenium.webdriver.remote.webelement.WebElement (session=\"29061e7ba3e8020e2e87de666b609407\", element=\"9abd43c3-36ea-4da5-b2e9-7b1500ebb13b\")>,\n",
       " <selenium.webdriver.remote.webelement.WebElement (session=\"29061e7ba3e8020e2e87de666b609407\", element=\"b34470d0-092c-4537-b4d6-e00dcae58086\")>,\n",
       " <selenium.webdriver.remote.webelement.WebElement (session=\"29061e7ba3e8020e2e87de666b609407\", element=\"3d793766-0812-420c-84df-699d1d99762d\")>,\n",
       " <selenium.webdriver.remote.webelement.WebElement (session=\"29061e7ba3e8020e2e87de666b609407\", element=\"3d1a2268-678f-4b69-b832-508a096cb1aa\")>,\n",
       " <selenium.webdriver.remote.webelement.WebElement (session=\"29061e7ba3e8020e2e87de666b609407\", element=\"af23ade6-c87f-46b9-98d9-371a93fb7f63\")>,\n",
       " <selenium.webdriver.remote.webelement.WebElement (session=\"29061e7ba3e8020e2e87de666b609407\", element=\"ccbeb106-3b38-4d0b-9860-1fecc62718c0\")>,\n",
       " <selenium.webdriver.remote.webelement.WebElement (session=\"29061e7ba3e8020e2e87de666b609407\", element=\"cb429ea1-d17e-4d94-9403-b34c5bfbd568\")>,\n",
       " <selenium.webdriver.remote.webelement.WebElement (session=\"29061e7ba3e8020e2e87de666b609407\", element=\"d3298a0f-4eca-4ca2-b6c3-e29cd5f6dd0f\")>,\n",
       " <selenium.webdriver.remote.webelement.WebElement (session=\"29061e7ba3e8020e2e87de666b609407\", element=\"a09ff609-b076-42a9-bddb-fd4ecdc9bb18\")>,\n",
       " <selenium.webdriver.remote.webelement.WebElement (session=\"29061e7ba3e8020e2e87de666b609407\", element=\"fb727994-e01f-4261-87ff-fb221df318c1\")>,\n",
       " <selenium.webdriver.remote.webelement.WebElement (session=\"29061e7ba3e8020e2e87de666b609407\", element=\"9742e751-8e75-4f7c-a73a-254585d857d2\")>,\n",
       " <selenium.webdriver.remote.webelement.WebElement (session=\"29061e7ba3e8020e2e87de666b609407\", element=\"7d9fb351-d9e4-4fdc-b40f-ae8d8208679b\")>,\n",
       " <selenium.webdriver.remote.webelement.WebElement (session=\"29061e7ba3e8020e2e87de666b609407\", element=\"08a67fab-34a3-4448-b062-9126f4285cca\")>,\n",
       " <selenium.webdriver.remote.webelement.WebElement (session=\"29061e7ba3e8020e2e87de666b609407\", element=\"b169e64e-471d-42d8-8e31-db48ea466d22\")>,\n",
       " <selenium.webdriver.remote.webelement.WebElement (session=\"29061e7ba3e8020e2e87de666b609407\", element=\"a9e79b11-5d7a-40d6-9343-e4670b83e1f6\")>]"
      ]
     },
     "execution_count": 55,
     "metadata": {},
     "output_type": "execute_result"
    }
   ],
   "source": [
    "companies_tags=driver.find_elements_by_xpath('//div[@class=\"d-flex justify-content-between align-items-start\"]')\n",
    "companies_tags"
   ]
  },
  {
   "cell_type": "code",
   "execution_count": 56,
   "metadata": {},
   "outputs": [
    {
     "data": {
      "text/plain": [
       "['Liberin Technologies Private Limited',\n",
       " 'AlgoScale Technologies Private Limited',\n",
       " '',\n",
       " 'Emerging India Analytics',\n",
       " 'limeroad.com',\n",
       " 'Ishatva Management Solutions',\n",
       " 'Saishaa Services',\n",
       " 'Badatya Private Limited',\n",
       " 'Grail Insights',\n",
       " 'Techlive',\n",
       " 'Salasar New Age Technologies',\n",
       " 'Biz2Credit Inc',\n",
       " 'Newgen Software',\n",
       " 'Salasar New Age Technologies',\n",
       " 'Grail Insights',\n",
       " 'Innovacer',\n",
       " 'ING',\n",
       " 'SearchUrCollege',\n",
       " 'Airtel India',\n",
       " 'CaaStle',\n",
       " 'Gauge Data Solutions',\n",
       " 'NEC Opportunities',\n",
       " 'Bizzhype HR',\n",
       " 'IElevate Institute',\n",
       " 'Wobot.ai',\n",
       " 'NMG Technologies',\n",
       " 'Ericsson',\n",
       " 'Adobe',\n",
       " 'Microsoft',\n",
       " 'CRMNEXT']"
      ]
     },
     "execution_count": 56,
     "metadata": {},
     "output_type": "execute_result"
    }
   ],
   "source": [
    "#so we run the loop to iterate over the tags extracted above and extract the text inside them.\n",
    "\n",
    "Companies_tags=[]\n",
    "for i in companies_tags:\n",
    "    Companies_tags.append(i.text)\n",
    "Companies_tags"
   ]
  },
  {
   "cell_type": "code",
   "execution_count": 57,
   "metadata": {},
   "outputs": [
    {
     "data": {
      "text/plain": [
       "[<selenium.webdriver.remote.webelement.WebElement (session=\"29061e7ba3e8020e2e87de666b609407\", element=\"7f9d84a6-7f60-4633-9d06-227825248c7c\")>,\n",
       " <selenium.webdriver.remote.webelement.WebElement (session=\"29061e7ba3e8020e2e87de666b609407\", element=\"7f7bcea4-06c3-48aa-83b8-72c81456be0c\")>,\n",
       " <selenium.webdriver.remote.webelement.WebElement (session=\"29061e7ba3e8020e2e87de666b609407\", element=\"fde1b75f-8f5e-4530-93ff-a42a7e792f01\")>,\n",
       " <selenium.webdriver.remote.webelement.WebElement (session=\"29061e7ba3e8020e2e87de666b609407\", element=\"74e41f79-8279-4a65-8478-87afff8710ca\")>,\n",
       " <selenium.webdriver.remote.webelement.WebElement (session=\"29061e7ba3e8020e2e87de666b609407\", element=\"8c291de0-1481-4960-a20a-7094f40346de\")>,\n",
       " <selenium.webdriver.remote.webelement.WebElement (session=\"29061e7ba3e8020e2e87de666b609407\", element=\"f193bcaf-b8f8-4b59-ba44-41b65b75438e\")>,\n",
       " <selenium.webdriver.remote.webelement.WebElement (session=\"29061e7ba3e8020e2e87de666b609407\", element=\"0c9cc75f-fdb4-4f4c-af5e-d1c8e1ecfb96\")>,\n",
       " <selenium.webdriver.remote.webelement.WebElement (session=\"29061e7ba3e8020e2e87de666b609407\", element=\"451cc567-53d5-459b-b6e4-a0501527b397\")>,\n",
       " <selenium.webdriver.remote.webelement.WebElement (session=\"29061e7ba3e8020e2e87de666b609407\", element=\"6d986492-3e10-4ab1-a7c9-1be9928fadf6\")>,\n",
       " <selenium.webdriver.remote.webelement.WebElement (session=\"29061e7ba3e8020e2e87de666b609407\", element=\"8547f361-e71d-4064-93ca-36f5860aec59\")>,\n",
       " <selenium.webdriver.remote.webelement.WebElement (session=\"29061e7ba3e8020e2e87de666b609407\", element=\"1a24701a-9802-410a-b648-59c014d72937\")>,\n",
       " <selenium.webdriver.remote.webelement.WebElement (session=\"29061e7ba3e8020e2e87de666b609407\", element=\"43f64c5d-41ed-49d7-a4b9-a16696167529\")>,\n",
       " <selenium.webdriver.remote.webelement.WebElement (session=\"29061e7ba3e8020e2e87de666b609407\", element=\"0b501c77-4ef1-43f5-8ec9-c9b7158151f9\")>,\n",
       " <selenium.webdriver.remote.webelement.WebElement (session=\"29061e7ba3e8020e2e87de666b609407\", element=\"1db03e3b-94dc-438b-9f22-38e3c1ae0c55\")>,\n",
       " <selenium.webdriver.remote.webelement.WebElement (session=\"29061e7ba3e8020e2e87de666b609407\", element=\"ccd8471a-9a50-42ba-858c-0eafefd26e53\")>,\n",
       " <selenium.webdriver.remote.webelement.WebElement (session=\"29061e7ba3e8020e2e87de666b609407\", element=\"a31d900a-6956-42c3-b832-36d5766bf06b\")>,\n",
       " <selenium.webdriver.remote.webelement.WebElement (session=\"29061e7ba3e8020e2e87de666b609407\", element=\"ad7c2860-0200-4746-a81f-3e5143a50746\")>,\n",
       " <selenium.webdriver.remote.webelement.WebElement (session=\"29061e7ba3e8020e2e87de666b609407\", element=\"1fa1bddb-3160-4162-8e64-d1f117d03a6f\")>,\n",
       " <selenium.webdriver.remote.webelement.WebElement (session=\"29061e7ba3e8020e2e87de666b609407\", element=\"294f98af-8d58-4d8c-a9f4-f4a3da111cdd\")>,\n",
       " <selenium.webdriver.remote.webelement.WebElement (session=\"29061e7ba3e8020e2e87de666b609407\", element=\"0a5caca7-80cf-4acb-8c2a-6b86819dd702\")>,\n",
       " <selenium.webdriver.remote.webelement.WebElement (session=\"29061e7ba3e8020e2e87de666b609407\", element=\"f7501820-df30-4ff0-90cb-51a71d99be3c\")>,\n",
       " <selenium.webdriver.remote.webelement.WebElement (session=\"29061e7ba3e8020e2e87de666b609407\", element=\"889c2ae3-f791-4642-a386-6ec95cf7625a\")>,\n",
       " <selenium.webdriver.remote.webelement.WebElement (session=\"29061e7ba3e8020e2e87de666b609407\", element=\"e0ed623a-ef71-42e2-8211-f6fec2362534\")>,\n",
       " <selenium.webdriver.remote.webelement.WebElement (session=\"29061e7ba3e8020e2e87de666b609407\", element=\"5475921f-e704-48f8-8941-3fac8554d757\")>,\n",
       " <selenium.webdriver.remote.webelement.WebElement (session=\"29061e7ba3e8020e2e87de666b609407\", element=\"bf8658e8-043a-4934-bd5f-aa754f77b63d\")>,\n",
       " <selenium.webdriver.remote.webelement.WebElement (session=\"29061e7ba3e8020e2e87de666b609407\", element=\"51ab0ff4-bec7-4562-9c3d-39364a2ad881\")>,\n",
       " <selenium.webdriver.remote.webelement.WebElement (session=\"29061e7ba3e8020e2e87de666b609407\", element=\"d29a0ed8-33be-4925-8fba-b874bf68bbe5\")>,\n",
       " <selenium.webdriver.remote.webelement.WebElement (session=\"29061e7ba3e8020e2e87de666b609407\", element=\"29950b62-ddbd-43f4-a7c4-3813a8d89bb1\")>,\n",
       " <selenium.webdriver.remote.webelement.WebElement (session=\"29061e7ba3e8020e2e87de666b609407\", element=\"5cf26cf7-b751-486d-b718-be968e186ffa\")>,\n",
       " <selenium.webdriver.remote.webelement.WebElement (session=\"29061e7ba3e8020e2e87de666b609407\", element=\"52c82a9f-27f3-4795-9c06-66617eca4247\")>]"
      ]
     },
     "execution_count": 57,
     "metadata": {},
     "output_type": "execute_result"
    }
   ],
   "source": [
    "loc_tags=driver.find_elements_by_xpath('//span[@class=\"css-1buaf54 pr-xxsm job-search-key-iii9i8 e1rrn5ka4\"]')\n",
    "loc_tags"
   ]
  },
  {
   "cell_type": "code",
   "execution_count": 58,
   "metadata": {},
   "outputs": [
    {
     "data": {
      "text/plain": [
       "['Noida',\n",
       " 'Noida',\n",
       " 'Farīdābād',\n",
       " 'Noida',\n",
       " 'Gurgaon',\n",
       " 'New Delhi',\n",
       " 'New Delhi',\n",
       " 'New Delhi',\n",
       " 'Noida',\n",
       " 'Noida',\n",
       " 'Noida',\n",
       " 'Noida',\n",
       " 'Noida',\n",
       " 'Noida',\n",
       " 'Noida',\n",
       " 'Noida',\n",
       " 'New Delhi',\n",
       " 'Noida',\n",
       " 'Gurgaon',\n",
       " 'New Delhi',\n",
       " 'Noida',\n",
       " 'New Delhi',\n",
       " 'Ghaziabad',\n",
       " 'New Delhi',\n",
       " 'New Delhi',\n",
       " 'Gurgaon',\n",
       " 'Noida',\n",
       " 'Noida',\n",
       " 'Noida',\n",
       " 'Noida']"
      ]
     },
     "execution_count": 58,
     "metadata": {},
     "output_type": "execute_result"
    }
   ],
   "source": [
    "#so we run the loop to iterate over the tags extracted above and extract the text inside them.\n",
    "\n",
    "Loc_tags=[]\n",
    "for i in loc_tags:\n",
    "    Loc_tags.append(i.text)\n",
    "Loc_tags"
   ]
  },
  {
   "cell_type": "code",
   "execution_count": 59,
   "metadata": {},
   "outputs": [
    {
     "data": {
      "text/plain": [
       "[<selenium.webdriver.remote.webelement.WebElement (session=\"29061e7ba3e8020e2e87de666b609407\", element=\"985d3dfc-1776-4ec9-866a-559d99839ce7\")>,\n",
       " <selenium.webdriver.remote.webelement.WebElement (session=\"29061e7ba3e8020e2e87de666b609407\", element=\"cc0f29ef-32c0-4c8b-bdfd-2da3f0fe3d02\")>,\n",
       " <selenium.webdriver.remote.webelement.WebElement (session=\"29061e7ba3e8020e2e87de666b609407\", element=\"1fb96f98-ad53-4be5-a540-2495c3e2fbb2\")>,\n",
       " <selenium.webdriver.remote.webelement.WebElement (session=\"29061e7ba3e8020e2e87de666b609407\", element=\"4b6124d8-b047-4189-afc2-4e9c1421b54d\")>,\n",
       " <selenium.webdriver.remote.webelement.WebElement (session=\"29061e7ba3e8020e2e87de666b609407\", element=\"414be766-ad5f-4acb-b8f3-31ee42892c08\")>,\n",
       " <selenium.webdriver.remote.webelement.WebElement (session=\"29061e7ba3e8020e2e87de666b609407\", element=\"ef351707-7e96-4107-9943-0a826838c5ec\")>,\n",
       " <selenium.webdriver.remote.webelement.WebElement (session=\"29061e7ba3e8020e2e87de666b609407\", element=\"47cbec76-b37b-4552-95e4-42480dd7cc38\")>,\n",
       " <selenium.webdriver.remote.webelement.WebElement (session=\"29061e7ba3e8020e2e87de666b609407\", element=\"13cba920-83a1-479f-a326-76b5c3eca64f\")>,\n",
       " <selenium.webdriver.remote.webelement.WebElement (session=\"29061e7ba3e8020e2e87de666b609407\", element=\"75794ebf-ee2c-4e22-bbf6-95af96536568\")>,\n",
       " <selenium.webdriver.remote.webelement.WebElement (session=\"29061e7ba3e8020e2e87de666b609407\", element=\"eb08dae9-7693-45cc-a741-2d4007424219\")>,\n",
       " <selenium.webdriver.remote.webelement.WebElement (session=\"29061e7ba3e8020e2e87de666b609407\", element=\"32ac7d3b-7b04-4dd1-bd11-9b0dc98c6ba9\")>,\n",
       " <selenium.webdriver.remote.webelement.WebElement (session=\"29061e7ba3e8020e2e87de666b609407\", element=\"44a35a00-8bb0-4dfe-8a81-e323a347a3b7\")>,\n",
       " <selenium.webdriver.remote.webelement.WebElement (session=\"29061e7ba3e8020e2e87de666b609407\", element=\"58115acb-df73-4e3b-851d-2f021229505b\")>,\n",
       " <selenium.webdriver.remote.webelement.WebElement (session=\"29061e7ba3e8020e2e87de666b609407\", element=\"55030b42-42de-46cd-a625-fed0bdbcd9d5\")>,\n",
       " <selenium.webdriver.remote.webelement.WebElement (session=\"29061e7ba3e8020e2e87de666b609407\", element=\"88a59780-4f6b-441c-9b0b-018d4649cf7d\")>,\n",
       " <selenium.webdriver.remote.webelement.WebElement (session=\"29061e7ba3e8020e2e87de666b609407\", element=\"7ec9867c-0768-4955-a87b-7f5dca60de12\")>,\n",
       " <selenium.webdriver.remote.webelement.WebElement (session=\"29061e7ba3e8020e2e87de666b609407\", element=\"2073d3ed-dc9a-413c-bd4c-7a8026e83d3b\")>,\n",
       " <selenium.webdriver.remote.webelement.WebElement (session=\"29061e7ba3e8020e2e87de666b609407\", element=\"f0189f71-aa3d-43c5-aab5-7086adcefe12\")>,\n",
       " <selenium.webdriver.remote.webelement.WebElement (session=\"29061e7ba3e8020e2e87de666b609407\", element=\"9b3bb1c3-b16e-4097-9f47-1b851d626664\")>,\n",
       " <selenium.webdriver.remote.webelement.WebElement (session=\"29061e7ba3e8020e2e87de666b609407\", element=\"bb345af6-3a8a-46ec-92d6-b8242f60a333\")>,\n",
       " <selenium.webdriver.remote.webelement.WebElement (session=\"29061e7ba3e8020e2e87de666b609407\", element=\"3dc69bf5-31e3-4cb0-a165-688d4c4c23c1\")>,\n",
       " <selenium.webdriver.remote.webelement.WebElement (session=\"29061e7ba3e8020e2e87de666b609407\", element=\"f6c556f4-f330-406c-b43a-5b6a9280118e\")>,\n",
       " <selenium.webdriver.remote.webelement.WebElement (session=\"29061e7ba3e8020e2e87de666b609407\", element=\"99638d7c-0754-42be-ad8d-aa406739d73c\")>,\n",
       " <selenium.webdriver.remote.webelement.WebElement (session=\"29061e7ba3e8020e2e87de666b609407\", element=\"b34c9592-02ff-434c-8e50-84675625e46e\")>,\n",
       " <selenium.webdriver.remote.webelement.WebElement (session=\"29061e7ba3e8020e2e87de666b609407\", element=\"de8617ca-66e1-4d84-80e5-f3f201ce49af\")>,\n",
       " <selenium.webdriver.remote.webelement.WebElement (session=\"29061e7ba3e8020e2e87de666b609407\", element=\"ea6de662-53b8-4c0c-944c-912298a05a23\")>,\n",
       " <selenium.webdriver.remote.webelement.WebElement (session=\"29061e7ba3e8020e2e87de666b609407\", element=\"b0547e70-a64a-4c94-8a94-fb7936cce5aa\")>,\n",
       " <selenium.webdriver.remote.webelement.WebElement (session=\"29061e7ba3e8020e2e87de666b609407\", element=\"04cf8cb0-935d-409a-bbf8-bbb3a3f46002\")>,\n",
       " <selenium.webdriver.remote.webelement.WebElement (session=\"29061e7ba3e8020e2e87de666b609407\", element=\"97e96f3b-af43-4a93-8a9e-701648fc129f\")>,\n",
       " <selenium.webdriver.remote.webelement.WebElement (session=\"29061e7ba3e8020e2e87de666b609407\", element=\"b3af247d-3fdb-41fe-b8df-90a5b129d329\")>]"
      ]
     },
     "execution_count": 59,
     "metadata": {},
     "output_type": "execute_result"
    }
   ],
   "source": [
    "post_tags=driver.find_elements_by_xpath('//div[@class=\"d-flex align-items-end pl-std css-17n8uzw\"]')\n",
    "post_tags"
   ]
  },
  {
   "cell_type": "code",
   "execution_count": 60,
   "metadata": {},
   "outputs": [
    {
     "data": {
      "text/plain": [
       "['30d+',\n",
       " '14d',\n",
       " '1d',\n",
       " '30d+',\n",
       " '14d',\n",
       " '9d',\n",
       " '16d',\n",
       " '11d',\n",
       " '24h',\n",
       " '30d+',\n",
       " '30d+',\n",
       " '30d+',\n",
       " '30d+',\n",
       " '30d+',\n",
       " '24h',\n",
       " '30d+',\n",
       " '5d',\n",
       " '30d+',\n",
       " '19d',\n",
       " '24h',\n",
       " '30d+',\n",
       " '21d',\n",
       " '1d',\n",
       " '7d',\n",
       " '12d',\n",
       " '26d',\n",
       " '9d',\n",
       " '30d+',\n",
       " '30d+',\n",
       " '28d']"
      ]
     },
     "execution_count": 60,
     "metadata": {},
     "output_type": "execute_result"
    }
   ],
   "source": [
    "Post_tags=[]\n",
    "for i in post_tags:\n",
    "    Post_tags.append(i.text)\n",
    "\n",
    "Post_tags"
   ]
  },
  {
   "cell_type": "code",
   "execution_count": 61,
   "metadata": {},
   "outputs": [],
   "source": [
    "#as only salary attibute present in 1 7 jobs we take only top 7 jobs"
   ]
  },
  {
   "cell_type": "code",
   "execution_count": 54,
   "metadata": {},
   "outputs": [],
   "source": [
    "#Salary_tags=Salary_tags[:-2]"
   ]
  },
  {
   "cell_type": "code",
   "execution_count": 55,
   "metadata": {},
   "outputs": [],
   "source": [
    "#Salary_tags"
   ]
  },
  {
   "cell_type": "code",
   "execution_count": 60,
   "metadata": {},
   "outputs": [
    {
     "name": "stdout",
     "output_type": "stream",
     "text": [
      "30 30 30 30\n"
     ]
    }
   ],
   "source": [
    "print(len(job_title),len(Companies_tags),len(Loc_tags),len(Post_tags))"
   ]
  },
  {
   "cell_type": "code",
   "execution_count": 62,
   "metadata": {},
   "outputs": [
    {
     "data": {
      "text/html": [
       "<div>\n",
       "<style scoped>\n",
       "    .dataframe tbody tr th:only-of-type {\n",
       "        vertical-align: middle;\n",
       "    }\n",
       "\n",
       "    .dataframe tbody tr th {\n",
       "        vertical-align: top;\n",
       "    }\n",
       "\n",
       "    .dataframe thead th {\n",
       "        text-align: right;\n",
       "    }\n",
       "</style>\n",
       "<table border=\"1\" class=\"dataframe\">\n",
       "  <thead>\n",
       "    <tr style=\"text-align: right;\">\n",
       "      <th></th>\n",
       "      <th>Job_title</th>\n",
       "      <th>Loc_tags</th>\n",
       "      <th>Companies_tags</th>\n",
       "      <th>Post_tags</th>\n",
       "    </tr>\n",
       "  </thead>\n",
       "  <tbody>\n",
       "    <tr>\n",
       "      <th>0</th>\n",
       "      <td>Associate Data Scientist</td>\n",
       "      <td>Noida</td>\n",
       "      <td>Liberin Technologies Private Limited</td>\n",
       "      <td>30d+</td>\n",
       "    </tr>\n",
       "    <tr>\n",
       "      <th>1</th>\n",
       "      <td>Data Scientist</td>\n",
       "      <td>Noida</td>\n",
       "      <td>AlgoScale Technologies Private Limited</td>\n",
       "      <td>14d</td>\n",
       "    </tr>\n",
       "    <tr>\n",
       "      <th>2</th>\n",
       "      <td>Data Scientist</td>\n",
       "      <td>Farīdābād</td>\n",
       "      <td></td>\n",
       "      <td>1d</td>\n",
       "    </tr>\n",
       "    <tr>\n",
       "      <th>3</th>\n",
       "      <td>Data Science Training Head-Full Time</td>\n",
       "      <td>Noida</td>\n",
       "      <td>Emerging India Analytics</td>\n",
       "      <td>30d+</td>\n",
       "    </tr>\n",
       "    <tr>\n",
       "      <th>4</th>\n",
       "      <td>Data Scientist</td>\n",
       "      <td>Gurgaon</td>\n",
       "      <td>limeroad.com</td>\n",
       "      <td>14d</td>\n",
       "    </tr>\n",
       "    <tr>\n",
       "      <th>5</th>\n",
       "      <td>Data Scientist</td>\n",
       "      <td>New Delhi</td>\n",
       "      <td>Ishatva Management Solutions</td>\n",
       "      <td>9d</td>\n",
       "    </tr>\n",
       "    <tr>\n",
       "      <th>6</th>\n",
       "      <td>Data Scientist</td>\n",
       "      <td>New Delhi</td>\n",
       "      <td>Saishaa Services</td>\n",
       "      <td>16d</td>\n",
       "    </tr>\n",
       "    <tr>\n",
       "      <th>7</th>\n",
       "      <td>Data Science Consultant</td>\n",
       "      <td>New Delhi</td>\n",
       "      <td>Badatya Private Limited</td>\n",
       "      <td>11d</td>\n",
       "    </tr>\n",
       "    <tr>\n",
       "      <th>8</th>\n",
       "      <td>Management Trainee – Data Science</td>\n",
       "      <td>Noida</td>\n",
       "      <td>Grail Insights</td>\n",
       "      <td>24h</td>\n",
       "    </tr>\n",
       "    <tr>\n",
       "      <th>9</th>\n",
       "      <td>Data Scientist</td>\n",
       "      <td>Noida</td>\n",
       "      <td>Techlive</td>\n",
       "      <td>30d+</td>\n",
       "    </tr>\n",
       "    <tr>\n",
       "      <th>10</th>\n",
       "      <td>Data Scientist Intern</td>\n",
       "      <td>Noida</td>\n",
       "      <td>Salasar New Age Technologies</td>\n",
       "      <td>30d+</td>\n",
       "    </tr>\n",
       "    <tr>\n",
       "      <th>11</th>\n",
       "      <td>Data Scientist</td>\n",
       "      <td>Noida</td>\n",
       "      <td>Biz2Credit Inc</td>\n",
       "      <td>30d+</td>\n",
       "    </tr>\n",
       "    <tr>\n",
       "      <th>12</th>\n",
       "      <td>Data Scientist</td>\n",
       "      <td>Noida</td>\n",
       "      <td>Newgen Software</td>\n",
       "      <td>30d+</td>\n",
       "    </tr>\n",
       "    <tr>\n",
       "      <th>13</th>\n",
       "      <td>Data Scientist</td>\n",
       "      <td>Noida</td>\n",
       "      <td>Salasar New Age Technologies</td>\n",
       "      <td>30d+</td>\n",
       "    </tr>\n",
       "    <tr>\n",
       "      <th>14</th>\n",
       "      <td>Analyst – Data Science</td>\n",
       "      <td>Noida</td>\n",
       "      <td>Grail Insights</td>\n",
       "      <td>24h</td>\n",
       "    </tr>\n",
       "    <tr>\n",
       "      <th>15</th>\n",
       "      <td>Senior Data Scientist</td>\n",
       "      <td>Noida</td>\n",
       "      <td>Innovacer</td>\n",
       "      <td>30d+</td>\n",
       "    </tr>\n",
       "    <tr>\n",
       "      <th>16</th>\n",
       "      <td>Data Scientist</td>\n",
       "      <td>New Delhi</td>\n",
       "      <td>ING</td>\n",
       "      <td>5d</td>\n",
       "    </tr>\n",
       "    <tr>\n",
       "      <th>17</th>\n",
       "      <td>Data Scientist</td>\n",
       "      <td>Noida</td>\n",
       "      <td>SearchUrCollege</td>\n",
       "      <td>30d+</td>\n",
       "    </tr>\n",
       "    <tr>\n",
       "      <th>18</th>\n",
       "      <td>Data Scientist</td>\n",
       "      <td>Gurgaon</td>\n",
       "      <td>Airtel India</td>\n",
       "      <td>19d</td>\n",
       "    </tr>\n",
       "    <tr>\n",
       "      <th>19</th>\n",
       "      <td>Data Scientist - Insights</td>\n",
       "      <td>New Delhi</td>\n",
       "      <td>CaaStle</td>\n",
       "      <td>24h</td>\n",
       "    </tr>\n",
       "    <tr>\n",
       "      <th>20</th>\n",
       "      <td>Data Scientist</td>\n",
       "      <td>Noida</td>\n",
       "      <td>Gauge Data Solutions</td>\n",
       "      <td>30d+</td>\n",
       "    </tr>\n",
       "    <tr>\n",
       "      <th>21</th>\n",
       "      <td>Data Scientist - Spark Engg / Dot data</td>\n",
       "      <td>New Delhi</td>\n",
       "      <td>NEC Opportunities</td>\n",
       "      <td>21d</td>\n",
       "    </tr>\n",
       "    <tr>\n",
       "      <th>22</th>\n",
       "      <td>Machine Learning Engineer</td>\n",
       "      <td>Ghaziabad</td>\n",
       "      <td>Bizzhype HR</td>\n",
       "      <td>1d</td>\n",
       "    </tr>\n",
       "    <tr>\n",
       "      <th>23</th>\n",
       "      <td>Data Science Trainer</td>\n",
       "      <td>New Delhi</td>\n",
       "      <td>IElevate Institute</td>\n",
       "      <td>7d</td>\n",
       "    </tr>\n",
       "    <tr>\n",
       "      <th>24</th>\n",
       "      <td>Computer Vision Engineer</td>\n",
       "      <td>New Delhi</td>\n",
       "      <td>Wobot.ai</td>\n",
       "      <td>12d</td>\n",
       "    </tr>\n",
       "    <tr>\n",
       "      <th>25</th>\n",
       "      <td>Urgent Opening || Python Machine Learning || N...</td>\n",
       "      <td>Gurgaon</td>\n",
       "      <td>NMG Technologies</td>\n",
       "      <td>26d</td>\n",
       "    </tr>\n",
       "    <tr>\n",
       "      <th>26</th>\n",
       "      <td>Data Scientist</td>\n",
       "      <td>Noida</td>\n",
       "      <td>Ericsson</td>\n",
       "      <td>9d</td>\n",
       "    </tr>\n",
       "    <tr>\n",
       "      <th>27</th>\n",
       "      <td>Research Scientist - Computer Vision</td>\n",
       "      <td>Noida</td>\n",
       "      <td>Adobe</td>\n",
       "      <td>30d+</td>\n",
       "    </tr>\n",
       "    <tr>\n",
       "      <th>28</th>\n",
       "      <td>APPLIED AI/ML SCIENTIST II</td>\n",
       "      <td>Noida</td>\n",
       "      <td>Microsoft</td>\n",
       "      <td>30d+</td>\n",
       "    </tr>\n",
       "    <tr>\n",
       "      <th>29</th>\n",
       "      <td>Data Scientist Team Leader</td>\n",
       "      <td>Noida</td>\n",
       "      <td>CRMNEXT</td>\n",
       "      <td>28d</td>\n",
       "    </tr>\n",
       "  </tbody>\n",
       "</table>\n",
       "</div>"
      ],
      "text/plain": [
       "                                            Job_title   Loc_tags  \\\n",
       "0                            Associate Data Scientist      Noida   \n",
       "1                                      Data Scientist      Noida   \n",
       "2                                      Data Scientist  Farīdābād   \n",
       "3                Data Science Training Head-Full Time      Noida   \n",
       "4                                      Data Scientist    Gurgaon   \n",
       "5                                      Data Scientist  New Delhi   \n",
       "6                                      Data Scientist  New Delhi   \n",
       "7                             Data Science Consultant  New Delhi   \n",
       "8                   Management Trainee – Data Science      Noida   \n",
       "9                                      Data Scientist      Noida   \n",
       "10                              Data Scientist Intern      Noida   \n",
       "11                                     Data Scientist      Noida   \n",
       "12                                     Data Scientist      Noida   \n",
       "13                                     Data Scientist      Noida   \n",
       "14                             Analyst – Data Science      Noida   \n",
       "15                              Senior Data Scientist      Noida   \n",
       "16                                     Data Scientist  New Delhi   \n",
       "17                                     Data Scientist      Noida   \n",
       "18                                     Data Scientist    Gurgaon   \n",
       "19                          Data Scientist - Insights  New Delhi   \n",
       "20                                     Data Scientist      Noida   \n",
       "21             Data Scientist - Spark Engg / Dot data  New Delhi   \n",
       "22                          Machine Learning Engineer  Ghaziabad   \n",
       "23                               Data Science Trainer  New Delhi   \n",
       "24                           Computer Vision Engineer  New Delhi   \n",
       "25  Urgent Opening || Python Machine Learning || N...    Gurgaon   \n",
       "26                                     Data Scientist      Noida   \n",
       "27               Research Scientist - Computer Vision      Noida   \n",
       "28                         APPLIED AI/ML SCIENTIST II      Noida   \n",
       "29                         Data Scientist Team Leader      Noida   \n",
       "\n",
       "                            Companies_tags Post_tags  \n",
       "0     Liberin Technologies Private Limited      30d+  \n",
       "1   AlgoScale Technologies Private Limited       14d  \n",
       "2                                                 1d  \n",
       "3                 Emerging India Analytics      30d+  \n",
       "4                             limeroad.com       14d  \n",
       "5             Ishatva Management Solutions        9d  \n",
       "6                         Saishaa Services       16d  \n",
       "7                  Badatya Private Limited       11d  \n",
       "8                           Grail Insights       24h  \n",
       "9                                 Techlive      30d+  \n",
       "10            Salasar New Age Technologies      30d+  \n",
       "11                          Biz2Credit Inc      30d+  \n",
       "12                         Newgen Software      30d+  \n",
       "13            Salasar New Age Technologies      30d+  \n",
       "14                          Grail Insights       24h  \n",
       "15                               Innovacer      30d+  \n",
       "16                                     ING        5d  \n",
       "17                         SearchUrCollege      30d+  \n",
       "18                            Airtel India       19d  \n",
       "19                                 CaaStle       24h  \n",
       "20                    Gauge Data Solutions      30d+  \n",
       "21                       NEC Opportunities       21d  \n",
       "22                             Bizzhype HR        1d  \n",
       "23                      IElevate Institute        7d  \n",
       "24                                Wobot.ai       12d  \n",
       "25                        NMG Technologies       26d  \n",
       "26                                Ericsson        9d  \n",
       "27                                   Adobe      30d+  \n",
       "28                               Microsoft      30d+  \n",
       "29                                 CRMNEXT       28d  "
      ]
     },
     "execution_count": 62,
     "metadata": {},
     "output_type": "execute_result"
    }
   ],
   "source": [
    "df=pd.DataFrame({})\n",
    "df['Job_title']=job_title\n",
    "df['Loc_tags']=Loc_tags\n",
    "df['Companies_tags']=Companies_tags\n",
    "df['Post_tags']=Post_tags \n",
    "\n",
    "df"
   ]
  },
  {
   "cell_type": "markdown",
   "metadata": {},
   "source": [
    "# Q5: Write a python program to scrape the salary data for Data Scientist designation \n",
    "in Noida location.\n",
    "You have to scrape Company name, Number of salaries, Average salary, Min\n",
    "salary, Max Salary.\n",
    "The above task will be, done as shown in the below steps:\n",
    "1. first get the webpage https://www.glassdoor.co.in/Salaries/index.htm\n",
    "2. Enter “Data Scientist” in Job title field and “Noida” in location field.\n",
    "3. Click the search button.\n",
    "4. After that you will land on the below page.\n",
    "You have to scrape whole data from this webpage\n",
    "5. Scrape data for first 10 companies. Scrape the min salary, max salary, company \n",
    "name, Average salary and rating of the company.\n",
    "6.Store the data in a dataframe.\n",
    "Note that all of the above steps have to be done bby coding only and not manually.\n"
   ]
  },
  {
   "cell_type": "code",
   "execution_count": 4,
   "metadata": {},
   "outputs": [],
   "source": [
    "driver=webdriver.Chrome('chromedriver.exe')\n",
    "url='https://www.glassdoor.co.in/Salaries/index.htm'\n",
    "driver.get(url)"
   ]
  },
  {
   "cell_type": "code",
   "execution_count": 6,
   "metadata": {},
   "outputs": [
    {
     "data": {
      "text/plain": [
       "<selenium.webdriver.remote.webelement.WebElement (session=\"10b9764017d7a73c4dddbb8201fc8f67\", element=\"050db473-bb97-44fc-97ea-db4d1be21e63\")>"
      ]
     },
     "execution_count": 6,
     "metadata": {},
     "output_type": "execute_result"
    }
   ],
   "source": [
    "#search_job.send_keys(\"Data Scientist\")\n",
    "search_job=driver.find_element_by_xpath('//input[@class=\"keyword\"]')\n",
    "search_job\n",
    "\n",
    "#do click on xpath functiom\n"
   ]
  },
  {
   "cell_type": "code",
   "execution_count": 7,
   "metadata": {},
   "outputs": [],
   "source": [
    "#write on search bar\n",
    "search_job.send_keys(\"Data Scientist\")"
   ]
  },
  {
   "cell_type": "code",
   "execution_count": 8,
   "metadata": {},
   "outputs": [
    {
     "data": {
      "text/plain": [
       "<selenium.webdriver.remote.webelement.WebElement (session=\"10b9764017d7a73c4dddbb8201fc8f67\", element=\"316f75fa-599c-4433-95a3-d48772517cd8\")>"
      ]
     },
     "execution_count": 8,
     "metadata": {},
     "output_type": "execute_result"
    }
   ],
   "source": [
    "#search_job.send_keys(\"Noida\")\n",
    "loc_tags=driver.find_element_by_xpath('//input[@class=\"loc\" and @data-test=\"search-bar-location-input\"]')\n",
    "loc_tags\n",
    "\n",
    "#do click on xpath functiom\n"
   ]
  },
  {
   "cell_type": "code",
   "execution_count": 9,
   "metadata": {},
   "outputs": [],
   "source": [
    "#write on search bar\n",
    "loc_tags.send_keys(\"Noida\")"
   ]
  },
  {
   "cell_type": "code",
   "execution_count": 17,
   "metadata": {},
   "outputs": [],
   "source": [
    "#do click on xpath functiom\n",
    "search_btn=driver.find_element_by_xpath('//button[@class=\"gd-btn-mkt\"]')"
   ]
  },
  {
   "cell_type": "code",
   "execution_count": 18,
   "metadata": {},
   "outputs": [],
   "source": [
    "search_btn.click()"
   ]
  },
  {
   "cell_type": "code",
   "execution_count": 12,
   "metadata": {},
   "outputs": [],
   "source": [
    "#we scrap 4 thing\n",
    "#Company name\n",
    "#Number of salaries\n",
    "#Average salary\n",
    "#Min salary\n",
    "#Max Salary"
   ]
  },
  {
   "cell_type": "code",
   "execution_count": 19,
   "metadata": {},
   "outputs": [
    {
     "data": {
      "text/plain": [
       "[<selenium.webdriver.remote.webelement.WebElement (session=\"10b9764017d7a73c4dddbb8201fc8f67\", element=\"4477741f-86ae-4876-a630-6a36902fbae9\")>,\n",
       " <selenium.webdriver.remote.webelement.WebElement (session=\"10b9764017d7a73c4dddbb8201fc8f67\", element=\"be888fd2-9c8b-4db4-8b4d-4e727f601b16\")>,\n",
       " <selenium.webdriver.remote.webelement.WebElement (session=\"10b9764017d7a73c4dddbb8201fc8f67\", element=\"8ca3e38b-33fd-4663-8cf7-3092ddd023e9\")>,\n",
       " <selenium.webdriver.remote.webelement.WebElement (session=\"10b9764017d7a73c4dddbb8201fc8f67\", element=\"4436d0c1-ab63-4c7a-80ec-704f47fa71d4\")>,\n",
       " <selenium.webdriver.remote.webelement.WebElement (session=\"10b9764017d7a73c4dddbb8201fc8f67\", element=\"5cb4438f-d532-4d87-a242-19a3544b042b\")>,\n",
       " <selenium.webdriver.remote.webelement.WebElement (session=\"10b9764017d7a73c4dddbb8201fc8f67\", element=\"43ad2276-cc7e-4967-8529-e0c9b68fd7cd\")>,\n",
       " <selenium.webdriver.remote.webelement.WebElement (session=\"10b9764017d7a73c4dddbb8201fc8f67\", element=\"92b18072-8f1d-4967-8775-894a4d228c4a\")>,\n",
       " <selenium.webdriver.remote.webelement.WebElement (session=\"10b9764017d7a73c4dddbb8201fc8f67\", element=\"33239b59-ae3f-405a-913b-d99a8249839a\")>,\n",
       " <selenium.webdriver.remote.webelement.WebElement (session=\"10b9764017d7a73c4dddbb8201fc8f67\", element=\"27b11654-9ea3-4212-bf0f-1128b62625df\")>,\n",
       " <selenium.webdriver.remote.webelement.WebElement (session=\"10b9764017d7a73c4dddbb8201fc8f67\", element=\"7a4dcd19-8d52-4fce-8a67-c899cde9cdf5\")>,\n",
       " <selenium.webdriver.remote.webelement.WebElement (session=\"10b9764017d7a73c4dddbb8201fc8f67\", element=\"2d1d490d-3347-4549-bc2e-043fd22374bd\")>,\n",
       " <selenium.webdriver.remote.webelement.WebElement (session=\"10b9764017d7a73c4dddbb8201fc8f67\", element=\"e5d2fb44-7eb5-42f3-9509-0c0f6c16b9a6\")>,\n",
       " <selenium.webdriver.remote.webelement.WebElement (session=\"10b9764017d7a73c4dddbb8201fc8f67\", element=\"df3d99d1-eed5-443b-afc2-1c89826b6011\")>,\n",
       " <selenium.webdriver.remote.webelement.WebElement (session=\"10b9764017d7a73c4dddbb8201fc8f67\", element=\"259456e6-5597-4107-9d2e-0ab014f66854\")>,\n",
       " <selenium.webdriver.remote.webelement.WebElement (session=\"10b9764017d7a73c4dddbb8201fc8f67\", element=\"3c334d53-b471-4a32-bf63-8b222789e74d\")>,\n",
       " <selenium.webdriver.remote.webelement.WebElement (session=\"10b9764017d7a73c4dddbb8201fc8f67\", element=\"1f33d475-bae6-423d-9c92-558706003c20\")>,\n",
       " <selenium.webdriver.remote.webelement.WebElement (session=\"10b9764017d7a73c4dddbb8201fc8f67\", element=\"c18da835-3801-4c1f-9bc6-44c69df73b09\")>,\n",
       " <selenium.webdriver.remote.webelement.WebElement (session=\"10b9764017d7a73c4dddbb8201fc8f67\", element=\"5a88053e-0e79-46a4-9d36-68be34af116e\")>,\n",
       " <selenium.webdriver.remote.webelement.WebElement (session=\"10b9764017d7a73c4dddbb8201fc8f67\", element=\"9080767d-825a-47bd-abc2-46c8d6be6198\")>,\n",
       " <selenium.webdriver.remote.webelement.WebElement (session=\"10b9764017d7a73c4dddbb8201fc8f67\", element=\"9e230cb6-d081-4195-8e89-02ac2bd7f976\")>]"
      ]
     },
     "execution_count": 19,
     "metadata": {},
     "output_type": "execute_result"
    }
   ],
   "source": [
    "companies_tags=driver.find_elements_by_xpath('//a[@class=\"css-f3vw95 e1aj7ssy3\"]')\n",
    "companies_tags"
   ]
  },
  {
   "cell_type": "code",
   "execution_count": 20,
   "metadata": {},
   "outputs": [
    {
     "data": {
      "text/plain": [
       "['Tata Consultancy Services',\n",
       " 'IBM',\n",
       " 'Accenture',\n",
       " 'Delhivery',\n",
       " 'Ericsson-Worldwide',\n",
       " 'UnitedHealth Group',\n",
       " 'Optum',\n",
       " 'Optum Global Solutions',\n",
       " 'Valiance Solutions',\n",
       " 'EXL Service',\n",
       " 'Cognizant Technology Solutions',\n",
       " 'ZS Associates',\n",
       " 'Nagarro',\n",
       " 'Innovaccer',\n",
       " 'OYO',\n",
       " 'dunnhumby',\n",
       " 'Amazon',\n",
       " 'CARS24.com',\n",
       " 'Vidooly Media Tech',\n",
       " 'ParallelDots']"
      ]
     },
     "execution_count": 20,
     "metadata": {},
     "output_type": "execute_result"
    }
   ],
   "source": [
    "#so we run the loop to iterate over the tags extracted above and extract the text inside them.\n",
    "\n",
    "Companies_tags=[]\n",
    "for i in companies_tags:\n",
    "    Companies_tags.append(i.text)\n",
    "Companies_tags"
   ]
  },
  {
   "cell_type": "code",
   "execution_count": 21,
   "metadata": {},
   "outputs": [
    {
     "data": {
      "text/plain": [
       "[<selenium.webdriver.remote.webelement.WebElement (session=\"10b9764017d7a73c4dddbb8201fc8f67\", element=\"740b922e-9d6a-4f3f-8ecf-9c58008357af\")>,\n",
       " <selenium.webdriver.remote.webelement.WebElement (session=\"10b9764017d7a73c4dddbb8201fc8f67\", element=\"529ce31f-fa5f-478c-a237-0223c2c411c0\")>,\n",
       " <selenium.webdriver.remote.webelement.WebElement (session=\"10b9764017d7a73c4dddbb8201fc8f67\", element=\"cec921e7-c28f-4b03-a2f5-d55729d682b7\")>,\n",
       " <selenium.webdriver.remote.webelement.WebElement (session=\"10b9764017d7a73c4dddbb8201fc8f67\", element=\"442e3da9-bbb1-413d-a11d-e22b06ffe1d0\")>,\n",
       " <selenium.webdriver.remote.webelement.WebElement (session=\"10b9764017d7a73c4dddbb8201fc8f67\", element=\"a4b16f1c-9683-475a-a622-d3fdf908bf4a\")>,\n",
       " <selenium.webdriver.remote.webelement.WebElement (session=\"10b9764017d7a73c4dddbb8201fc8f67\", element=\"6a507f90-5d8e-42b4-a3d0-3836151a963b\")>,\n",
       " <selenium.webdriver.remote.webelement.WebElement (session=\"10b9764017d7a73c4dddbb8201fc8f67\", element=\"4da5857f-fd82-4aa8-ab18-32162698a730\")>,\n",
       " <selenium.webdriver.remote.webelement.WebElement (session=\"10b9764017d7a73c4dddbb8201fc8f67\", element=\"dbb9eb14-0e65-4e6c-aa9b-cadf9b338ca1\")>,\n",
       " <selenium.webdriver.remote.webelement.WebElement (session=\"10b9764017d7a73c4dddbb8201fc8f67\", element=\"b21b492b-16c0-4db2-bde6-506a2d9d54dc\")>,\n",
       " <selenium.webdriver.remote.webelement.WebElement (session=\"10b9764017d7a73c4dddbb8201fc8f67\", element=\"402672da-4114-4355-9529-f56e40c8b607\")>,\n",
       " <selenium.webdriver.remote.webelement.WebElement (session=\"10b9764017d7a73c4dddbb8201fc8f67\", element=\"2d823e82-0dad-46e9-98c3-af12ab22c437\")>,\n",
       " <selenium.webdriver.remote.webelement.WebElement (session=\"10b9764017d7a73c4dddbb8201fc8f67\", element=\"1df71acd-15ef-4226-bcda-80cd7e270a20\")>,\n",
       " <selenium.webdriver.remote.webelement.WebElement (session=\"10b9764017d7a73c4dddbb8201fc8f67\", element=\"1ca4edde-ebe0-4c57-b963-a527e9f454da\")>,\n",
       " <selenium.webdriver.remote.webelement.WebElement (session=\"10b9764017d7a73c4dddbb8201fc8f67\", element=\"3ba60d40-5fff-4e54-9f94-6fa4eda49924\")>,\n",
       " <selenium.webdriver.remote.webelement.WebElement (session=\"10b9764017d7a73c4dddbb8201fc8f67\", element=\"23790b8a-3e49-48db-9c6c-381bab8f319b\")>,\n",
       " <selenium.webdriver.remote.webelement.WebElement (session=\"10b9764017d7a73c4dddbb8201fc8f67\", element=\"4a94595b-bc9f-4ee9-b1a7-26cd44104683\")>,\n",
       " <selenium.webdriver.remote.webelement.WebElement (session=\"10b9764017d7a73c4dddbb8201fc8f67\", element=\"670fe4fa-e7f0-43f4-ada9-bd4005f603bc\")>,\n",
       " <selenium.webdriver.remote.webelement.WebElement (session=\"10b9764017d7a73c4dddbb8201fc8f67\", element=\"0d0398f9-c750-475a-922d-bef46295a7fe\")>,\n",
       " <selenium.webdriver.remote.webelement.WebElement (session=\"10b9764017d7a73c4dddbb8201fc8f67\", element=\"af82e00d-84c5-4465-a463-a70fe08e9399\")>,\n",
       " <selenium.webdriver.remote.webelement.WebElement (session=\"10b9764017d7a73c4dddbb8201fc8f67\", element=\"b4441779-7e79-442a-915d-320933118a57\")>]"
      ]
     },
     "execution_count": 21,
     "metadata": {},
     "output_type": "execute_result"
    }
   ],
   "source": [
    "\n",
    "number_of_salaries=driver.find_elements_by_xpath('//div[@class=\"col-12 col-lg-auto\"]')\n",
    "number_of_salaries"
   ]
  },
  {
   "cell_type": "code",
   "execution_count": 23,
   "metadata": {},
   "outputs": [
    {
     "data": {
      "text/plain": [
       "['21 salaries',\n",
       " '20 salaries',\n",
       " '15 salaries',\n",
       " '15 salaries',\n",
       " '14 salaries',\n",
       " '14 salaries',\n",
       " '10 salaries',\n",
       " '10 salaries',\n",
       " '10 salaries',\n",
       " '9 salaries',\n",
       " '8 salaries',\n",
       " '8 salaries',\n",
       " '8 salaries',\n",
       " '8 salaries',\n",
       " '7 salaries',\n",
       " '7 salaries',\n",
       " '6 salaries',\n",
       " '6 salaries',\n",
       " '6 salaries',\n",
       " '6 salaries']"
      ]
     },
     "execution_count": 23,
     "metadata": {},
     "output_type": "execute_result"
    }
   ],
   "source": [
    "#so we run the loop to iterate over the tags extracted above and extract the text inside them.\n",
    "\n",
    "Number_of_salaries=[]\n",
    "for i in number_of_salaries:\n",
    "    Number_of_salaries.append(i.text)\n",
    "Number_of_salaries"
   ]
  },
  {
   "cell_type": "code",
   "execution_count": 26,
   "metadata": {},
   "outputs": [
    {
     "data": {
      "text/plain": [
       "[<selenium.webdriver.remote.webelement.WebElement (session=\"10b9764017d7a73c4dddbb8201fc8f67\", element=\"dc7bcd22-ea41-478f-8634-251b0fd95e1c\")>,\n",
       " <selenium.webdriver.remote.webelement.WebElement (session=\"10b9764017d7a73c4dddbb8201fc8f67\", element=\"d577eccc-fe8f-44eb-8331-87f7eef26aad\")>,\n",
       " <selenium.webdriver.remote.webelement.WebElement (session=\"10b9764017d7a73c4dddbb8201fc8f67\", element=\"926deba9-9b00-4e52-b45c-05240df9fd79\")>,\n",
       " <selenium.webdriver.remote.webelement.WebElement (session=\"10b9764017d7a73c4dddbb8201fc8f67\", element=\"6fced6d6-f8b2-45fa-9575-42c02681e36b\")>,\n",
       " <selenium.webdriver.remote.webelement.WebElement (session=\"10b9764017d7a73c4dddbb8201fc8f67\", element=\"e5797993-37fa-43f6-b5a5-94bc2613566d\")>,\n",
       " <selenium.webdriver.remote.webelement.WebElement (session=\"10b9764017d7a73c4dddbb8201fc8f67\", element=\"f3a23125-a572-4b7e-bf23-3941db3604ca\")>,\n",
       " <selenium.webdriver.remote.webelement.WebElement (session=\"10b9764017d7a73c4dddbb8201fc8f67\", element=\"f7f11e85-5b78-41f1-8575-44b66109496c\")>,\n",
       " <selenium.webdriver.remote.webelement.WebElement (session=\"10b9764017d7a73c4dddbb8201fc8f67\", element=\"5a494a3b-96b1-49b4-ae04-eaedd8a6d374\")>,\n",
       " <selenium.webdriver.remote.webelement.WebElement (session=\"10b9764017d7a73c4dddbb8201fc8f67\", element=\"a183902b-f989-41ff-8675-301450ce3503\")>,\n",
       " <selenium.webdriver.remote.webelement.WebElement (session=\"10b9764017d7a73c4dddbb8201fc8f67\", element=\"0b79ae20-1ebb-4294-ba77-16b5b5e629d2\")>,\n",
       " <selenium.webdriver.remote.webelement.WebElement (session=\"10b9764017d7a73c4dddbb8201fc8f67\", element=\"e52f995a-6fc7-45e8-9513-92cea34312a4\")>,\n",
       " <selenium.webdriver.remote.webelement.WebElement (session=\"10b9764017d7a73c4dddbb8201fc8f67\", element=\"40003e7e-eea2-463d-a72b-499b5666a6e5\")>,\n",
       " <selenium.webdriver.remote.webelement.WebElement (session=\"10b9764017d7a73c4dddbb8201fc8f67\", element=\"2b48ff51-dd57-4046-bebd-ee91ec45e69e\")>,\n",
       " <selenium.webdriver.remote.webelement.WebElement (session=\"10b9764017d7a73c4dddbb8201fc8f67\", element=\"04273e59-95a7-4188-a135-d273d56f916f\")>,\n",
       " <selenium.webdriver.remote.webelement.WebElement (session=\"10b9764017d7a73c4dddbb8201fc8f67\", element=\"7ee8b5e8-21fa-4fcb-a49a-989e25a627c0\")>,\n",
       " <selenium.webdriver.remote.webelement.WebElement (session=\"10b9764017d7a73c4dddbb8201fc8f67\", element=\"fa561bb2-f645-42d4-ab3b-cd6c98cb3efb\")>,\n",
       " <selenium.webdriver.remote.webelement.WebElement (session=\"10b9764017d7a73c4dddbb8201fc8f67\", element=\"fbd6a3dc-1a65-4c02-a3ff-6a7d2a90a936\")>,\n",
       " <selenium.webdriver.remote.webelement.WebElement (session=\"10b9764017d7a73c4dddbb8201fc8f67\", element=\"f2d2b833-86c1-45ef-8a45-fb27dcb491e7\")>,\n",
       " <selenium.webdriver.remote.webelement.WebElement (session=\"10b9764017d7a73c4dddbb8201fc8f67\", element=\"b6b03a32-a47d-47bb-8dd7-e86e86152b3b\")>,\n",
       " <selenium.webdriver.remote.webelement.WebElement (session=\"10b9764017d7a73c4dddbb8201fc8f67\", element=\"e561b80f-edb3-4f05-a02b-0156dd501203\")>]"
      ]
     },
     "execution_count": 26,
     "metadata": {},
     "output_type": "execute_result"
    }
   ],
   "source": [
    "\n",
    "average_salaries=driver.find_elements_by_xpath('//div[@class=\"col-12 col-lg-4 px-lg-0 d-flex align-items-baseline\"]')\n",
    "average_salaries"
   ]
  },
  {
   "cell_type": "code",
   "execution_count": 28,
   "metadata": {},
   "outputs": [
    {
     "data": {
      "text/plain": [
       "['₹6,19,349 /yr',\n",
       " '₹9,00,000 /yr',\n",
       " '₹11,71,012 /yr',\n",
       " '₹12,26,283 /yr',\n",
       " '₹7,44,116 /yr',\n",
       " '₹12,80,000 /yr',\n",
       " '₹13,29,677 /yr',\n",
       " '₹14,28,139 /yr',\n",
       " '₹8,69,449 /yr',\n",
       " '₹11,10,000 /yr',\n",
       " '₹9,53,560 /yr',\n",
       " '₹11,49,894 /yr',\n",
       " '₹10,81,155 /yr',\n",
       " '₹12,17,018 /yr',\n",
       " '₹14,24,677 /yr',\n",
       " '₹11,09,179 /yr',\n",
       " '₹20,25,084 /yr',\n",
       " '₹10,60,462 /yr',\n",
       " '₹34,383 /mo',\n",
       " '₹8,32,315 /yr']"
      ]
     },
     "execution_count": 28,
     "metadata": {},
     "output_type": "execute_result"
    }
   ],
   "source": [
    "#so we run the loop to iterate over the tags extracted above and extract the text inside them.\n",
    "\n",
    "Average_salaries=[]\n",
    "for i in average_salaries:\n",
    "    Average_salaries.append(i.text.replace(\"\\n\",\"\"))\n",
    "Average_salaries"
   ]
  },
  {
   "cell_type": "code",
   "execution_count": 40,
   "metadata": {},
   "outputs": [
    {
     "data": {
      "text/plain": [
       "[<selenium.webdriver.remote.webelement.WebElement (session=\"10b9764017d7a73c4dddbb8201fc8f67\", element=\"da31df71-6663-4470-af0e-287864bee0a8\")>,\n",
       " <selenium.webdriver.remote.webelement.WebElement (session=\"10b9764017d7a73c4dddbb8201fc8f67\", element=\"5395e0d8-6bd5-449c-98fe-40acda0630a3\")>,\n",
       " <selenium.webdriver.remote.webelement.WebElement (session=\"10b9764017d7a73c4dddbb8201fc8f67\", element=\"d8ced91b-55b2-4e88-9c8f-dc86d84b09c0\")>,\n",
       " <selenium.webdriver.remote.webelement.WebElement (session=\"10b9764017d7a73c4dddbb8201fc8f67\", element=\"965758bf-4d0a-4c79-ac20-fee529f59599\")>,\n",
       " <selenium.webdriver.remote.webelement.WebElement (session=\"10b9764017d7a73c4dddbb8201fc8f67\", element=\"00b6b41a-742e-49b6-b264-4a2cc76fc9b6\")>,\n",
       " <selenium.webdriver.remote.webelement.WebElement (session=\"10b9764017d7a73c4dddbb8201fc8f67\", element=\"f0aed0ce-6605-4f5c-8ecd-0ccbf027de1f\")>,\n",
       " <selenium.webdriver.remote.webelement.WebElement (session=\"10b9764017d7a73c4dddbb8201fc8f67\", element=\"e173d114-94c0-44e4-b451-2e219c0ee13b\")>,\n",
       " <selenium.webdriver.remote.webelement.WebElement (session=\"10b9764017d7a73c4dddbb8201fc8f67\", element=\"2950526b-02c7-499c-a5ea-85ae9a933fd1\")>,\n",
       " <selenium.webdriver.remote.webelement.WebElement (session=\"10b9764017d7a73c4dddbb8201fc8f67\", element=\"70dfe78f-f3ea-40a0-927c-057f3abc8218\")>,\n",
       " <selenium.webdriver.remote.webelement.WebElement (session=\"10b9764017d7a73c4dddbb8201fc8f67\", element=\"81872a68-3898-4b50-b487-b26848d05e07\")>,\n",
       " <selenium.webdriver.remote.webelement.WebElement (session=\"10b9764017d7a73c4dddbb8201fc8f67\", element=\"d1f7b0df-8beb-4e99-90be-1c8f3b90be8c\")>,\n",
       " <selenium.webdriver.remote.webelement.WebElement (session=\"10b9764017d7a73c4dddbb8201fc8f67\", element=\"b7c3cd0b-f0f2-4347-8c98-f1afacbf8e83\")>,\n",
       " <selenium.webdriver.remote.webelement.WebElement (session=\"10b9764017d7a73c4dddbb8201fc8f67\", element=\"7be2fcf9-9576-47ae-b351-cd8758a34b58\")>,\n",
       " <selenium.webdriver.remote.webelement.WebElement (session=\"10b9764017d7a73c4dddbb8201fc8f67\", element=\"a4a67f4f-fac9-4180-b128-6f18a6366e7e\")>,\n",
       " <selenium.webdriver.remote.webelement.WebElement (session=\"10b9764017d7a73c4dddbb8201fc8f67\", element=\"24641295-6c12-43f4-8da2-1723af1fd637\")>,\n",
       " <selenium.webdriver.remote.webelement.WebElement (session=\"10b9764017d7a73c4dddbb8201fc8f67\", element=\"41a04917-1626-4787-a3b8-796194d32893\")>,\n",
       " <selenium.webdriver.remote.webelement.WebElement (session=\"10b9764017d7a73c4dddbb8201fc8f67\", element=\"60fd1911-2d58-430d-b0b8-32a1189d3267\")>,\n",
       " <selenium.webdriver.remote.webelement.WebElement (session=\"10b9764017d7a73c4dddbb8201fc8f67\", element=\"fe0a8925-924c-4ade-b4ef-fb0f30418472\")>,\n",
       " <selenium.webdriver.remote.webelement.WebElement (session=\"10b9764017d7a73c4dddbb8201fc8f67\", element=\"08783105-4a25-4439-b602-b2c0daae74b8\")>,\n",
       " <selenium.webdriver.remote.webelement.WebElement (session=\"10b9764017d7a73c4dddbb8201fc8f67\", element=\"6d48c5d3-8978-4245-aacc-18b546dab3b8\")>]"
      ]
     },
     "execution_count": 40,
     "metadata": {},
     "output_type": "execute_result"
    }
   ],
   "source": [
    "\n",
    "salaries=driver.find_elements_by_xpath('//div[@class=\"d-flex mt-xxsm css-79elbk epuxyqn0\"]')\n",
    "salaries"
   ]
  },
  {
   "cell_type": "code",
   "execution_count": 41,
   "metadata": {},
   "outputs": [
    {
     "data": {
      "text/plain": [
       "['₹4L min--->max ₹13L',\n",
       " '₹1L min--->max ₹28L',\n",
       " '₹6L min--->max ₹22L',\n",
       " '₹5L min--->max ₹1Cr',\n",
       " '₹4L min--->max ₹16L',\n",
       " '₹8L min--->max ₹15L',\n",
       " '₹8L min--->max ₹20L',\n",
       " '₹10L min--->max ₹17L',\n",
       " '₹5L min--->max ₹15L',\n",
       " '₹6L min--->max ₹15L',\n",
       " '₹4L min--->max ₹13L',\n",
       " '₹2L min--->max ₹18L',\n",
       " '₹4L min--->max ₹21L',\n",
       " '₹6L min--->max ₹17L',\n",
       " '₹10L min--->max ₹21L',\n",
       " '₹8L min--->max ₹20L',\n",
       " '₹10L min--->max ₹30L',\n",
       " '₹9L min--->max ₹15L',\n",
       " '₹12T min--->max ₹63T',\n",
       " '₹5L min--->max ₹72L']"
      ]
     },
     "execution_count": 41,
     "metadata": {},
     "output_type": "execute_result"
    }
   ],
   "source": [
    "#so we run the loop to iterate over the tags extracted above and extract the text inside them.\n",
    "\n",
    "Salaries=[]\n",
    "for i in salaries:\n",
    "    Salaries.append(i.text.replace(\"\\n\",\" min--->max \"))\n",
    "Salaries"
   ]
  },
  {
   "cell_type": "code",
   "execution_count": 44,
   "metadata": {},
   "outputs": [
    {
     "data": {
      "text/html": [
       "<div>\n",
       "<style scoped>\n",
       "    .dataframe tbody tr th:only-of-type {\n",
       "        vertical-align: middle;\n",
       "    }\n",
       "\n",
       "    .dataframe tbody tr th {\n",
       "        vertical-align: top;\n",
       "    }\n",
       "\n",
       "    .dataframe thead th {\n",
       "        text-align: right;\n",
       "    }\n",
       "</style>\n",
       "<table border=\"1\" class=\"dataframe\">\n",
       "  <thead>\n",
       "    <tr style=\"text-align: right;\">\n",
       "      <th></th>\n",
       "      <th>Companies_tags</th>\n",
       "      <th>Number_of_salaries</th>\n",
       "      <th>Average_Salary</th>\n",
       "      <th>Min-Max(salary)</th>\n",
       "    </tr>\n",
       "  </thead>\n",
       "  <tbody>\n",
       "    <tr>\n",
       "      <th>0</th>\n",
       "      <td>Tata Consultancy Services</td>\n",
       "      <td>21 salaries</td>\n",
       "      <td>₹6,19,349 /yr</td>\n",
       "      <td>₹4L min---&gt;max ₹13L</td>\n",
       "    </tr>\n",
       "    <tr>\n",
       "      <th>1</th>\n",
       "      <td>IBM</td>\n",
       "      <td>20 salaries</td>\n",
       "      <td>₹9,00,000 /yr</td>\n",
       "      <td>₹1L min---&gt;max ₹28L</td>\n",
       "    </tr>\n",
       "    <tr>\n",
       "      <th>2</th>\n",
       "      <td>Accenture</td>\n",
       "      <td>15 salaries</td>\n",
       "      <td>₹11,71,012 /yr</td>\n",
       "      <td>₹6L min---&gt;max ₹22L</td>\n",
       "    </tr>\n",
       "    <tr>\n",
       "      <th>3</th>\n",
       "      <td>Delhivery</td>\n",
       "      <td>15 salaries</td>\n",
       "      <td>₹12,26,283 /yr</td>\n",
       "      <td>₹5L min---&gt;max ₹1Cr</td>\n",
       "    </tr>\n",
       "    <tr>\n",
       "      <th>4</th>\n",
       "      <td>Ericsson-Worldwide</td>\n",
       "      <td>14 salaries</td>\n",
       "      <td>₹7,44,116 /yr</td>\n",
       "      <td>₹4L min---&gt;max ₹16L</td>\n",
       "    </tr>\n",
       "    <tr>\n",
       "      <th>5</th>\n",
       "      <td>UnitedHealth Group</td>\n",
       "      <td>14 salaries</td>\n",
       "      <td>₹12,80,000 /yr</td>\n",
       "      <td>₹8L min---&gt;max ₹15L</td>\n",
       "    </tr>\n",
       "    <tr>\n",
       "      <th>6</th>\n",
       "      <td>Optum</td>\n",
       "      <td>10 salaries</td>\n",
       "      <td>₹13,29,677 /yr</td>\n",
       "      <td>₹8L min---&gt;max ₹20L</td>\n",
       "    </tr>\n",
       "    <tr>\n",
       "      <th>7</th>\n",
       "      <td>Optum Global Solutions</td>\n",
       "      <td>10 salaries</td>\n",
       "      <td>₹14,28,139 /yr</td>\n",
       "      <td>₹10L min---&gt;max ₹17L</td>\n",
       "    </tr>\n",
       "    <tr>\n",
       "      <th>8</th>\n",
       "      <td>Valiance Solutions</td>\n",
       "      <td>10 salaries</td>\n",
       "      <td>₹8,69,449 /yr</td>\n",
       "      <td>₹5L min---&gt;max ₹15L</td>\n",
       "    </tr>\n",
       "    <tr>\n",
       "      <th>9</th>\n",
       "      <td>EXL Service</td>\n",
       "      <td>9 salaries</td>\n",
       "      <td>₹11,10,000 /yr</td>\n",
       "      <td>₹6L min---&gt;max ₹15L</td>\n",
       "    </tr>\n",
       "    <tr>\n",
       "      <th>10</th>\n",
       "      <td>Cognizant Technology Solutions</td>\n",
       "      <td>8 salaries</td>\n",
       "      <td>₹9,53,560 /yr</td>\n",
       "      <td>₹4L min---&gt;max ₹13L</td>\n",
       "    </tr>\n",
       "    <tr>\n",
       "      <th>11</th>\n",
       "      <td>ZS Associates</td>\n",
       "      <td>8 salaries</td>\n",
       "      <td>₹11,49,894 /yr</td>\n",
       "      <td>₹2L min---&gt;max ₹18L</td>\n",
       "    </tr>\n",
       "    <tr>\n",
       "      <th>12</th>\n",
       "      <td>Nagarro</td>\n",
       "      <td>8 salaries</td>\n",
       "      <td>₹10,81,155 /yr</td>\n",
       "      <td>₹4L min---&gt;max ₹21L</td>\n",
       "    </tr>\n",
       "    <tr>\n",
       "      <th>13</th>\n",
       "      <td>Innovaccer</td>\n",
       "      <td>8 salaries</td>\n",
       "      <td>₹12,17,018 /yr</td>\n",
       "      <td>₹6L min---&gt;max ₹17L</td>\n",
       "    </tr>\n",
       "    <tr>\n",
       "      <th>14</th>\n",
       "      <td>OYO</td>\n",
       "      <td>7 salaries</td>\n",
       "      <td>₹14,24,677 /yr</td>\n",
       "      <td>₹10L min---&gt;max ₹21L</td>\n",
       "    </tr>\n",
       "    <tr>\n",
       "      <th>15</th>\n",
       "      <td>dunnhumby</td>\n",
       "      <td>7 salaries</td>\n",
       "      <td>₹11,09,179 /yr</td>\n",
       "      <td>₹8L min---&gt;max ₹20L</td>\n",
       "    </tr>\n",
       "    <tr>\n",
       "      <th>16</th>\n",
       "      <td>Amazon</td>\n",
       "      <td>6 salaries</td>\n",
       "      <td>₹20,25,084 /yr</td>\n",
       "      <td>₹10L min---&gt;max ₹30L</td>\n",
       "    </tr>\n",
       "    <tr>\n",
       "      <th>17</th>\n",
       "      <td>CARS24.com</td>\n",
       "      <td>6 salaries</td>\n",
       "      <td>₹10,60,462 /yr</td>\n",
       "      <td>₹9L min---&gt;max ₹15L</td>\n",
       "    </tr>\n",
       "    <tr>\n",
       "      <th>18</th>\n",
       "      <td>Vidooly Media Tech</td>\n",
       "      <td>6 salaries</td>\n",
       "      <td>₹34,383 /mo</td>\n",
       "      <td>₹12T min---&gt;max ₹63T</td>\n",
       "    </tr>\n",
       "    <tr>\n",
       "      <th>19</th>\n",
       "      <td>ParallelDots</td>\n",
       "      <td>6 salaries</td>\n",
       "      <td>₹8,32,315 /yr</td>\n",
       "      <td>₹5L min---&gt;max ₹72L</td>\n",
       "    </tr>\n",
       "  </tbody>\n",
       "</table>\n",
       "</div>"
      ],
      "text/plain": [
       "                    Companies_tags Number_of_salaries  Average_Salary  \\\n",
       "0        Tata Consultancy Services        21 salaries   ₹6,19,349 /yr   \n",
       "1                              IBM        20 salaries   ₹9,00,000 /yr   \n",
       "2                        Accenture        15 salaries  ₹11,71,012 /yr   \n",
       "3                        Delhivery        15 salaries  ₹12,26,283 /yr   \n",
       "4               Ericsson-Worldwide        14 salaries   ₹7,44,116 /yr   \n",
       "5               UnitedHealth Group        14 salaries  ₹12,80,000 /yr   \n",
       "6                            Optum        10 salaries  ₹13,29,677 /yr   \n",
       "7           Optum Global Solutions        10 salaries  ₹14,28,139 /yr   \n",
       "8               Valiance Solutions        10 salaries   ₹8,69,449 /yr   \n",
       "9                      EXL Service         9 salaries  ₹11,10,000 /yr   \n",
       "10  Cognizant Technology Solutions         8 salaries   ₹9,53,560 /yr   \n",
       "11                   ZS Associates         8 salaries  ₹11,49,894 /yr   \n",
       "12                         Nagarro         8 salaries  ₹10,81,155 /yr   \n",
       "13                      Innovaccer         8 salaries  ₹12,17,018 /yr   \n",
       "14                             OYO         7 salaries  ₹14,24,677 /yr   \n",
       "15                       dunnhumby         7 salaries  ₹11,09,179 /yr   \n",
       "16                          Amazon         6 salaries  ₹20,25,084 /yr   \n",
       "17                      CARS24.com         6 salaries  ₹10,60,462 /yr   \n",
       "18              Vidooly Media Tech         6 salaries     ₹34,383 /mo   \n",
       "19                    ParallelDots         6 salaries   ₹8,32,315 /yr   \n",
       "\n",
       "         Min-Max(salary)  \n",
       "0    ₹4L min--->max ₹13L  \n",
       "1    ₹1L min--->max ₹28L  \n",
       "2    ₹6L min--->max ₹22L  \n",
       "3    ₹5L min--->max ₹1Cr  \n",
       "4    ₹4L min--->max ₹16L  \n",
       "5    ₹8L min--->max ₹15L  \n",
       "6    ₹8L min--->max ₹20L  \n",
       "7   ₹10L min--->max ₹17L  \n",
       "8    ₹5L min--->max ₹15L  \n",
       "9    ₹6L min--->max ₹15L  \n",
       "10   ₹4L min--->max ₹13L  \n",
       "11   ₹2L min--->max ₹18L  \n",
       "12   ₹4L min--->max ₹21L  \n",
       "13   ₹6L min--->max ₹17L  \n",
       "14  ₹10L min--->max ₹21L  \n",
       "15   ₹8L min--->max ₹20L  \n",
       "16  ₹10L min--->max ₹30L  \n",
       "17   ₹9L min--->max ₹15L  \n",
       "18  ₹12T min--->max ₹63T  \n",
       "19   ₹5L min--->max ₹72L  "
      ]
     },
     "execution_count": 44,
     "metadata": {},
     "output_type": "execute_result"
    }
   ],
   "source": [
    "df=pd.DataFrame({})\n",
    "df['Companies_tags']=Companies_tags\n",
    "df['Number_of_salaries']=Number_of_salaries\n",
    "df['Average_Salary']=Average_salaries\n",
    "df['Min-Max(salary)']=Salaries \n",
    "\n",
    "df"
   ]
  },
  {
   "cell_type": "markdown",
   "metadata": {},
   "source": [
    "# Q6 : Scrape data of first 100 sunglasses listings on flipkart.com. You have to \n",
    "scrape four attributes:\n",
    "1. Brand\n",
    "2. Product Description\n",
    "3. Price\n",
    "4. Discount %\n",
    "The attributes which you have to scrape is ticked marked in the below image.\n",
    "To scrape the data you have to go through following steps:\n",
    "1. Go to flipkart webpage by url https://www.flipkart.com/\n",
    "2. Enter “sunglasses” in the search field where “search for products, brands and \n",
    "more” is written and click the search icon\n",
    "3. after that you will reach to a webpage having a lot of sunglasses. From this page \n",
    "you can scrap the required data as usual.\n",
    "4. after scraping data from the first page, go to the “Next” Button at the bottom of \n",
    "the page , then click on it.\n",
    "5. Now scrape data from this page as usual\n",
    "6. repeat this until you get data for 100 sunglasses.\n",
    "Note that all of the above steps have to be done by coding only and not manually."
   ]
  },
  {
   "cell_type": "code",
   "execution_count": 63,
   "metadata": {},
   "outputs": [],
   "source": [
    "#lets now import all the required libraries\n",
    "import selenium\n",
    "import pandas as pd\n",
    "from selenium import webdriver\n",
    "import warnings\n",
    "warnings.filterwarnings('ignore')"
   ]
  },
  {
   "cell_type": "code",
   "execution_count": 64,
   "metadata": {},
   "outputs": [],
   "source": [
    "driver=webdriver.Chrome('chromedriver.exe')\n",
    "url='https://www.flipkart.com/'\n",
    "driver.get(url)"
   ]
  },
  {
   "cell_type": "code",
   "execution_count": 78,
   "metadata": {},
   "outputs": [
    {
     "data": {
      "text/plain": [
       "<selenium.webdriver.remote.webelement.WebElement (session=\"af36a2054a4f23e76be9e8f94249bbdb\", element=\"c4a23964-6e88-4b6b-bd6d-dd0da4708a79\")>"
      ]
     },
     "execution_count": 78,
     "metadata": {},
     "output_type": "execute_result"
    }
   ],
   "source": [
    "\n",
    "search_field=driver.find_element_by_xpath('//input[@class=\"_3704LK\"]')\n",
    "search_field\n",
    "\n",
    "#do click on xpath functiom\n"
   ]
  },
  {
   "cell_type": "code",
   "execution_count": 80,
   "metadata": {},
   "outputs": [
    {
     "data": {
      "text/plain": [
       "<selenium.webdriver.remote.webelement.WebElement (session=\"af36a2054a4f23e76be9e8f94249bbdb\", element=\"04ed426d-738b-4e82-a691-3755a0df0c6a\")>"
      ]
     },
     "execution_count": 80,
     "metadata": {},
     "output_type": "execute_result"
    }
   ],
   "source": [
    "#write on search bar\n",
    "search_field.send_keys(\"Sunglasses\")\n",
    "search_btn=driver.find_element_by_xpath('//button[@class=\"L0Z3Pu\"]')\n",
    "search_btn\n",
    "\n",
    "#do click on xpath functiom\n"
   ]
  },
  {
   "cell_type": "code",
   "execution_count": 81,
   "metadata": {},
   "outputs": [],
   "source": [
    "search_btn.click()"
   ]
  },
  {
   "cell_type": "code",
   "execution_count": 87,
   "metadata": {},
   "outputs": [
    {
     "data": {
      "text/plain": [
       "[<selenium.webdriver.remote.webelement.WebElement (session=\"af36a2054a4f23e76be9e8f94249bbdb\", element=\"06042daf-5ea6-492c-914d-fcac98b0837e\")>,\n",
       " <selenium.webdriver.remote.webelement.WebElement (session=\"af36a2054a4f23e76be9e8f94249bbdb\", element=\"3db979bb-4a58-4310-9385-83d269aba769\")>,\n",
       " <selenium.webdriver.remote.webelement.WebElement (session=\"af36a2054a4f23e76be9e8f94249bbdb\", element=\"36854699-c01e-4bd1-99bf-27ae8359db66\")>,\n",
       " <selenium.webdriver.remote.webelement.WebElement (session=\"af36a2054a4f23e76be9e8f94249bbdb\", element=\"7fd54054-86a8-4fdf-912e-ca1b8878a08b\")>,\n",
       " <selenium.webdriver.remote.webelement.WebElement (session=\"af36a2054a4f23e76be9e8f94249bbdb\", element=\"68bba388-7a9f-4c67-adba-0efeff90ed6e\")>,\n",
       " <selenium.webdriver.remote.webelement.WebElement (session=\"af36a2054a4f23e76be9e8f94249bbdb\", element=\"0899fdfc-6605-4e39-8222-b220f328cd74\")>,\n",
       " <selenium.webdriver.remote.webelement.WebElement (session=\"af36a2054a4f23e76be9e8f94249bbdb\", element=\"44952d0c-2057-43cb-916f-7ce8be3b43c5\")>,\n",
       " <selenium.webdriver.remote.webelement.WebElement (session=\"af36a2054a4f23e76be9e8f94249bbdb\", element=\"60cfc9fe-9e47-4365-8750-8a2f5e0e62d1\")>,\n",
       " <selenium.webdriver.remote.webelement.WebElement (session=\"af36a2054a4f23e76be9e8f94249bbdb\", element=\"08575938-48e7-43ae-856c-6ce4156cfbae\")>,\n",
       " <selenium.webdriver.remote.webelement.WebElement (session=\"af36a2054a4f23e76be9e8f94249bbdb\", element=\"4db9d071-c88d-4f65-a2e1-1a5f3dd4fd99\")>,\n",
       " <selenium.webdriver.remote.webelement.WebElement (session=\"af36a2054a4f23e76be9e8f94249bbdb\", element=\"2faa4576-741f-4821-a5ca-cb548df0e777\")>,\n",
       " <selenium.webdriver.remote.webelement.WebElement (session=\"af36a2054a4f23e76be9e8f94249bbdb\", element=\"a22a6d8c-3d05-422a-b397-ba8830e4fc90\")>,\n",
       " <selenium.webdriver.remote.webelement.WebElement (session=\"af36a2054a4f23e76be9e8f94249bbdb\", element=\"bd534956-924a-489c-8a7a-3b617cdd3761\")>,\n",
       " <selenium.webdriver.remote.webelement.WebElement (session=\"af36a2054a4f23e76be9e8f94249bbdb\", element=\"9ee2d86e-299e-4268-9b1d-f9bf51925da6\")>,\n",
       " <selenium.webdriver.remote.webelement.WebElement (session=\"af36a2054a4f23e76be9e8f94249bbdb\", element=\"12754c54-67f0-4f1f-ba0d-9b2e6854ea92\")>,\n",
       " <selenium.webdriver.remote.webelement.WebElement (session=\"af36a2054a4f23e76be9e8f94249bbdb\", element=\"61570007-41ab-40f2-8b60-87c3800795b4\")>,\n",
       " <selenium.webdriver.remote.webelement.WebElement (session=\"af36a2054a4f23e76be9e8f94249bbdb\", element=\"e818f9e1-8456-49a4-90dd-5ef38081af07\")>,\n",
       " <selenium.webdriver.remote.webelement.WebElement (session=\"af36a2054a4f23e76be9e8f94249bbdb\", element=\"ae601b01-3c62-4a35-8c55-ac808ac74c48\")>,\n",
       " <selenium.webdriver.remote.webelement.WebElement (session=\"af36a2054a4f23e76be9e8f94249bbdb\", element=\"17d08466-dcbd-4230-9469-fc0745436751\")>,\n",
       " <selenium.webdriver.remote.webelement.WebElement (session=\"af36a2054a4f23e76be9e8f94249bbdb\", element=\"5e3f770e-1c8c-44b5-922c-2d3cfdf98af6\")>,\n",
       " <selenium.webdriver.remote.webelement.WebElement (session=\"af36a2054a4f23e76be9e8f94249bbdb\", element=\"84f49b7f-b669-4c9e-8644-be6d124d01a8\")>,\n",
       " <selenium.webdriver.remote.webelement.WebElement (session=\"af36a2054a4f23e76be9e8f94249bbdb\", element=\"85de6585-0373-4737-80e4-56fff560c6f4\")>,\n",
       " <selenium.webdriver.remote.webelement.WebElement (session=\"af36a2054a4f23e76be9e8f94249bbdb\", element=\"364d65b1-bf3c-4053-8ac7-24d7d1b2e503\")>,\n",
       " <selenium.webdriver.remote.webelement.WebElement (session=\"af36a2054a4f23e76be9e8f94249bbdb\", element=\"cb8834fd-b2b5-4e98-99f7-a8d488d1b242\")>,\n",
       " <selenium.webdriver.remote.webelement.WebElement (session=\"af36a2054a4f23e76be9e8f94249bbdb\", element=\"7f2b3e80-c046-4604-ab40-dd9621d66889\")>,\n",
       " <selenium.webdriver.remote.webelement.WebElement (session=\"af36a2054a4f23e76be9e8f94249bbdb\", element=\"2a183bf9-c38c-486d-8835-b929a7d0e2b4\")>,\n",
       " <selenium.webdriver.remote.webelement.WebElement (session=\"af36a2054a4f23e76be9e8f94249bbdb\", element=\"409dc46f-9cde-4ddf-a92e-1d2b2592b37d\")>,\n",
       " <selenium.webdriver.remote.webelement.WebElement (session=\"af36a2054a4f23e76be9e8f94249bbdb\", element=\"c0bc8a0f-173b-40f1-a58b-7e300145c4ec\")>,\n",
       " <selenium.webdriver.remote.webelement.WebElement (session=\"af36a2054a4f23e76be9e8f94249bbdb\", element=\"fe5b4db5-0a5d-4f74-bbb8-d199310ff379\")>,\n",
       " <selenium.webdriver.remote.webelement.WebElement (session=\"af36a2054a4f23e76be9e8f94249bbdb\", element=\"e1ed1953-ec8d-44c6-95ed-176c225d0948\")>,\n",
       " <selenium.webdriver.remote.webelement.WebElement (session=\"af36a2054a4f23e76be9e8f94249bbdb\", element=\"2a84976b-5b4c-4da4-b8f5-efd993f20660\")>,\n",
       " <selenium.webdriver.remote.webelement.WebElement (session=\"af36a2054a4f23e76be9e8f94249bbdb\", element=\"2de5d6c7-612e-4e11-bfc1-96c9581c9aee\")>,\n",
       " <selenium.webdriver.remote.webelement.WebElement (session=\"af36a2054a4f23e76be9e8f94249bbdb\", element=\"8b33e203-1de8-4c7b-9a17-f76237152cef\")>,\n",
       " <selenium.webdriver.remote.webelement.WebElement (session=\"af36a2054a4f23e76be9e8f94249bbdb\", element=\"784c2b15-3377-4dba-96ce-3be8d89ed106\")>,\n",
       " <selenium.webdriver.remote.webelement.WebElement (session=\"af36a2054a4f23e76be9e8f94249bbdb\", element=\"3db5dfb2-c543-4c9a-bbce-bdf3bd12a092\")>,\n",
       " <selenium.webdriver.remote.webelement.WebElement (session=\"af36a2054a4f23e76be9e8f94249bbdb\", element=\"8d30666f-a89f-465d-8385-028b60bf4d46\")>,\n",
       " <selenium.webdriver.remote.webelement.WebElement (session=\"af36a2054a4f23e76be9e8f94249bbdb\", element=\"265a1c41-0049-4568-8f6a-00aac1c9422e\")>,\n",
       " <selenium.webdriver.remote.webelement.WebElement (session=\"af36a2054a4f23e76be9e8f94249bbdb\", element=\"6b105d22-edb6-481c-b664-333412b9851a\")>,\n",
       " <selenium.webdriver.remote.webelement.WebElement (session=\"af36a2054a4f23e76be9e8f94249bbdb\", element=\"ffa32f98-c953-4ada-8515-8fedf53d3c61\")>,\n",
       " <selenium.webdriver.remote.webelement.WebElement (session=\"af36a2054a4f23e76be9e8f94249bbdb\", element=\"46ff9014-672f-420e-a12a-f264e625f425\")>]"
      ]
     },
     "execution_count": 87,
     "metadata": {},
     "output_type": "execute_result"
    }
   ],
   "source": [
    "#_2WkVRV\n",
    "\n",
    "brand=driver.find_elements_by_xpath('//div[@class=\"_2WkVRV\"]')\n",
    "brand\n",
    "\n",
    "#do click on xpath functiom\n"
   ]
  },
  {
   "cell_type": "code",
   "execution_count": 88,
   "metadata": {},
   "outputs": [
    {
     "data": {
      "text/plain": [
       "['elegante',\n",
       " 'elegante',\n",
       " 'Elligator',\n",
       " 'SHAAH COLLECTIONS',\n",
       " 'PIRASO',\n",
       " 'PIRASO',\n",
       " 'kingsunglasses',\n",
       " 'ROYAL SON',\n",
       " 'ROYAL SON',\n",
       " 'kingsunglasses',\n",
       " 'Fastrack',\n",
       " 'AISLIN',\n",
       " 'Fastrack',\n",
       " 'SHAAH COLLECTIONS',\n",
       " 'SHAAH COLLECTIONS',\n",
       " 'NuVew',\n",
       " 'ROZZETTA CRAFT',\n",
       " 'ROZZETTA CRAFT',\n",
       " 'PIRASO',\n",
       " 'VAST',\n",
       " 'PHENOMENAL',\n",
       " 'SUNBEE',\n",
       " 'Silver Kartz',\n",
       " 'AISLIN',\n",
       " 'PIRASO',\n",
       " 'SUNBEE',\n",
       " 'Fastrack',\n",
       " 'AISLIN',\n",
       " 'Elligator',\n",
       " 'Rich Club',\n",
       " 'DEIXELS',\n",
       " 'ROYAL SON',\n",
       " 'OCCARIO',\n",
       " 'NuVew',\n",
       " 'ROYAL SON',\n",
       " 'AISLIN',\n",
       " 'GANSTA',\n",
       " 'kingsunglasses',\n",
       " 'Fastrack',\n",
       " 'AISLIN']"
      ]
     },
     "execution_count": 88,
     "metadata": {},
     "output_type": "execute_result"
    }
   ],
   "source": [
    "Brand1=[]\n",
    "for i in brand:\n",
    "    Brand1.append(i.text)\n",
    "Brand1"
   ]
  },
  {
   "cell_type": "code",
   "execution_count": 89,
   "metadata": {},
   "outputs": [
    {
     "data": {
      "text/plain": [
       "[<selenium.webdriver.remote.webelement.WebElement (session=\"af36a2054a4f23e76be9e8f94249bbdb\", element=\"6c404a41-aa3b-43ce-94df-ec33ff7e28bb\")>,\n",
       " <selenium.webdriver.remote.webelement.WebElement (session=\"af36a2054a4f23e76be9e8f94249bbdb\", element=\"c35cf5f0-8a55-47c1-b146-8fc7b2591c7f\")>,\n",
       " <selenium.webdriver.remote.webelement.WebElement (session=\"af36a2054a4f23e76be9e8f94249bbdb\", element=\"096c2371-0934-489d-9466-21716cbc5383\")>,\n",
       " <selenium.webdriver.remote.webelement.WebElement (session=\"af36a2054a4f23e76be9e8f94249bbdb\", element=\"91e26864-434f-471c-b047-b582a8b99211\")>,\n",
       " <selenium.webdriver.remote.webelement.WebElement (session=\"af36a2054a4f23e76be9e8f94249bbdb\", element=\"288cc5d9-7d45-4a75-9837-4a1bb83fa67a\")>,\n",
       " <selenium.webdriver.remote.webelement.WebElement (session=\"af36a2054a4f23e76be9e8f94249bbdb\", element=\"38566d52-0e03-4377-8b0f-6dedd72c6775\")>,\n",
       " <selenium.webdriver.remote.webelement.WebElement (session=\"af36a2054a4f23e76be9e8f94249bbdb\", element=\"4398408d-e39d-4321-adf5-f65c96066c9d\")>,\n",
       " <selenium.webdriver.remote.webelement.WebElement (session=\"af36a2054a4f23e76be9e8f94249bbdb\", element=\"0f9dcce1-5cfd-403c-9f2f-ba345b2ced0c\")>,\n",
       " <selenium.webdriver.remote.webelement.WebElement (session=\"af36a2054a4f23e76be9e8f94249bbdb\", element=\"acc1f645-7e89-4820-b397-00970992c553\")>,\n",
       " <selenium.webdriver.remote.webelement.WebElement (session=\"af36a2054a4f23e76be9e8f94249bbdb\", element=\"212affe4-a890-4dd6-b862-19c98cc2a259\")>,\n",
       " <selenium.webdriver.remote.webelement.WebElement (session=\"af36a2054a4f23e76be9e8f94249bbdb\", element=\"661ebecc-5abb-4ffc-8cfe-11d21eeb833b\")>,\n",
       " <selenium.webdriver.remote.webelement.WebElement (session=\"af36a2054a4f23e76be9e8f94249bbdb\", element=\"14f43083-f603-49ad-a8cc-944acd548f45\")>,\n",
       " <selenium.webdriver.remote.webelement.WebElement (session=\"af36a2054a4f23e76be9e8f94249bbdb\", element=\"90a29a3b-0d99-4379-b0ad-f1d74b99f2b8\")>,\n",
       " <selenium.webdriver.remote.webelement.WebElement (session=\"af36a2054a4f23e76be9e8f94249bbdb\", element=\"537c4d2e-055d-4f05-bcf9-195321ac83f2\")>,\n",
       " <selenium.webdriver.remote.webelement.WebElement (session=\"af36a2054a4f23e76be9e8f94249bbdb\", element=\"dd81b1c6-715f-412c-97f0-2e4ba0eaef46\")>,\n",
       " <selenium.webdriver.remote.webelement.WebElement (session=\"af36a2054a4f23e76be9e8f94249bbdb\", element=\"b524975e-c0a1-4d37-b05c-158b8c86f933\")>,\n",
       " <selenium.webdriver.remote.webelement.WebElement (session=\"af36a2054a4f23e76be9e8f94249bbdb\", element=\"3ff426f7-288a-4f92-a147-13221ac5d045\")>,\n",
       " <selenium.webdriver.remote.webelement.WebElement (session=\"af36a2054a4f23e76be9e8f94249bbdb\", element=\"59cd0944-3161-417f-a67b-f6294293efb8\")>,\n",
       " <selenium.webdriver.remote.webelement.WebElement (session=\"af36a2054a4f23e76be9e8f94249bbdb\", element=\"033fd4f7-1afc-4551-a31c-cfc7dac3e4e5\")>,\n",
       " <selenium.webdriver.remote.webelement.WebElement (session=\"af36a2054a4f23e76be9e8f94249bbdb\", element=\"908d8841-b0e3-47bb-b178-efe7baa61292\")>,\n",
       " <selenium.webdriver.remote.webelement.WebElement (session=\"af36a2054a4f23e76be9e8f94249bbdb\", element=\"8dd7cf6d-6e25-4e80-8969-611ddb4bee89\")>,\n",
       " <selenium.webdriver.remote.webelement.WebElement (session=\"af36a2054a4f23e76be9e8f94249bbdb\", element=\"646f4ab6-c08c-4877-8c1b-ce2e4af353e3\")>,\n",
       " <selenium.webdriver.remote.webelement.WebElement (session=\"af36a2054a4f23e76be9e8f94249bbdb\", element=\"245da562-1596-4683-813a-b1ea98a06138\")>,\n",
       " <selenium.webdriver.remote.webelement.WebElement (session=\"af36a2054a4f23e76be9e8f94249bbdb\", element=\"2345f14b-23d6-467a-9dcc-c0225bfb2c52\")>,\n",
       " <selenium.webdriver.remote.webelement.WebElement (session=\"af36a2054a4f23e76be9e8f94249bbdb\", element=\"413f2b39-1a8b-45c7-85d9-20fc2063feaa\")>,\n",
       " <selenium.webdriver.remote.webelement.WebElement (session=\"af36a2054a4f23e76be9e8f94249bbdb\", element=\"1c62331c-1a41-46fa-9cca-e19cae7bfbe7\")>,\n",
       " <selenium.webdriver.remote.webelement.WebElement (session=\"af36a2054a4f23e76be9e8f94249bbdb\", element=\"4c41b712-4235-4107-85c4-983bd2598658\")>,\n",
       " <selenium.webdriver.remote.webelement.WebElement (session=\"af36a2054a4f23e76be9e8f94249bbdb\", element=\"20144c28-f0a2-42c6-ae12-619f78adac44\")>,\n",
       " <selenium.webdriver.remote.webelement.WebElement (session=\"af36a2054a4f23e76be9e8f94249bbdb\", element=\"aeed0301-4440-44c3-b1e3-61b9039a2a49\")>,\n",
       " <selenium.webdriver.remote.webelement.WebElement (session=\"af36a2054a4f23e76be9e8f94249bbdb\", element=\"da3e9c87-8fdd-41b8-8e6a-2fc21043fc75\")>,\n",
       " <selenium.webdriver.remote.webelement.WebElement (session=\"af36a2054a4f23e76be9e8f94249bbdb\", element=\"38c9544c-0ffe-40e1-bf2a-fc01800aa34a\")>,\n",
       " <selenium.webdriver.remote.webelement.WebElement (session=\"af36a2054a4f23e76be9e8f94249bbdb\", element=\"4d4e52a1-4b78-400d-b73e-7f84184b87a6\")>,\n",
       " <selenium.webdriver.remote.webelement.WebElement (session=\"af36a2054a4f23e76be9e8f94249bbdb\", element=\"0ebe10d1-6b6d-498a-ae86-9e45ac2c6748\")>,\n",
       " <selenium.webdriver.remote.webelement.WebElement (session=\"af36a2054a4f23e76be9e8f94249bbdb\", element=\"8e02244a-3804-479f-b341-20c720356b09\")>,\n",
       " <selenium.webdriver.remote.webelement.WebElement (session=\"af36a2054a4f23e76be9e8f94249bbdb\", element=\"6868e137-8bf4-4893-bc06-6abc22c9241c\")>,\n",
       " <selenium.webdriver.remote.webelement.WebElement (session=\"af36a2054a4f23e76be9e8f94249bbdb\", element=\"e4bc29ba-6e4d-48af-ad04-220dfc361147\")>,\n",
       " <selenium.webdriver.remote.webelement.WebElement (session=\"af36a2054a4f23e76be9e8f94249bbdb\", element=\"8da0a56c-56cd-438f-b7e5-f79d78f6e753\")>,\n",
       " <selenium.webdriver.remote.webelement.WebElement (session=\"af36a2054a4f23e76be9e8f94249bbdb\", element=\"801fe222-abd3-444d-909c-58e4213c3b44\")>,\n",
       " <selenium.webdriver.remote.webelement.WebElement (session=\"af36a2054a4f23e76be9e8f94249bbdb\", element=\"8df2fac5-a035-47a5-a48f-29da1ef9fc97\")>]"
      ]
     },
     "execution_count": 89,
     "metadata": {},
     "output_type": "execute_result"
    }
   ],
   "source": [
    "#IRpwTa\n",
    "\n",
    "\n",
    "dis=driver.find_elements_by_xpath('//a[@class=\"IRpwTa\"]')\n",
    "dis\n",
    "\n",
    "#do click on xpath functiom\n"
   ]
  },
  {
   "cell_type": "code",
   "execution_count": 90,
   "metadata": {},
   "outputs": [
    {
     "data": {
      "text/plain": [
       "['Mirrored Round Sunglasses (Free Size)',\n",
       " 'UV Protection Oval Sunglasses (Free Size)',\n",
       " 'UV Protection Round Sunglasses (54)',\n",
       " 'UV Protection, Polarized, Mirrored Rectangular Sunglass...',\n",
       " 'UV Protection Aviator Sunglasses (54)',\n",
       " 'UV Protection Aviator Sunglasses (54)',\n",
       " 'Mirrored, UV Protection Wayfarer Sunglasses (Free Size)',\n",
       " 'UV Protection Rectangular Sunglasses (58)',\n",
       " 'UV Protection Round Sunglasses (54)',\n",
       " 'Gradient, UV Protection Wayfarer Sunglasses (Free Size)',\n",
       " 'Toughened Glass Lens, UV Protection Aviator, Wrap-aroun...',\n",
       " 'UV Protection Wayfarer Sunglasses (Free Size)',\n",
       " 'UV Protection, Polarized, Mirrored Rectangular Sunglass...',\n",
       " 'UV Protection Round Sunglasses (Free Size)',\n",
       " 'UV Protection Aviator Sunglasses (57)',\n",
       " 'UV Protection Retro Square Sunglasses (Free Size)',\n",
       " 'UV Protection, Gradient Rectangular Sunglasses (Free Si...',\n",
       " 'UV Protection Aviator Sunglasses (54)',\n",
       " 'Night Vision, Riding Glasses, UV Protection Wrap-around...',\n",
       " 'UV Protection Retro Square Sunglasses (Free Size)',\n",
       " 'UV Protection, Polarized, Mirrored Wayfarer Sunglasses ...',\n",
       " 'UV Protection Wayfarer Sunglasses (Free Size)',\n",
       " 'UV Protection, Gradient Butterfly, Retro Square Sunglas...',\n",
       " 'UV Protection Butterfly Sunglasses (65)',\n",
       " 'UV Protection, Polarized, Mirrored Wayfarer Sunglasses ...',\n",
       " 'UV Protection Aviator Sunglasses (Free Size)',\n",
       " 'UV Protection, Gradient Round, Cat-eye Sunglasses (60)',\n",
       " 'Mirrored Round Sunglasses (53)',\n",
       " 'UV Protection, Mirrored, Gradient Round Sunglasses (51)',\n",
       " 'UV Protection Aviator, Wayfarer Sunglasses (Free Size)',\n",
       " 'Gradient, UV Protection Cat-eye, Over-sized Sunglasses ...',\n",
       " 'Others Round Sunglasses (52)',\n",
       " 'UV Protection, Mirrored Aviator Sunglasses (58)',\n",
       " 'Mirrored Aviator Sunglasses (55)',\n",
       " 'UV Protection, Gradient Wayfarer, Clubmaster Sunglasses...',\n",
       " 'UV Protection, Night Vision, Riding Glasses Aviator Sun...',\n",
       " 'Mirrored, UV Protection Wayfarer Sunglasses (Free Size)',\n",
       " 'UV Protection Wayfarer Sunglasses (57)',\n",
       " 'UV Protection, Gradient Wayfarer Sunglasses (57)']"
      ]
     },
     "execution_count": 90,
     "metadata": {},
     "output_type": "execute_result"
    }
   ],
   "source": [
    "#so we run the loop to iterate over the tags extracted above and extract the text inside them.\n",
    "\n",
    "Dis1=[]\n",
    "for i in dis:\n",
    "    Dis1.append(i.text)\n",
    "Dis1"
   ]
  },
  {
   "cell_type": "code",
   "execution_count": 108,
   "metadata": {},
   "outputs": [
    {
     "data": {
      "text/plain": [
       "[<selenium.webdriver.remote.webelement.WebElement (session=\"af36a2054a4f23e76be9e8f94249bbdb\", element=\"efc92c4c-a7d7-40c4-bd2e-1327da9b0aed\")>,\n",
       " <selenium.webdriver.remote.webelement.WebElement (session=\"af36a2054a4f23e76be9e8f94249bbdb\", element=\"1c922df8-7af7-4ac2-a2f3-41bd0c579d33\")>,\n",
       " <selenium.webdriver.remote.webelement.WebElement (session=\"af36a2054a4f23e76be9e8f94249bbdb\", element=\"07814bfb-997e-4644-84ce-dd0b916b26bc\")>,\n",
       " <selenium.webdriver.remote.webelement.WebElement (session=\"af36a2054a4f23e76be9e8f94249bbdb\", element=\"e61f4541-bc89-4fac-8c70-aea46fd4f12b\")>,\n",
       " <selenium.webdriver.remote.webelement.WebElement (session=\"af36a2054a4f23e76be9e8f94249bbdb\", element=\"5d52e763-27ce-4780-9c7f-fc2471329567\")>,\n",
       " <selenium.webdriver.remote.webelement.WebElement (session=\"af36a2054a4f23e76be9e8f94249bbdb\", element=\"1428628b-3f7d-43f8-964d-bac6895d1254\")>,\n",
       " <selenium.webdriver.remote.webelement.WebElement (session=\"af36a2054a4f23e76be9e8f94249bbdb\", element=\"3a34fcd6-cc0b-4b3c-9ea1-e834f7e56043\")>,\n",
       " <selenium.webdriver.remote.webelement.WebElement (session=\"af36a2054a4f23e76be9e8f94249bbdb\", element=\"0ecb4f8f-869f-49e8-b59a-bfb8ea33a4b5\")>,\n",
       " <selenium.webdriver.remote.webelement.WebElement (session=\"af36a2054a4f23e76be9e8f94249bbdb\", element=\"e462e297-8922-49a4-9031-923bc423ab7f\")>,\n",
       " <selenium.webdriver.remote.webelement.WebElement (session=\"af36a2054a4f23e76be9e8f94249bbdb\", element=\"ba0b2a63-4965-4748-baa7-06e679077418\")>,\n",
       " <selenium.webdriver.remote.webelement.WebElement (session=\"af36a2054a4f23e76be9e8f94249bbdb\", element=\"aaf1fbb2-2b3c-47d9-ab29-9cc42e5bf10f\")>,\n",
       " <selenium.webdriver.remote.webelement.WebElement (session=\"af36a2054a4f23e76be9e8f94249bbdb\", element=\"f3e6d704-b194-454d-a86c-dff8676478c5\")>,\n",
       " <selenium.webdriver.remote.webelement.WebElement (session=\"af36a2054a4f23e76be9e8f94249bbdb\", element=\"35a4941f-a135-4d69-9379-18e77f9b86cf\")>,\n",
       " <selenium.webdriver.remote.webelement.WebElement (session=\"af36a2054a4f23e76be9e8f94249bbdb\", element=\"ef133486-a06b-46eb-8351-8b1162815e63\")>,\n",
       " <selenium.webdriver.remote.webelement.WebElement (session=\"af36a2054a4f23e76be9e8f94249bbdb\", element=\"e6147b8c-30ae-40b8-9739-a197d847c481\")>,\n",
       " <selenium.webdriver.remote.webelement.WebElement (session=\"af36a2054a4f23e76be9e8f94249bbdb\", element=\"49519c36-f2b8-4ef4-8429-3383bcc6d199\")>,\n",
       " <selenium.webdriver.remote.webelement.WebElement (session=\"af36a2054a4f23e76be9e8f94249bbdb\", element=\"a8a1cb2d-992d-4928-b92c-acb4ec9cbbc5\")>,\n",
       " <selenium.webdriver.remote.webelement.WebElement (session=\"af36a2054a4f23e76be9e8f94249bbdb\", element=\"f432a34f-9b13-4b50-aa4b-50ffdba0588e\")>,\n",
       " <selenium.webdriver.remote.webelement.WebElement (session=\"af36a2054a4f23e76be9e8f94249bbdb\", element=\"90788114-5660-4b8f-b759-c5eb741ed1cd\")>,\n",
       " <selenium.webdriver.remote.webelement.WebElement (session=\"af36a2054a4f23e76be9e8f94249bbdb\", element=\"acaac058-b63c-459b-abd8-90551a419271\")>,\n",
       " <selenium.webdriver.remote.webelement.WebElement (session=\"af36a2054a4f23e76be9e8f94249bbdb\", element=\"39815331-3269-4f28-9f18-60868c04dbf0\")>,\n",
       " <selenium.webdriver.remote.webelement.WebElement (session=\"af36a2054a4f23e76be9e8f94249bbdb\", element=\"497d91d7-417d-4afb-9c76-22aca2bfa513\")>,\n",
       " <selenium.webdriver.remote.webelement.WebElement (session=\"af36a2054a4f23e76be9e8f94249bbdb\", element=\"bda72301-b0a9-40de-923a-975b58c26014\")>,\n",
       " <selenium.webdriver.remote.webelement.WebElement (session=\"af36a2054a4f23e76be9e8f94249bbdb\", element=\"84fbd03f-0a18-4a89-9619-82e4b91207e7\")>,\n",
       " <selenium.webdriver.remote.webelement.WebElement (session=\"af36a2054a4f23e76be9e8f94249bbdb\", element=\"7f27e974-fccc-457a-9350-563c23eacb69\")>,\n",
       " <selenium.webdriver.remote.webelement.WebElement (session=\"af36a2054a4f23e76be9e8f94249bbdb\", element=\"0c00e544-6887-4c2e-adc1-526d67d88a5a\")>,\n",
       " <selenium.webdriver.remote.webelement.WebElement (session=\"af36a2054a4f23e76be9e8f94249bbdb\", element=\"593697f8-a888-4557-a2ea-fe168882041a\")>,\n",
       " <selenium.webdriver.remote.webelement.WebElement (session=\"af36a2054a4f23e76be9e8f94249bbdb\", element=\"e034f0e5-c46c-4d60-b3fd-65cdce0612c2\")>,\n",
       " <selenium.webdriver.remote.webelement.WebElement (session=\"af36a2054a4f23e76be9e8f94249bbdb\", element=\"805bab73-7049-4209-bb6e-0fe33614612e\")>,\n",
       " <selenium.webdriver.remote.webelement.WebElement (session=\"af36a2054a4f23e76be9e8f94249bbdb\", element=\"24824b10-5a4b-4d3f-a1e1-fd01d335aa38\")>,\n",
       " <selenium.webdriver.remote.webelement.WebElement (session=\"af36a2054a4f23e76be9e8f94249bbdb\", element=\"2f536ba6-f049-46ce-b548-52872cb4698a\")>,\n",
       " <selenium.webdriver.remote.webelement.WebElement (session=\"af36a2054a4f23e76be9e8f94249bbdb\", element=\"235cc8be-93d2-4b21-a5a4-a9a8c51dcd58\")>,\n",
       " <selenium.webdriver.remote.webelement.WebElement (session=\"af36a2054a4f23e76be9e8f94249bbdb\", element=\"80bf319c-e35f-4b37-85ff-22a6526808f2\")>,\n",
       " <selenium.webdriver.remote.webelement.WebElement (session=\"af36a2054a4f23e76be9e8f94249bbdb\", element=\"d966868f-3a5e-4556-b742-d883162ecb84\")>,\n",
       " <selenium.webdriver.remote.webelement.WebElement (session=\"af36a2054a4f23e76be9e8f94249bbdb\", element=\"49ac91d3-fc8d-470f-8d41-6dc8a3eec8a8\")>,\n",
       " <selenium.webdriver.remote.webelement.WebElement (session=\"af36a2054a4f23e76be9e8f94249bbdb\", element=\"91aceef9-9aea-40c9-82b0-5cdfc21a66f5\")>,\n",
       " <selenium.webdriver.remote.webelement.WebElement (session=\"af36a2054a4f23e76be9e8f94249bbdb\", element=\"db13b86f-c013-4237-8bb3-657b84cc0808\")>,\n",
       " <selenium.webdriver.remote.webelement.WebElement (session=\"af36a2054a4f23e76be9e8f94249bbdb\", element=\"d7f15fcb-1409-45fe-86dc-0aea00b30fb6\")>,\n",
       " <selenium.webdriver.remote.webelement.WebElement (session=\"af36a2054a4f23e76be9e8f94249bbdb\", element=\"daad3911-fa28-45cf-a9ca-c738d1f3fafd\")>,\n",
       " <selenium.webdriver.remote.webelement.WebElement (session=\"af36a2054a4f23e76be9e8f94249bbdb\", element=\"b90a1786-5f88-4e5b-b0b4-ddce31d44178\")>]"
      ]
     },
     "execution_count": 108,
     "metadata": {},
     "output_type": "execute_result"
    }
   ],
   "source": [
    "#_3bPFwb\n",
    "\n",
    "\n",
    "\n",
    "price=driver.find_elements_by_xpath('//div[@class=\"_30jeq3\"]')\n",
    "price\n",
    "\n",
    "\n",
    "#do click on xpath functiom\n"
   ]
  },
  {
   "cell_type": "code",
   "execution_count": 109,
   "metadata": {},
   "outputs": [
    {
     "data": {
      "text/plain": [
       "['₹399',\n",
       " '₹449',\n",
       " '₹329',\n",
       " '₹198',\n",
       " '₹237',\n",
       " '₹237',\n",
       " '₹284',\n",
       " '₹664',\n",
       " '₹474',\n",
       " '₹213',\n",
       " '₹509',\n",
       " '₹998',\n",
       " '₹758',\n",
       " '₹215',\n",
       " '₹331',\n",
       " '₹258',\n",
       " '₹499',\n",
       " '₹404',\n",
       " '₹237',\n",
       " '₹799',\n",
       " '₹379',\n",
       " '₹265',\n",
       " '₹259',\n",
       " '₹498',\n",
       " '₹449',\n",
       " '₹284',\n",
       " '₹546',\n",
       " '₹498',\n",
       " '₹355',\n",
       " '₹215',\n",
       " '₹229',\n",
       " '₹664',\n",
       " '₹179',\n",
       " '₹186',\n",
       " '₹379',\n",
       " '₹445',\n",
       " '₹295',\n",
       " '₹284',\n",
       " '₹503',\n",
       " '₹625']"
      ]
     },
     "execution_count": 109,
     "metadata": {},
     "output_type": "execute_result"
    }
   ],
   "source": [
    "#so we run the loop to iterate over the tags extracted above and extract the text inside them.\n",
    "\n",
    "Price1=[]\n",
    "for i in price:\n",
    "    Price1.append(i.text)\n",
    "Price1"
   ]
  },
  {
   "cell_type": "code",
   "execution_count": 111,
   "metadata": {},
   "outputs": [
    {
     "name": "stdout",
     "output_type": "stream",
     "text": [
      "40\n"
     ]
    }
   ],
   "source": [
    "print(len(Price1))"
   ]
  },
  {
   "cell_type": "code",
   "execution_count": 112,
   "metadata": {},
   "outputs": [
    {
     "data": {
      "text/plain": [
       "[<selenium.webdriver.remote.webelement.WebElement (session=\"af36a2054a4f23e76be9e8f94249bbdb\", element=\"418a4bc0-4f82-4642-b149-131e67707b9c\")>,\n",
       " <selenium.webdriver.remote.webelement.WebElement (session=\"af36a2054a4f23e76be9e8f94249bbdb\", element=\"ddee31eb-9a4e-409d-9496-79366471a695\")>,\n",
       " <selenium.webdriver.remote.webelement.WebElement (session=\"af36a2054a4f23e76be9e8f94249bbdb\", element=\"dd911865-13bb-4a34-9c36-cdf99698efcc\")>,\n",
       " <selenium.webdriver.remote.webelement.WebElement (session=\"af36a2054a4f23e76be9e8f94249bbdb\", element=\"7198986a-41c3-4368-b556-8bffc98da88b\")>,\n",
       " <selenium.webdriver.remote.webelement.WebElement (session=\"af36a2054a4f23e76be9e8f94249bbdb\", element=\"80eef652-aaa9-4f88-9287-e95e05e374fc\")>,\n",
       " <selenium.webdriver.remote.webelement.WebElement (session=\"af36a2054a4f23e76be9e8f94249bbdb\", element=\"c500586d-9d72-461a-944c-58b15135ba89\")>,\n",
       " <selenium.webdriver.remote.webelement.WebElement (session=\"af36a2054a4f23e76be9e8f94249bbdb\", element=\"5ea21238-3c19-4ea4-ba66-a6f6fdb21634\")>,\n",
       " <selenium.webdriver.remote.webelement.WebElement (session=\"af36a2054a4f23e76be9e8f94249bbdb\", element=\"d2c428ac-6ad6-4c6f-97fd-5a82eadfb77d\")>,\n",
       " <selenium.webdriver.remote.webelement.WebElement (session=\"af36a2054a4f23e76be9e8f94249bbdb\", element=\"2d4245c5-6340-4b05-bdc9-46be6ee7abc7\")>,\n",
       " <selenium.webdriver.remote.webelement.WebElement (session=\"af36a2054a4f23e76be9e8f94249bbdb\", element=\"6e8ee1a0-5f44-4564-835f-8b627030eaed\")>,\n",
       " <selenium.webdriver.remote.webelement.WebElement (session=\"af36a2054a4f23e76be9e8f94249bbdb\", element=\"c3830847-324d-43ee-ad9f-02d462b2467b\")>,\n",
       " <selenium.webdriver.remote.webelement.WebElement (session=\"af36a2054a4f23e76be9e8f94249bbdb\", element=\"ebe5b32e-6df5-482d-b595-be750d553178\")>,\n",
       " <selenium.webdriver.remote.webelement.WebElement (session=\"af36a2054a4f23e76be9e8f94249bbdb\", element=\"8515811b-191e-4ae8-b457-29941d29d827\")>,\n",
       " <selenium.webdriver.remote.webelement.WebElement (session=\"af36a2054a4f23e76be9e8f94249bbdb\", element=\"01b26d29-87d8-4983-aba3-14552a896c43\")>,\n",
       " <selenium.webdriver.remote.webelement.WebElement (session=\"af36a2054a4f23e76be9e8f94249bbdb\", element=\"b7363202-b6b5-4224-880f-d32bd48ea4e3\")>,\n",
       " <selenium.webdriver.remote.webelement.WebElement (session=\"af36a2054a4f23e76be9e8f94249bbdb\", element=\"0c1829ad-dc09-4b5c-9e89-70c2889946d3\")>,\n",
       " <selenium.webdriver.remote.webelement.WebElement (session=\"af36a2054a4f23e76be9e8f94249bbdb\", element=\"2ab0830d-d2be-45b2-9611-c4a3ec447367\")>,\n",
       " <selenium.webdriver.remote.webelement.WebElement (session=\"af36a2054a4f23e76be9e8f94249bbdb\", element=\"d2ca63ec-be21-4b2c-8678-a704925ad85f\")>,\n",
       " <selenium.webdriver.remote.webelement.WebElement (session=\"af36a2054a4f23e76be9e8f94249bbdb\", element=\"1f734680-872f-4f4f-a170-acf3e37df03b\")>,\n",
       " <selenium.webdriver.remote.webelement.WebElement (session=\"af36a2054a4f23e76be9e8f94249bbdb\", element=\"bb137a15-2621-4328-9586-4aa51d0414af\")>,\n",
       " <selenium.webdriver.remote.webelement.WebElement (session=\"af36a2054a4f23e76be9e8f94249bbdb\", element=\"02c69b5f-0663-42fd-8469-db9978df1229\")>,\n",
       " <selenium.webdriver.remote.webelement.WebElement (session=\"af36a2054a4f23e76be9e8f94249bbdb\", element=\"8cc3cbd6-b4a5-46e9-8825-4c5ae0aa8dec\")>,\n",
       " <selenium.webdriver.remote.webelement.WebElement (session=\"af36a2054a4f23e76be9e8f94249bbdb\", element=\"182e8114-3aff-4994-a001-3e1fcf240198\")>,\n",
       " <selenium.webdriver.remote.webelement.WebElement (session=\"af36a2054a4f23e76be9e8f94249bbdb\", element=\"3b1204b9-1b92-46b4-b461-3e96f13c7e60\")>,\n",
       " <selenium.webdriver.remote.webelement.WebElement (session=\"af36a2054a4f23e76be9e8f94249bbdb\", element=\"b51391be-acc6-42ad-a9e7-f04eac8d19ae\")>,\n",
       " <selenium.webdriver.remote.webelement.WebElement (session=\"af36a2054a4f23e76be9e8f94249bbdb\", element=\"1e4651fe-5d40-41d2-8028-7b37884c5fe7\")>,\n",
       " <selenium.webdriver.remote.webelement.WebElement (session=\"af36a2054a4f23e76be9e8f94249bbdb\", element=\"e7bd4087-d0b9-4bba-8059-7f28d8b7b05e\")>,\n",
       " <selenium.webdriver.remote.webelement.WebElement (session=\"af36a2054a4f23e76be9e8f94249bbdb\", element=\"09ea1e9d-3139-4a5a-b34e-442ee9353811\")>,\n",
       " <selenium.webdriver.remote.webelement.WebElement (session=\"af36a2054a4f23e76be9e8f94249bbdb\", element=\"0d97ff07-5b99-423c-a1c2-6dc6c207d8ed\")>,\n",
       " <selenium.webdriver.remote.webelement.WebElement (session=\"af36a2054a4f23e76be9e8f94249bbdb\", element=\"7679d1a0-18d6-45df-ab87-afd389987516\")>,\n",
       " <selenium.webdriver.remote.webelement.WebElement (session=\"af36a2054a4f23e76be9e8f94249bbdb\", element=\"590a262b-0cc5-437a-86cb-a0905912c3db\")>,\n",
       " <selenium.webdriver.remote.webelement.WebElement (session=\"af36a2054a4f23e76be9e8f94249bbdb\", element=\"72ac2882-0651-47de-91ff-f1dd455f51f6\")>,\n",
       " <selenium.webdriver.remote.webelement.WebElement (session=\"af36a2054a4f23e76be9e8f94249bbdb\", element=\"aba5f2fc-9df3-4211-99a1-3b9565c48a6a\")>,\n",
       " <selenium.webdriver.remote.webelement.WebElement (session=\"af36a2054a4f23e76be9e8f94249bbdb\", element=\"4aa8407d-cb6b-4608-a6f7-2ae39ee77ec4\")>,\n",
       " <selenium.webdriver.remote.webelement.WebElement (session=\"af36a2054a4f23e76be9e8f94249bbdb\", element=\"0bd5c2c0-afad-4433-8f39-60af6a88cc3c\")>,\n",
       " <selenium.webdriver.remote.webelement.WebElement (session=\"af36a2054a4f23e76be9e8f94249bbdb\", element=\"c15d9ba1-3727-46c8-b116-122f224f4033\")>,\n",
       " <selenium.webdriver.remote.webelement.WebElement (session=\"af36a2054a4f23e76be9e8f94249bbdb\", element=\"64985296-3a87-4b47-9aae-7f63bb83b9a5\")>,\n",
       " <selenium.webdriver.remote.webelement.WebElement (session=\"af36a2054a4f23e76be9e8f94249bbdb\", element=\"2caf6ec6-47ad-4b59-bd7d-270b9d00dae1\")>,\n",
       " <selenium.webdriver.remote.webelement.WebElement (session=\"af36a2054a4f23e76be9e8f94249bbdb\", element=\"097eb583-b2e8-4df6-9e0a-27f2bf37261f\")>,\n",
       " <selenium.webdriver.remote.webelement.WebElement (session=\"af36a2054a4f23e76be9e8f94249bbdb\", element=\"b01acc4c-c1fa-4afe-9789-912f30d48225\")>]"
      ]
     },
     "execution_count": 112,
     "metadata": {},
     "output_type": "execute_result"
    }
   ],
   "source": [
    "#\n",
    "discount=driver.find_elements_by_xpath('//div[@class=\"_3Ay6Sb\"]')\n",
    "discount"
   ]
  },
  {
   "cell_type": "code",
   "execution_count": null,
   "metadata": {},
   "outputs": [],
   "source": []
  },
  {
   "cell_type": "code",
   "execution_count": 113,
   "metadata": {},
   "outputs": [
    {
     "data": {
      "text/plain": [
       "['80% off',\n",
       " '70% off',\n",
       " '86% off',\n",
       " '88% off',\n",
       " '85% off',\n",
       " '85% off',\n",
       " '89% off',\n",
       " '66% off',\n",
       " '68% off',\n",
       " '80% off',\n",
       " '36% off',\n",
       " '73% off',\n",
       " '15% off',\n",
       " '78% off',\n",
       " '80% off',\n",
       " '72% off',\n",
       " '77% off',\n",
       " '79% off',\n",
       " '85% off',\n",
       " '73% off',\n",
       " '81% off',\n",
       " '73% off',\n",
       " '82% off',\n",
       " '67% off',\n",
       " '82% off',\n",
       " '71% off',\n",
       " '31% off',\n",
       " '70% off',\n",
       " '85% off',\n",
       " '73% off',\n",
       " '80% off',\n",
       " '55% off',\n",
       " '69% off',\n",
       " '78% off',\n",
       " '74% off',\n",
       " '70% off',\n",
       " '85% off',\n",
       " '89% off',\n",
       " '37% off',\n",
       " '70% off']"
      ]
     },
     "execution_count": 113,
     "metadata": {},
     "output_type": "execute_result"
    }
   ],
   "source": [
    "#so we run the loop to iterate over the tags extracted above and extract the text inside them.\n",
    "\n",
    "discount1=[]\n",
    "for i in discount:\n",
    "    discount1.append(i.text)\n",
    "discount1"
   ]
  },
  {
   "cell_type": "code",
   "execution_count": 114,
   "metadata": {},
   "outputs": [
    {
     "name": "stdout",
     "output_type": "stream",
     "text": [
      "40\n"
     ]
    }
   ],
   "source": [
    "print(len(discount1))"
   ]
  },
  {
   "cell_type": "code",
   "execution_count": null,
   "metadata": {},
   "outputs": [],
   "source": []
  },
  {
   "cell_type": "code",
   "execution_count": 116,
   "metadata": {},
   "outputs": [
    {
     "data": {
      "text/plain": [
       "<selenium.webdriver.remote.webelement.WebElement (session=\"af36a2054a4f23e76be9e8f94249bbdb\", element=\"ecbf6755-a5a9-4dd6-8877-1645dc25e008\")>"
      ]
     },
     "execution_count": 116,
     "metadata": {},
     "output_type": "execute_result"
    }
   ],
   "source": [
    "#lets scrap item from next page as well for that we have to find the next pag link and click it\n",
    "nxt_page=driver.find_element_by_xpath('//a[@class=\"_1LKTO3\"]')\n",
    "nxt_page"
   ]
  },
  {
   "cell_type": "code",
   "execution_count": 117,
   "metadata": {},
   "outputs": [],
   "source": [
    "nxt_page.click()"
   ]
  },
  {
   "cell_type": "code",
   "execution_count": 118,
   "metadata": {},
   "outputs": [
    {
     "data": {
      "text/plain": [
       "[<selenium.webdriver.remote.webelement.WebElement (session=\"af36a2054a4f23e76be9e8f94249bbdb\", element=\"5f29e209-1f03-4135-ab1f-a87c904e23ce\")>,\n",
       " <selenium.webdriver.remote.webelement.WebElement (session=\"af36a2054a4f23e76be9e8f94249bbdb\", element=\"11adcec3-a0c4-45fd-b965-3440ec75aab4\")>,\n",
       " <selenium.webdriver.remote.webelement.WebElement (session=\"af36a2054a4f23e76be9e8f94249bbdb\", element=\"5bc01b10-5680-4a0a-87c0-a1bc49fac202\")>,\n",
       " <selenium.webdriver.remote.webelement.WebElement (session=\"af36a2054a4f23e76be9e8f94249bbdb\", element=\"f11939d6-3989-4cbd-bb65-fb12f7e284ab\")>,\n",
       " <selenium.webdriver.remote.webelement.WebElement (session=\"af36a2054a4f23e76be9e8f94249bbdb\", element=\"8f71a18b-c509-44a7-bb1e-3bbc0ea58b3b\")>,\n",
       " <selenium.webdriver.remote.webelement.WebElement (session=\"af36a2054a4f23e76be9e8f94249bbdb\", element=\"a3884511-0afc-47aa-9fff-576be3e05ed0\")>,\n",
       " <selenium.webdriver.remote.webelement.WebElement (session=\"af36a2054a4f23e76be9e8f94249bbdb\", element=\"506b0d86-f87d-4efa-b652-b991397ce124\")>,\n",
       " <selenium.webdriver.remote.webelement.WebElement (session=\"af36a2054a4f23e76be9e8f94249bbdb\", element=\"9238fa36-5fe1-44e2-be0c-f7c36e98a31b\")>,\n",
       " <selenium.webdriver.remote.webelement.WebElement (session=\"af36a2054a4f23e76be9e8f94249bbdb\", element=\"831350ca-5919-4782-a5ed-ead69c2ff0d0\")>,\n",
       " <selenium.webdriver.remote.webelement.WebElement (session=\"af36a2054a4f23e76be9e8f94249bbdb\", element=\"64ca6a38-040a-46c0-9500-4ea6b5d181c1\")>,\n",
       " <selenium.webdriver.remote.webelement.WebElement (session=\"af36a2054a4f23e76be9e8f94249bbdb\", element=\"c1d92423-8426-4b55-92ea-3f86170e8eb8\")>,\n",
       " <selenium.webdriver.remote.webelement.WebElement (session=\"af36a2054a4f23e76be9e8f94249bbdb\", element=\"a44be2a9-f60c-411f-804f-8fd1f7737cc3\")>,\n",
       " <selenium.webdriver.remote.webelement.WebElement (session=\"af36a2054a4f23e76be9e8f94249bbdb\", element=\"743fdcea-76ae-4f4a-bcf1-c157337cef61\")>,\n",
       " <selenium.webdriver.remote.webelement.WebElement (session=\"af36a2054a4f23e76be9e8f94249bbdb\", element=\"e233c8cd-806f-4ccf-b449-1023ed3f17fe\")>,\n",
       " <selenium.webdriver.remote.webelement.WebElement (session=\"af36a2054a4f23e76be9e8f94249bbdb\", element=\"8576daff-523e-4a1c-bcbc-120beb617d64\")>,\n",
       " <selenium.webdriver.remote.webelement.WebElement (session=\"af36a2054a4f23e76be9e8f94249bbdb\", element=\"3810c5fe-a166-4210-8d6a-62b6675fc12b\")>,\n",
       " <selenium.webdriver.remote.webelement.WebElement (session=\"af36a2054a4f23e76be9e8f94249bbdb\", element=\"ec28cf5e-ff41-4df5-852b-239bdd0e59ae\")>,\n",
       " <selenium.webdriver.remote.webelement.WebElement (session=\"af36a2054a4f23e76be9e8f94249bbdb\", element=\"24a45b3e-a9b2-4b75-a6ea-10064a7be28e\")>,\n",
       " <selenium.webdriver.remote.webelement.WebElement (session=\"af36a2054a4f23e76be9e8f94249bbdb\", element=\"07358e2a-9bbc-4e77-82c2-608793817e87\")>,\n",
       " <selenium.webdriver.remote.webelement.WebElement (session=\"af36a2054a4f23e76be9e8f94249bbdb\", element=\"b9b6fa55-4fb0-4f57-be0a-01dc8211cb73\")>,\n",
       " <selenium.webdriver.remote.webelement.WebElement (session=\"af36a2054a4f23e76be9e8f94249bbdb\", element=\"b79ebf06-9bad-439d-9b9e-c098f3840fd4\")>,\n",
       " <selenium.webdriver.remote.webelement.WebElement (session=\"af36a2054a4f23e76be9e8f94249bbdb\", element=\"ccd155cf-0c17-4960-a496-00acbd578f6b\")>,\n",
       " <selenium.webdriver.remote.webelement.WebElement (session=\"af36a2054a4f23e76be9e8f94249bbdb\", element=\"88caf4ee-d40d-4ce4-8ced-279013a87a2d\")>,\n",
       " <selenium.webdriver.remote.webelement.WebElement (session=\"af36a2054a4f23e76be9e8f94249bbdb\", element=\"fdcc88b3-971a-4e18-add1-8f40e33808ce\")>,\n",
       " <selenium.webdriver.remote.webelement.WebElement (session=\"af36a2054a4f23e76be9e8f94249bbdb\", element=\"332eccd8-a193-4bee-87bf-a4f1428651a2\")>,\n",
       " <selenium.webdriver.remote.webelement.WebElement (session=\"af36a2054a4f23e76be9e8f94249bbdb\", element=\"1a4f9c5d-1287-4178-b4c1-1012ce17aa35\")>,\n",
       " <selenium.webdriver.remote.webelement.WebElement (session=\"af36a2054a4f23e76be9e8f94249bbdb\", element=\"4a786765-f0d3-4f60-9f87-88c333219bbd\")>,\n",
       " <selenium.webdriver.remote.webelement.WebElement (session=\"af36a2054a4f23e76be9e8f94249bbdb\", element=\"682b3942-cb48-49af-bd95-76c0e6304555\")>,\n",
       " <selenium.webdriver.remote.webelement.WebElement (session=\"af36a2054a4f23e76be9e8f94249bbdb\", element=\"c5d6cc72-7a18-42d3-921f-9cc3d12e1038\")>,\n",
       " <selenium.webdriver.remote.webelement.WebElement (session=\"af36a2054a4f23e76be9e8f94249bbdb\", element=\"e863555f-1628-4165-97ab-1f60b2c7344f\")>,\n",
       " <selenium.webdriver.remote.webelement.WebElement (session=\"af36a2054a4f23e76be9e8f94249bbdb\", element=\"c5a28299-a043-45dd-ae71-f4c271e865bf\")>,\n",
       " <selenium.webdriver.remote.webelement.WebElement (session=\"af36a2054a4f23e76be9e8f94249bbdb\", element=\"eb6c3a5c-4764-4f91-8d87-15eb3d9f02cf\")>,\n",
       " <selenium.webdriver.remote.webelement.WebElement (session=\"af36a2054a4f23e76be9e8f94249bbdb\", element=\"595872f8-35a3-4313-a57f-6a328d417fad\")>,\n",
       " <selenium.webdriver.remote.webelement.WebElement (session=\"af36a2054a4f23e76be9e8f94249bbdb\", element=\"2ff844b7-1a94-4b79-8bd4-b873e040464c\")>,\n",
       " <selenium.webdriver.remote.webelement.WebElement (session=\"af36a2054a4f23e76be9e8f94249bbdb\", element=\"38af0fe2-0c59-4d9d-a5a4-dfb76c036bce\")>,\n",
       " <selenium.webdriver.remote.webelement.WebElement (session=\"af36a2054a4f23e76be9e8f94249bbdb\", element=\"aa01d574-4952-4b06-a2c1-ac02ddaf9421\")>,\n",
       " <selenium.webdriver.remote.webelement.WebElement (session=\"af36a2054a4f23e76be9e8f94249bbdb\", element=\"adf128ad-5df9-429a-a7d2-3d91b7779d78\")>,\n",
       " <selenium.webdriver.remote.webelement.WebElement (session=\"af36a2054a4f23e76be9e8f94249bbdb\", element=\"fb352a74-ce4d-42b3-a852-695d14a20b2b\")>,\n",
       " <selenium.webdriver.remote.webelement.WebElement (session=\"af36a2054a4f23e76be9e8f94249bbdb\", element=\"faf89dbd-756a-4c91-a0a5-c5c251d4a411\")>,\n",
       " <selenium.webdriver.remote.webelement.WebElement (session=\"af36a2054a4f23e76be9e8f94249bbdb\", element=\"00dd2caf-5030-4e59-b5f5-ddababe6be85\")>]"
      ]
     },
     "execution_count": 118,
     "metadata": {},
     "output_type": "execute_result"
    }
   ],
   "source": [
    "brand=driver.find_elements_by_xpath('//div[@class=\"_2WkVRV\"]')\n",
    "brand\n"
   ]
  },
  {
   "cell_type": "code",
   "execution_count": 119,
   "metadata": {},
   "outputs": [
    {
     "data": {
      "text/plain": [
       "['SUNBEE',\n",
       " 'ROZZETTA CRAFT',\n",
       " 'OCCARIO',\n",
       " 'AISLIN',\n",
       " 'PIRASO',\n",
       " 'HIPPON',\n",
       " 'Fastrack',\n",
       " 'VINCENT CHASE',\n",
       " 'hipe',\n",
       " 'kingsunglasses',\n",
       " 'Singco India',\n",
       " 'elegante',\n",
       " 'GANSTA',\n",
       " 'Singco India',\n",
       " 'hipe',\n",
       " 'AISLIN',\n",
       " 'Fastrack',\n",
       " 'Singco',\n",
       " 'kingsunglasses',\n",
       " 'NuVew',\n",
       " 'ROYAL SON',\n",
       " 'PIRASO',\n",
       " 'Elligator',\n",
       " 'AISLIN',\n",
       " 'GANSTA',\n",
       " 'AISLIN',\n",
       " 'Badfella',\n",
       " 'AISLIN',\n",
       " 'kingsunglasses',\n",
       " 'kingsunglasses',\n",
       " 'NuVew',\n",
       " 'AISLIN',\n",
       " 'ROYAL SON',\n",
       " 'ROYAL SON',\n",
       " 'ROYAL SON',\n",
       " 'AISLIN',\n",
       " 'Singco India',\n",
       " 'kingsunglasses',\n",
       " 'DEIXELS',\n",
       " 'AISLIN']"
      ]
     },
     "execution_count": 119,
     "metadata": {},
     "output_type": "execute_result"
    }
   ],
   "source": [
    "Brand2=[]\n",
    "for i in brand:\n",
    "    Brand2.append(i.text)\n",
    "Brand2"
   ]
  },
  {
   "cell_type": "code",
   "execution_count": 120,
   "metadata": {},
   "outputs": [
    {
     "data": {
      "text/plain": [
       "[<selenium.webdriver.remote.webelement.WebElement (session=\"af36a2054a4f23e76be9e8f94249bbdb\", element=\"4d63c6fc-a0ad-43d8-96db-dbc85c34378d\")>,\n",
       " <selenium.webdriver.remote.webelement.WebElement (session=\"af36a2054a4f23e76be9e8f94249bbdb\", element=\"65b634f7-3558-45d3-866c-84538b9f5273\")>,\n",
       " <selenium.webdriver.remote.webelement.WebElement (session=\"af36a2054a4f23e76be9e8f94249bbdb\", element=\"507a6a9d-cf68-4083-a148-126bf5df7272\")>,\n",
       " <selenium.webdriver.remote.webelement.WebElement (session=\"af36a2054a4f23e76be9e8f94249bbdb\", element=\"47c30ea1-680b-4e91-a333-7b571b7f6827\")>,\n",
       " <selenium.webdriver.remote.webelement.WebElement (session=\"af36a2054a4f23e76be9e8f94249bbdb\", element=\"37f44c4c-ed15-4fc9-89e7-ed8432eb3d31\")>,\n",
       " <selenium.webdriver.remote.webelement.WebElement (session=\"af36a2054a4f23e76be9e8f94249bbdb\", element=\"0dcee015-376e-4549-a563-7bda033697fd\")>,\n",
       " <selenium.webdriver.remote.webelement.WebElement (session=\"af36a2054a4f23e76be9e8f94249bbdb\", element=\"7ecd86aa-196e-4f2e-bc8d-3cbcb5970801\")>,\n",
       " <selenium.webdriver.remote.webelement.WebElement (session=\"af36a2054a4f23e76be9e8f94249bbdb\", element=\"4c0cd537-ab07-4afa-bd5a-9a43614d2421\")>,\n",
       " <selenium.webdriver.remote.webelement.WebElement (session=\"af36a2054a4f23e76be9e8f94249bbdb\", element=\"dedaf3e6-3933-4603-a511-8ebb359615a0\")>,\n",
       " <selenium.webdriver.remote.webelement.WebElement (session=\"af36a2054a4f23e76be9e8f94249bbdb\", element=\"c5718b34-b300-4573-904d-4afba48b010c\")>,\n",
       " <selenium.webdriver.remote.webelement.WebElement (session=\"af36a2054a4f23e76be9e8f94249bbdb\", element=\"243de38c-e4a0-4675-879a-09537fdaebe7\")>,\n",
       " <selenium.webdriver.remote.webelement.WebElement (session=\"af36a2054a4f23e76be9e8f94249bbdb\", element=\"0cf140f6-41ca-4ebe-a21a-57361d8e3864\")>,\n",
       " <selenium.webdriver.remote.webelement.WebElement (session=\"af36a2054a4f23e76be9e8f94249bbdb\", element=\"d4b389fe-f5b2-47c9-b98e-dfa6f73552ca\")>,\n",
       " <selenium.webdriver.remote.webelement.WebElement (session=\"af36a2054a4f23e76be9e8f94249bbdb\", element=\"7f601d22-3cc6-4199-9e48-3fc3b0afa2fe\")>,\n",
       " <selenium.webdriver.remote.webelement.WebElement (session=\"af36a2054a4f23e76be9e8f94249bbdb\", element=\"befbf4d9-492a-4bf0-9bd0-31948c95a127\")>,\n",
       " <selenium.webdriver.remote.webelement.WebElement (session=\"af36a2054a4f23e76be9e8f94249bbdb\", element=\"f1df3543-a924-4397-88bc-66a7b533f9bc\")>,\n",
       " <selenium.webdriver.remote.webelement.WebElement (session=\"af36a2054a4f23e76be9e8f94249bbdb\", element=\"9331c13e-ffb3-4ac9-90c5-8bd9218907e1\")>,\n",
       " <selenium.webdriver.remote.webelement.WebElement (session=\"af36a2054a4f23e76be9e8f94249bbdb\", element=\"1c6a5e13-18fc-4c37-b482-d31094c88728\")>,\n",
       " <selenium.webdriver.remote.webelement.WebElement (session=\"af36a2054a4f23e76be9e8f94249bbdb\", element=\"0c4c064d-cdde-463a-81f3-9656c51ad612\")>,\n",
       " <selenium.webdriver.remote.webelement.WebElement (session=\"af36a2054a4f23e76be9e8f94249bbdb\", element=\"e6b4a01e-62e4-4c1e-a4e1-0972adb764ea\")>,\n",
       " <selenium.webdriver.remote.webelement.WebElement (session=\"af36a2054a4f23e76be9e8f94249bbdb\", element=\"dc771fc1-6c55-4ef9-a92a-d30871a036b8\")>,\n",
       " <selenium.webdriver.remote.webelement.WebElement (session=\"af36a2054a4f23e76be9e8f94249bbdb\", element=\"e06696cf-2759-415f-a457-35782d4cee43\")>,\n",
       " <selenium.webdriver.remote.webelement.WebElement (session=\"af36a2054a4f23e76be9e8f94249bbdb\", element=\"03ce08bf-c5a3-4cdc-820f-cfa11b8af64a\")>,\n",
       " <selenium.webdriver.remote.webelement.WebElement (session=\"af36a2054a4f23e76be9e8f94249bbdb\", element=\"0f3b4c99-ad29-469b-befa-65cd5cb09259\")>,\n",
       " <selenium.webdriver.remote.webelement.WebElement (session=\"af36a2054a4f23e76be9e8f94249bbdb\", element=\"f6857e07-c071-42bd-b6c3-27a8023588d1\")>,\n",
       " <selenium.webdriver.remote.webelement.WebElement (session=\"af36a2054a4f23e76be9e8f94249bbdb\", element=\"895c6759-cec4-4da2-a02a-a2c792fed256\")>,\n",
       " <selenium.webdriver.remote.webelement.WebElement (session=\"af36a2054a4f23e76be9e8f94249bbdb\", element=\"29f3c8a9-0073-4d7c-8cc2-cb588d168f7b\")>,\n",
       " <selenium.webdriver.remote.webelement.WebElement (session=\"af36a2054a4f23e76be9e8f94249bbdb\", element=\"a1a5841e-35c3-456f-8779-2930ed58fe3b\")>,\n",
       " <selenium.webdriver.remote.webelement.WebElement (session=\"af36a2054a4f23e76be9e8f94249bbdb\", element=\"5db8dc34-4f49-453a-b4eb-3e889f507959\")>,\n",
       " <selenium.webdriver.remote.webelement.WebElement (session=\"af36a2054a4f23e76be9e8f94249bbdb\", element=\"d4965ab3-5a4b-4bb0-bc62-c17e8a02fa23\")>,\n",
       " <selenium.webdriver.remote.webelement.WebElement (session=\"af36a2054a4f23e76be9e8f94249bbdb\", element=\"728a864c-b537-4155-a1c2-4102147fc45a\")>,\n",
       " <selenium.webdriver.remote.webelement.WebElement (session=\"af36a2054a4f23e76be9e8f94249bbdb\", element=\"76247746-8c94-47c5-8e89-b470bdfac1e9\")>,\n",
       " <selenium.webdriver.remote.webelement.WebElement (session=\"af36a2054a4f23e76be9e8f94249bbdb\", element=\"b82383a1-3c64-466f-94b1-4d70ac48e47a\")>,\n",
       " <selenium.webdriver.remote.webelement.WebElement (session=\"af36a2054a4f23e76be9e8f94249bbdb\", element=\"5b2c3097-3a45-4698-a577-1cf8a056dcc4\")>,\n",
       " <selenium.webdriver.remote.webelement.WebElement (session=\"af36a2054a4f23e76be9e8f94249bbdb\", element=\"7c62b3bd-fde3-4174-9a83-96f6ab4f8be6\")>,\n",
       " <selenium.webdriver.remote.webelement.WebElement (session=\"af36a2054a4f23e76be9e8f94249bbdb\", element=\"b2c6ccfa-beb6-496e-8fec-ddf82ede8742\")>,\n",
       " <selenium.webdriver.remote.webelement.WebElement (session=\"af36a2054a4f23e76be9e8f94249bbdb\", element=\"9d404e82-e2c1-40f7-bb14-00dfc69db354\")>,\n",
       " <selenium.webdriver.remote.webelement.WebElement (session=\"af36a2054a4f23e76be9e8f94249bbdb\", element=\"9cde2a3d-8d72-4d25-b00e-58ddba30e346\")>,\n",
       " <selenium.webdriver.remote.webelement.WebElement (session=\"af36a2054a4f23e76be9e8f94249bbdb\", element=\"e7af10e8-d4b4-4dda-99d6-7ca647ca8e8b\")>,\n",
       " <selenium.webdriver.remote.webelement.WebElement (session=\"af36a2054a4f23e76be9e8f94249bbdb\", element=\"c85121cc-ad28-4f1d-9381-936f1f165d00\")>]"
      ]
     },
     "execution_count": 120,
     "metadata": {},
     "output_type": "execute_result"
    }
   ],
   "source": [
    "\n",
    "dis=driver.find_elements_by_xpath('//a[@class=\"IRpwTa\"]')\n",
    "dis\n",
    "\n",
    "#do click on xpath functiom\n"
   ]
  },
  {
   "cell_type": "code",
   "execution_count": 123,
   "metadata": {},
   "outputs": [
    {
     "data": {
      "text/plain": [
       "['UV Protection, Polarized, Mirrored Wayfarer Sunglasses ...',\n",
       " 'UV Protection, Gradient Round Sunglasses (Free Size)',\n",
       " 'Others Round Sunglasses (52)',\n",
       " 'UV Protection, Gradient Wayfarer, Clubmaster Sunglasses...',\n",
       " 'UV Protection Aviator Sunglasses (58)',\n",
       " 'UV Protection Wayfarer Sunglasses (55)',\n",
       " 'UV Protection Wayfarer Sunglasses (Free Size)',\n",
       " 'Polarized Cat-eye Sunglasses (54)',\n",
       " 'UV Protection, Gradient, Mirrored, Riding Glasses Aviat...',\n",
       " 'UV Protection Round Sunglasses (Free Size)',\n",
       " 'UV Protection Aviator Sunglasses (Free Size)',\n",
       " 'UV Protection Oval Sunglasses (Free Size)',\n",
       " 'Night Vision, Riding Glasses Wayfarer Sunglasses (53)',\n",
       " 'Riding Glasses, Others, UV Protection Wrap-around Sungl...',\n",
       " 'UV Protection, Night Vision, Riding Glasses, Gradient, ...',\n",
       " 'UV Protection, Gradient Butterfly, Retro Square Sunglas...',\n",
       " 'UV Protection Aviator Sunglasses (Free Size)',\n",
       " 'Mirrored Aviator Sunglasses (53)',\n",
       " 'UV Protection, Riding Glasses, Mirrored Wayfarer Sungla...',\n",
       " 'UV Protection Aviator Sunglasses (57)',\n",
       " 'UV Protection Retro Square Sunglasses (58)',\n",
       " 'UV Protection Aviator Sunglasses (Free Size)',\n",
       " 'UV Protection, Riding Glasses Rectangular, Retro Square...',\n",
       " 'Toughened Glass Lens, UV Protection Aviator, Wrap-aroun...',\n",
       " 'UV Protection, Gradient Aviator Sunglasses (55)',\n",
       " 'UV Protection, Gradient Cat-eye Sunglasses (61)',\n",
       " 'Polarized, UV Protection Retro Square Sunglasses (53)',\n",
       " 'UV Protection, Gradient Wayfarer Sunglasses (57)',\n",
       " 'UV Protection, Mirrored Round Sunglasses (Free Size)',\n",
       " 'UV Protection Rectangular Sunglasses (55)',\n",
       " 'UV Protection Aviator Sunglasses (58)',\n",
       " 'UV Protection, Gradient Round, Cat-eye Sunglasses (60)',\n",
       " 'Polarized Rectangular Sunglasses (65)',\n",
       " 'UV Protection Retro Square Sunglasses (88)',\n",
       " 'UV Protection Wayfarer Sunglasses (55)',\n",
       " 'UV Protection, Gradient Butterfly, Retro Square Sunglas...',\n",
       " 'Mirrored, UV Protection, Riding Glasses, Others Wrap-ar...',\n",
       " 'UV Protection, Mirrored Round Sunglasses (54)',\n",
       " 'Polarized, UV Protection, Riding Glasses Wayfarer Sungl...',\n",
       " 'UV Protection, Gradient Wayfarer, Clubmaster Sunglasses...']"
      ]
     },
     "execution_count": 123,
     "metadata": {},
     "output_type": "execute_result"
    }
   ],
   "source": [
    "Dis2=[]\n",
    "for i in dis:\n",
    "    Dis2.append(i.text)\n",
    "Dis2\n"
   ]
  },
  {
   "cell_type": "code",
   "execution_count": 124,
   "metadata": {},
   "outputs": [
    {
     "data": {
      "text/plain": [
       "[<selenium.webdriver.remote.webelement.WebElement (session=\"af36a2054a4f23e76be9e8f94249bbdb\", element=\"db9bfb82-af8b-4c43-ab7b-4584fa687139\")>,\n",
       " <selenium.webdriver.remote.webelement.WebElement (session=\"af36a2054a4f23e76be9e8f94249bbdb\", element=\"f4882cff-eb37-464a-ba65-9d7fd76ebf86\")>,\n",
       " <selenium.webdriver.remote.webelement.WebElement (session=\"af36a2054a4f23e76be9e8f94249bbdb\", element=\"4811e0c0-d242-45b8-b2d8-3e9e69a92aa8\")>,\n",
       " <selenium.webdriver.remote.webelement.WebElement (session=\"af36a2054a4f23e76be9e8f94249bbdb\", element=\"5195791f-f035-40c7-9544-9aa72563a9ab\")>,\n",
       " <selenium.webdriver.remote.webelement.WebElement (session=\"af36a2054a4f23e76be9e8f94249bbdb\", element=\"c44bdc4b-e509-43fb-820a-0739bd6faf4a\")>,\n",
       " <selenium.webdriver.remote.webelement.WebElement (session=\"af36a2054a4f23e76be9e8f94249bbdb\", element=\"0bac9d0f-1463-4b29-85f4-6b056566227a\")>,\n",
       " <selenium.webdriver.remote.webelement.WebElement (session=\"af36a2054a4f23e76be9e8f94249bbdb\", element=\"fd0d1d66-01f0-4a75-93cb-3c31da78a8e9\")>,\n",
       " <selenium.webdriver.remote.webelement.WebElement (session=\"af36a2054a4f23e76be9e8f94249bbdb\", element=\"1f7fbb2b-fdf5-45fc-b3f5-67cb01dbf675\")>,\n",
       " <selenium.webdriver.remote.webelement.WebElement (session=\"af36a2054a4f23e76be9e8f94249bbdb\", element=\"af3793e1-170f-4d94-8f1c-9f86b497ffcb\")>,\n",
       " <selenium.webdriver.remote.webelement.WebElement (session=\"af36a2054a4f23e76be9e8f94249bbdb\", element=\"fcbf5c0e-5be4-4797-82c5-ec7cd3e19d73\")>,\n",
       " <selenium.webdriver.remote.webelement.WebElement (session=\"af36a2054a4f23e76be9e8f94249bbdb\", element=\"95d3ece5-b613-4aba-9f92-5ca3305b7e4c\")>,\n",
       " <selenium.webdriver.remote.webelement.WebElement (session=\"af36a2054a4f23e76be9e8f94249bbdb\", element=\"d287f4e2-40c1-4ac6-a4e3-51b223499490\")>,\n",
       " <selenium.webdriver.remote.webelement.WebElement (session=\"af36a2054a4f23e76be9e8f94249bbdb\", element=\"b74f75fb-4533-4fe7-92cf-c190eac0a088\")>,\n",
       " <selenium.webdriver.remote.webelement.WebElement (session=\"af36a2054a4f23e76be9e8f94249bbdb\", element=\"fcffaa49-0ec8-4591-93d2-f769641ce777\")>,\n",
       " <selenium.webdriver.remote.webelement.WebElement (session=\"af36a2054a4f23e76be9e8f94249bbdb\", element=\"19e6d8c2-05ca-429e-82fc-7d2268962cad\")>,\n",
       " <selenium.webdriver.remote.webelement.WebElement (session=\"af36a2054a4f23e76be9e8f94249bbdb\", element=\"596a2157-56e4-4c1c-894d-878d7c5753cd\")>,\n",
       " <selenium.webdriver.remote.webelement.WebElement (session=\"af36a2054a4f23e76be9e8f94249bbdb\", element=\"b6e10840-dd48-46ad-97fb-a4a08614c80a\")>,\n",
       " <selenium.webdriver.remote.webelement.WebElement (session=\"af36a2054a4f23e76be9e8f94249bbdb\", element=\"0a41d1d4-3374-4f96-9d41-852348d367f8\")>,\n",
       " <selenium.webdriver.remote.webelement.WebElement (session=\"af36a2054a4f23e76be9e8f94249bbdb\", element=\"5b09a618-4d50-46ea-8e57-ecef146eba7d\")>,\n",
       " <selenium.webdriver.remote.webelement.WebElement (session=\"af36a2054a4f23e76be9e8f94249bbdb\", element=\"99b7a13a-bce5-4c55-aa28-aa6fe07d6242\")>,\n",
       " <selenium.webdriver.remote.webelement.WebElement (session=\"af36a2054a4f23e76be9e8f94249bbdb\", element=\"bb749b7e-acdd-41c2-9191-2a836417b18f\")>,\n",
       " <selenium.webdriver.remote.webelement.WebElement (session=\"af36a2054a4f23e76be9e8f94249bbdb\", element=\"48d96128-d4c2-4426-922a-8450e95b5e13\")>,\n",
       " <selenium.webdriver.remote.webelement.WebElement (session=\"af36a2054a4f23e76be9e8f94249bbdb\", element=\"281ab4de-2a1d-4b0f-85fb-5533a51cfdd4\")>,\n",
       " <selenium.webdriver.remote.webelement.WebElement (session=\"af36a2054a4f23e76be9e8f94249bbdb\", element=\"566da42f-fdb1-440b-a9d6-ed89c042aff6\")>,\n",
       " <selenium.webdriver.remote.webelement.WebElement (session=\"af36a2054a4f23e76be9e8f94249bbdb\", element=\"d4304975-4a5d-4e79-a306-3096a4af438f\")>,\n",
       " <selenium.webdriver.remote.webelement.WebElement (session=\"af36a2054a4f23e76be9e8f94249bbdb\", element=\"89b2cd58-d26e-4541-ba48-b9bb08f474e8\")>,\n",
       " <selenium.webdriver.remote.webelement.WebElement (session=\"af36a2054a4f23e76be9e8f94249bbdb\", element=\"dabf5c48-9437-4dee-89be-f0be79a4e28b\")>,\n",
       " <selenium.webdriver.remote.webelement.WebElement (session=\"af36a2054a4f23e76be9e8f94249bbdb\", element=\"9917a1ce-8d23-4f5b-a41b-46d6f157b20d\")>,\n",
       " <selenium.webdriver.remote.webelement.WebElement (session=\"af36a2054a4f23e76be9e8f94249bbdb\", element=\"06eb675a-3bbc-4151-9342-f87a98ea0731\")>,\n",
       " <selenium.webdriver.remote.webelement.WebElement (session=\"af36a2054a4f23e76be9e8f94249bbdb\", element=\"2c095479-dfbc-4c25-b6eb-9fe569d48bad\")>,\n",
       " <selenium.webdriver.remote.webelement.WebElement (session=\"af36a2054a4f23e76be9e8f94249bbdb\", element=\"e33c1694-b5a4-4141-8ac3-5b5b2d899f90\")>,\n",
       " <selenium.webdriver.remote.webelement.WebElement (session=\"af36a2054a4f23e76be9e8f94249bbdb\", element=\"d4c5225a-8f87-42d4-94e2-e796e046374d\")>,\n",
       " <selenium.webdriver.remote.webelement.WebElement (session=\"af36a2054a4f23e76be9e8f94249bbdb\", element=\"f5f9c5e3-a528-4234-b71d-f297c4094637\")>,\n",
       " <selenium.webdriver.remote.webelement.WebElement (session=\"af36a2054a4f23e76be9e8f94249bbdb\", element=\"e5590958-743c-40a8-ad8b-8fee482f75c1\")>,\n",
       " <selenium.webdriver.remote.webelement.WebElement (session=\"af36a2054a4f23e76be9e8f94249bbdb\", element=\"dd3e2d2f-f859-4ebc-8a99-a6afb374a078\")>,\n",
       " <selenium.webdriver.remote.webelement.WebElement (session=\"af36a2054a4f23e76be9e8f94249bbdb\", element=\"c92b021b-141a-41ad-b208-5e2c6e552bea\")>,\n",
       " <selenium.webdriver.remote.webelement.WebElement (session=\"af36a2054a4f23e76be9e8f94249bbdb\", element=\"0734ce3c-842e-4287-a93d-96f6eeb26ed1\")>,\n",
       " <selenium.webdriver.remote.webelement.WebElement (session=\"af36a2054a4f23e76be9e8f94249bbdb\", element=\"58f6cded-23da-4fa3-893e-668440243ca4\")>,\n",
       " <selenium.webdriver.remote.webelement.WebElement (session=\"af36a2054a4f23e76be9e8f94249bbdb\", element=\"26d04f63-70d3-4cc3-bbdf-7b055cfe83e8\")>,\n",
       " <selenium.webdriver.remote.webelement.WebElement (session=\"af36a2054a4f23e76be9e8f94249bbdb\", element=\"224fef00-d0ad-4697-a40f-d990b13d727a\")>]"
      ]
     },
     "execution_count": 124,
     "metadata": {},
     "output_type": "execute_result"
    }
   ],
   "source": [
    "price=driver.find_elements_by_xpath('//div[@class=\"_30jeq3\"]')\n",
    "price\n"
   ]
  },
  {
   "cell_type": "code",
   "execution_count": 125,
   "metadata": {},
   "outputs": [
    {
     "data": {
      "text/plain": [
       "['₹314',\n",
       " '₹449',\n",
       " '₹179',\n",
       " '₹525',\n",
       " '₹399',\n",
       " '₹257',\n",
       " '₹689',\n",
       " '₹1,415',\n",
       " '₹209',\n",
       " '₹331',\n",
       " '₹334',\n",
       " '₹449',\n",
       " '₹209',\n",
       " '₹293',\n",
       " '₹199',\n",
       " '₹516',\n",
       " '₹695',\n",
       " '₹239',\n",
       " '₹217',\n",
       " '₹258',\n",
       " '₹474',\n",
       " '₹331',\n",
       " '₹443',\n",
       " '₹998',\n",
       " '₹289',\n",
       " '₹498',\n",
       " '₹255',\n",
       " '₹625',\n",
       " '₹274',\n",
       " '₹199',\n",
       " '₹202',\n",
       " '₹498',\n",
       " '₹664',\n",
       " '₹569',\n",
       " '₹248',\n",
       " '₹498',\n",
       " '₹331',\n",
       " '₹236',\n",
       " '₹249',\n",
       " '₹445']"
      ]
     },
     "execution_count": 125,
     "metadata": {},
     "output_type": "execute_result"
    }
   ],
   "source": [
    "#so we run the loop to iterate over the tags extracted above and extract the text inside them.\n",
    "\n",
    "Price2=[]\n",
    "for i in price:\n",
    "    Price2.append(i.text)\n",
    "Price2"
   ]
  },
  {
   "cell_type": "code",
   "execution_count": 126,
   "metadata": {},
   "outputs": [
    {
     "data": {
      "text/plain": [
       "[<selenium.webdriver.remote.webelement.WebElement (session=\"af36a2054a4f23e76be9e8f94249bbdb\", element=\"7610c6d7-dd61-403b-94bf-20143e780f1e\")>,\n",
       " <selenium.webdriver.remote.webelement.WebElement (session=\"af36a2054a4f23e76be9e8f94249bbdb\", element=\"e5c833a5-357a-49d3-b30b-b23e8afd1210\")>,\n",
       " <selenium.webdriver.remote.webelement.WebElement (session=\"af36a2054a4f23e76be9e8f94249bbdb\", element=\"73c04ad0-d32d-4cdf-a850-149e48500320\")>,\n",
       " <selenium.webdriver.remote.webelement.WebElement (session=\"af36a2054a4f23e76be9e8f94249bbdb\", element=\"4ad15fa7-23b3-483b-93fb-461eb1d39391\")>,\n",
       " <selenium.webdriver.remote.webelement.WebElement (session=\"af36a2054a4f23e76be9e8f94249bbdb\", element=\"0602acaa-d4ac-47b7-9201-284c9f90889b\")>,\n",
       " <selenium.webdriver.remote.webelement.WebElement (session=\"af36a2054a4f23e76be9e8f94249bbdb\", element=\"253a2107-c49a-44c8-a349-f5fa06efb8b1\")>,\n",
       " <selenium.webdriver.remote.webelement.WebElement (session=\"af36a2054a4f23e76be9e8f94249bbdb\", element=\"364da428-6cba-42bd-9a4b-5229b86bea98\")>,\n",
       " <selenium.webdriver.remote.webelement.WebElement (session=\"af36a2054a4f23e76be9e8f94249bbdb\", element=\"f6264f2c-33da-419d-87a0-f46af37bf9d4\")>,\n",
       " <selenium.webdriver.remote.webelement.WebElement (session=\"af36a2054a4f23e76be9e8f94249bbdb\", element=\"894c030c-23ef-4fff-9c80-3ea64813ee9e\")>,\n",
       " <selenium.webdriver.remote.webelement.WebElement (session=\"af36a2054a4f23e76be9e8f94249bbdb\", element=\"6aef5e98-25c3-4584-a9f8-f70ca5ccca53\")>,\n",
       " <selenium.webdriver.remote.webelement.WebElement (session=\"af36a2054a4f23e76be9e8f94249bbdb\", element=\"27ada910-552b-4247-8201-490f195f6e58\")>,\n",
       " <selenium.webdriver.remote.webelement.WebElement (session=\"af36a2054a4f23e76be9e8f94249bbdb\", element=\"c85c69ea-d296-49fa-a637-656116c887e2\")>,\n",
       " <selenium.webdriver.remote.webelement.WebElement (session=\"af36a2054a4f23e76be9e8f94249bbdb\", element=\"898f7eb8-bba2-4b9e-847b-c419a5b4b077\")>,\n",
       " <selenium.webdriver.remote.webelement.WebElement (session=\"af36a2054a4f23e76be9e8f94249bbdb\", element=\"ee9170d4-2a31-4f13-98b4-d390d22b760a\")>,\n",
       " <selenium.webdriver.remote.webelement.WebElement (session=\"af36a2054a4f23e76be9e8f94249bbdb\", element=\"4ccce754-95d2-4f2a-b14e-5847da0c85b4\")>,\n",
       " <selenium.webdriver.remote.webelement.WebElement (session=\"af36a2054a4f23e76be9e8f94249bbdb\", element=\"29f12714-69b1-427d-9886-6527c050a955\")>,\n",
       " <selenium.webdriver.remote.webelement.WebElement (session=\"af36a2054a4f23e76be9e8f94249bbdb\", element=\"2f049664-1cf0-442a-a8b5-725f1bb3930c\")>,\n",
       " <selenium.webdriver.remote.webelement.WebElement (session=\"af36a2054a4f23e76be9e8f94249bbdb\", element=\"6aab77f4-9791-47e4-a532-b5780ae53caa\")>,\n",
       " <selenium.webdriver.remote.webelement.WebElement (session=\"af36a2054a4f23e76be9e8f94249bbdb\", element=\"74ae72a1-76f0-4cfb-a5b1-62707a9b1b67\")>,\n",
       " <selenium.webdriver.remote.webelement.WebElement (session=\"af36a2054a4f23e76be9e8f94249bbdb\", element=\"36816f4a-be47-496e-8a5d-c7fa4d6d852c\")>,\n",
       " <selenium.webdriver.remote.webelement.WebElement (session=\"af36a2054a4f23e76be9e8f94249bbdb\", element=\"aeecc598-cc94-4a5a-afbb-3572b927ddd0\")>,\n",
       " <selenium.webdriver.remote.webelement.WebElement (session=\"af36a2054a4f23e76be9e8f94249bbdb\", element=\"bb39e227-8c4b-4305-a896-ed2817399b72\")>,\n",
       " <selenium.webdriver.remote.webelement.WebElement (session=\"af36a2054a4f23e76be9e8f94249bbdb\", element=\"0efd32a6-53cf-4a8e-bb32-0f4b04365fa1\")>,\n",
       " <selenium.webdriver.remote.webelement.WebElement (session=\"af36a2054a4f23e76be9e8f94249bbdb\", element=\"650da537-3c09-461c-aee8-761497704a2f\")>,\n",
       " <selenium.webdriver.remote.webelement.WebElement (session=\"af36a2054a4f23e76be9e8f94249bbdb\", element=\"e0ad63f9-539d-4d6a-8cc3-f1de4afe2bdf\")>,\n",
       " <selenium.webdriver.remote.webelement.WebElement (session=\"af36a2054a4f23e76be9e8f94249bbdb\", element=\"93af26ae-571d-4f53-a24c-afb3906cf21d\")>,\n",
       " <selenium.webdriver.remote.webelement.WebElement (session=\"af36a2054a4f23e76be9e8f94249bbdb\", element=\"b400e297-96d1-47ef-99d8-c29bea3e552f\")>,\n",
       " <selenium.webdriver.remote.webelement.WebElement (session=\"af36a2054a4f23e76be9e8f94249bbdb\", element=\"26eabb49-8223-49e3-abb9-b20f5791ed71\")>,\n",
       " <selenium.webdriver.remote.webelement.WebElement (session=\"af36a2054a4f23e76be9e8f94249bbdb\", element=\"82c45bce-2cc3-491b-8be7-5076610572d4\")>,\n",
       " <selenium.webdriver.remote.webelement.WebElement (session=\"af36a2054a4f23e76be9e8f94249bbdb\", element=\"751004f9-b64a-462a-bad6-e09e6a0b67fc\")>,\n",
       " <selenium.webdriver.remote.webelement.WebElement (session=\"af36a2054a4f23e76be9e8f94249bbdb\", element=\"5944f53a-ec87-4c1b-ae55-0ebd17447b95\")>,\n",
       " <selenium.webdriver.remote.webelement.WebElement (session=\"af36a2054a4f23e76be9e8f94249bbdb\", element=\"ea87fa3d-a976-43e9-b9c1-86e61856eadc\")>,\n",
       " <selenium.webdriver.remote.webelement.WebElement (session=\"af36a2054a4f23e76be9e8f94249bbdb\", element=\"5d5d0577-8d95-488e-850d-b0fa9c75a906\")>,\n",
       " <selenium.webdriver.remote.webelement.WebElement (session=\"af36a2054a4f23e76be9e8f94249bbdb\", element=\"eee4362d-1953-48d7-9602-69441679bc29\")>,\n",
       " <selenium.webdriver.remote.webelement.WebElement (session=\"af36a2054a4f23e76be9e8f94249bbdb\", element=\"947ffef3-7b02-4259-b1fe-5d9e4eef2616\")>,\n",
       " <selenium.webdriver.remote.webelement.WebElement (session=\"af36a2054a4f23e76be9e8f94249bbdb\", element=\"dbe9120b-e61f-42b0-925f-6818d2392570\")>,\n",
       " <selenium.webdriver.remote.webelement.WebElement (session=\"af36a2054a4f23e76be9e8f94249bbdb\", element=\"0cad4d78-9962-4104-a7e9-c6e6f6bf7cc8\")>,\n",
       " <selenium.webdriver.remote.webelement.WebElement (session=\"af36a2054a4f23e76be9e8f94249bbdb\", element=\"31066591-8df0-4d92-a182-c55a1ae05070\")>,\n",
       " <selenium.webdriver.remote.webelement.WebElement (session=\"af36a2054a4f23e76be9e8f94249bbdb\", element=\"cc916314-7616-4d63-934d-4121f0f42e9c\")>,\n",
       " <selenium.webdriver.remote.webelement.WebElement (session=\"af36a2054a4f23e76be9e8f94249bbdb\", element=\"3a02b737-9477-4ea3-8edd-78ffc3e4e2d4\")>]"
      ]
     },
     "execution_count": 126,
     "metadata": {},
     "output_type": "execute_result"
    }
   ],
   "source": [
    "#\n",
    "discount=driver.find_elements_by_xpath('//div[@class=\"_3Ay6Sb\"]')\n",
    "discount"
   ]
  },
  {
   "cell_type": "code",
   "execution_count": 127,
   "metadata": {},
   "outputs": [
    {
     "data": {
      "text/plain": [
       "['75% off',\n",
       " '77% off',\n",
       " '69% off',\n",
       " '65% off',\n",
       " '84% off',\n",
       " '78% off',\n",
       " '23% off',\n",
       " '29% off',\n",
       " '79% off',\n",
       " '79% off',\n",
       " '72% off',\n",
       " '70% off',\n",
       " '88% off',\n",
       " '82% off',\n",
       " '84% off',\n",
       " '66% off',\n",
       " '13% off',\n",
       " '76% off',\n",
       " '81% off',\n",
       " '72% off',\n",
       " '68% off',\n",
       " '79% off',\n",
       " '70% off',\n",
       " '73% off',\n",
       " '85% off',\n",
       " '70% off',\n",
       " '74% off',\n",
       " '70% off',\n",
       " '83% off',\n",
       " '84% off',\n",
       " '74% off',\n",
       " '70% off',\n",
       " '66% off',\n",
       " '71% off',\n",
       " '80% off',\n",
       " '67% off',\n",
       " '83% off',\n",
       " '80% off',\n",
       " '58% off',\n",
       " '70% off']"
      ]
     },
     "execution_count": 127,
     "metadata": {},
     "output_type": "execute_result"
    }
   ],
   "source": [
    "#so we run the loop to iterate over the tags extracted above and extract the text inside them.\n",
    "\n",
    "discount2=[]\n",
    "for i in discount:\n",
    "    discount2.append(i.text)\n",
    "discount2"
   ]
  },
  {
   "cell_type": "code",
   "execution_count": 150,
   "metadata": {},
   "outputs": [
    {
     "data": {
      "text/plain": [
       "<selenium.webdriver.remote.webelement.WebElement (session=\"af36a2054a4f23e76be9e8f94249bbdb\", element=\"2dbab1d9-4c88-43c4-9edd-d5c9348ea23c\")>"
      ]
     },
     "execution_count": 150,
     "metadata": {},
     "output_type": "execute_result"
    }
   ],
   "source": [
    "#lets scrap item from next page as well for that we have to find the next pag link and click it\n",
    "nxt_page=driver.find_element_by_xpath('//a[@class=\"ge-49M _2Kfbh8\"]')\n",
    "nxt_page"
   ]
  },
  {
   "cell_type": "code",
   "execution_count": 151,
   "metadata": {},
   "outputs": [],
   "source": [
    "nxt_page.click()"
   ]
  },
  {
   "cell_type": "code",
   "execution_count": 152,
   "metadata": {},
   "outputs": [
    {
     "data": {
      "text/plain": [
       "[<selenium.webdriver.remote.webelement.WebElement (session=\"af36a2054a4f23e76be9e8f94249bbdb\", element=\"d15d3c60-e61a-44e8-b1f6-f0866472df1c\")>,\n",
       " <selenium.webdriver.remote.webelement.WebElement (session=\"af36a2054a4f23e76be9e8f94249bbdb\", element=\"8b5e5283-8005-4873-a120-57156b1e9111\")>,\n",
       " <selenium.webdriver.remote.webelement.WebElement (session=\"af36a2054a4f23e76be9e8f94249bbdb\", element=\"c68d88e7-a1af-4c0a-862b-2ce1218ac956\")>,\n",
       " <selenium.webdriver.remote.webelement.WebElement (session=\"af36a2054a4f23e76be9e8f94249bbdb\", element=\"dac99d4d-836f-44ad-8f31-405f0cd942eb\")>,\n",
       " <selenium.webdriver.remote.webelement.WebElement (session=\"af36a2054a4f23e76be9e8f94249bbdb\", element=\"8a780f25-137d-4e60-b1c5-6242687b3567\")>,\n",
       " <selenium.webdriver.remote.webelement.WebElement (session=\"af36a2054a4f23e76be9e8f94249bbdb\", element=\"3fa9cb51-b0ff-4621-a38b-841eec14f1ca\")>,\n",
       " <selenium.webdriver.remote.webelement.WebElement (session=\"af36a2054a4f23e76be9e8f94249bbdb\", element=\"44ccdc97-7434-45c5-8d43-ac72bacc065c\")>,\n",
       " <selenium.webdriver.remote.webelement.WebElement (session=\"af36a2054a4f23e76be9e8f94249bbdb\", element=\"efe9a6a8-968b-405e-92ad-6f3dc643f60f\")>,\n",
       " <selenium.webdriver.remote.webelement.WebElement (session=\"af36a2054a4f23e76be9e8f94249bbdb\", element=\"a3782955-0897-488f-8f3c-4f9bc1e154ed\")>,\n",
       " <selenium.webdriver.remote.webelement.WebElement (session=\"af36a2054a4f23e76be9e8f94249bbdb\", element=\"228513f8-2095-499d-b219-ca66ad33462b\")>,\n",
       " <selenium.webdriver.remote.webelement.WebElement (session=\"af36a2054a4f23e76be9e8f94249bbdb\", element=\"591f78aa-9212-4498-bd30-3e1332403d88\")>,\n",
       " <selenium.webdriver.remote.webelement.WebElement (session=\"af36a2054a4f23e76be9e8f94249bbdb\", element=\"15ee60b1-61b0-4755-b35a-81720d15beaa\")>,\n",
       " <selenium.webdriver.remote.webelement.WebElement (session=\"af36a2054a4f23e76be9e8f94249bbdb\", element=\"018fa648-82a8-4ea4-bba2-c508f1271cdf\")>,\n",
       " <selenium.webdriver.remote.webelement.WebElement (session=\"af36a2054a4f23e76be9e8f94249bbdb\", element=\"95438206-c5d0-4104-98cf-60b1c6619eb4\")>,\n",
       " <selenium.webdriver.remote.webelement.WebElement (session=\"af36a2054a4f23e76be9e8f94249bbdb\", element=\"01d2ec80-5773-499b-ac4c-47cb45131d06\")>,\n",
       " <selenium.webdriver.remote.webelement.WebElement (session=\"af36a2054a4f23e76be9e8f94249bbdb\", element=\"c110541d-1832-4568-94b4-72f7bce9c3a1\")>,\n",
       " <selenium.webdriver.remote.webelement.WebElement (session=\"af36a2054a4f23e76be9e8f94249bbdb\", element=\"673f4f4c-4610-4c2b-8ea6-761b9c65f561\")>,\n",
       " <selenium.webdriver.remote.webelement.WebElement (session=\"af36a2054a4f23e76be9e8f94249bbdb\", element=\"809035ab-2e09-461c-a410-691eb0f1ad55\")>,\n",
       " <selenium.webdriver.remote.webelement.WebElement (session=\"af36a2054a4f23e76be9e8f94249bbdb\", element=\"aaf9c29b-589f-4c7f-ae4b-18d43c241cd2\")>,\n",
       " <selenium.webdriver.remote.webelement.WebElement (session=\"af36a2054a4f23e76be9e8f94249bbdb\", element=\"1b7a2b5c-ee54-41e9-a585-842f872990e5\")>,\n",
       " <selenium.webdriver.remote.webelement.WebElement (session=\"af36a2054a4f23e76be9e8f94249bbdb\", element=\"ffeca8d1-da68-4d3e-83cc-583bf30bea14\")>,\n",
       " <selenium.webdriver.remote.webelement.WebElement (session=\"af36a2054a4f23e76be9e8f94249bbdb\", element=\"489fb7de-85b1-40d9-8d91-5cfe0d120a76\")>,\n",
       " <selenium.webdriver.remote.webelement.WebElement (session=\"af36a2054a4f23e76be9e8f94249bbdb\", element=\"8520d27b-b2c1-408f-8c3a-7367df871bb9\")>,\n",
       " <selenium.webdriver.remote.webelement.WebElement (session=\"af36a2054a4f23e76be9e8f94249bbdb\", element=\"5f3e6ed4-92fd-4328-a6ad-e0fcb71861d6\")>,\n",
       " <selenium.webdriver.remote.webelement.WebElement (session=\"af36a2054a4f23e76be9e8f94249bbdb\", element=\"7f661b87-f22b-4cb6-8963-39ba30093a78\")>,\n",
       " <selenium.webdriver.remote.webelement.WebElement (session=\"af36a2054a4f23e76be9e8f94249bbdb\", element=\"e2c26fe2-dec5-4590-af0f-16302d209ccd\")>,\n",
       " <selenium.webdriver.remote.webelement.WebElement (session=\"af36a2054a4f23e76be9e8f94249bbdb\", element=\"e23ffdce-9ca6-45ab-8b98-0141b6dd4d29\")>,\n",
       " <selenium.webdriver.remote.webelement.WebElement (session=\"af36a2054a4f23e76be9e8f94249bbdb\", element=\"ac838b84-3bda-43c6-a07b-d98801c92b71\")>,\n",
       " <selenium.webdriver.remote.webelement.WebElement (session=\"af36a2054a4f23e76be9e8f94249bbdb\", element=\"1eac182a-2378-47b8-8297-4f11d223fc3e\")>,\n",
       " <selenium.webdriver.remote.webelement.WebElement (session=\"af36a2054a4f23e76be9e8f94249bbdb\", element=\"b30764fd-7b72-4947-9ba0-c425fc6bd7d2\")>,\n",
       " <selenium.webdriver.remote.webelement.WebElement (session=\"af36a2054a4f23e76be9e8f94249bbdb\", element=\"9213c646-cfc0-4658-adec-ec3067fc60c4\")>,\n",
       " <selenium.webdriver.remote.webelement.WebElement (session=\"af36a2054a4f23e76be9e8f94249bbdb\", element=\"c48948d1-a320-4d8c-b1c8-76e639ec45c8\")>,\n",
       " <selenium.webdriver.remote.webelement.WebElement (session=\"af36a2054a4f23e76be9e8f94249bbdb\", element=\"3545adf2-acdb-4445-8d4a-cd49c2ddf89d\")>,\n",
       " <selenium.webdriver.remote.webelement.WebElement (session=\"af36a2054a4f23e76be9e8f94249bbdb\", element=\"441acc4e-b0db-483a-8b3f-8fa350004905\")>,\n",
       " <selenium.webdriver.remote.webelement.WebElement (session=\"af36a2054a4f23e76be9e8f94249bbdb\", element=\"6e6b37a3-4fcc-47d7-afa4-29217009fbb5\")>,\n",
       " <selenium.webdriver.remote.webelement.WebElement (session=\"af36a2054a4f23e76be9e8f94249bbdb\", element=\"bb180ee2-4db8-4c8b-bbc0-9ec44eba72a6\")>,\n",
       " <selenium.webdriver.remote.webelement.WebElement (session=\"af36a2054a4f23e76be9e8f94249bbdb\", element=\"2e8d2a17-d73e-4b2e-8c90-5de09fa9b880\")>,\n",
       " <selenium.webdriver.remote.webelement.WebElement (session=\"af36a2054a4f23e76be9e8f94249bbdb\", element=\"a0912431-c8d0-42ae-96fa-6a0c76a5cf96\")>,\n",
       " <selenium.webdriver.remote.webelement.WebElement (session=\"af36a2054a4f23e76be9e8f94249bbdb\", element=\"bed93017-5066-4e27-8ce9-5c19e7a6467c\")>,\n",
       " <selenium.webdriver.remote.webelement.WebElement (session=\"af36a2054a4f23e76be9e8f94249bbdb\", element=\"24108b31-f46a-4a46-95a7-81733273c0e7\")>]"
      ]
     },
     "execution_count": 152,
     "metadata": {},
     "output_type": "execute_result"
    }
   ],
   "source": [
    "brand=driver.find_elements_by_xpath('//div[@class=\"_2WkVRV\"]')\n",
    "brand\n"
   ]
  },
  {
   "cell_type": "code",
   "execution_count": 153,
   "metadata": {},
   "outputs": [
    {
     "data": {
      "text/plain": [
       "['NuVew',\n",
       " 'SUNBEE',\n",
       " 'Fastrack',\n",
       " 'AISLIN',\n",
       " 'Singco India',\n",
       " 'Singco India',\n",
       " 'hipe',\n",
       " 'NuVew',\n",
       " 'Fastrack',\n",
       " 'PHENOMENAL',\n",
       " 'ROYAL SON',\n",
       " 'BAJERO',\n",
       " 'SUNBEE',\n",
       " 'ROYAL SON',\n",
       " 'PHENOMENAL',\n",
       " 'AISLIN',\n",
       " 'kingsunglasses',\n",
       " 'kingsunglasses',\n",
       " 'ROYAL SON',\n",
       " 'AISLIN',\n",
       " 'Elligator',\n",
       " 'Elligator',\n",
       " 'Elligator',\n",
       " 'AISLIN',\n",
       " 'Elligator',\n",
       " 'ROZZETTA CRAFT',\n",
       " 'ROYAL SON',\n",
       " 'AISLIN',\n",
       " 'elegante',\n",
       " 'PIRASO',\n",
       " 'GANSTA',\n",
       " 'NuVew',\n",
       " 'ROYAL SON',\n",
       " 'Silver Kartz',\n",
       " 'SUNBEE',\n",
       " 'AISLIN',\n",
       " 'Fastrack',\n",
       " 'NuVew',\n",
       " 'GANSTA',\n",
       " 'ROZZETTA CRAFT']"
      ]
     },
     "execution_count": 153,
     "metadata": {},
     "output_type": "execute_result"
    }
   ],
   "source": [
    "Brand3=[]\n",
    "for i in brand:\n",
    "    Brand3.append(i.text)\n",
    "Brand3"
   ]
  },
  {
   "cell_type": "code",
   "execution_count": 163,
   "metadata": {},
   "outputs": [
    {
     "data": {
      "text/plain": [
       "[<selenium.webdriver.remote.webelement.WebElement (session=\"af36a2054a4f23e76be9e8f94249bbdb\", element=\"e0265c06-b7eb-4a8a-8f30-73e3922f5ae3\")>,\n",
       " <selenium.webdriver.remote.webelement.WebElement (session=\"af36a2054a4f23e76be9e8f94249bbdb\", element=\"ba6ce184-0886-4a18-ae8e-4560b4630e4b\")>,\n",
       " <selenium.webdriver.remote.webelement.WebElement (session=\"af36a2054a4f23e76be9e8f94249bbdb\", element=\"d58bce0f-d6d8-4810-9d2e-ca3deb7729fc\")>,\n",
       " <selenium.webdriver.remote.webelement.WebElement (session=\"af36a2054a4f23e76be9e8f94249bbdb\", element=\"dcb0bcd2-2f7c-4860-8e3e-259015b8b512\")>,\n",
       " <selenium.webdriver.remote.webelement.WebElement (session=\"af36a2054a4f23e76be9e8f94249bbdb\", element=\"75c9de5b-15b2-4634-984b-f44f2b3602ee\")>,\n",
       " <selenium.webdriver.remote.webelement.WebElement (session=\"af36a2054a4f23e76be9e8f94249bbdb\", element=\"52d3ca4f-2c51-4bb5-a698-1915c0662ec5\")>,\n",
       " <selenium.webdriver.remote.webelement.WebElement (session=\"af36a2054a4f23e76be9e8f94249bbdb\", element=\"01a889af-b1d7-4b18-8dc0-a2ba161a2f49\")>,\n",
       " <selenium.webdriver.remote.webelement.WebElement (session=\"af36a2054a4f23e76be9e8f94249bbdb\", element=\"43ec0e7e-bffb-4b2a-9dd2-b5af16ea5bb2\")>,\n",
       " <selenium.webdriver.remote.webelement.WebElement (session=\"af36a2054a4f23e76be9e8f94249bbdb\", element=\"b9aa5d35-2744-4a59-b840-e4dcf0f635dc\")>,\n",
       " <selenium.webdriver.remote.webelement.WebElement (session=\"af36a2054a4f23e76be9e8f94249bbdb\", element=\"16d0e329-0648-4059-837d-c9bf8b570a59\")>,\n",
       " <selenium.webdriver.remote.webelement.WebElement (session=\"af36a2054a4f23e76be9e8f94249bbdb\", element=\"59bf5231-d123-4bdc-b8fb-81c3ab7ac4c1\")>,\n",
       " <selenium.webdriver.remote.webelement.WebElement (session=\"af36a2054a4f23e76be9e8f94249bbdb\", element=\"3be62caa-9cbb-4c1b-a0e0-427d9aab6ef3\")>,\n",
       " <selenium.webdriver.remote.webelement.WebElement (session=\"af36a2054a4f23e76be9e8f94249bbdb\", element=\"a98cb027-0add-47a7-b31b-fa5f2374c84b\")>,\n",
       " <selenium.webdriver.remote.webelement.WebElement (session=\"af36a2054a4f23e76be9e8f94249bbdb\", element=\"8de70c7b-49c9-493a-9d91-9ef83b840e9f\")>,\n",
       " <selenium.webdriver.remote.webelement.WebElement (session=\"af36a2054a4f23e76be9e8f94249bbdb\", element=\"2559151f-dc97-4175-ba13-fa6b9eeec69f\")>,\n",
       " <selenium.webdriver.remote.webelement.WebElement (session=\"af36a2054a4f23e76be9e8f94249bbdb\", element=\"648bb524-6df1-40a4-9eb6-ca9182347e1b\")>,\n",
       " <selenium.webdriver.remote.webelement.WebElement (session=\"af36a2054a4f23e76be9e8f94249bbdb\", element=\"d84105d2-40fc-4410-beb9-526782a46dec\")>,\n",
       " <selenium.webdriver.remote.webelement.WebElement (session=\"af36a2054a4f23e76be9e8f94249bbdb\", element=\"3acaa177-fef8-423a-9d44-b1477289506b\")>,\n",
       " <selenium.webdriver.remote.webelement.WebElement (session=\"af36a2054a4f23e76be9e8f94249bbdb\", element=\"306a382b-6531-49c6-90d8-d5e939140a0b\")>,\n",
       " <selenium.webdriver.remote.webelement.WebElement (session=\"af36a2054a4f23e76be9e8f94249bbdb\", element=\"a7eb563f-88b9-4662-b984-28504b9887e3\")>,\n",
       " <selenium.webdriver.remote.webelement.WebElement (session=\"af36a2054a4f23e76be9e8f94249bbdb\", element=\"17d4a6fd-8c9a-41c8-afb9-7e17cf39adfc\")>,\n",
       " <selenium.webdriver.remote.webelement.WebElement (session=\"af36a2054a4f23e76be9e8f94249bbdb\", element=\"96736888-2b8e-4b67-aeeb-dc850523569f\")>,\n",
       " <selenium.webdriver.remote.webelement.WebElement (session=\"af36a2054a4f23e76be9e8f94249bbdb\", element=\"807506d9-3a4e-4af1-888a-de9da834aab1\")>,\n",
       " <selenium.webdriver.remote.webelement.WebElement (session=\"af36a2054a4f23e76be9e8f94249bbdb\", element=\"f2249c0d-80a3-4010-940f-eedfb451d738\")>,\n",
       " <selenium.webdriver.remote.webelement.WebElement (session=\"af36a2054a4f23e76be9e8f94249bbdb\", element=\"70797f5c-ca05-4a9b-b1ee-6fe891ae0b33\")>,\n",
       " <selenium.webdriver.remote.webelement.WebElement (session=\"af36a2054a4f23e76be9e8f94249bbdb\", element=\"7a4cdc59-c418-48f7-bea1-02591bf3083c\")>,\n",
       " <selenium.webdriver.remote.webelement.WebElement (session=\"af36a2054a4f23e76be9e8f94249bbdb\", element=\"18ded4e9-0b86-4a7f-9543-19e5a12595ee\")>,\n",
       " <selenium.webdriver.remote.webelement.WebElement (session=\"af36a2054a4f23e76be9e8f94249bbdb\", element=\"e2fda3ee-6709-452d-ad1d-47affeb4b468\")>,\n",
       " <selenium.webdriver.remote.webelement.WebElement (session=\"af36a2054a4f23e76be9e8f94249bbdb\", element=\"9697a72b-f7e5-456a-872b-ee0740618808\")>,\n",
       " <selenium.webdriver.remote.webelement.WebElement (session=\"af36a2054a4f23e76be9e8f94249bbdb\", element=\"f1d2277b-1dbf-45c0-90d9-d3d5d04dbd15\")>,\n",
       " <selenium.webdriver.remote.webelement.WebElement (session=\"af36a2054a4f23e76be9e8f94249bbdb\", element=\"4a4e913b-f8af-47f1-91a8-b9980dc9a037\")>,\n",
       " <selenium.webdriver.remote.webelement.WebElement (session=\"af36a2054a4f23e76be9e8f94249bbdb\", element=\"e6d9fc39-5832-4236-a6ca-5da32572bc2c\")>,\n",
       " <selenium.webdriver.remote.webelement.WebElement (session=\"af36a2054a4f23e76be9e8f94249bbdb\", element=\"cfa81740-727b-446b-9092-a3095b3c7302\")>,\n",
       " <selenium.webdriver.remote.webelement.WebElement (session=\"af36a2054a4f23e76be9e8f94249bbdb\", element=\"e99bca14-51f5-4779-8462-750dd990db18\")>,\n",
       " <selenium.webdriver.remote.webelement.WebElement (session=\"af36a2054a4f23e76be9e8f94249bbdb\", element=\"813a3da6-2b73-4084-9488-ba0c53982e1c\")>,\n",
       " <selenium.webdriver.remote.webelement.WebElement (session=\"af36a2054a4f23e76be9e8f94249bbdb\", element=\"6e3f5a43-fc17-4d9f-8407-cc08e98f8a4a\")>,\n",
       " <selenium.webdriver.remote.webelement.WebElement (session=\"af36a2054a4f23e76be9e8f94249bbdb\", element=\"2713680f-893b-4ec3-a261-ff074cc55733\")>,\n",
       " <selenium.webdriver.remote.webelement.WebElement (session=\"af36a2054a4f23e76be9e8f94249bbdb\", element=\"29294ade-679d-4691-8fe2-60c049344e7f\")>,\n",
       " <selenium.webdriver.remote.webelement.WebElement (session=\"af36a2054a4f23e76be9e8f94249bbdb\", element=\"494b1e77-b849-48f7-92d5-13343c3daf0f\")>,\n",
       " <selenium.webdriver.remote.webelement.WebElement (session=\"af36a2054a4f23e76be9e8f94249bbdb\", element=\"0648f56b-1ca6-4c9d-b1d3-8358985b8633\")>]"
      ]
     },
     "execution_count": 163,
     "metadata": {},
     "output_type": "execute_result"
    }
   ],
   "source": [
    "dis=driver.find_elements_by_xpath('//a[@class=\"IRpwTa\"]')\n",
    "dis"
   ]
  },
  {
   "cell_type": "code",
   "execution_count": 164,
   "metadata": {},
   "outputs": [
    {
     "data": {
      "text/plain": [
       "['UV Protection Aviator Sunglasses (58)',\n",
       " 'UV Protection, Polarized, Mirrored Retro Square, Rectan...',\n",
       " 'UV Protection Aviator Sunglasses (58)',\n",
       " 'UV Protection, Gradient Wayfarer, Retro Square Sunglass...',\n",
       " 'Mirrored, UV Protection, Riding Glasses, Others Wrap-ar...',\n",
       " 'UV Protection, Riding Glasses, Others Aviator, Wayfarer...',\n",
       " 'UV Protection, Night Vision, Gradient, Mirrored Round, ...',\n",
       " 'UV Protection Aviator Sunglasses (Free Size)',\n",
       " 'UV Protection Aviator Sunglasses (Free Size)',\n",
       " 'UV Protection Round Sunglasses (53)',\n",
       " 'UV Protection Over-sized Sunglasses (60)',\n",
       " 'UV Protection Round Sunglasses (Free Size)',\n",
       " 'UV Protection, Polarized, Mirrored Retro Square Sunglas...',\n",
       " 'Polarized, UV Protection Round Sunglasses (49)',\n",
       " 'UV Protection, Mirrored Retro Square Sunglasses (53)',\n",
       " 'UV Protection Wayfarer Sunglasses (58)',\n",
       " 'UV Protection Rectangular Sunglasses (Free Size)',\n",
       " 'UV Protection Round Sunglasses (Free Size)',\n",
       " 'UV Protection Retro Square Sunglasses (88)',\n",
       " 'Polarized, UV Protection Wayfarer, Rectangular Sunglass...',\n",
       " 'UV Protection, Riding Glasses Rectangular, Retro Square...',\n",
       " 'UV Protection Retro Square, Aviator Sunglasses (54)',\n",
       " 'UV Protection Aviator Sunglasses (55)',\n",
       " 'Toughened Glass Lens, UV Protection Rectangular, Wrap-a...',\n",
       " 'UV Protection Round Sunglasses (55)',\n",
       " 'UV Protection, Gradient Rectangular Sunglasses (Free Si...',\n",
       " 'UV Protection, Gradient Wayfarer Sunglasses (55)',\n",
       " 'UV Protection, Gradient Cat-eye, Over-sized Sunglasses ...',\n",
       " 'Mirrored Round Sunglasses (Free Size)',\n",
       " 'UV Protection Wayfarer Sunglasses (32)',\n",
       " 'UV Protection Aviator Sunglasses (57)',\n",
       " 'UV Protection, Mirrored, Gradient Cat-eye Sunglasses (6...',\n",
       " 'Mirrored Aviator Sunglasses (Free Size)',\n",
       " 'UV Protection Oval Sunglasses (56)',\n",
       " 'UV Protection, Polarized, Mirrored Wayfarer Sunglasses ...',\n",
       " 'Toughened Glass Lens, UV Protection Wayfarer, Rectangul...',\n",
       " 'UV Protection Wayfarer Sunglasses (Free Size)',\n",
       " 'UV Protection Wayfarer, Rectangular Sunglasses (57)',\n",
       " 'UV Protection Aviator Sunglasses (57)',\n",
       " 'UV Protection, Gradient Retro Square Sunglasses (Free S...']"
      ]
     },
     "execution_count": 164,
     "metadata": {},
     "output_type": "execute_result"
    }
   ],
   "source": [
    "Dis3=[]\n",
    "for i in dis:\n",
    "    Dis3.append(i.text)\n",
    "Dis3\n"
   ]
  },
  {
   "cell_type": "code",
   "execution_count": 156,
   "metadata": {},
   "outputs": [
    {
     "data": {
      "text/plain": [
       "[<selenium.webdriver.remote.webelement.WebElement (session=\"af36a2054a4f23e76be9e8f94249bbdb\", element=\"7e95852f-2f9a-4185-b619-4370c281a219\")>,\n",
       " <selenium.webdriver.remote.webelement.WebElement (session=\"af36a2054a4f23e76be9e8f94249bbdb\", element=\"07bc6c71-fc23-4e52-aa9a-ac6a7a65d250\")>,\n",
       " <selenium.webdriver.remote.webelement.WebElement (session=\"af36a2054a4f23e76be9e8f94249bbdb\", element=\"42cf2de5-e633-48d3-8ba4-168aed6ce0fd\")>,\n",
       " <selenium.webdriver.remote.webelement.WebElement (session=\"af36a2054a4f23e76be9e8f94249bbdb\", element=\"e88adff4-5dea-4624-9d70-92f7c2e11c51\")>,\n",
       " <selenium.webdriver.remote.webelement.WebElement (session=\"af36a2054a4f23e76be9e8f94249bbdb\", element=\"2b8e0297-b4ba-4c85-91f5-67e7d179d2c5\")>,\n",
       " <selenium.webdriver.remote.webelement.WebElement (session=\"af36a2054a4f23e76be9e8f94249bbdb\", element=\"b9e5ae87-c85a-4990-b11a-710a6b6dada4\")>,\n",
       " <selenium.webdriver.remote.webelement.WebElement (session=\"af36a2054a4f23e76be9e8f94249bbdb\", element=\"2dc65f27-cb4d-4adb-bdb3-ec54276ead0d\")>,\n",
       " <selenium.webdriver.remote.webelement.WebElement (session=\"af36a2054a4f23e76be9e8f94249bbdb\", element=\"7b206e7b-a616-43f4-a906-d6b292284947\")>,\n",
       " <selenium.webdriver.remote.webelement.WebElement (session=\"af36a2054a4f23e76be9e8f94249bbdb\", element=\"6c5487d9-0de3-4690-b636-8808121dbf01\")>,\n",
       " <selenium.webdriver.remote.webelement.WebElement (session=\"af36a2054a4f23e76be9e8f94249bbdb\", element=\"450a95d8-2d9a-4f43-83c4-11fd27587bd1\")>,\n",
       " <selenium.webdriver.remote.webelement.WebElement (session=\"af36a2054a4f23e76be9e8f94249bbdb\", element=\"a7531758-630b-4f94-a3ab-1d41c4441c13\")>,\n",
       " <selenium.webdriver.remote.webelement.WebElement (session=\"af36a2054a4f23e76be9e8f94249bbdb\", element=\"e33055b5-c2f7-469e-97fa-d30d8e14b52c\")>,\n",
       " <selenium.webdriver.remote.webelement.WebElement (session=\"af36a2054a4f23e76be9e8f94249bbdb\", element=\"6e682a38-faf3-4b33-baa2-95d4dec6ed5e\")>,\n",
       " <selenium.webdriver.remote.webelement.WebElement (session=\"af36a2054a4f23e76be9e8f94249bbdb\", element=\"9ebf8fee-bc43-464a-9176-a39de9bf8600\")>,\n",
       " <selenium.webdriver.remote.webelement.WebElement (session=\"af36a2054a4f23e76be9e8f94249bbdb\", element=\"bbd9685e-0b84-479e-bf74-8198af8ef02c\")>,\n",
       " <selenium.webdriver.remote.webelement.WebElement (session=\"af36a2054a4f23e76be9e8f94249bbdb\", element=\"88598d6a-c20e-40a0-b59e-fb9acfddb1ca\")>,\n",
       " <selenium.webdriver.remote.webelement.WebElement (session=\"af36a2054a4f23e76be9e8f94249bbdb\", element=\"49128e46-3e0b-4467-9f29-8c299dd78d76\")>,\n",
       " <selenium.webdriver.remote.webelement.WebElement (session=\"af36a2054a4f23e76be9e8f94249bbdb\", element=\"0be8d60d-d975-46bf-b3cf-e613f913141d\")>,\n",
       " <selenium.webdriver.remote.webelement.WebElement (session=\"af36a2054a4f23e76be9e8f94249bbdb\", element=\"5e7b7d60-2467-4a09-bc33-9786e213db3a\")>,\n",
       " <selenium.webdriver.remote.webelement.WebElement (session=\"af36a2054a4f23e76be9e8f94249bbdb\", element=\"a817d5b3-f5e7-45b4-9ac4-0dd9c623de19\")>,\n",
       " <selenium.webdriver.remote.webelement.WebElement (session=\"af36a2054a4f23e76be9e8f94249bbdb\", element=\"19e87a09-a693-4c76-9fc3-f43b2ad22d55\")>,\n",
       " <selenium.webdriver.remote.webelement.WebElement (session=\"af36a2054a4f23e76be9e8f94249bbdb\", element=\"df03045a-d8b9-41d0-9587-6acaaa69b5d1\")>,\n",
       " <selenium.webdriver.remote.webelement.WebElement (session=\"af36a2054a4f23e76be9e8f94249bbdb\", element=\"be1eeb43-5c6d-45c8-9683-2c96d5e41ae4\")>,\n",
       " <selenium.webdriver.remote.webelement.WebElement (session=\"af36a2054a4f23e76be9e8f94249bbdb\", element=\"fb0f012a-85b5-4050-a26f-6df8c2bd1a53\")>,\n",
       " <selenium.webdriver.remote.webelement.WebElement (session=\"af36a2054a4f23e76be9e8f94249bbdb\", element=\"124b3f61-c881-4121-b70c-3828467a86f7\")>,\n",
       " <selenium.webdriver.remote.webelement.WebElement (session=\"af36a2054a4f23e76be9e8f94249bbdb\", element=\"db509861-4f1a-4200-ab00-6a631353a244\")>,\n",
       " <selenium.webdriver.remote.webelement.WebElement (session=\"af36a2054a4f23e76be9e8f94249bbdb\", element=\"0238d09e-d361-45f5-8e07-34a582bb9af5\")>,\n",
       " <selenium.webdriver.remote.webelement.WebElement (session=\"af36a2054a4f23e76be9e8f94249bbdb\", element=\"fad56adb-06fb-496a-ae7e-ecc0f9ad1563\")>,\n",
       " <selenium.webdriver.remote.webelement.WebElement (session=\"af36a2054a4f23e76be9e8f94249bbdb\", element=\"d2b8fd46-6413-439d-8b0b-54a1bef5e053\")>,\n",
       " <selenium.webdriver.remote.webelement.WebElement (session=\"af36a2054a4f23e76be9e8f94249bbdb\", element=\"b04a6963-4706-4099-8062-f7af99264f0e\")>,\n",
       " <selenium.webdriver.remote.webelement.WebElement (session=\"af36a2054a4f23e76be9e8f94249bbdb\", element=\"031714c1-8a64-42f5-9a68-9bfc404f3294\")>,\n",
       " <selenium.webdriver.remote.webelement.WebElement (session=\"af36a2054a4f23e76be9e8f94249bbdb\", element=\"d30ccb85-d709-45d1-949a-2e8644d047d7\")>,\n",
       " <selenium.webdriver.remote.webelement.WebElement (session=\"af36a2054a4f23e76be9e8f94249bbdb\", element=\"fe152351-4952-4ba7-bcb1-2f38cd073ab7\")>,\n",
       " <selenium.webdriver.remote.webelement.WebElement (session=\"af36a2054a4f23e76be9e8f94249bbdb\", element=\"a34de489-faf0-4ade-b3f6-9b796a0295fb\")>,\n",
       " <selenium.webdriver.remote.webelement.WebElement (session=\"af36a2054a4f23e76be9e8f94249bbdb\", element=\"fab57c0c-2053-41f5-b3c2-b4f2249e8afb\")>,\n",
       " <selenium.webdriver.remote.webelement.WebElement (session=\"af36a2054a4f23e76be9e8f94249bbdb\", element=\"3893814a-79ff-4e46-a30b-aa2ca81608b7\")>,\n",
       " <selenium.webdriver.remote.webelement.WebElement (session=\"af36a2054a4f23e76be9e8f94249bbdb\", element=\"c6c7f148-1bfc-455c-b403-86b2584ac732\")>,\n",
       " <selenium.webdriver.remote.webelement.WebElement (session=\"af36a2054a4f23e76be9e8f94249bbdb\", element=\"6fa1c2b4-bb33-43e2-a6c2-5e88caa14f44\")>,\n",
       " <selenium.webdriver.remote.webelement.WebElement (session=\"af36a2054a4f23e76be9e8f94249bbdb\", element=\"945dda8f-302d-4e4a-8695-8b20006b0160\")>,\n",
       " <selenium.webdriver.remote.webelement.WebElement (session=\"af36a2054a4f23e76be9e8f94249bbdb\", element=\"317b0254-aaf3-41d1-ae63-d56e75e1392d\")>]"
      ]
     },
     "execution_count": 156,
     "metadata": {},
     "output_type": "execute_result"
    }
   ],
   "source": [
    "price=driver.find_elements_by_xpath('//div[@class=\"_30jeq3\"]')\n",
    "price\n"
   ]
  },
  {
   "cell_type": "code",
   "execution_count": 157,
   "metadata": {},
   "outputs": [
    {
     "data": {
      "text/plain": [
       "['₹202',\n",
       " '₹189',\n",
       " '₹1,085',\n",
       " '₹469',\n",
       " '₹331',\n",
       " '₹225',\n",
       " '₹210',\n",
       " '₹396',\n",
       " '₹689',\n",
       " '₹280',\n",
       " '₹664',\n",
       " '₹1,169',\n",
       " '₹314',\n",
       " '₹664',\n",
       " '₹379',\n",
       " '₹698',\n",
       " '₹197',\n",
       " '₹299',\n",
       " '₹569',\n",
       " '₹625',\n",
       " '₹443',\n",
       " '₹388',\n",
       " '₹377',\n",
       " '₹1,025',\n",
       " '₹266',\n",
       " '₹499',\n",
       " '₹203',\n",
       " '₹1,025',\n",
       " '₹399',\n",
       " '₹237',\n",
       " '₹284',\n",
       " '₹325',\n",
       " '₹399',\n",
       " '₹299',\n",
       " '₹314',\n",
       " '₹998',\n",
       " '₹649',\n",
       " '₹375',\n",
       " '₹230',\n",
       " '₹404']"
      ]
     },
     "execution_count": 157,
     "metadata": {},
     "output_type": "execute_result"
    }
   ],
   "source": [
    "#so we run the loop to iterate over the tags extracted above and extract the text inside them.\n",
    "\n",
    "Price3=[]\n",
    "for i in price:\n",
    "    Price3.append(i.text)\n",
    "Price3"
   ]
  },
  {
   "cell_type": "code",
   "execution_count": 158,
   "metadata": {},
   "outputs": [
    {
     "data": {
      "text/plain": [
       "[<selenium.webdriver.remote.webelement.WebElement (session=\"af36a2054a4f23e76be9e8f94249bbdb\", element=\"272133e3-f90a-400e-a64f-494454c7337e\")>,\n",
       " <selenium.webdriver.remote.webelement.WebElement (session=\"af36a2054a4f23e76be9e8f94249bbdb\", element=\"52a60062-e62e-472b-81a5-ed2225a4fc76\")>,\n",
       " <selenium.webdriver.remote.webelement.WebElement (session=\"af36a2054a4f23e76be9e8f94249bbdb\", element=\"fb539420-6ccc-4cad-a99a-e0e5f0d823a0\")>,\n",
       " <selenium.webdriver.remote.webelement.WebElement (session=\"af36a2054a4f23e76be9e8f94249bbdb\", element=\"b75977d0-6fac-4160-91b1-3bc8b310f3d3\")>,\n",
       " <selenium.webdriver.remote.webelement.WebElement (session=\"af36a2054a4f23e76be9e8f94249bbdb\", element=\"8d24dcd6-efe1-47f3-937c-a679c0da8306\")>,\n",
       " <selenium.webdriver.remote.webelement.WebElement (session=\"af36a2054a4f23e76be9e8f94249bbdb\", element=\"8fc549b9-8e4b-498b-bbad-5cf96d565146\")>,\n",
       " <selenium.webdriver.remote.webelement.WebElement (session=\"af36a2054a4f23e76be9e8f94249bbdb\", element=\"d062f048-a49d-4afb-b2af-1777fe355743\")>,\n",
       " <selenium.webdriver.remote.webelement.WebElement (session=\"af36a2054a4f23e76be9e8f94249bbdb\", element=\"3414d690-21d5-49a6-8fa3-2ec07295ce3a\")>,\n",
       " <selenium.webdriver.remote.webelement.WebElement (session=\"af36a2054a4f23e76be9e8f94249bbdb\", element=\"c29a8c56-917e-470b-b7a7-72d29edd897c\")>,\n",
       " <selenium.webdriver.remote.webelement.WebElement (session=\"af36a2054a4f23e76be9e8f94249bbdb\", element=\"772cc870-cb6c-4b26-b193-24b3581850f3\")>,\n",
       " <selenium.webdriver.remote.webelement.WebElement (session=\"af36a2054a4f23e76be9e8f94249bbdb\", element=\"ac884e8d-3bb5-4972-b273-2e8bf1f9c550\")>,\n",
       " <selenium.webdriver.remote.webelement.WebElement (session=\"af36a2054a4f23e76be9e8f94249bbdb\", element=\"078b6c23-1409-4471-afd1-e2d20d854e6b\")>,\n",
       " <selenium.webdriver.remote.webelement.WebElement (session=\"af36a2054a4f23e76be9e8f94249bbdb\", element=\"a4aa4129-d5f3-4476-b051-9f876583591b\")>,\n",
       " <selenium.webdriver.remote.webelement.WebElement (session=\"af36a2054a4f23e76be9e8f94249bbdb\", element=\"8dd5ae82-383f-4267-9307-45fbeebe630f\")>,\n",
       " <selenium.webdriver.remote.webelement.WebElement (session=\"af36a2054a4f23e76be9e8f94249bbdb\", element=\"21ab3471-058d-4a91-9768-83721c8d1e93\")>,\n",
       " <selenium.webdriver.remote.webelement.WebElement (session=\"af36a2054a4f23e76be9e8f94249bbdb\", element=\"db69d8d4-5214-428f-9ca0-1f9b905c2a26\")>,\n",
       " <selenium.webdriver.remote.webelement.WebElement (session=\"af36a2054a4f23e76be9e8f94249bbdb\", element=\"5c77b80d-738e-4a25-a153-2de090e4b5a6\")>,\n",
       " <selenium.webdriver.remote.webelement.WebElement (session=\"af36a2054a4f23e76be9e8f94249bbdb\", element=\"8fa827de-6ee3-4acb-970c-d4ce07f84487\")>,\n",
       " <selenium.webdriver.remote.webelement.WebElement (session=\"af36a2054a4f23e76be9e8f94249bbdb\", element=\"001aa627-b5ad-42b9-9314-310621c9dc9c\")>,\n",
       " <selenium.webdriver.remote.webelement.WebElement (session=\"af36a2054a4f23e76be9e8f94249bbdb\", element=\"46da4257-81bd-4547-b845-2d75c2d670ea\")>,\n",
       " <selenium.webdriver.remote.webelement.WebElement (session=\"af36a2054a4f23e76be9e8f94249bbdb\", element=\"75df7ffe-7278-4be2-920b-2586009c0544\")>,\n",
       " <selenium.webdriver.remote.webelement.WebElement (session=\"af36a2054a4f23e76be9e8f94249bbdb\", element=\"1e9b3f75-34f3-4940-aa61-876c35fca9d3\")>,\n",
       " <selenium.webdriver.remote.webelement.WebElement (session=\"af36a2054a4f23e76be9e8f94249bbdb\", element=\"c7605bd7-6670-482f-a059-569b6b5a164a\")>,\n",
       " <selenium.webdriver.remote.webelement.WebElement (session=\"af36a2054a4f23e76be9e8f94249bbdb\", element=\"0fb8abaf-be61-4c3e-be69-f542cc887b69\")>,\n",
       " <selenium.webdriver.remote.webelement.WebElement (session=\"af36a2054a4f23e76be9e8f94249bbdb\", element=\"02d1fd15-1a0c-42f3-b904-f31b5e0370a0\")>,\n",
       " <selenium.webdriver.remote.webelement.WebElement (session=\"af36a2054a4f23e76be9e8f94249bbdb\", element=\"0f6fa25e-de17-4d64-a0a5-8390baa57f8a\")>,\n",
       " <selenium.webdriver.remote.webelement.WebElement (session=\"af36a2054a4f23e76be9e8f94249bbdb\", element=\"409aa463-97b5-4984-930f-83b24179b865\")>,\n",
       " <selenium.webdriver.remote.webelement.WebElement (session=\"af36a2054a4f23e76be9e8f94249bbdb\", element=\"f7c92b0d-4c64-4341-8bf1-7b0eecf877e6\")>,\n",
       " <selenium.webdriver.remote.webelement.WebElement (session=\"af36a2054a4f23e76be9e8f94249bbdb\", element=\"c0496128-8fc2-42c9-bd67-369aa708500b\")>,\n",
       " <selenium.webdriver.remote.webelement.WebElement (session=\"af36a2054a4f23e76be9e8f94249bbdb\", element=\"0f1effd8-f7e0-4526-b471-0dee1fe6a2a4\")>,\n",
       " <selenium.webdriver.remote.webelement.WebElement (session=\"af36a2054a4f23e76be9e8f94249bbdb\", element=\"9614f565-0763-48ca-b83e-fb833082b052\")>,\n",
       " <selenium.webdriver.remote.webelement.WebElement (session=\"af36a2054a4f23e76be9e8f94249bbdb\", element=\"7a2bf757-a705-4e4f-b0f4-40772a93c3ae\")>,\n",
       " <selenium.webdriver.remote.webelement.WebElement (session=\"af36a2054a4f23e76be9e8f94249bbdb\", element=\"febc2f27-08ee-4c84-98e3-7babad8ad206\")>,\n",
       " <selenium.webdriver.remote.webelement.WebElement (session=\"af36a2054a4f23e76be9e8f94249bbdb\", element=\"d8fe3c9c-cf5f-45c6-9725-0d1a88f35d4a\")>,\n",
       " <selenium.webdriver.remote.webelement.WebElement (session=\"af36a2054a4f23e76be9e8f94249bbdb\", element=\"eadf8c90-b69b-43cc-a438-e639a9b41792\")>,\n",
       " <selenium.webdriver.remote.webelement.WebElement (session=\"af36a2054a4f23e76be9e8f94249bbdb\", element=\"ecb907a7-42e9-4a31-845a-07bc61f0736b\")>,\n",
       " <selenium.webdriver.remote.webelement.WebElement (session=\"af36a2054a4f23e76be9e8f94249bbdb\", element=\"f29de9b3-e339-4e49-8235-edb65cce347e\")>,\n",
       " <selenium.webdriver.remote.webelement.WebElement (session=\"af36a2054a4f23e76be9e8f94249bbdb\", element=\"8aa52abf-c25d-483b-ba66-edfdc345269f\")>,\n",
       " <selenium.webdriver.remote.webelement.WebElement (session=\"af36a2054a4f23e76be9e8f94249bbdb\", element=\"f699c269-bb23-4aaa-aabb-95789faa2c43\")>,\n",
       " <selenium.webdriver.remote.webelement.WebElement (session=\"af36a2054a4f23e76be9e8f94249bbdb\", element=\"ce9840f2-e991-492c-b925-2091b97e104d\")>]"
      ]
     },
     "execution_count": 158,
     "metadata": {},
     "output_type": "execute_result"
    }
   ],
   "source": [
    "discount=driver.find_elements_by_xpath('//div[@class=\"_3Ay6Sb\"]')\n",
    "discount"
   ]
  },
  {
   "cell_type": "code",
   "execution_count": 159,
   "metadata": {},
   "outputs": [
    {
     "data": {
      "text/plain": [
       "['74% off',\n",
       " '81% off',\n",
       " '16% off',\n",
       " '72% off',\n",
       " '83% off',\n",
       " '67% off',\n",
       " '78% off',\n",
       " '68% off',\n",
       " '23% off',\n",
       " '87% off',\n",
       " '66% off',\n",
       " '55% off',\n",
       " '75% off',\n",
       " '66% off',\n",
       " '81% off',\n",
       " '78% off',\n",
       " '83% off',\n",
       " '82% off',\n",
       " '71% off',\n",
       " '74% off',\n",
       " '70% off',\n",
       " '80% off',\n",
       " '84% off',\n",
       " '72% off',\n",
       " '86% off',\n",
       " '77% off',\n",
       " '79% off',\n",
       " '75% off',\n",
       " '80% off',\n",
       " '85% off',\n",
       " '85% off',\n",
       " '78% off',\n",
       " '73% off',\n",
       " '75% off',\n",
       " '75% off',\n",
       " '73% off',\n",
       " '18% off',\n",
       " '64% off',\n",
       " '78% off',\n",
       " '79% off']"
      ]
     },
     "execution_count": 159,
     "metadata": {},
     "output_type": "execute_result"
    }
   ],
   "source": [
    "#so we run the loop to iterate over the tags extracted above and extract the text inside them.\n",
    "\n",
    "discount3=[]\n",
    "for i in discount:\n",
    "    discount3.append(i.text)\n",
    "discount3"
   ]
  },
  {
   "cell_type": "code",
   "execution_count": 165,
   "metadata": {},
   "outputs": [],
   "source": [
    "#let combined all the scram data for making the count 100 and make a data frame.\n",
    "Brand=Brand1+Brand2+Brand3\n",
    "Discount=discount1+discount2+discount3\n",
    "Disc=Dis1+Dis2+Dis3\n",
    "Price=Price1+Price2+Price3"
   ]
  },
  {
   "cell_type": "code",
   "execution_count": 166,
   "metadata": {},
   "outputs": [
    {
     "name": "stdout",
     "output_type": "stream",
     "text": [
      "120\n"
     ]
    }
   ],
   "source": [
    "print(len(Disc))"
   ]
  },
  {
   "cell_type": "code",
   "execution_count": 174,
   "metadata": {},
   "outputs": [
    {
     "data": {
      "text/html": [
       "<div>\n",
       "<style scoped>\n",
       "    .dataframe tbody tr th:only-of-type {\n",
       "        vertical-align: middle;\n",
       "    }\n",
       "\n",
       "    .dataframe tbody tr th {\n",
       "        vertical-align: top;\n",
       "    }\n",
       "\n",
       "    .dataframe thead th {\n",
       "        text-align: right;\n",
       "    }\n",
       "</style>\n",
       "<table border=\"1\" class=\"dataframe\">\n",
       "  <thead>\n",
       "    <tr style=\"text-align: right;\">\n",
       "      <th></th>\n",
       "      <th>Brand</th>\n",
       "      <th>Discription</th>\n",
       "      <th>Price</th>\n",
       "      <th>Discount</th>\n",
       "    </tr>\n",
       "  </thead>\n",
       "  <tbody>\n",
       "    <tr>\n",
       "      <th>0</th>\n",
       "      <td>elegante</td>\n",
       "      <td>UV Protection, Polarized, Mirrored Wayfarer Su...</td>\n",
       "      <td>₹399</td>\n",
       "      <td>80% off</td>\n",
       "    </tr>\n",
       "    <tr>\n",
       "      <th>1</th>\n",
       "      <td>elegante</td>\n",
       "      <td>UV Protection, Gradient Round Sunglasses (Free...</td>\n",
       "      <td>₹449</td>\n",
       "      <td>70% off</td>\n",
       "    </tr>\n",
       "    <tr>\n",
       "      <th>2</th>\n",
       "      <td>Elligator</td>\n",
       "      <td>Others Round Sunglasses (52)</td>\n",
       "      <td>₹329</td>\n",
       "      <td>86% off</td>\n",
       "    </tr>\n",
       "    <tr>\n",
       "      <th>3</th>\n",
       "      <td>SHAAH COLLECTIONS</td>\n",
       "      <td>UV Protection, Gradient Wayfarer, Clubmaster S...</td>\n",
       "      <td>₹198</td>\n",
       "      <td>88% off</td>\n",
       "    </tr>\n",
       "    <tr>\n",
       "      <th>4</th>\n",
       "      <td>PIRASO</td>\n",
       "      <td>UV Protection Aviator Sunglasses (58)</td>\n",
       "      <td>₹237</td>\n",
       "      <td>85% off</td>\n",
       "    </tr>\n",
       "    <tr>\n",
       "      <th>...</th>\n",
       "      <td>...</td>\n",
       "      <td>...</td>\n",
       "      <td>...</td>\n",
       "      <td>...</td>\n",
       "    </tr>\n",
       "    <tr>\n",
       "      <th>95</th>\n",
       "      <td>AISLIN</td>\n",
       "      <td>UV Protection Wayfarer Sunglasses (58)</td>\n",
       "      <td>₹698</td>\n",
       "      <td>78% off</td>\n",
       "    </tr>\n",
       "    <tr>\n",
       "      <th>96</th>\n",
       "      <td>kingsunglasses</td>\n",
       "      <td>UV Protection Rectangular Sunglasses (Free Size)</td>\n",
       "      <td>₹197</td>\n",
       "      <td>83% off</td>\n",
       "    </tr>\n",
       "    <tr>\n",
       "      <th>97</th>\n",
       "      <td>kingsunglasses</td>\n",
       "      <td>UV Protection Round Sunglasses (Free Size)</td>\n",
       "      <td>₹299</td>\n",
       "      <td>82% off</td>\n",
       "    </tr>\n",
       "    <tr>\n",
       "      <th>98</th>\n",
       "      <td>ROYAL SON</td>\n",
       "      <td>UV Protection Retro Square Sunglasses (88)</td>\n",
       "      <td>₹569</td>\n",
       "      <td>71% off</td>\n",
       "    </tr>\n",
       "    <tr>\n",
       "      <th>99</th>\n",
       "      <td>AISLIN</td>\n",
       "      <td>Polarized, UV Protection Wayfarer, Rectangular...</td>\n",
       "      <td>₹625</td>\n",
       "      <td>74% off</td>\n",
       "    </tr>\n",
       "  </tbody>\n",
       "</table>\n",
       "<p>100 rows × 4 columns</p>\n",
       "</div>"
      ],
      "text/plain": [
       "                Brand                                        Discription  \\\n",
       "0            elegante  UV Protection, Polarized, Mirrored Wayfarer Su...   \n",
       "1            elegante  UV Protection, Gradient Round Sunglasses (Free...   \n",
       "2           Elligator                       Others Round Sunglasses (52)   \n",
       "3   SHAAH COLLECTIONS  UV Protection, Gradient Wayfarer, Clubmaster S...   \n",
       "4              PIRASO              UV Protection Aviator Sunglasses (58)   \n",
       "..                ...                                                ...   \n",
       "95             AISLIN             UV Protection Wayfarer Sunglasses (58)   \n",
       "96     kingsunglasses   UV Protection Rectangular Sunglasses (Free Size)   \n",
       "97     kingsunglasses         UV Protection Round Sunglasses (Free Size)   \n",
       "98          ROYAL SON         UV Protection Retro Square Sunglasses (88)   \n",
       "99             AISLIN  Polarized, UV Protection Wayfarer, Rectangular...   \n",
       "\n",
       "   Price Discount  \n",
       "0   ₹399  80% off  \n",
       "1   ₹449  70% off  \n",
       "2   ₹329  86% off  \n",
       "3   ₹198  88% off  \n",
       "4   ₹237  85% off  \n",
       "..   ...      ...  \n",
       "95  ₹698  78% off  \n",
       "96  ₹197  83% off  \n",
       "97  ₹299  82% off  \n",
       "98  ₹569  71% off  \n",
       "99  ₹625  74% off  \n",
       "\n",
       "[100 rows x 4 columns]"
      ]
     },
     "execution_count": 174,
     "metadata": {},
     "output_type": "execute_result"
    }
   ],
   "source": [
    "df=pd.DataFrame({})\n",
    "df['Brand']=Brand\n",
    "df['Discription']=Disc\n",
    "df['Price']=Price\n",
    "df['Discount']= Discount\n",
    "\n",
    "df=df.head(100)\n",
    "df"
   ]
  },
  {
   "cell_type": "code",
   "execution_count": 175,
   "metadata": {},
   "outputs": [
    {
     "name": "stdout",
     "output_type": "stream",
     "text": [
      "                Brand                                                 Discription   Price Discount\n",
      "0            elegante  UV Protection, Polarized, Mirrored Wayfarer Sunglasses ...    ₹399  80% off\n",
      "1            elegante        UV Protection, Gradient Round Sunglasses (Free Size)    ₹449  70% off\n",
      "2           Elligator                                Others Round Sunglasses (52)    ₹329  86% off\n",
      "3   SHAAH COLLECTIONS  UV Protection, Gradient Wayfarer, Clubmaster Sunglasses...    ₹198  88% off\n",
      "4              PIRASO                       UV Protection Aviator Sunglasses (58)    ₹237  85% off\n",
      "5              PIRASO                      UV Protection Wayfarer Sunglasses (55)    ₹237  85% off\n",
      "6      kingsunglasses               UV Protection Wayfarer Sunglasses (Free Size)    ₹284  89% off\n",
      "7           ROYAL SON                           Polarized Cat-eye Sunglasses (54)    ₹664  66% off\n",
      "8           ROYAL SON  UV Protection, Gradient, Mirrored, Riding Glasses Aviat...    ₹474  68% off\n",
      "9      kingsunglasses                  UV Protection Round Sunglasses (Free Size)    ₹213  80% off\n",
      "10           Fastrack                UV Protection Aviator Sunglasses (Free Size)    ₹509  36% off\n",
      "11             AISLIN                   UV Protection Oval Sunglasses (Free Size)    ₹998  73% off\n",
      "12           Fastrack       Night Vision, Riding Glasses Wayfarer Sunglasses (53)    ₹758  15% off\n",
      "13  SHAAH COLLECTIONS  Riding Glasses, Others, UV Protection Wrap-around Sungl...    ₹215  78% off\n",
      "14  SHAAH COLLECTIONS  UV Protection, Night Vision, Riding Glasses, Gradient, ...    ₹331  80% off\n",
      "15              NuVew  UV Protection, Gradient Butterfly, Retro Square Sunglas...    ₹258  72% off\n",
      "16     ROZZETTA CRAFT                UV Protection Aviator Sunglasses (Free Size)    ₹499  77% off\n",
      "17     ROZZETTA CRAFT                            Mirrored Aviator Sunglasses (53)    ₹404  79% off\n",
      "18             PIRASO  UV Protection, Riding Glasses, Mirrored Wayfarer Sungla...    ₹237  85% off\n",
      "19               VAST                       UV Protection Aviator Sunglasses (57)    ₹799  73% off\n",
      "20         PHENOMENAL                  UV Protection Retro Square Sunglasses (58)    ₹379  81% off\n",
      "21             SUNBEE                UV Protection Aviator Sunglasses (Free Size)    ₹265  73% off\n",
      "22       Silver Kartz  UV Protection, Riding Glasses Rectangular, Retro Square...    ₹259  82% off\n",
      "23             AISLIN  Toughened Glass Lens, UV Protection Aviator, Wrap-aroun...    ₹498  67% off\n",
      "24             PIRASO             UV Protection, Gradient Aviator Sunglasses (55)    ₹449  82% off\n",
      "25             SUNBEE             UV Protection, Gradient Cat-eye Sunglasses (61)    ₹284  71% off\n",
      "26           Fastrack       Polarized, UV Protection Retro Square Sunglasses (53)    ₹546  31% off\n",
      "27             AISLIN            UV Protection, Gradient Wayfarer Sunglasses (57)    ₹498  70% off\n",
      "28          Elligator        UV Protection, Mirrored Round Sunglasses (Free Size)    ₹355  85% off\n",
      "29          Rich Club                   UV Protection Rectangular Sunglasses (55)    ₹215  73% off\n",
      "30            DEIXELS                       UV Protection Aviator Sunglasses (58)    ₹229  80% off\n",
      "31          ROYAL SON      UV Protection, Gradient Round, Cat-eye Sunglasses (60)    ₹664  55% off\n",
      "32            OCCARIO                       Polarized Rectangular Sunglasses (65)    ₹179  69% off\n",
      "33              NuVew                  UV Protection Retro Square Sunglasses (88)    ₹186  78% off\n",
      "34          ROYAL SON                      UV Protection Wayfarer Sunglasses (55)    ₹379  74% off\n",
      "35             AISLIN  UV Protection, Gradient Butterfly, Retro Square Sunglas...    ₹445  70% off\n",
      "36             GANSTA  Mirrored, UV Protection, Riding Glasses, Others Wrap-ar...    ₹295  85% off\n",
      "37     kingsunglasses               UV Protection, Mirrored Round Sunglasses (54)    ₹284  89% off\n",
      "38           Fastrack  Polarized, UV Protection, Riding Glasses Wayfarer Sungl...    ₹503  37% off\n",
      "39             AISLIN  UV Protection, Gradient Wayfarer, Clubmaster Sunglasses...    ₹625  70% off\n",
      "40             SUNBEE                       UV Protection Aviator Sunglasses (58)    ₹314  75% off\n",
      "41     ROZZETTA CRAFT  UV Protection, Polarized, Mirrored Retro Square, Rectan...    ₹449  77% off\n",
      "42            OCCARIO                       UV Protection Aviator Sunglasses (58)    ₹179  69% off\n",
      "43             AISLIN  UV Protection, Gradient Wayfarer, Retro Square Sunglass...    ₹525  65% off\n",
      "44             PIRASO  Mirrored, UV Protection, Riding Glasses, Others Wrap-ar...    ₹399  84% off\n",
      "45             HIPPON  UV Protection, Riding Glasses, Others Aviator, Wayfarer...    ₹257  78% off\n",
      "46           Fastrack  UV Protection, Night Vision, Gradient, Mirrored Round, ...    ₹689  23% off\n",
      "47      VINCENT CHASE                UV Protection Aviator Sunglasses (Free Size)  ₹1,415  29% off\n",
      "48               hipe                UV Protection Aviator Sunglasses (Free Size)    ₹209  79% off\n",
      "49     kingsunglasses                         UV Protection Round Sunglasses (53)    ₹331  79% off\n",
      "50       Singco India                    UV Protection Over-sized Sunglasses (60)    ₹334  72% off\n",
      "51           elegante                  UV Protection Round Sunglasses (Free Size)    ₹449  70% off\n",
      "52             GANSTA  UV Protection, Polarized, Mirrored Retro Square Sunglas...    ₹209  88% off\n",
      "53       Singco India              Polarized, UV Protection Round Sunglasses (49)    ₹293  82% off\n",
      "54               hipe        UV Protection, Mirrored Retro Square Sunglasses (53)    ₹199  84% off\n",
      "55             AISLIN                      UV Protection Wayfarer Sunglasses (58)    ₹516  66% off\n",
      "56           Fastrack            UV Protection Rectangular Sunglasses (Free Size)    ₹695  13% off\n",
      "57             Singco                  UV Protection Round Sunglasses (Free Size)    ₹239  76% off\n",
      "58     kingsunglasses                  UV Protection Retro Square Sunglasses (88)    ₹217  81% off\n",
      "59              NuVew  Polarized, UV Protection Wayfarer, Rectangular Sunglass...    ₹258  72% off\n",
      "60          ROYAL SON  UV Protection, Riding Glasses Rectangular, Retro Square...    ₹474  68% off\n",
      "61             PIRASO         UV Protection Retro Square, Aviator Sunglasses (54)    ₹331  79% off\n",
      "62          Elligator                       UV Protection Aviator Sunglasses (55)    ₹443  70% off\n",
      "63             AISLIN  Toughened Glass Lens, UV Protection Rectangular, Wrap-a...    ₹998  73% off\n",
      "64             GANSTA                         UV Protection Round Sunglasses (55)    ₹289  85% off\n",
      "65             AISLIN  UV Protection, Gradient Rectangular Sunglasses (Free Si...    ₹498  70% off\n",
      "66           Badfella            UV Protection, Gradient Wayfarer Sunglasses (55)    ₹255  74% off\n",
      "67             AISLIN  UV Protection, Gradient Cat-eye, Over-sized Sunglasses ...    ₹625  70% off\n",
      "68     kingsunglasses                       Mirrored Round Sunglasses (Free Size)    ₹274  83% off\n",
      "69     kingsunglasses                      UV Protection Wayfarer Sunglasses (32)    ₹199  84% off\n",
      "70              NuVew                       UV Protection Aviator Sunglasses (57)    ₹202  74% off\n",
      "71             AISLIN  UV Protection, Mirrored, Gradient Cat-eye Sunglasses (6...    ₹498  70% off\n",
      "72          ROYAL SON                     Mirrored Aviator Sunglasses (Free Size)    ₹664  66% off\n",
      "73          ROYAL SON                          UV Protection Oval Sunglasses (56)    ₹569  71% off\n",
      "74          ROYAL SON  UV Protection, Polarized, Mirrored Wayfarer Sunglasses ...    ₹248  80% off\n",
      "75             AISLIN  Toughened Glass Lens, UV Protection Wayfarer, Rectangul...    ₹498  67% off\n",
      "76       Singco India               UV Protection Wayfarer Sunglasses (Free Size)    ₹331  83% off\n",
      "77     kingsunglasses         UV Protection Wayfarer, Rectangular Sunglasses (57)    ₹236  80% off\n",
      "78            DEIXELS                       UV Protection Aviator Sunglasses (57)    ₹249  58% off\n",
      "79             AISLIN  UV Protection, Gradient Retro Square Sunglasses (Free S...    ₹445  70% off\n",
      "80              NuVew                       UV Protection Aviator Sunglasses (58)    ₹202  74% off\n",
      "81             SUNBEE  UV Protection, Polarized, Mirrored Retro Square, Rectan...    ₹189  81% off\n",
      "82           Fastrack                       UV Protection Aviator Sunglasses (58)  ₹1,085  16% off\n",
      "83             AISLIN  UV Protection, Gradient Wayfarer, Retro Square Sunglass...    ₹469  72% off\n",
      "84       Singco India  Mirrored, UV Protection, Riding Glasses, Others Wrap-ar...    ₹331  83% off\n",
      "85       Singco India  UV Protection, Riding Glasses, Others Aviator, Wayfarer...    ₹225  67% off\n",
      "86               hipe  UV Protection, Night Vision, Gradient, Mirrored Round, ...    ₹210  78% off\n",
      "87              NuVew                UV Protection Aviator Sunglasses (Free Size)    ₹396  68% off\n",
      "88           Fastrack                UV Protection Aviator Sunglasses (Free Size)    ₹689  23% off\n",
      "89         PHENOMENAL                         UV Protection Round Sunglasses (53)    ₹280  87% off\n",
      "90          ROYAL SON                    UV Protection Over-sized Sunglasses (60)    ₹664  66% off\n",
      "91             BAJERO                  UV Protection Round Sunglasses (Free Size)  ₹1,169  55% off\n",
      "92             SUNBEE  UV Protection, Polarized, Mirrored Retro Square Sunglas...    ₹314  75% off\n",
      "93          ROYAL SON              Polarized, UV Protection Round Sunglasses (49)    ₹664  66% off\n",
      "94         PHENOMENAL        UV Protection, Mirrored Retro Square Sunglasses (53)    ₹379  81% off\n",
      "95             AISLIN                      UV Protection Wayfarer Sunglasses (58)    ₹698  78% off\n",
      "96     kingsunglasses            UV Protection Rectangular Sunglasses (Free Size)    ₹197  83% off\n",
      "97     kingsunglasses                  UV Protection Round Sunglasses (Free Size)    ₹299  82% off\n",
      "98          ROYAL SON                  UV Protection Retro Square Sunglasses (88)    ₹569  71% off\n",
      "99             AISLIN  Polarized, UV Protection Wayfarer, Rectangular Sunglass...    ₹625  74% off\n"
     ]
    }
   ],
   "source": [
    "print(df.to_string())"
   ]
  },
  {
   "cell_type": "markdown",
   "metadata": {},
   "source": [
    "# Q7: Scrape 100 reviews data from flipkart.com for iphone11 phone. You have to \n",
    "go the link: https://www.flipkart.com/apple-iphone-11-black-64-gb-includes\u0002earpods-power\u0002adapter/p/itm0f37c2240b217?pid=MOBFKCTSVZAXUHGR&lid=LSTMOBFKC\n",
    "TSVZAXUHGREPBFGI&marketplace.\n",
    "When you will open the above link you will reach to the below shown webpage.\n",
    "As shown in the above page you have to scrape the tick marked attributes.\n",
    "These are \n",
    "1. Rating \n",
    "2. Review_summary \n",
    "3. Full review\n",
    "You have to scrape this data for first 100 reviews"
   ]
  },
  {
   "cell_type": "code",
   "execution_count": 339,
   "metadata": {},
   "outputs": [],
   "source": [
    "#lets now import all the required libraries\n",
    "import selenium\n",
    "import pandas as pd\n",
    "from selenium import webdriver\n",
    "import warnings\n",
    "warnings.filterwarnings('ignore')"
   ]
  },
  {
   "cell_type": "code",
   "execution_count": 340,
   "metadata": {},
   "outputs": [],
   "source": [
    "driver=webdriver.Chrome(\"chromedriver.exe\")"
   ]
  },
  {
   "cell_type": "code",
   "execution_count": 341,
   "metadata": {},
   "outputs": [],
   "source": [
    "url='https://www.flipkart.com/apple-iphone-11-black-64-gb-includes%02earpods-power%02adapter/p/itm0f37c2240b217?pid=MOBFKCTSVZAXUHGR&lid=LSTMOBFKC'\n",
    "driver.get(url)"
   ]
  },
  {
   "cell_type": "code",
   "execution_count": 342,
   "metadata": {},
   "outputs": [
    {
     "data": {
      "text/plain": [
       "<selenium.webdriver.remote.webelement.WebElement (session=\"8f668e36f1f75044a9aa53a5bf4c6dab\", element=\"19c9639a-99f1-4481-a595-9a442dc7649e\")>"
      ]
     },
     "execution_count": 342,
     "metadata": {},
     "output_type": "execute_result"
    }
   ],
   "source": [
    "all_rating_review=driver.find_element_by_xpath('//div[@class=\"_3UAT2v _16PBlm\"]')\n",
    "all_rating_review"
   ]
  },
  {
   "cell_type": "code",
   "execution_count": 343,
   "metadata": {},
   "outputs": [],
   "source": [
    "all_rating_review.click()"
   ]
  },
  {
   "cell_type": "code",
   "execution_count": 344,
   "metadata": {},
   "outputs": [
    {
     "data": {
      "text/plain": [
       "[<selenium.webdriver.remote.webelement.WebElement (session=\"8f668e36f1f75044a9aa53a5bf4c6dab\", element=\"a96c545d-0d77-4db8-99b7-cc963eea2be9\")>,\n",
       " <selenium.webdriver.remote.webelement.WebElement (session=\"8f668e36f1f75044a9aa53a5bf4c6dab\", element=\"ce49dbe1-72a8-4a92-8b70-1424c8c80aaa\")>,\n",
       " <selenium.webdriver.remote.webelement.WebElement (session=\"8f668e36f1f75044a9aa53a5bf4c6dab\", element=\"b014ab28-6bc8-4116-82ef-d6294835c841\")>,\n",
       " <selenium.webdriver.remote.webelement.WebElement (session=\"8f668e36f1f75044a9aa53a5bf4c6dab\", element=\"2a7249bc-a6d6-4fc3-8ce4-0b5a65d9bad8\")>,\n",
       " <selenium.webdriver.remote.webelement.WebElement (session=\"8f668e36f1f75044a9aa53a5bf4c6dab\", element=\"f7cb880b-ee7d-4a41-8e46-2e2a3c082d2c\")>,\n",
       " <selenium.webdriver.remote.webelement.WebElement (session=\"8f668e36f1f75044a9aa53a5bf4c6dab\", element=\"4cce0dc4-659d-4a6e-85d8-3db45bbb2e14\")>,\n",
       " <selenium.webdriver.remote.webelement.WebElement (session=\"8f668e36f1f75044a9aa53a5bf4c6dab\", element=\"56af297c-2137-4279-8e62-00b79408b599\")>,\n",
       " <selenium.webdriver.remote.webelement.WebElement (session=\"8f668e36f1f75044a9aa53a5bf4c6dab\", element=\"e306f0dd-8ee2-44dd-9e38-527638fa8268\")>,\n",
       " <selenium.webdriver.remote.webelement.WebElement (session=\"8f668e36f1f75044a9aa53a5bf4c6dab\", element=\"8f2d8eb7-2dd5-4668-8523-f1bc4e081eef\")>,\n",
       " <selenium.webdriver.remote.webelement.WebElement (session=\"8f668e36f1f75044a9aa53a5bf4c6dab\", element=\"203f72de-cf8a-473c-84f4-60bbfef34ed8\")>]"
      ]
     },
     "execution_count": 344,
     "metadata": {},
     "output_type": "execute_result"
    }
   ],
   "source": [
    "rating=driver.find_elements_by_xpath('//div[@class=\"_3LWZlK _1BLPMq\"]')\n",
    "rating"
   ]
  },
  {
   "cell_type": "code",
   "execution_count": 345,
   "metadata": {},
   "outputs": [
    {
     "data": {
      "text/plain": [
       "['5', '5', '5', '5', '5', '5', '5', '4', '5', '5']"
      ]
     },
     "execution_count": 345,
     "metadata": {},
     "output_type": "execute_result"
    }
   ],
   "source": [
    "\n",
    "rating1=[]\n",
    "for i in rating:\n",
    "    rating1.append(i.text)\n",
    "rating1"
   ]
  },
  {
   "cell_type": "code",
   "execution_count": null,
   "metadata": {},
   "outputs": [],
   "source": []
  },
  {
   "cell_type": "code",
   "execution_count": 346,
   "metadata": {},
   "outputs": [
    {
     "data": {
      "text/plain": [
       "[<selenium.webdriver.remote.webelement.WebElement (session=\"8f668e36f1f75044a9aa53a5bf4c6dab\", element=\"35aa3c6e-1d31-4520-9294-4048c7d02837\")>,\n",
       " <selenium.webdriver.remote.webelement.WebElement (session=\"8f668e36f1f75044a9aa53a5bf4c6dab\", element=\"818f8409-5097-491a-b4a8-48afbcd7db13\")>,\n",
       " <selenium.webdriver.remote.webelement.WebElement (session=\"8f668e36f1f75044a9aa53a5bf4c6dab\", element=\"94d76d26-cbe1-4181-b291-4ff1d2016929\")>,\n",
       " <selenium.webdriver.remote.webelement.WebElement (session=\"8f668e36f1f75044a9aa53a5bf4c6dab\", element=\"d221ad4e-3c50-4357-bbda-38166e6da4f1\")>,\n",
       " <selenium.webdriver.remote.webelement.WebElement (session=\"8f668e36f1f75044a9aa53a5bf4c6dab\", element=\"5496db10-f622-4e6a-bf74-d1e3f962f724\")>,\n",
       " <selenium.webdriver.remote.webelement.WebElement (session=\"8f668e36f1f75044a9aa53a5bf4c6dab\", element=\"4debad9b-f479-428e-bb23-f20aa2ceb7a3\")>,\n",
       " <selenium.webdriver.remote.webelement.WebElement (session=\"8f668e36f1f75044a9aa53a5bf4c6dab\", element=\"ea09a31d-ae40-4c9c-8762-da5819f87aa3\")>,\n",
       " <selenium.webdriver.remote.webelement.WebElement (session=\"8f668e36f1f75044a9aa53a5bf4c6dab\", element=\"4b8fe8a7-df59-49d2-b151-cd36381534fa\")>,\n",
       " <selenium.webdriver.remote.webelement.WebElement (session=\"8f668e36f1f75044a9aa53a5bf4c6dab\", element=\"4ddde689-11a9-4c94-a147-7c5393955b07\")>,\n",
       " <selenium.webdriver.remote.webelement.WebElement (session=\"8f668e36f1f75044a9aa53a5bf4c6dab\", element=\"23b43d69-1602-482b-949a-6816f6d2c587\")>]"
      ]
     },
     "execution_count": 346,
     "metadata": {},
     "output_type": "execute_result"
    }
   ],
   "source": [
    "review=driver.find_elements_by_xpath('//p[@class=\"_2-N8zT\"]')\n",
    "review"
   ]
  },
  {
   "cell_type": "code",
   "execution_count": 347,
   "metadata": {},
   "outputs": [
    {
     "data": {
      "text/plain": [
       "['Brilliant',\n",
       " 'Simply awesome',\n",
       " 'Best in the market!',\n",
       " 'Perfect product!',\n",
       " 'Fabulous!',\n",
       " 'Worth every penny',\n",
       " 'Great product',\n",
       " 'Good choice',\n",
       " 'Worth every penny',\n",
       " 'Highly recommended']"
      ]
     },
     "execution_count": 347,
     "metadata": {},
     "output_type": "execute_result"
    }
   ],
   "source": [
    "\n",
    "review1=[]\n",
    "for i in review:\n",
    "    review1.append(i.text)\n",
    "review1"
   ]
  },
  {
   "cell_type": "code",
   "execution_count": 348,
   "metadata": {},
   "outputs": [
    {
     "data": {
      "text/plain": [
       "[<selenium.webdriver.remote.webelement.WebElement (session=\"8f668e36f1f75044a9aa53a5bf4c6dab\", element=\"c27cc365-fc34-459e-baf0-f20e3a006cf1\")>,\n",
       " <selenium.webdriver.remote.webelement.WebElement (session=\"8f668e36f1f75044a9aa53a5bf4c6dab\", element=\"57c7cf19-f260-41a8-8b1c-36393c1bdfa3\")>,\n",
       " <selenium.webdriver.remote.webelement.WebElement (session=\"8f668e36f1f75044a9aa53a5bf4c6dab\", element=\"f19f2714-ad5b-42f3-a67f-91268f851f40\")>,\n",
       " <selenium.webdriver.remote.webelement.WebElement (session=\"8f668e36f1f75044a9aa53a5bf4c6dab\", element=\"7d265e14-f5b3-4887-bd12-fd7b042e34fc\")>,\n",
       " <selenium.webdriver.remote.webelement.WebElement (session=\"8f668e36f1f75044a9aa53a5bf4c6dab\", element=\"e8c71253-c0ca-4fcc-b3e6-5a004071bd1a\")>,\n",
       " <selenium.webdriver.remote.webelement.WebElement (session=\"8f668e36f1f75044a9aa53a5bf4c6dab\", element=\"8d715d62-c3ea-4031-b552-2445739e5bb0\")>,\n",
       " <selenium.webdriver.remote.webelement.WebElement (session=\"8f668e36f1f75044a9aa53a5bf4c6dab\", element=\"e77bfa33-1cbf-45d8-8682-62fc2752e84a\")>,\n",
       " <selenium.webdriver.remote.webelement.WebElement (session=\"8f668e36f1f75044a9aa53a5bf4c6dab\", element=\"77a0607c-da6f-442f-9b78-3b7938c86b5b\")>,\n",
       " <selenium.webdriver.remote.webelement.WebElement (session=\"8f668e36f1f75044a9aa53a5bf4c6dab\", element=\"491eeec4-37dc-4d53-ad6a-5af437dde532\")>,\n",
       " <selenium.webdriver.remote.webelement.WebElement (session=\"8f668e36f1f75044a9aa53a5bf4c6dab\", element=\"787454d4-4b20-49d3-a25c-2232ff56d831\")>]"
      ]
     },
     "execution_count": 348,
     "metadata": {},
     "output_type": "execute_result"
    }
   ],
   "source": [
    "full_review=driver.find_elements_by_xpath('//div[@class=\"t-ZTKy\"]')\n",
    "full_review"
   ]
  },
  {
   "cell_type": "code",
   "execution_count": 349,
   "metadata": {},
   "outputs": [
    {
     "data": {
      "text/plain": [
       "['The Best Phone for the MoneyThe iPhone 11 offers superb cameras, a more durable design and excellent battery life for an affordable price.Compelling ultra-wide cameraNew Night mode is excellentLong battery life',\n",
       " 'Really satisfied with the Product I received... It’s totally genuine and the packaging was also really good so if ur planning to buy just go for it.',\n",
       " 'Great iPhone very snappy experience as apple kind. Upgraded from iPhone 7.Pros-Camera top class- Battery top performed-Chipset no need to say as apple kind-Security as you expect from apple- Display super bright industry leading colouraccuracy and super responsive-Build quality as expect from apple sturdypremium durable beautiful stylish.-Os most stable os in smartphone industryCons-No 5G-Display is not based on OLED technology-Charger headphones and 1 apple stic...READ MORE',\n",
       " 'Amazing phone with great cameras and better battery which gives you the best performance. I just love the camera .',\n",
       " 'This is my first iOS phone. I am very happy with this product. Very much satisfied with this. I love this phone.',\n",
       " 'Previously I was using one plus 3t it was a great phoneAnd then I decided to upgrade I am stuck between Samsung s10 plus or iPhone 11I have seen the specs and everything were good except the display it’s somewhere between 720-1080 and it’s not even an amoled it’s an LCD displayBut I decided to go with iPhone because I have never used an IOS device I have Been an android user from the past 9 years I ordered IPhone 11 (128gb) product redMy experience after using 3 weeks1. The delivery ...READ MORE',\n",
       " 'Amazing Powerful and Durable Gadget.I’m am very happy with the camera picture quality, Amazing face id unlocked in dark room, Strong battery with perfect screen size as you can carry easily in pocket. This is my third iPhone.I shifted from android Samsung Note series to iPhone because of the strong build quality and peace of mind for next 3-4 years.Don’t think to much just go for it and I suggest you to go for minimum 128gb variant or more 256gb.I’ve attached my puppy pics and no fi...READ MORE',\n",
       " 'So far it’s been an AMAZING experience coming back to iOS after nearly a decade but it’s not as versatile as android though phone is sturdy dropped it accidentally a couple of times and nothing happened fortunately camera is awesome',\n",
       " 'i11 is worthy to buy, too much happy with the product. Thank u flipkart I received the item on time..loved it..',\n",
       " 'iphone 11 is a very good phone to buy only if you can compromise for the display. The display on this is device is pretty good but you can get other options with better displays in this price segment.If you can survive with an HD+ LCD panel with thicker bezels and a notch up top then this is a very good phone for you.Cameras are awesome, battery backup excellent, great performance and a decent premium look. Good job Apple !']"
      ]
     },
     "execution_count": 349,
     "metadata": {},
     "output_type": "execute_result"
    }
   ],
   "source": [
    "\n",
    "full_review1=[]\n",
    "for i in full_review:\n",
    "    full_review1.append(i.text.replace(\"\\n\",\"\"))\n",
    "full_review1"
   ]
  },
  {
   "cell_type": "code",
   "execution_count": 350,
   "metadata": {},
   "outputs": [
    {
     "name": "stdout",
     "output_type": "stream",
     "text": [
      "10 10 10\n"
     ]
    }
   ],
   "source": [
    "print(len(rating1),len(review1),len(full_review1))"
   ]
  },
  {
   "cell_type": "code",
   "execution_count": 351,
   "metadata": {},
   "outputs": [],
   "source": [
    "#do the same from next page\n",
    "nxt=driver.find_element_by_xpath('//*[@id=\"container\"]/div/div[3]/div/div/div[2]/div[13]/div/div/nav/a[2]')\n",
    "nxt.click()"
   ]
  },
  {
   "cell_type": "code",
   "execution_count": 352,
   "metadata": {},
   "outputs": [
    {
     "data": {
      "text/plain": [
       "['5', '5', '5', '5', '5', '5', '5', '5', '5', '5']"
      ]
     },
     "execution_count": 352,
     "metadata": {},
     "output_type": "execute_result"
    }
   ],
   "source": [
    "rating=driver.find_elements_by_xpath('//div[@class=\"_3LWZlK _1BLPMq\"]')\n",
    "rating2=[]\n",
    "for i in rating:\n",
    "    rating2.append(i.text)\n",
    "rating2"
   ]
  },
  {
   "cell_type": "code",
   "execution_count": 353,
   "metadata": {},
   "outputs": [
    {
     "data": {
      "text/plain": [
       "['Highly recommended',\n",
       " 'Perfect product!',\n",
       " 'Perfect product!',\n",
       " 'Classy product',\n",
       " 'Highly recommended',\n",
       " 'Worth every penny',\n",
       " 'Perfect product!',\n",
       " 'Simply awesome',\n",
       " 'Worth every penny',\n",
       " 'Terrific']"
      ]
     },
     "execution_count": 353,
     "metadata": {},
     "output_type": "execute_result"
    }
   ],
   "source": [
    "review=driver.find_elements_by_xpath('//p[@class=\"_2-N8zT\"]')\n",
    "review2=[]\n",
    "for i in review:\n",
    "    review2.append(i.text)\n",
    "review2"
   ]
  },
  {
   "cell_type": "code",
   "execution_count": 354,
   "metadata": {},
   "outputs": [
    {
     "data": {
      "text/plain": [
       "['What a camera .....just awesome ..you can feel this iPhone just awesome . Good for gaming also ...try pubg in hd it’s just wow',\n",
       " 'It’s a must buy who is looking for an upgrade from previous generation of iPhones. If you are using XR then still you can hold on for sometime and upgrade to 2020 model else this phone is a must buy . Camera quality is amazing and wide angle is something to count upon. Performance wise it’s amazing and feels premium while holding in hand. So a big YES for this device. Go for 128 GB variant as the 4K videos will occupy lots of space and the storage can get over very quickly. Try to buy it with...READ MORE',\n",
       " 'Value for money❤️❤️Its awesome mobile phone in the world ...Display was very good and bright ..Trust me freinds you r never regret after Buying..Just go for it....I love this phone and i switch to iphone x to 11',\n",
       " 'Totally in love with this ❤ the camera quality is amazing just love it 😘😘😘 itsss dammnnnnnn amazing... Must buy iPhone 11 this is my best experience ever ☀👌👌🧡🧡🧡🧡🧡 thanku apple ❤',\n",
       " \"It's my first time to use iOS phone and I am loving my upgradation 😍😍 I love the color, I love the assebility of the phone....I need to learn more about its functionality, but as far as I have seen, it's quite easy and it has a lot of functions to work on, specially if you are a content writer or a blogger you get a lot of content creation platforms and they are really amazing.This phone not only for good quality photography but a lot of other task too.😍💯\",\n",
       " 'Best budget Iphone till date ❤️ go for it guys without second thought. Let me explain you guys about Camera, Display, battery, and performance.Camera: at this price range there is no comparison of camera, you’ll love the picture quality as well as video quality. I am a Vlogger I wanted an iPhone with 4k video by front camera and I got this phone and I am more than happy 😃Battery: I use this phone roughly as I am active social media person and I have a youtube channel. so the battery ba...READ MORE',\n",
       " \"Iphone is just awesome.. battery backup is very very nice.. continuously for 10 hours we can use it.camera is just awesome.. display is just fab.i love it alot..i had to wait 15 days for it as i pre ordered it..overalll it's worth the price..these all images are clicked by my iPhone..and i love it.\",\n",
       " 'Excellent camera, good performance, no lag. The lcd display is also good.. but difference come when we watch movie in prime and Netflix, the colours are not vibrant.. as we see in amoled display.. and the charger in box is of 5 watts.. takes more than 3 hours to charge from 0 to 100.. so guys be prepare to buy 18 watts charger . Finally I am an android user, it was my first Iapple phone, I promise u guys the iOS is so smooth.. overall the phone is damn good.... close eyes to buy it.. thanks t...READ MORE',\n",
       " 'It’s been almost a month since I have been using this phone. I upgraded from an iPhone 8. The main issue with my 8 was battery and this phone is just awesome when it comes to battery. It lasts a day and a half for me with my regular use , internet connected always with 4gCan’t move forward without saying this. Battery of this phone is a life saver when I am traveling or at work when I don’t get the option to chargeCamera is superb. Front cam selfies and back cam photos are just awesome....READ MORE',\n",
       " 'Really worth of money. i just love it. It is the best phone ever.']"
      ]
     },
     "execution_count": 354,
     "metadata": {},
     "output_type": "execute_result"
    }
   ],
   "source": [
    "full_review=driver.find_elements_by_xpath('//div[@class=\"t-ZTKy\"]')\n",
    "full_review2=[]\n",
    "for i in full_review:\n",
    "    full_review2.append(i.text.replace(\"\\n\",\"\"))\n",
    "full_review2"
   ]
  },
  {
   "cell_type": "code",
   "execution_count": 355,
   "metadata": {},
   "outputs": [
    {
     "name": "stdout",
     "output_type": "stream",
     "text": [
      "10 10 10\n"
     ]
    }
   ],
   "source": [
    "print(len(rating2),len(review2),len(full_review2))"
   ]
  },
  {
   "cell_type": "code",
   "execution_count": null,
   "metadata": {},
   "outputs": [],
   "source": []
  },
  {
   "cell_type": "code",
   "execution_count": 356,
   "metadata": {},
   "outputs": [],
   "source": [
    "#do the same from next page\n",
    "#ge-49M _2Kfbh8\n",
    "nxt=driver.find_element_by_xpath('//*[@id=\"container\"]/div/div[3]/div/div/div[2]/div[13]/div/div/nav/a[4]')\n",
    "nxt.click()"
   ]
  },
  {
   "cell_type": "code",
   "execution_count": 357,
   "metadata": {},
   "outputs": [
    {
     "data": {
      "text/plain": [
       "['5', '5', '5', '5', '5', '5', '5', '5', '5', '5']"
      ]
     },
     "execution_count": 357,
     "metadata": {},
     "output_type": "execute_result"
    }
   ],
   "source": [
    "rating=driver.find_elements_by_xpath('//div[@class=\"_3LWZlK _1BLPMq\"]')\n",
    "rating3=[]\n",
    "for i in rating:\n",
    "    rating3.append(i.text)\n",
    "rating3"
   ]
  },
  {
   "cell_type": "code",
   "execution_count": 358,
   "metadata": {},
   "outputs": [
    {
     "data": {
      "text/plain": [
       "['Highly recommended',\n",
       " 'Perfect product!',\n",
       " 'Perfect product!',\n",
       " 'Classy product',\n",
       " 'Highly recommended',\n",
       " 'Worth every penny',\n",
       " 'Perfect product!',\n",
       " 'Simply awesome',\n",
       " 'Worth every penny',\n",
       " 'Terrific']"
      ]
     },
     "execution_count": 358,
     "metadata": {},
     "output_type": "execute_result"
    }
   ],
   "source": [
    "review=driver.find_elements_by_xpath('//p[@class=\"_2-N8zT\"]')\n",
    "review3=[]\n",
    "for i in review:\n",
    "    review3.append(i.text)\n",
    "review3"
   ]
  },
  {
   "cell_type": "code",
   "execution_count": 359,
   "metadata": {},
   "outputs": [
    {
     "data": {
      "text/plain": [
       "['What a camera .....just awesome ..you can feel this iPhone just awesome . Good for gaming also ...try pubg in hd it’s just wow',\n",
       " 'It’s a must buy who is looking for an upgrade from previous generation of iPhones. If you are using XR then still you can hold on for sometime and upgrade to 2020 model else this phone is a must buy . Camera quality is amazing and wide angle is something to count upon. Performance wise it’s amazing and feels premium while holding in hand. So a big YES for this device. Go for 128 GB variant as the 4K videos will occupy lots of space and the storage can get over very quickly. Try to buy it with...READ MORE',\n",
       " 'Value for money❤️❤️Its awesome mobile phone in the world ...Display was very good and bright ..Trust me freinds you r never regret after Buying..Just go for it....I love this phone and i switch to iphone x to 11',\n",
       " 'Totally in love with this ❤ the camera quality is amazing just love it 😘😘😘 itsss dammnnnnnn amazing... Must buy iPhone 11 this is my best experience ever ☀👌👌🧡🧡🧡🧡🧡 thanku apple ❤',\n",
       " \"It's my first time to use iOS phone and I am loving my upgradation 😍😍 I love the color, I love the assebility of the phone....I need to learn more about its functionality, but as far as I have seen, it's quite easy and it has a lot of functions to work on, specially if you are a content writer or a blogger you get a lot of content creation platforms and they are really amazing.This phone not only for good quality photography but a lot of other task too.😍💯\",\n",
       " 'Best budget Iphone till date ❤️ go for it guys without second thought. Let me explain you guys about Camera, Display, battery, and performance.Camera: at this price range there is no comparison of camera, you’ll love the picture quality as well as video quality. I am a Vlogger I wanted an iPhone with 4k video by front camera and I got this phone and I am more than happy 😃Battery: I use this phone roughly as I am active social media person and I have a youtube channel. so the battery ba...READ MORE',\n",
       " \"Iphone is just awesome.. battery backup is very very nice.. continuously for 10 hours we can use it.camera is just awesome.. display is just fab.i love it alot..i had to wait 15 days for it as i pre ordered it..overalll it's worth the price..these all images are clicked by my iPhone..and i love it.\",\n",
       " 'Excellent camera, good performance, no lag. The lcd display is also good.. but difference come when we watch movie in prime and Netflix, the colours are not vibrant.. as we see in amoled display.. and the charger in box is of 5 watts.. takes more than 3 hours to charge from 0 to 100.. so guys be prepare to buy 18 watts charger . Finally I am an android user, it was my first Iapple phone, I promise u guys the iOS is so smooth.. overall the phone is damn good.... close eyes to buy it.. thanks t...READ MORE',\n",
       " 'It’s been almost a month since I have been using this phone. I upgraded from an iPhone 8. The main issue with my 8 was battery and this phone is just awesome when it comes to battery. It lasts a day and a half for me with my regular use , internet connected always with 4gCan’t move forward without saying this. Battery of this phone is a life saver when I am traveling or at work when I don’t get the option to chargeCamera is superb. Front cam selfies and back cam photos are just awesome....READ MORE',\n",
       " 'Really worth of money. i just love it. It is the best phone ever.']"
      ]
     },
     "execution_count": 359,
     "metadata": {},
     "output_type": "execute_result"
    }
   ],
   "source": [
    "full_review=driver.find_elements_by_xpath('//div[@class=\"t-ZTKy\"]')\n",
    "full_review3=[]\n",
    "for i in full_review:\n",
    "    full_review3.append(i.text.replace(\"\\n\",\"\"))\n",
    "full_review3"
   ]
  },
  {
   "cell_type": "code",
   "execution_count": 360,
   "metadata": {},
   "outputs": [
    {
     "name": "stdout",
     "output_type": "stream",
     "text": [
      "10 10 10\n"
     ]
    }
   ],
   "source": [
    "print(len(rating3),len(review3),len(full_review3))"
   ]
  },
  {
   "cell_type": "code",
   "execution_count": 366,
   "metadata": {},
   "outputs": [],
   "source": [
    "#do the same from next page\n",
    "nxt=driver.find_element_by_xpath('//*[@id=\"container\"]/div/div[3]/div/div/div[2]/div[13]/div/div/nav/a[7]')\n",
    "nxt.click()"
   ]
  },
  {
   "cell_type": "code",
   "execution_count": 367,
   "metadata": {},
   "outputs": [
    {
     "data": {
      "text/plain": [
       "['5', '5', '5', '4', '5', '4', '5', '4', '3', '5']"
      ]
     },
     "execution_count": 367,
     "metadata": {},
     "output_type": "execute_result"
    }
   ],
   "source": [
    "rating=driver.find_elements_by_xpath('//div[@class=\"_3LWZlK _1BLPMq\"]')\n",
    "rating4=[]\n",
    "for i in rating:\n",
    "    rating4.append(i.text)\n",
    "rating4"
   ]
  },
  {
   "cell_type": "code",
   "execution_count": 368,
   "metadata": {},
   "outputs": [
    {
     "data": {
      "text/plain": [
       "['Excellent',\n",
       " 'Classy product',\n",
       " 'Must buy!',\n",
       " 'Wonderful',\n",
       " 'Mind-blowing purchase',\n",
       " 'Good quality product',\n",
       " 'Fabulous!',\n",
       " 'Good quality product',\n",
       " 'Does the job',\n",
       " 'Excellent']"
      ]
     },
     "execution_count": 368,
     "metadata": {},
     "output_type": "execute_result"
    }
   ],
   "source": [
    "review=driver.find_elements_by_xpath('//p[@class=\"_2-N8zT\"]')\n",
    "review4=[]\n",
    "for i in review:\n",
    "    review4.append(i.text)\n",
    "review4"
   ]
  },
  {
   "cell_type": "code",
   "execution_count": 369,
   "metadata": {},
   "outputs": [
    {
     "data": {
      "text/plain": [
       "['Value for money product. This iphone 11 is really amazing. Again nice release by apple. Great camera, battery backup is excellent. I just love this phone',\n",
       " 'I got this phone for good price hence 5 star for it , and over quality is good because the price to buy iphone was worth at 41000',\n",
       " \"Camera is excellent just lack of telephoto mode frankly dose not needed either night mode is just 🙏🙏 12 12 12 mp (2back 1 front) camera lover just don't miss the dealDisplay lcd but feel like super amoledAt46999 with no cost EMI just a best deal\",\n",
       " \"I genuinely liked it. One of the best mobile phones I have used. It's sho smooth and it's security is very astonishing. Plus it has a very good camera quality. so overall it's a win win.\",\n",
       " 'Flipkart honoured on time delivery, I have used 6s , now I have upgraded apple 11 . Really great experience for new iPhone. Thank you apple and flipkart.',\n",
       " 'Awesome camera, smooth and fast UI, display is great (though not LED) but the black area at the top could have been reduced. Battery remains a day even if used heavily. Charger in the box is ok, but 12 or 18W could have been nothing like anything. Overall an excellent product and comfortable to use. I have got it almost a month back and so far so good.',\n",
       " 'Good product nice experience with Flipkart but I am unhappy with the packaging part because such a valuable product comes under normal cover without any additional wrapping and that too for Plus customers. Expecting good Packaging in future from Sellers.',\n",
       " 'I was torn between the oneplus 8 pro and the iphone 11. I had to shell out extra money for this, but I say if you can afford it, this truely is the best package.Mind blowing camera, battery and overall performance. Face Id works like magic even in complete darkness without firing up the screen brightness. The phones with in display fingerprint scanners do this at night time and it really burns your eyes.I wanted the oneplus for its display but tbh the OLEDs on oneplus is really bad. Flick...READ MORE',\n",
       " \"phone is good but in display is 720p lcd in this price range we can get full hd OLED displays with higher refresh rate processor is very good camera is nice but looks kind of oldish in front of todays phone also there's no charging in box had to buy it seperately\",\n",
       " 'Seller - SuperComNet ( my trust in you has grown deeper. Thanks for the genuine product )The package came packed perfectly. The box was sealed which gave me a big relief.Apple needs no introduction since its the dominant market player. I just love the way how IPhone 11 stands out so boldly. The moment I took it out from the box, I could feel the premium intensity. The body is remarkable and crafted for giving you a elite vibe.Camera is to die for. There is no other phone that can beat...READ MORE']"
      ]
     },
     "execution_count": 369,
     "metadata": {},
     "output_type": "execute_result"
    }
   ],
   "source": [
    "full_review=driver.find_elements_by_xpath('//div[@class=\"t-ZTKy\"]')\n",
    "full_review4=[]\n",
    "for i in full_review:\n",
    "    full_review4.append(i.text.replace(\"\\n\",\"\"))\n",
    "full_review4"
   ]
  },
  {
   "cell_type": "code",
   "execution_count": 370,
   "metadata": {},
   "outputs": [
    {
     "name": "stdout",
     "output_type": "stream",
     "text": [
      "10 10 10\n"
     ]
    }
   ],
   "source": [
    "print(len(rating4),len(review4),len(full_review4))"
   ]
  },
  {
   "cell_type": "code",
   "execution_count": 371,
   "metadata": {},
   "outputs": [],
   "source": [
    "#do the same from next page\n",
    "nxt=driver.find_element_by_xpath('//*[@id=\"container\"]/div/div[3]/div/div/div[2]/div[13]/div/div/nav/a[6]')\n",
    "nxt.click()"
   ]
  },
  {
   "cell_type": "code",
   "execution_count": 372,
   "metadata": {},
   "outputs": [
    {
     "data": {
      "text/plain": [
       "['5', '5', '5', '4', '5', '4', '5', '4', '3', '5']"
      ]
     },
     "execution_count": 372,
     "metadata": {},
     "output_type": "execute_result"
    }
   ],
   "source": [
    "rating=driver.find_elements_by_xpath('//div[@class=\"_3LWZlK _1BLPMq\"]')\n",
    "rating5=[]\n",
    "for i in rating:\n",
    "    rating5.append(i.text)\n",
    "rating5"
   ]
  },
  {
   "cell_type": "code",
   "execution_count": 373,
   "metadata": {},
   "outputs": [
    {
     "data": {
      "text/plain": [
       "['Excellent',\n",
       " 'Classy product',\n",
       " 'Must buy!',\n",
       " 'Wonderful',\n",
       " 'Mind-blowing purchase',\n",
       " 'Good quality product',\n",
       " 'Fabulous!',\n",
       " 'Good quality product',\n",
       " 'Does the job',\n",
       " 'Excellent']"
      ]
     },
     "execution_count": 373,
     "metadata": {},
     "output_type": "execute_result"
    }
   ],
   "source": [
    "review=driver.find_elements_by_xpath('//p[@class=\"_2-N8zT\"]')\n",
    "review5=[]\n",
    "for i in review:\n",
    "    review5.append(i.text)\n",
    "review5"
   ]
  },
  {
   "cell_type": "code",
   "execution_count": 374,
   "metadata": {},
   "outputs": [
    {
     "data": {
      "text/plain": [
       "['Value for money product. This iphone 11 is really amazing. Again nice release by apple. Great camera, battery backup is excellent. I just love this phone',\n",
       " 'I got this phone for good price hence 5 star for it , and over quality is good because the price to buy iphone was worth at 41000',\n",
       " \"Camera is excellent just lack of telephoto mode frankly dose not needed either night mode is just 🙏🙏 12 12 12 mp (2back 1 front) camera lover just don't miss the dealDisplay lcd but feel like super amoledAt46999 with no cost EMI just a best deal\",\n",
       " \"I genuinely liked it. One of the best mobile phones I have used. It's sho smooth and it's security is very astonishing. Plus it has a very good camera quality. so overall it's a win win.\",\n",
       " 'Flipkart honoured on time delivery, I have used 6s , now I have upgraded apple 11 . Really great experience for new iPhone. Thank you apple and flipkart.',\n",
       " 'Awesome camera, smooth and fast UI, display is great (though not LED) but the black area at the top could have been reduced. Battery remains a day even if used heavily. Charger in the box is ok, but 12 or 18W could have been nothing like anything. Overall an excellent product and comfortable to use. I have got it almost a month back and so far so good.',\n",
       " 'Good product nice experience with Flipkart but I am unhappy with the packaging part because such a valuable product comes under normal cover without any additional wrapping and that too for Plus customers. Expecting good Packaging in future from Sellers.',\n",
       " 'I was torn between the oneplus 8 pro and the iphone 11. I had to shell out extra money for this, but I say if you can afford it, this truely is the best package.Mind blowing camera, battery and overall performance. Face Id works like magic even in complete darkness without firing up the screen brightness. The phones with in display fingerprint scanners do this at night time and it really burns your eyes.I wanted the oneplus for its display but tbh the OLEDs on oneplus is really bad. Flick...READ MORE',\n",
       " \"phone is good but in display is 720p lcd in this price range we can get full hd OLED displays with higher refresh rate processor is very good camera is nice but looks kind of oldish in front of todays phone also there's no charging in box had to buy it seperately\",\n",
       " 'Seller - SuperComNet ( my trust in you has grown deeper. Thanks for the genuine product )The package came packed perfectly. The box was sealed which gave me a big relief.Apple needs no introduction since its the dominant market player. I just love the way how IPhone 11 stands out so boldly. The moment I took it out from the box, I could feel the premium intensity. The body is remarkable and crafted for giving you a elite vibe.Camera is to die for. There is no other phone that can beat...READ MORE']"
      ]
     },
     "execution_count": 374,
     "metadata": {},
     "output_type": "execute_result"
    }
   ],
   "source": [
    "full_review=driver.find_elements_by_xpath('//div[@class=\"t-ZTKy\"]')\n",
    "full_review5=[]\n",
    "for i in full_review:\n",
    "    full_review5.append(i.text.replace(\"\\n\",\"\"))\n",
    "full_review5"
   ]
  },
  {
   "cell_type": "code",
   "execution_count": 375,
   "metadata": {},
   "outputs": [
    {
     "name": "stdout",
     "output_type": "stream",
     "text": [
      "10 10 10\n"
     ]
    }
   ],
   "source": [
    "print(len(rating5),len(review5),len(full_review5))"
   ]
  },
  {
   "cell_type": "code",
   "execution_count": 376,
   "metadata": {},
   "outputs": [],
   "source": [
    "#do the same from next page\n",
    "nxt=driver.find_element_by_xpath('//*[@id=\"container\"]/div/div[3]/div/div/div[2]/div[13]/div/div/nav/a[7]')\n",
    "nxt.click()"
   ]
  },
  {
   "cell_type": "code",
   "execution_count": 377,
   "metadata": {},
   "outputs": [
    {
     "data": {
      "text/plain": [
       "['5', '5', '5', '5', '5', '5', '5', '5', '5', '5']"
      ]
     },
     "execution_count": 377,
     "metadata": {},
     "output_type": "execute_result"
    }
   ],
   "source": [
    "rating=driver.find_elements_by_xpath('//div[@class=\"_3LWZlK _1BLPMq\"]')\n",
    "rating6=[]\n",
    "for i in rating:\n",
    "    rating6.append(i.text)\n",
    "rating6"
   ]
  },
  {
   "cell_type": "code",
   "execution_count": 378,
   "metadata": {},
   "outputs": [
    {
     "data": {
      "text/plain": [
       "['Mind-blowing purchase',\n",
       " 'Worth every penny',\n",
       " 'Super!',\n",
       " 'Mind-blowing purchase',\n",
       " 'Classy product',\n",
       " 'Brilliant',\n",
       " 'Most Price worthy Iphone',\n",
       " 'Terrific purchase',\n",
       " 'Worth every penny',\n",
       " 'Brilliant']"
      ]
     },
     "execution_count": 378,
     "metadata": {},
     "output_type": "execute_result"
    }
   ],
   "source": [
    "review=driver.find_elements_by_xpath('//p[@class=\"_2-N8zT\"]')\n",
    "review6=[]\n",
    "for i in review:\n",
    "    review6.append(i.text)\n",
    "review6"
   ]
  },
  {
   "cell_type": "code",
   "execution_count": 379,
   "metadata": {},
   "outputs": [
    {
     "data": {
      "text/plain": [
       "[\"i was confused between 11 and 11 pro. i was going towards 11 pro, but the screen size was not enough for me.And i saw 11 in the showroom. i didn't find much difference in screen quality.And cameras seems to be ok with me. And i saw offer's in flipkart and made the purchase.the device is fabulous. The hardware and software quality is excellent. The new iOS is something you need to experience yourself. The drawback i found was absence of fast charger, but the pricing can compensate that. Am...READ MORE\",\n",
       " 'iPhone is delivered on time. Display is great u won’t feel that it’s a hd panel. Quality is excellent. Sounds is great it has stereo setup. Camera is good. iOS 14.2 comes in the box. U roughly get 113 gb free if u buy 128 gb. This is my second iPhone and i love it. Value for money.',\n",
       " \"It's a great phone. From camera to display everything is best for the price.Best camera , best performance. I think everyone should buy it . This phone has best battery life so far in iphone series which I had used earlier. Happy to have it. Thanks Flipkart\",\n",
       " 'Released in 2019In 2021 still the best in segmentPros:Camera 4/5 night photograph takes -1Performance 5/5Battery backup normal usage 5/5 should last more than a dayHeavy usage battery backup 4/5 as compared have a smaller battery but should give around 5-6h of heavy usage like game playBattery charging from 18w charger 3.5/5 not as fast as compared to dash charger but does the job well 0-50% in somewhat takes 40 mins which is okCons:No earpodNo 3.5mm jack connector I remember gett...READ MORE',\n",
       " 'Got my iPhone 11 today! It’s totally worth it even in 2021. Takes wonderful images and the stabilisation of video on this phone is just awesome although it is a 2019 model. Performance wise it’s ultra fast as expected to be. The only drawback per paper is the screen it has, but in usage I noticed nothing bad and the screen was totally fine for me!I upgraded from Nokia 6.1 Plus and it’s great 🤩',\n",
       " 'Wow wow and wow, in 48k you will not get anything better than this, processor is awsome, camera is a beast, display is superb, this is my first iphone, and I am already in love with these',\n",
       " 'Reviewing within 1st Month1st Month ReviewThis is my first Iphone. So been new to the Ios Environment i faced some basic issues. Whatever issues i am facing is because of change in environment.Video Output is amazing.Battery - Typical One Day Battery. 20 W fast charger is amazing which charges the iphone within 40-60 Mins ( purchased separately)Camera - Good and Natural Colours. ( I have Samsung S21+ and not at par with its camera) but the output is same all the time which is good....READ MORE',\n",
       " 'Well , as we all know if its not an Iphone , its not an iphone . The iphones are always beast . The camera game has been level up . The A13 Bionic is just fabulous . The update this year are certainly the camera which is damn good with d addition of wide angle lens as well as ultra wide . If anyones purchasing an iphone for the first time , do opt for the black color . Its just feels more than premium . Battery life is damn good with lasting fully a day . Overall a nice package . Well managed...READ MORE',\n",
       " 'Here is the thingThe only reason why you should buy this phone is for the camera, iOS, and if you have headaches looking at AMOLED display.I’m not an avid gamer but watch a lot of movies on smartphone. However, my migraine attacks increased considerably after using AMOLED Smartphone. That’s why I made a calculated decision to buy iPhone 11. It has the best LCD display and the blacks, though not as natural as an AMOLED, is better than some of the other smartphones.Adding to this the ste...READ MORE',\n",
       " 'A wort full value for money decision it’s . Simply go for it in 2021 its still a good decision . Awesome camera , Super smothered performance, Heck of build quality. And Most important it protects your privacy.']"
      ]
     },
     "execution_count": 379,
     "metadata": {},
     "output_type": "execute_result"
    }
   ],
   "source": [
    "full_review=driver.find_elements_by_xpath('//div[@class=\"t-ZTKy\"]')\n",
    "full_review6=[]\n",
    "for i in full_review:\n",
    "    full_review6.append(i.text.replace(\"\\n\",\"\"))\n",
    "full_review6"
   ]
  },
  {
   "cell_type": "code",
   "execution_count": 380,
   "metadata": {},
   "outputs": [
    {
     "name": "stdout",
     "output_type": "stream",
     "text": [
      "10 10 10\n"
     ]
    }
   ],
   "source": [
    "print(len(rating6),len(review6),len(full_review6))"
   ]
  },
  {
   "cell_type": "code",
   "execution_count": 381,
   "metadata": {},
   "outputs": [],
   "source": [
    "#do the same from next page\n",
    "nxt=driver.find_element_by_xpath('//*[@id=\"container\"]/div/div[3]/div/div/div[2]/div[13]/div/div/nav/a[7]')\n",
    "nxt.click()"
   ]
  },
  {
   "cell_type": "code",
   "execution_count": 382,
   "metadata": {},
   "outputs": [],
   "source": [
    "rating=driver.find_elements_by_xpath('//div[@class=\"_3LWZlK _1BLPMq\"]')\n",
    "rating7=[]\n",
    "for i in rating:\n",
    "    rating7.append(i.text)\n",
    "\n",
    "review=driver.find_elements_by_xpath('//p[@class=\"_2-N8zT\"]')\n",
    "review7=[]\n",
    "for i in review:\n",
    "    review7.append(i.text)\n",
    "\n",
    "full_review=driver.find_elements_by_xpath('//div[@class=\"t-ZTKy\"]')\n",
    "full_review7=[]\n",
    "for i in full_review:\n",
    "    full_review7.append(i.text.replace(\"\\n\",\"\"))\n"
   ]
  },
  {
   "cell_type": "code",
   "execution_count": 383,
   "metadata": {},
   "outputs": [
    {
     "name": "stdout",
     "output_type": "stream",
     "text": [
      "10 10 10\n"
     ]
    }
   ],
   "source": [
    " print(len(rating7),len(review7),len(full_review7))"
   ]
  },
  {
   "cell_type": "code",
   "execution_count": 384,
   "metadata": {},
   "outputs": [],
   "source": [
    "#do the same from next page\n",
    "nxt=driver.find_element_by_xpath('//*[@id=\"container\"]/div/div[3]/div/div/div[2]/div[13]/div/div/nav/a[6]')\n",
    "nxt.click()"
   ]
  },
  {
   "cell_type": "code",
   "execution_count": 385,
   "metadata": {},
   "outputs": [],
   "source": [
    "rating=driver.find_elements_by_xpath('//div[@class=\"_3LWZlK _1BLPMq\"]')\n",
    "rating8=[]\n",
    "for i in rating:\n",
    "    rating8.append(i.text)\n",
    "\n",
    "review=driver.find_elements_by_xpath('//p[@class=\"_2-N8zT\"]')\n",
    "review8=[]\n",
    "for i in review:\n",
    "    review8.append(i.text)\n",
    "\n",
    "full_review=driver.find_elements_by_xpath('//div[@class=\"t-ZTKy\"]')\n",
    "full_review8=[]\n",
    "for i in full_review:\n",
    "    full_review8.append(i.text.replace(\"\\n\",\"\"))\n"
   ]
  },
  {
   "cell_type": "code",
   "execution_count": 386,
   "metadata": {},
   "outputs": [
    {
     "name": "stdout",
     "output_type": "stream",
     "text": [
      "10 10 10\n"
     ]
    }
   ],
   "source": [
    " print(len(rating8),len(review8),len(full_review8))"
   ]
  },
  {
   "cell_type": "code",
   "execution_count": 390,
   "metadata": {},
   "outputs": [],
   "source": [
    "#do the same from next page\n",
    "nxt=driver.find_element_by_xpath('//*[@id=\"container\"]/div/div[3]/div/div/div[2]/div[13]/div/div/nav/a[5]')\n",
    "nxt.click()"
   ]
  },
  {
   "cell_type": "code",
   "execution_count": 391,
   "metadata": {},
   "outputs": [],
   "source": [
    "rating=driver.find_elements_by_xpath('//div[@class=\"_3LWZlK _1BLPMq\"]')\n",
    "rating9=[]\n",
    "for i in rating:\n",
    "    rating9.append(i.text)\n",
    "\n",
    "review=driver.find_elements_by_xpath('//p[@class=\"_2-N8zT\"]')\n",
    "review9=[]\n",
    "for i in review:\n",
    "    review9.append(i.text)\n",
    "\n",
    "full_review=driver.find_elements_by_xpath('//div[@class=\"t-ZTKy\"]')\n",
    "full_review9=[]\n",
    "for i in full_review:\n",
    "    full_review9.append(i.text.replace(\"\\n\",\"\"))\n"
   ]
  },
  {
   "cell_type": "code",
   "execution_count": 392,
   "metadata": {},
   "outputs": [
    {
     "name": "stdout",
     "output_type": "stream",
     "text": [
      "10 10 10\n"
     ]
    }
   ],
   "source": [
    " print(len(rating9),len(review9),len(full_review9))"
   ]
  },
  {
   "cell_type": "code",
   "execution_count": null,
   "metadata": {},
   "outputs": [],
   "source": []
  },
  {
   "cell_type": "code",
   "execution_count": 393,
   "metadata": {},
   "outputs": [],
   "source": [
    "#do the same from next page\n",
    "nxt=driver.find_element_by_xpath('//*[@id=\"container\"]/div/div[3]/div/div/div[2]/div[13]/div/div/nav/a[7]')\n",
    "nxt.click()"
   ]
  },
  {
   "cell_type": "code",
   "execution_count": 394,
   "metadata": {},
   "outputs": [],
   "source": [
    "rating=driver.find_elements_by_xpath('//div[@class=\"_3LWZlK _1BLPMq\"]')\n",
    "rating10=[]\n",
    "for i in rating:\n",
    "    rating10.append(i.text)\n",
    "\n",
    "review=driver.find_elements_by_xpath('//p[@class=\"_2-N8zT\"]')\n",
    "review10=[]\n",
    "for i in review:\n",
    "    review10.append(i.text)\n",
    "\n",
    "full_review=driver.find_elements_by_xpath('//div[@class=\"t-ZTKy\"]')\n",
    "full_review10=[]\n",
    "for i in full_review:\n",
    "    full_review10.append(i.text.replace(\"\\n\",\"\"))\n"
   ]
  },
  {
   "cell_type": "code",
   "execution_count": 395,
   "metadata": {},
   "outputs": [
    {
     "name": "stdout",
     "output_type": "stream",
     "text": [
      "10 10 10\n"
     ]
    }
   ],
   "source": [
    " print(len(rating10),len(review10),len(full_review10))"
   ]
  },
  {
   "cell_type": "code",
   "execution_count": 396,
   "metadata": {},
   "outputs": [],
   "source": [
    "#lets make data frame from all the 100 ratings,review and full review"
   ]
  },
  {
   "cell_type": "code",
   "execution_count": 397,
   "metadata": {},
   "outputs": [],
   "source": [
    "Rating=rating1+rating2+rating3+rating4+rating5+rating6+rating7+rating8+rating9+rating10"
   ]
  },
  {
   "cell_type": "code",
   "execution_count": 398,
   "metadata": {},
   "outputs": [],
   "source": [
    "Review=review1+review2+review3+review4+review5+review6+review7+review8+review9+review10\n"
   ]
  },
  {
   "cell_type": "code",
   "execution_count": 399,
   "metadata": {},
   "outputs": [],
   "source": [
    "Full_review=full_review1+full_review2+full_review3+full_review4+full_review5+full_review6+full_review7+full_review8+full_review9+full_review10"
   ]
  },
  {
   "cell_type": "code",
   "execution_count": 400,
   "metadata": {},
   "outputs": [
    {
     "data": {
      "text/html": [
       "<div>\n",
       "<style scoped>\n",
       "    .dataframe tbody tr th:only-of-type {\n",
       "        vertical-align: middle;\n",
       "    }\n",
       "\n",
       "    .dataframe tbody tr th {\n",
       "        vertical-align: top;\n",
       "    }\n",
       "\n",
       "    .dataframe thead th {\n",
       "        text-align: right;\n",
       "    }\n",
       "</style>\n",
       "<table border=\"1\" class=\"dataframe\">\n",
       "  <thead>\n",
       "    <tr style=\"text-align: right;\">\n",
       "      <th></th>\n",
       "      <th>Rating</th>\n",
       "      <th>Review</th>\n",
       "      <th>Full_review</th>\n",
       "    </tr>\n",
       "  </thead>\n",
       "  <tbody>\n",
       "    <tr>\n",
       "      <th>0</th>\n",
       "      <td>5</td>\n",
       "      <td>Brilliant</td>\n",
       "      <td>The Best Phone for the MoneyThe iPhone 11 offe...</td>\n",
       "    </tr>\n",
       "    <tr>\n",
       "      <th>1</th>\n",
       "      <td>5</td>\n",
       "      <td>Simply awesome</td>\n",
       "      <td>Really satisfied with the Product I received.....</td>\n",
       "    </tr>\n",
       "    <tr>\n",
       "      <th>2</th>\n",
       "      <td>5</td>\n",
       "      <td>Best in the market!</td>\n",
       "      <td>Great iPhone very snappy experience as apple k...</td>\n",
       "    </tr>\n",
       "    <tr>\n",
       "      <th>3</th>\n",
       "      <td>5</td>\n",
       "      <td>Perfect product!</td>\n",
       "      <td>Amazing phone with great cameras and better ba...</td>\n",
       "    </tr>\n",
       "    <tr>\n",
       "      <th>4</th>\n",
       "      <td>5</td>\n",
       "      <td>Fabulous!</td>\n",
       "      <td>This is my first iOS phone. I am very happy wi...</td>\n",
       "    </tr>\n",
       "    <tr>\n",
       "      <th>...</th>\n",
       "      <td>...</td>\n",
       "      <td>...</td>\n",
       "      <td>...</td>\n",
       "    </tr>\n",
       "    <tr>\n",
       "      <th>95</th>\n",
       "      <td>5</td>\n",
       "      <td>Brilliant</td>\n",
       "      <td>Wow wow and wow, in 48k you will not get anyth...</td>\n",
       "    </tr>\n",
       "    <tr>\n",
       "      <th>96</th>\n",
       "      <td>5</td>\n",
       "      <td>Most Price worthy Iphone</td>\n",
       "      <td>Reviewing within 1st Month1st Month ReviewThis...</td>\n",
       "    </tr>\n",
       "    <tr>\n",
       "      <th>97</th>\n",
       "      <td>5</td>\n",
       "      <td>Terrific purchase</td>\n",
       "      <td>Well , as we all know if its not an Iphone , i...</td>\n",
       "    </tr>\n",
       "    <tr>\n",
       "      <th>98</th>\n",
       "      <td>5</td>\n",
       "      <td>Worth every penny</td>\n",
       "      <td>Here is the thingThe only reason why you shoul...</td>\n",
       "    </tr>\n",
       "    <tr>\n",
       "      <th>99</th>\n",
       "      <td>5</td>\n",
       "      <td>Brilliant</td>\n",
       "      <td>A wort full value for money decision it’s . Si...</td>\n",
       "    </tr>\n",
       "  </tbody>\n",
       "</table>\n",
       "<p>100 rows × 3 columns</p>\n",
       "</div>"
      ],
      "text/plain": [
       "   Rating                    Review  \\\n",
       "0       5                 Brilliant   \n",
       "1       5            Simply awesome   \n",
       "2       5       Best in the market!   \n",
       "3       5          Perfect product!   \n",
       "4       5                 Fabulous!   \n",
       "..    ...                       ...   \n",
       "95      5                 Brilliant   \n",
       "96      5  Most Price worthy Iphone   \n",
       "97      5         Terrific purchase   \n",
       "98      5         Worth every penny   \n",
       "99      5                 Brilliant   \n",
       "\n",
       "                                          Full_review  \n",
       "0   The Best Phone for the MoneyThe iPhone 11 offe...  \n",
       "1   Really satisfied with the Product I received.....  \n",
       "2   Great iPhone very snappy experience as apple k...  \n",
       "3   Amazing phone with great cameras and better ba...  \n",
       "4   This is my first iOS phone. I am very happy wi...  \n",
       "..                                                ...  \n",
       "95  Wow wow and wow, in 48k you will not get anyth...  \n",
       "96  Reviewing within 1st Month1st Month ReviewThis...  \n",
       "97  Well , as we all know if its not an Iphone , i...  \n",
       "98  Here is the thingThe only reason why you shoul...  \n",
       "99  A wort full value for money decision it’s . Si...  \n",
       "\n",
       "[100 rows x 3 columns]"
      ]
     },
     "execution_count": 400,
     "metadata": {},
     "output_type": "execute_result"
    }
   ],
   "source": [
    "df=pd.DataFrame({})\n",
    "df['Rating']=Rating\n",
    "df['Review']=Review\n",
    "df['Full_review']=Full_review\n",
    "df"
   ]
  },
  {
   "cell_type": "markdown",
   "metadata": {},
   "source": [
    "# Q8: Scrape data for first 100 sneakers you find when you visit flipkart.com and \n",
    "search for “sneakers” in the search field.\n",
    "You have to scrape 4 attributes of each sneaker :\n",
    "1. Brand\n",
    "2. Product Description\n",
    "3. Price\n",
    "4. discount %\n",
    "Also note that all the steps required during scraping should be done through code \n",
    "only and not manually"
   ]
  },
  {
   "cell_type": "code",
   "execution_count": 3,
   "metadata": {},
   "outputs": [],
   "source": [
    "driver=webdriver.Chrome('chromedriver.exe')\n",
    "url='https://www.flipkart.com/'\n",
    "driver.get(url)"
   ]
  },
  {
   "cell_type": "code",
   "execution_count": null,
   "metadata": {},
   "outputs": [],
   "source": [
    "rating=driver.find_elements_by_xpath('//div[@class=\"_3LWZlK _1BLPMq\"]')\n",
    "rating=[]\n",
    "for i in rating:\n",
    "    rating10.append(i.text)\n",
    "\n",
    "review=driver.find_elements_by_xpath('//p[@class=\"_2-N8zT\"]')\n",
    "review10=[]\n",
    "for i in review:\n",
    "    review10.append(i.text)\n",
    "\n",
    "full_review=driver.find_elements_by_xpath('//div[@class=\"t-ZTKy\"]')\n",
    "full_review10=[]\n",
    "for i in full_review:\n",
    "    full_review10.append(i.text.replace(\"\\n\",\"\"))\n"
   ]
  },
  {
   "cell_type": "code",
   "execution_count": 9,
   "metadata": {},
   "outputs": [
    {
     "data": {
      "text/plain": [
       "<selenium.webdriver.remote.webelement.WebElement (session=\"2a6a4a574a397ecf68e33fca56ab5ff8\", element=\"c90dec45-b2cd-40e0-97c8-ddfe7bfa5064\")>"
      ]
     },
     "execution_count": 9,
     "metadata": {},
     "output_type": "execute_result"
    }
   ],
   "source": [
    "\n",
    "search_field=driver.find_element_by_xpath('//input[@class=\"_3704LK\"]')\n",
    "search_field\n",
    "\n",
    "#do click on xpath functiom\n"
   ]
  },
  {
   "cell_type": "code",
   "execution_count": 10,
   "metadata": {},
   "outputs": [],
   "source": [
    "#write on search bar\n",
    "search_field.send_keys(\"sneakers\")"
   ]
  },
  {
   "cell_type": "code",
   "execution_count": 11,
   "metadata": {},
   "outputs": [],
   "source": [
    "search_btn=driver.find_element_by_xpath('//button[@class=\"L0Z3Pu\"]')\n",
    "search_btn.click()\n",
    "\n",
    "#do click on xpath functiom\n"
   ]
  },
  {
   "cell_type": "code",
   "execution_count": 32,
   "metadata": {},
   "outputs": [],
   "source": [
    "#_2WkVRV\n",
    "brand=driver.find_elements_by_xpath('//div[@class=\"_2WkVRV\"]')\n",
    "brand1=[]\n",
    "for i in brand:\n",
    "    brand1.append(i.text)\n",
    "\n",
    "\n",
    "price=driver.find_elements_by_xpath('//div[@class=\"_30jeq3\"]')\n",
    "price1=[]\n",
    "for i in price:\n",
    "    price1.append(i.text)\n",
    "\n",
    "review=driver.find_elements_by_xpath('//a[@class=\"IRpwTa _2-ICcC\" or @class=\"IRpwTa\"]')\n",
    "review1=[]\n",
    "for i in review:\n",
    "    review1.append(i.text)\n",
    "\n",
    "dis=driver.find_elements_by_xpath('//div[@class=\"_3Ay6Sb\"]')\n",
    "dis1=[]\n",
    "for i in dis:\n",
    "    dis1.append(i.text.replace(\"\\n\",\"\"))\n"
   ]
  },
  {
   "cell_type": "code",
   "execution_count": 33,
   "metadata": {},
   "outputs": [
    {
     "name": "stdout",
     "output_type": "stream",
     "text": [
      "40 40 40 40\n"
     ]
    }
   ],
   "source": [
    "print(len(brand1),len(review1),len(dis1),len(price1))"
   ]
  },
  {
   "cell_type": "code",
   "execution_count": 34,
   "metadata": {},
   "outputs": [],
   "source": [
    "nxt=driver.find_element_by_xpath('//a[@class=\"_1LKTO3\"]')\n",
    "nxt.click()\n"
   ]
  },
  {
   "cell_type": "code",
   "execution_count": 36,
   "metadata": {},
   "outputs": [],
   "source": [
    "#_2WkVRV\n",
    "brand=driver.find_elements_by_xpath('//div[@class=\"_2WkVRV\"]')\n",
    "brand2=[]\n",
    "for i in brand:\n",
    "    brand2.append(i.text)\n",
    "\n",
    "\n",
    "price=driver.find_elements_by_xpath('//div[@class=\"_30jeq3\"]')\n",
    "price2=[]\n",
    "for i in price:\n",
    "    price2.append(i.text)\n",
    "\n",
    "review=driver.find_elements_by_xpath('//a[@class=\"IRpwTa _2-ICcC\" or @class=\"IRpwTa\"]')\n",
    "review2=[]\n",
    "for i in review:\n",
    "    review2.append(i.text)\n",
    "\n",
    "dis=driver.find_elements_by_xpath('//div[@class=\"_3Ay6Sb\"]')\n",
    "dis2=[]\n",
    "for i in dis:\n",
    "    dis2.append(i.text.replace(\"\\n\",\"\"))\n"
   ]
  },
  {
   "cell_type": "code",
   "execution_count": 37,
   "metadata": {},
   "outputs": [
    {
     "name": "stdout",
     "output_type": "stream",
     "text": [
      "40 40 40 40\n"
     ]
    }
   ],
   "source": [
    " print(len(brand2),len(review2),len(dis2),len(price2))"
   ]
  },
  {
   "cell_type": "code",
   "execution_count": 42,
   "metadata": {},
   "outputs": [],
   "source": [
    "nxt=driver.find_element_by_xpath(\"/html/body/div[1]/div/div[3]/div[1]/div[2]/div[12]/div/div/nav/a[4]\")\n",
    "nxt.click()\n"
   ]
  },
  {
   "cell_type": "code",
   "execution_count": 46,
   "metadata": {},
   "outputs": [
    {
     "name": "stdout",
     "output_type": "stream",
     "text": [
      "40 40 40 40\n"
     ]
    }
   ],
   "source": [
    "#_2WkVRV\n",
    "brand=driver.find_elements_by_xpath('//div[@class=\"_2WkVRV\"]')\n",
    "brand3=[]\n",
    "for i in brand:\n",
    "    brand3.append(i.text)\n",
    "\n",
    "\n",
    "price=driver.find_elements_by_xpath('//div[@class=\"_30jeq3\"]')\n",
    "price3=[]\n",
    "for i in price:\n",
    "    price3.append(i.text)\n",
    "\n",
    "review=driver.find_elements_by_xpath('//a[@class=\"IRpwTa _2-ICcC\" or @class=\"IRpwTa\"]')\n",
    "review3=[]\n",
    "for i in review:\n",
    "    review3.append(i.text)\n",
    "\n",
    "dis=driver.find_elements_by_xpath('//div[@class=\"_3Ay6Sb\"]')\n",
    "dis3=[]\n",
    "for i in dis:\n",
    "    dis3.append(i.text.replace(\"\\n\",\"\"))\n",
    "print(len(brand2),len(review2),len(dis2),len(price2))"
   ]
  },
  {
   "cell_type": "code",
   "execution_count": 47,
   "metadata": {},
   "outputs": [],
   "source": [
    "Brand=brand1+brand2+brand3\n",
    "Review=review1+review2+review3\n",
    "Discount=dis1+dis2+dis3\n",
    "Price=price1+price2+price3"
   ]
  },
  {
   "cell_type": "code",
   "execution_count": 50,
   "metadata": {},
   "outputs": [
    {
     "data": {
      "text/html": [
       "<div>\n",
       "<style scoped>\n",
       "    .dataframe tbody tr th:only-of-type {\n",
       "        vertical-align: middle;\n",
       "    }\n",
       "\n",
       "    .dataframe tbody tr th {\n",
       "        vertical-align: top;\n",
       "    }\n",
       "\n",
       "    .dataframe thead th {\n",
       "        text-align: right;\n",
       "    }\n",
       "</style>\n",
       "<table border=\"1\" class=\"dataframe\">\n",
       "  <thead>\n",
       "    <tr style=\"text-align: right;\">\n",
       "      <th></th>\n",
       "      <th>Brand</th>\n",
       "      <th>Price</th>\n",
       "      <th>Discount</th>\n",
       "      <th>Review</th>\n",
       "    </tr>\n",
       "  </thead>\n",
       "  <tbody>\n",
       "    <tr>\n",
       "      <th>0</th>\n",
       "      <td>SPARX</td>\n",
       "      <td>₹830</td>\n",
       "      <td>20% off</td>\n",
       "      <td>SM-322 Sneakers For Men</td>\n",
       "    </tr>\n",
       "    <tr>\n",
       "      <th>1</th>\n",
       "      <td>Kraasa</td>\n",
       "      <td>₹499</td>\n",
       "      <td>50% off</td>\n",
       "      <td>Series 7 Sneakers For Men</td>\n",
       "    </tr>\n",
       "    <tr>\n",
       "      <th>2</th>\n",
       "      <td>Jack Diamond</td>\n",
       "      <td>₹627</td>\n",
       "      <td>37% off</td>\n",
       "      <td>Sneakers For Men</td>\n",
       "    </tr>\n",
       "    <tr>\n",
       "      <th>3</th>\n",
       "      <td>asics</td>\n",
       "      <td>₹4,859</td>\n",
       "      <td>46% off</td>\n",
       "      <td>GEL-QUANTUM 180 5 Sneakers For Men</td>\n",
       "    </tr>\n",
       "    <tr>\n",
       "      <th>4</th>\n",
       "      <td>Zsyto</td>\n",
       "      <td>₹398</td>\n",
       "      <td>69% off</td>\n",
       "      <td>Sneakers For Men</td>\n",
       "    </tr>\n",
       "    <tr>\n",
       "      <th>...</th>\n",
       "      <td>...</td>\n",
       "      <td>...</td>\n",
       "      <td>...</td>\n",
       "      <td>...</td>\n",
       "    </tr>\n",
       "    <tr>\n",
       "      <th>95</th>\n",
       "      <td>Chevit</td>\n",
       "      <td>₹474</td>\n",
       "      <td>76% off</td>\n",
       "      <td>Combo Pack of 4 Casual Sneakers With Sneakers ...</td>\n",
       "    </tr>\n",
       "    <tr>\n",
       "      <th>96</th>\n",
       "      <td>SPARX</td>\n",
       "      <td>₹629</td>\n",
       "      <td>16% off</td>\n",
       "      <td>Canvas Casual Partywear Outdoor Sneakers Shoes...</td>\n",
       "    </tr>\n",
       "    <tr>\n",
       "      <th>97</th>\n",
       "      <td>BIRDE</td>\n",
       "      <td>₹299</td>\n",
       "      <td>40% off</td>\n",
       "      <td>Birde Trendy Casual Shoes Sneakers For Men</td>\n",
       "    </tr>\n",
       "    <tr>\n",
       "      <th>98</th>\n",
       "      <td>SPARX</td>\n",
       "      <td>₹650</td>\n",
       "      <td>7% off</td>\n",
       "      <td>SM-439 Sneakers For Men</td>\n",
       "    </tr>\n",
       "    <tr>\n",
       "      <th>99</th>\n",
       "      <td>Red Rose</td>\n",
       "      <td>₹449</td>\n",
       "      <td>10% off</td>\n",
       "      <td>Sneakers For Men</td>\n",
       "    </tr>\n",
       "  </tbody>\n",
       "</table>\n",
       "<p>100 rows × 4 columns</p>\n",
       "</div>"
      ],
      "text/plain": [
       "           Brand   Price Discount  \\\n",
       "0          SPARX    ₹830  20% off   \n",
       "1         Kraasa    ₹499  50% off   \n",
       "2   Jack Diamond    ₹627  37% off   \n",
       "3          asics  ₹4,859  46% off   \n",
       "4          Zsyto    ₹398  69% off   \n",
       "..           ...     ...      ...   \n",
       "95        Chevit    ₹474  76% off   \n",
       "96         SPARX    ₹629  16% off   \n",
       "97         BIRDE    ₹299  40% off   \n",
       "98         SPARX    ₹650   7% off   \n",
       "99      Red Rose    ₹449  10% off   \n",
       "\n",
       "                                               Review  \n",
       "0                             SM-322 Sneakers For Men  \n",
       "1                           Series 7 Sneakers For Men  \n",
       "2                                    Sneakers For Men  \n",
       "3                  GEL-QUANTUM 180 5 Sneakers For Men  \n",
       "4                                    Sneakers For Men  \n",
       "..                                                ...  \n",
       "95  Combo Pack of 4 Casual Sneakers With Sneakers ...  \n",
       "96  Canvas Casual Partywear Outdoor Sneakers Shoes...  \n",
       "97         Birde Trendy Casual Shoes Sneakers For Men  \n",
       "98                            SM-439 Sneakers For Men  \n",
       "99                                   Sneakers For Men  \n",
       "\n",
       "[100 rows x 4 columns]"
      ]
     },
     "execution_count": 50,
     "metadata": {},
     "output_type": "execute_result"
    }
   ],
   "source": [
    "df=pd.DataFrame({})\n",
    "df['Brand']=Brand\n",
    "df['Price']=Price\n",
    "df['Discount']=Discount\n",
    "df['Review']=Review\n",
    "df.head(100)"
   ]
  },
  {
   "cell_type": "markdown",
   "metadata": {},
   "source": [
    "# Q9: Go to the link - https://www.myntra.com/shoes\n",
    "Set Price filter to “Rs. 6649 to Rs. 13099” , Color filter to “Black”, as shown in \n",
    ".\n",
    "And then scrape First 100 shoes data you get. The data should include “Brand” of \n",
    "the shoes , Short Shoe description, price of the shoe as shown in the below image.\n",
    "Please note that applying the filter and scraping the data , everything should be \n",
    "done through code only and there should not be any manual step"
   ]
  },
  {
   "cell_type": "code",
   "execution_count": 2,
   "metadata": {},
   "outputs": [],
   "source": [
    "driver=webdriver.Chrome('chromedriver.exe')\n",
    "url='https://www.myntra.com/shoes'\n",
    "driver.get(url)"
   ]
  },
  {
   "cell_type": "code",
   "execution_count": 3,
   "metadata": {},
   "outputs": [],
   "source": [
    "fltr_price=driver.find_element_by_xpath('//*[@id=\"mountRoot\"]/div/div[1]/main/div[3]/div[1]/section/div/div[5]/ul/li[2]/label/div')\n",
    "fltr_price.click()\n"
   ]
  },
  {
   "cell_type": "code",
   "execution_count": 5,
   "metadata": {},
   "outputs": [],
   "source": [
    "fltr_black=driver.find_element_by_xpath('//*[@id=\"mountRoot\"]/div/div[1]/main/div[3]/div[1]/section/div/div[6]/ul/li[1]/label/div')\n",
    "fltr_black.click()\n"
   ]
  },
  {
   "cell_type": "code",
   "execution_count": 32,
   "metadata": {},
   "outputs": [],
   "source": [
    "\n",
    "brand=driver.find_elements_by_xpath('//h3[@class=\"product-brand\"]')\n",
    "brand1=[]\n",
    "for i in brand:\n",
    "    brand1.append(i.text)\n",
    "\n",
    "\n",
    "price=driver.find_elements_by_xpath('//div[@class=\"product-price\"]')\n",
    "price1=[]\n",
    "for i in price:\n",
    "    price1.append(i.text)\n",
    "\n",
    "\n",
    "review=driver.find_elements_by_xpath('//h4[@class=\"product-product\"]')\n",
    "\n",
    "review1=[]\n",
    "for i in review:\n",
    "    \n",
    "    review1.append(i.text)\n",
    "\n",
    "print(len(brand1),len(review1),len(price1))"
   ]
  },
  {
   "cell_type": "code",
   "execution_count": 33,
   "metadata": {},
   "outputs": [
    {
     "name": "stdout",
     "output_type": "stream",
     "text": [
      "50 50 50\n"
     ]
    }
   ],
   "source": []
  },
  {
   "cell_type": "code",
   "execution_count": 35,
   "metadata": {},
   "outputs": [],
   "source": [
    "nxtpage=driver.find_element_by_xpath('//*[@id=\"desktopSearchResults\"]/div[2]/section/div[2]/ul/li[3]/a')\n",
    "nxtpage.click()"
   ]
  },
  {
   "cell_type": "code",
   "execution_count": 36,
   "metadata": {},
   "outputs": [
    {
     "name": "stdout",
     "output_type": "stream",
     "text": [
      "50 50 50\n"
     ]
    }
   ],
   "source": [
    "\n",
    "brand=driver.find_elements_by_xpath('//h3[@class=\"product-brand\"]')\n",
    "brand2=[]\n",
    "for i in brand:\n",
    "    brand2.append(i.text)\n",
    "\n",
    "\n",
    "price=driver.find_elements_by_xpath('//div[@class=\"product-price\"]')\n",
    "price2=[]\n",
    "for i in price:\n",
    "    price2.append(i.text)\n",
    "\n",
    "\n",
    "review=driver.find_elements_by_xpath('//h4[@class=\"product-product\"]')\n",
    "\n",
    "review2=[]\n",
    "for i in review:\n",
    "    \n",
    "    review2.append(i.text)\n",
    "\n",
    "print(len(brand2),len(review2),len(price))"
   ]
  },
  {
   "cell_type": "code",
   "execution_count": 37,
   "metadata": {},
   "outputs": [],
   "source": [
    "nxtpage=driver.find_element_by_xpath('//*[@id=\"desktopSearchResults\"]/div[2]/section/div[2]/ul/li[5]/a')\n",
    "nxtpage.click()"
   ]
  },
  {
   "cell_type": "code",
   "execution_count": 38,
   "metadata": {},
   "outputs": [
    {
     "name": "stdout",
     "output_type": "stream",
     "text": [
      "50 50 50\n"
     ]
    }
   ],
   "source": [
    "\n",
    "brand=driver.find_elements_by_xpath('//h3[@class=\"product-brand\"]')\n",
    "brand3=[]\n",
    "for i in brand:\n",
    "    brand3.append(i.text)\n",
    "\n",
    "\n",
    "price=driver.find_elements_by_xpath('//div[@class=\"product-price\"]')\n",
    "price3=[]\n",
    "for i in price:\n",
    "    price3.append(i.text)\n",
    "\n",
    "\n",
    "review=driver.find_elements_by_xpath('//h4[@class=\"product-product\"]')\n",
    "\n",
    "review3=[]\n",
    "for i in review:\n",
    "    \n",
    "    review3.append(i.text)\n",
    "\n",
    "print(len(brand3),len(review3),len(price3))"
   ]
  },
  {
   "cell_type": "code",
   "execution_count": 40,
   "metadata": {},
   "outputs": [],
   "source": [
    "Brand=brand1+brand2+brand3\n",
    "Review=review1+review2+review3\n",
    "Price=price1+price2+price3"
   ]
  },
  {
   "cell_type": "code",
   "execution_count": 41,
   "metadata": {},
   "outputs": [
    {
     "data": {
      "text/html": [
       "<div>\n",
       "<style scoped>\n",
       "    .dataframe tbody tr th:only-of-type {\n",
       "        vertical-align: middle;\n",
       "    }\n",
       "\n",
       "    .dataframe tbody tr th {\n",
       "        vertical-align: top;\n",
       "    }\n",
       "\n",
       "    .dataframe thead th {\n",
       "        text-align: right;\n",
       "    }\n",
       "</style>\n",
       "<table border=\"1\" class=\"dataframe\">\n",
       "  <thead>\n",
       "    <tr style=\"text-align: right;\">\n",
       "      <th></th>\n",
       "      <th>Brand</th>\n",
       "      <th>Review</th>\n",
       "      <th>Price</th>\n",
       "    </tr>\n",
       "  </thead>\n",
       "  <tbody>\n",
       "    <tr>\n",
       "      <th>0</th>\n",
       "      <td>ALDO</td>\n",
       "      <td>Men Driving Shoes</td>\n",
       "      <td>Rs. 11999</td>\n",
       "    </tr>\n",
       "    <tr>\n",
       "      <th>1</th>\n",
       "      <td>Puma</td>\n",
       "      <td>Men Cell Fraction Fade Running</td>\n",
       "      <td>Rs. 6999</td>\n",
       "    </tr>\n",
       "    <tr>\n",
       "      <th>2</th>\n",
       "      <td>Puma</td>\n",
       "      <td>Men Velocity Nitro Running</td>\n",
       "      <td>Rs. 10999</td>\n",
       "    </tr>\n",
       "    <tr>\n",
       "      <th>3</th>\n",
       "      <td>Puma</td>\n",
       "      <td>Mesh Hybrid Fuego Running</td>\n",
       "      <td>Rs. 6999</td>\n",
       "    </tr>\n",
       "    <tr>\n",
       "      <th>4</th>\n",
       "      <td>Puma</td>\n",
       "      <td>Men BlackTraining or Gym Shoes</td>\n",
       "      <td>Rs. 6999</td>\n",
       "    </tr>\n",
       "    <tr>\n",
       "      <th>...</th>\n",
       "      <td>...</td>\n",
       "      <td>...</td>\n",
       "      <td>...</td>\n",
       "    </tr>\n",
       "    <tr>\n",
       "      <th>95</th>\n",
       "      <td>J.FONTINI</td>\n",
       "      <td>Men Solid Leather Formal Slip-Ons</td>\n",
       "      <td>Rs. 7990</td>\n",
       "    </tr>\n",
       "    <tr>\n",
       "      <th>96</th>\n",
       "      <td>ALDO</td>\n",
       "      <td>Women Black Sneakers</td>\n",
       "      <td>Rs. 8999</td>\n",
       "    </tr>\n",
       "    <tr>\n",
       "      <th>97</th>\n",
       "      <td>J.FONTINI</td>\n",
       "      <td>Men Solid Leather Formal Slip-Ons</td>\n",
       "      <td>Rs. 7990</td>\n",
       "    </tr>\n",
       "    <tr>\n",
       "      <th>98</th>\n",
       "      <td>J.FONTINI</td>\n",
       "      <td>Men Leather Formal Loafers</td>\n",
       "      <td>Rs. 6990</td>\n",
       "    </tr>\n",
       "    <tr>\n",
       "      <th>99</th>\n",
       "      <td>Saint G</td>\n",
       "      <td>Leather Block Peep Toes</td>\n",
       "      <td>Rs. 9975Rs. 10500(5% OFF)</td>\n",
       "    </tr>\n",
       "  </tbody>\n",
       "</table>\n",
       "<p>100 rows × 3 columns</p>\n",
       "</div>"
      ],
      "text/plain": [
       "        Brand                             Review                      Price\n",
       "0        ALDO                  Men Driving Shoes                  Rs. 11999\n",
       "1        Puma     Men Cell Fraction Fade Running                   Rs. 6999\n",
       "2        Puma         Men Velocity Nitro Running                  Rs. 10999\n",
       "3        Puma          Mesh Hybrid Fuego Running                   Rs. 6999\n",
       "4        Puma     Men BlackTraining or Gym Shoes                   Rs. 6999\n",
       "..        ...                                ...                        ...\n",
       "95  J.FONTINI  Men Solid Leather Formal Slip-Ons                   Rs. 7990\n",
       "96       ALDO               Women Black Sneakers                   Rs. 8999\n",
       "97  J.FONTINI  Men Solid Leather Formal Slip-Ons                   Rs. 7990\n",
       "98  J.FONTINI         Men Leather Formal Loafers                   Rs. 6990\n",
       "99    Saint G            Leather Block Peep Toes  Rs. 9975Rs. 10500(5% OFF)\n",
       "\n",
       "[100 rows x 3 columns]"
      ]
     },
     "execution_count": 41,
     "metadata": {},
     "output_type": "execute_result"
    }
   ],
   "source": [
    "df=pd.DataFrame({})\n",
    "df['Brand']=Brand\n",
    "df['Review']=Review\n",
    "df['Price']=Price\n",
    "df.head(100)"
   ]
  },
  {
   "cell_type": "markdown",
   "metadata": {},
   "source": [
    "# Q10: Go to webpage https://www.amazon.in/\n",
    " Enter “Laptop” in the search field and then click the search icon.\n",
    " Then set CPU Type filter to “Intel Core i7” and “Intel Core i9” as shown in the \n",
    "below image\n",
    "After setting the filters scrape first 10 laptops data. You have to scrape 3 attributes \n",
    "for each laptop:\n",
    "1. title\n",
    "2. Ratings\n",
    "3. Price\n",
    "As shown in the below image as the tick marked attributes"
   ]
  },
  {
   "cell_type": "code",
   "execution_count": 76,
   "metadata": {},
   "outputs": [],
   "source": [
    "driver=webdriver.Chrome('chromedriver.exe')\n",
    "url='https://www.amazon.in/'\n",
    "driver.get(url)"
   ]
  },
  {
   "cell_type": "code",
   "execution_count": null,
   "metadata": {},
   "outputs": [],
   "source": []
  },
  {
   "cell_type": "code",
   "execution_count": 77,
   "metadata": {},
   "outputs": [
    {
     "data": {
      "text/plain": [
       "<selenium.webdriver.remote.webelement.WebElement (session=\"bb410be1b6db0a22818c87fe15554fa1\", element=\"acff30f9-9878-4a77-8c04-fd9014d8df2a\")>"
      ]
     },
     "execution_count": 77,
     "metadata": {},
     "output_type": "execute_result"
    }
   ],
   "source": [
    "search_field=driver.find_element_by_xpath('//*[@id=\"twotabsearchtextbox\"]')\n",
    "search_field\n"
   ]
  },
  {
   "cell_type": "code",
   "execution_count": 78,
   "metadata": {},
   "outputs": [],
   "source": [
    "search_field.send_keys('Laptop')"
   ]
  },
  {
   "cell_type": "code",
   "execution_count": 79,
   "metadata": {},
   "outputs": [],
   "source": [
    "btn=driver.find_element_by_xpath('//*[@id=\"nav-search-submit-button\"]')\n",
    "btn.click()"
   ]
  },
  {
   "cell_type": "code",
   "execution_count": 80,
   "metadata": {},
   "outputs": [],
   "source": [
    "fltr_i7=driver.find_element_by_xpath('//*[@id=\"p_n_feature_thirteen_browse-bin/12598163031\"]/span/a/div/label/i')\n",
    "fltr_i7.click()\n"
   ]
  },
  {
   "cell_type": "code",
   "execution_count": 111,
   "metadata": {},
   "outputs": [],
   "source": [
    "\n",
    "title=driver.find_elements_by_xpath('//span[@class=\"a-size-medium a-color-base a-text-normal\"]')\n",
    "title1=[]\n",
    "for i in title:\n",
    "    title1.append(i.text)\n",
    "title1=title1[:-15]\n",
    "\n",
    "price=driver.find_elements_by_xpath('//span[@class=\"a-price-whole\"]')\n",
    "price1=[]\n",
    "for i in price:\n",
    "    price1.append(i.text)\n",
    "price1=price1[:-12]\n",
    "\n",
    "\n",
    "#rating=driver.find_elements_by_xpath('//*[@id=\"search\"]/div[1]/div[1]/div/span[3]/div[2]/div[2]/div/span/div/div/div/div/div[2]/div[2]/div/div/div[2]/div/span[1]')\n",
    "\n",
    "#rating1=[]\n",
    "#for i in rating:\n",
    "    \n",
    "#    rating1.append(i.text)\n",
    "#rating1=rating1[:-15]\n",
    "#print(len(title1),len(price1),len(rating1))"
   ]
  },
  {
   "cell_type": "code",
   "execution_count": null,
   "metadata": {},
   "outputs": [],
   "source": [
    "#in rating element no text is extracted from the web elements try almost every element from the web page"
   ]
  },
  {
   "cell_type": "code",
   "execution_count": 115,
   "metadata": {},
   "outputs": [
    {
     "data": {
      "text/html": [
       "<div>\n",
       "<style scoped>\n",
       "    .dataframe tbody tr th:only-of-type {\n",
       "        vertical-align: middle;\n",
       "    }\n",
       "\n",
       "    .dataframe tbody tr th {\n",
       "        vertical-align: top;\n",
       "    }\n",
       "\n",
       "    .dataframe thead th {\n",
       "        text-align: right;\n",
       "    }\n",
       "</style>\n",
       "<table border=\"1\" class=\"dataframe\">\n",
       "  <thead>\n",
       "    <tr style=\"text-align: right;\">\n",
       "      <th></th>\n",
       "      <th>Title</th>\n",
       "      <th>Price</th>\n",
       "    </tr>\n",
       "  </thead>\n",
       "  <tbody>\n",
       "    <tr>\n",
       "      <th>0</th>\n",
       "      <td>HP Envy 11th Gen Core i7 Processor 13.3-inch (...</td>\n",
       "      <td>1,23,300</td>\n",
       "    </tr>\n",
       "    <tr>\n",
       "      <th>1</th>\n",
       "      <td>Mi Notebook Ultra 3K Resolution Display Intel ...</td>\n",
       "      <td>76,999</td>\n",
       "    </tr>\n",
       "    <tr>\n",
       "      <th>2</th>\n",
       "      <td>Lenovo IdeaPad S540 11th Gen Intel Core i7 13....</td>\n",
       "      <td>77,990</td>\n",
       "    </tr>\n",
       "    <tr>\n",
       "      <th>3</th>\n",
       "      <td>Lenovo IdeaPad Gaming 3 Intel Core i7 10th Gen...</td>\n",
       "      <td>73,990</td>\n",
       "    </tr>\n",
       "    <tr>\n",
       "      <th>4</th>\n",
       "      <td>Mi Notebook Horizon Edition 14 Intel Core i7-1...</td>\n",
       "      <td>57,990</td>\n",
       "    </tr>\n",
       "    <tr>\n",
       "      <th>5</th>\n",
       "      <td>HP Pavilion 13(2021) 11th Gen Intel Core i7 La...</td>\n",
       "      <td>96,190</td>\n",
       "    </tr>\n",
       "    <tr>\n",
       "      <th>6</th>\n",
       "      <td>HP Envy 11th Gen Core i7 Processor 13.3-inch (...</td>\n",
       "      <td>1,23,300</td>\n",
       "    </tr>\n",
       "    <tr>\n",
       "      <th>7</th>\n",
       "      <td>Mi Notebook Pro QHD+ IPS Anti Glare Display In...</td>\n",
       "      <td>72,999</td>\n",
       "    </tr>\n",
       "    <tr>\n",
       "      <th>8</th>\n",
       "      <td>Lenovo Yoga 7 11th Gen Intel Core i7-1165G7 14...</td>\n",
       "      <td>1,19,499</td>\n",
       "    </tr>\n",
       "    <tr>\n",
       "      <th>9</th>\n",
       "      <td>Fujitsu UH-X 11th Gen Intel Core i7 13.3” (33....</td>\n",
       "      <td>1,07,990</td>\n",
       "    </tr>\n",
       "  </tbody>\n",
       "</table>\n",
       "</div>"
      ],
      "text/plain": [
       "                                               Title     Price\n",
       "0  HP Envy 11th Gen Core i7 Processor 13.3-inch (...  1,23,300\n",
       "1  Mi Notebook Ultra 3K Resolution Display Intel ...    76,999\n",
       "2  Lenovo IdeaPad S540 11th Gen Intel Core i7 13....    77,990\n",
       "3  Lenovo IdeaPad Gaming 3 Intel Core i7 10th Gen...    73,990\n",
       "4  Mi Notebook Horizon Edition 14 Intel Core i7-1...    57,990\n",
       "5  HP Pavilion 13(2021) 11th Gen Intel Core i7 La...    96,190\n",
       "6  HP Envy 11th Gen Core i7 Processor 13.3-inch (...  1,23,300\n",
       "7  Mi Notebook Pro QHD+ IPS Anti Glare Display In...    72,999\n",
       "8  Lenovo Yoga 7 11th Gen Intel Core i7-1165G7 14...  1,19,499\n",
       "9  Fujitsu UH-X 11th Gen Intel Core i7 13.3” (33....  1,07,990"
      ]
     },
     "execution_count": 115,
     "metadata": {},
     "output_type": "execute_result"
    }
   ],
   "source": [
    "df=pd.DataFrame({})\n",
    "df['Title']=title1\n",
    "#df['Rating']=rating1\n",
    "df['Price']=price1\n",
    "df"
   ]
  },
  {
   "cell_type": "code",
   "execution_count": null,
   "metadata": {},
   "outputs": [],
   "source": []
  }
 ],
 "metadata": {
  "kernelspec": {
   "display_name": "Python 3",
   "language": "python",
   "name": "python3"
  },
  "language_info": {
   "codemirror_mode": {
    "name": "ipython",
    "version": 3
   },
   "file_extension": ".py",
   "mimetype": "text/x-python",
   "name": "python",
   "nbconvert_exporter": "python",
   "pygments_lexer": "ipython3",
   "version": "3.8.5"
  }
 },
 "nbformat": 4,
 "nbformat_minor": 4
}
